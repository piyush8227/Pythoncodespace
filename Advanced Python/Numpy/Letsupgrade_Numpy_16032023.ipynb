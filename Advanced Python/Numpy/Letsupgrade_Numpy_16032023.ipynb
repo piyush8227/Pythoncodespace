{
  "cells": [
    {
      "cell_type": "markdown",
      "metadata": {
        "id": "2WzGjxPUnMe_"
      },
      "source": [
        "<center>\n",
        "<h1>\n",
        "<b>\n",
        "INTRODUCTION TO NUMPY (NUMERICAL PYTHON)\n",
        "</b>\n",
        "<h1></center>"
      ]
    },
    {
      "cell_type": "markdown",
      "metadata": {
        "id": "F1sEiJ42nbKN"
      },
      "source": [
        "**What is NumPy?**\n",
        "\n",
        "- NumPy is a Python library used for working with arrays.\n",
        "\n",
        "- It also has functions for working in domain of linear algebra, fourier transform, and matrices.\n",
        "\n",
        "- NumPy was created in 2005 by Travis Oliphant. It is an open source project and you can use it freely.\n",
        "\n",
        "- NumPy stands for **Numerical Python.**"
      ]
    },
    {
      "cell_type": "markdown",
      "metadata": {
        "id": "vnkD4hN6niPv"
      },
      "source": [
        "**Why Use NumPy?**\n",
        "\n",
        "- In Python we have lists that serve the purpose of arrays, but they are slow to process.\n",
        "\n",
        "- NumPy aims to provide an array object that is up to 50x faster than traditional Python lists.\n",
        "\n",
        "- The array object in NumPy is called ndarray, it provides a lot of supporting functions that make working with ndarray very easy.\n",
        "\n",
        "- Arrays are very frequently used in data science, where speed and resources are very important."
      ]
    },
    {
      "cell_type": "markdown",
      "metadata": {
        "id": "7uO-CIqUnpGX"
      },
      "source": [
        "**Command to Install Numpy**"
      ]
    },
    {
      "cell_type": "code",
      "execution_count": 33,
      "metadata": {
        "id": "p_lKCeRAnIkH"
      },
      "outputs": [],
      "source": [
        "# pip install numpy <For Local System>\n",
        "# !pip install numpy <For Google Colab>"
      ]
    },
    {
      "cell_type": "markdown",
      "metadata": {
        "id": "KBP3qgBMn7Bj"
      },
      "source": [
        "**Import Numpy**"
      ]
    },
    {
      "cell_type": "code",
      "execution_count": 34,
      "metadata": {
        "id": "TbXJMtCHn4XF"
      },
      "outputs": [],
      "source": [
        "import numpy as np # We use numpy as np as a standard protocol"
      ]
    },
    {
      "cell_type": "markdown",
      "metadata": {
        "id": "6oaaFbOzoHSl"
      },
      "source": [
        "Create an array using Numpy"
      ]
    },
    {
      "cell_type": "code",
      "execution_count": 35,
      "metadata": {
        "colab": {
          "base_uri": "https://localhost:8080/"
        },
        "id": "nqnsDd3wn9Fu",
        "outputId": "12a9d89e-9786-4a12-d873-662f325a9176"
      },
      "outputs": [
        {
          "name": "stdout",
          "output_type": "stream",
          "text": [
            "[1 2 3 4 5]\n"
          ]
        }
      ],
      "source": [
        "arr = np.array([1, 2, 3, 4, 5])\n",
        "print(arr)"
      ]
    },
    {
      "cell_type": "code",
      "execution_count": 36,
      "metadata": {
        "colab": {
          "base_uri": "https://localhost:8080/"
        },
        "id": "qZMGFGRWoSU-",
        "outputId": "13d6306b-752e-40c3-d4b4-3ba901cfbf65"
      },
      "outputs": [
        {
          "name": "stdout",
          "output_type": "stream",
          "text": [
            "<class 'numpy.ndarray'>\n"
          ]
        }
      ],
      "source": [
        "print(type(arr)) # The type of arr is an Numpy ndarray where 'nd' stands for <n dimentional>"
      ]
    },
    {
      "cell_type": "markdown",
      "metadata": {
        "id": "4_FnZLz0omQF"
      },
      "source": [
        "Use a tuple to create a NumPy array:"
      ]
    },
    {
      "cell_type": "code",
      "execution_count": 37,
      "metadata": {
        "colab": {
          "base_uri": "https://localhost:8080/"
        },
        "id": "SmCfzdHtoVPJ",
        "outputId": "c3c8c7bd-602a-407c-9097-d3adab759a73"
      },
      "outputs": [
        {
          "name": "stdout",
          "output_type": "stream",
          "text": [
            "[1 2 3 4 5]\n"
          ]
        }
      ],
      "source": [
        "arr = np.array((1, 2, 3, 4, 5))\n",
        "print(arr)"
      ]
    },
    {
      "cell_type": "code",
      "execution_count": 38,
      "metadata": {
        "colab": {
          "base_uri": "https://localhost:8080/"
        },
        "id": "RSwrDzzSopbU",
        "outputId": "ef6fc446-03e4-4e11-e5ee-64db94ac0385"
      },
      "outputs": [
        {
          "name": "stdout",
          "output_type": "stream",
          "text": [
            "42\n"
          ]
        }
      ],
      "source": [
        "arr = np.array(42)\n",
        "\n",
        "print(arr)"
      ]
    },
    {
      "cell_type": "code",
      "execution_count": 39,
      "metadata": {
        "colab": {
          "base_uri": "https://localhost:8080/"
        },
        "id": "tZ1eOYz-3DQW",
        "outputId": "3b2c7b3e-e206-4a3b-9a22-59c7aeef7032"
      },
      "outputs": [
        {
          "name": "stdout",
          "output_type": "stream",
          "text": [
            "[[1 2 3]\n",
            " [4 5 6]]\n"
          ]
        }
      ],
      "source": [
        "arr = np.array([[1, 2, 3], [4, 5, 6]])\n",
        "print(arr)"
      ]
    },
    {
      "cell_type": "code",
      "execution_count": 40,
      "metadata": {
        "colab": {
          "base_uri": "https://localhost:8080/"
        },
        "id": "YrWOOBW63Npt",
        "outputId": "2088fc8c-0ee6-4b7c-a05d-07455678a025"
      },
      "outputs": [
        {
          "name": "stdout",
          "output_type": "stream",
          "text": [
            "[[[1 2 3]\n",
            "  [4 5 6]]\n",
            "\n",
            " [[1 2 3]\n",
            "  [4 5 6]]]\n"
          ]
        }
      ],
      "source": [
        "arr = np.array([[[1, 2, 3], [4, 5, 6]], [[1, 2, 3], [4, 5, 6]]])\n",
        "print(arr)"
      ]
    },
    {
      "cell_type": "code",
      "execution_count": 41,
      "metadata": {
        "colab": {
          "base_uri": "https://localhost:8080/"
        },
        "id": "Dpwu-xIG3UWQ",
        "outputId": "f46388ab-1621-4f13-f66d-7fa1a01e94d8"
      },
      "outputs": [
        {
          "name": "stdout",
          "output_type": "stream",
          "text": [
            "0\n",
            "1\n",
            "2\n",
            "3\n"
          ]
        }
      ],
      "source": [
        "a = np.array(42)\n",
        "b = np.array([1, 2, 3, 4, 5])\n",
        "c = np.array([[1, 2, 3], [4, 5, 6]])\n",
        "d = np.array([[[1, 2, 3], [4, 5, 6]], [[1, 2, 3], [4, 5, 6]]])\n",
        "\n",
        "print(a.ndim)\n",
        "print(b.ndim)\n",
        "print(c.ndim)\n",
        "print(d.ndim)\n"
      ]
    },
    {
      "cell_type": "code",
      "execution_count": 42,
      "metadata": {
        "id": "7tzQoHZm3dr-"
      },
      "outputs": [],
      "source": [
        "arr = np.array([[1, 2, 3],\n",
        "                [4, 5, 6]], ndmin=5)"
      ]
    },
    {
      "cell_type": "code",
      "execution_count": 43,
      "metadata": {
        "colab": {
          "base_uri": "https://localhost:8080/"
        },
        "id": "QfXk_U1t3r6a",
        "outputId": "881c8d49-d403-4046-b50a-6a9d0902de89"
      },
      "outputs": [
        {
          "name": "stdout",
          "output_type": "stream",
          "text": [
            "[[[[[1 2 3]\n",
            "    [4 5 6]]]]]\n"
          ]
        }
      ],
      "source": [
        "print(arr)"
      ]
    },
    {
      "cell_type": "code",
      "execution_count": 44,
      "metadata": {
        "colab": {
          "base_uri": "https://localhost:8080/"
        },
        "id": "QXqVSZEy3rBi",
        "outputId": "d10cad4a-39ba-48f1-b506-da3e778d57b8"
      },
      "outputs": [
        {
          "name": "stdout",
          "output_type": "stream",
          "text": [
            "number of dimensions : 5\n"
          ]
        }
      ],
      "source": [
        "print('number of dimensions :', arr.ndim)"
      ]
    },
    {
      "cell_type": "code",
      "execution_count": 45,
      "metadata": {
        "colab": {
          "base_uri": "https://localhost:8080/"
        },
        "id": "T_-qg0Aq4dHa",
        "outputId": "9b6ef2d5-4032-4171-ae98-44b367e68ed0"
      },
      "outputs": [
        {
          "name": "stdout",
          "output_type": "stream",
          "text": [
            "1\n"
          ]
        }
      ],
      "source": [
        "arr = np.array([1, 2, 3, 4])\n",
        "print(arr[0])"
      ]
    },
    {
      "cell_type": "code",
      "execution_count": 46,
      "metadata": {
        "colab": {
          "base_uri": "https://localhost:8080/"
        },
        "id": "mX2EswYI4hlf",
        "outputId": "d28700ed-9221-4d87-de74-4fd0ceada153"
      },
      "outputs": [
        {
          "name": "stdout",
          "output_type": "stream",
          "text": [
            "[[ 1  2  3  4  5]\n",
            " [ 6  7  8  9 10]]\n",
            "(2, 5)\n",
            "2\n",
            "3rd element on 1st row:  9\n"
          ]
        }
      ],
      "source": [
        "import numpy as np\n",
        "arr = np.array([[1,2,3,4,5],\n",
        "                [6,7,8,9,10]])\n",
        "print(arr)\n",
        "print(arr.shape)\n",
        "print(arr.ndim)\n",
        "print('3rd element on 1st row: ', arr[1, 3])"
      ]
    },
    {
      "cell_type": "markdown",
      "metadata": {
        "id": "Ru8hDTP_4jtN"
      },
      "source": [
        "- In python indexes start from 0 not from 1.\n"
      ]
    },
    {
      "cell_type": "code",
      "execution_count": 47,
      "metadata": {
        "colab": {
          "base_uri": "https://localhost:8080/"
        },
        "id": "phyQuktn4qFJ",
        "outputId": "5481887c-a47d-4c7b-e907-38aa7ec0b8d6"
      },
      "outputs": [
        {
          "name": "stdout",
          "output_type": "stream",
          "text": [
            "[[ 1  2  3  4  5]\n",
            " [ 6  7  8  9 10]]\n",
            "2\n",
            "5th element on 2nd row:  10\n"
          ]
        }
      ],
      "source": [
        "arr = np.array([[1,2,3,4,5], [6,7,8,9,10]])\n",
        "print(arr)\n",
        "print(arr.ndim)\n",
        "print('5th element on 2nd row: ', arr[1, 4])"
      ]
    },
    {
      "cell_type": "code",
      "execution_count": 48,
      "metadata": {
        "colab": {
          "base_uri": "https://localhost:8080/"
        },
        "id": "xHl662ts5MWd",
        "outputId": "e7de76e1-fcb4-4583-9f0b-b68252d5994d"
      },
      "outputs": [
        {
          "name": "stdout",
          "output_type": "stream",
          "text": [
            "[[ 1  2  3  4  5]\n",
            " [ 6  7  8  9 10]]\n",
            "2\n",
            "Last element from 2nd dim:  9\n"
          ]
        }
      ],
      "source": [
        "arr = np.array([[1,2,3,4,5], [6,7,8,9,10]])\n",
        "print(arr)\n",
        "print(arr.ndim)\n",
        "print('Last element from 2nd dim: ', arr[1, -2])\n",
        "# arr[0, -3]"
      ]
    },
    {
      "cell_type": "code",
      "execution_count": 49,
      "metadata": {
        "colab": {
          "base_uri": "https://localhost:8080/"
        },
        "id": "d7Wr4PAL5bru",
        "outputId": "2406e18b-cc89-42f0-872c-a5ac8277f245"
      },
      "outputs": [
        {
          "name": "stdout",
          "output_type": "stream",
          "text": [
            "[1 2 3 4 5 6 7]\n",
            "[3 4 5]\n"
          ]
        }
      ],
      "source": [
        "arr = np.array([1, 2, 3, 4, 5, 6, 7])\n",
        "print(arr)\n",
        "print(arr[2:5])"
      ]
    },
    {
      "cell_type": "code",
      "execution_count": 50,
      "metadata": {
        "colab": {
          "base_uri": "https://localhost:8080/"
        },
        "id": "C8BCeICR5yDN",
        "outputId": "2465e976-152f-4b79-cf56-69327a0b139c"
      },
      "outputs": [
        {
          "name": "stdout",
          "output_type": "stream",
          "text": [
            "[1 2 3 4 5 6 7]\n",
            "[5 6 7]\n"
          ]
        }
      ],
      "source": [
        "arr = np.array([1, 2, 3, 4, 5, 6, 7])\n",
        "print(arr)\n",
        "print(arr[4:])"
      ]
    },
    {
      "cell_type": "code",
      "execution_count": 51,
      "metadata": {
        "colab": {
          "base_uri": "https://localhost:8080/"
        },
        "id": "x68RrB4g6Xia",
        "outputId": "3500fd51-6ce5-40a7-e69d-74e87ca43949"
      },
      "outputs": [
        {
          "name": "stdout",
          "output_type": "stream",
          "text": [
            "[1 2 3 4 5 6 7]\n",
            "[1 2 3 4]\n"
          ]
        }
      ],
      "source": [
        "arr = np.array([1, 2, 3, 4, 5, 6, 7])\n",
        "print(arr)\n",
        "print(arr[:4])"
      ]
    },
    {
      "cell_type": "code",
      "execution_count": 52,
      "metadata": {
        "colab": {
          "base_uri": "https://localhost:8080/"
        },
        "id": "ZwUBmUEu6sL2",
        "outputId": "9def682e-5169-48d2-a133-6a45a3402923"
      },
      "outputs": [
        {
          "name": "stdout",
          "output_type": "stream",
          "text": [
            "[1 2 3 4]\n",
            "int32\n"
          ]
        }
      ],
      "source": [
        "arr = np.array([1, 2, 3, 4])\n",
        "print(arr)\n",
        "print(arr.dtype)"
      ]
    },
    {
      "cell_type": "code",
      "execution_count": 53,
      "metadata": {
        "colab": {
          "base_uri": "https://localhost:8080/"
        },
        "id": "7izbI5qT7kQ1",
        "outputId": "3a8b4b27-1179-4cb4-a8d4-6a34da7f08fb"
      },
      "outputs": [
        {
          "name": "stdout",
          "output_type": "stream",
          "text": [
            "['apple' 'banana' 'cherry']\n",
            "<U6\n"
          ]
        }
      ],
      "source": [
        "arr = np.array(['apple', 'banana', 'cherry'])\n",
        "print(arr)\n",
        "print(arr.dtype)"
      ]
    },
    {
      "cell_type": "code",
      "execution_count": 54,
      "metadata": {
        "colab": {
          "base_uri": "https://localhost:8080/"
        },
        "id": "M0gAJbc68FFN",
        "outputId": "89c31ed8-a28a-4cdd-df4b-2ec7f9a13d7a"
      },
      "outputs": [
        {
          "name": "stdout",
          "output_type": "stream",
          "text": [
            "[b'1' b'2' b'3' b'4']\n",
            "|S1\n"
          ]
        }
      ],
      "source": [
        "arr = np.array([1, 2, 3, 4], dtype='S')\n",
        "\n",
        "print(arr)\n",
        "print(arr.dtype)"
      ]
    },
    {
      "cell_type": "code",
      "execution_count": 55,
      "metadata": {
        "colab": {
          "base_uri": "https://localhost:8080/"
        },
        "id": "OSEPMeHq8Mq9",
        "outputId": "a367f267-53fc-4b9b-9d08-08b6aa8662e0"
      },
      "outputs": [
        {
          "name": "stdout",
          "output_type": "stream",
          "text": [
            "[[1 2 3 4]\n",
            " [5 6 7 8]]\n",
            "(2, 4)\n"
          ]
        }
      ],
      "source": [
        "arr = np.array([[1, 2, 3, 4],\n",
        "                [5, 6, 7, 8]])\n",
        "print(arr)\n",
        "print(arr.shape)"
      ]
    },
    {
      "cell_type": "code",
      "execution_count": 56,
      "metadata": {
        "colab": {
          "base_uri": "https://localhost:8080/"
        },
        "id": "pGejwTdF82uO",
        "outputId": "7752a701-aa68-4667-c777-d2a0ffcbdbc0"
      },
      "outputs": [
        {
          "name": "stdout",
          "output_type": "stream",
          "text": [
            "[[[[[1 2 3 4]]]]]\n",
            "shape of array : (1, 1, 1, 1, 4)\n"
          ]
        }
      ],
      "source": [
        "arr = np.array([1, 2, 3, 4], ndmin=5)\n",
        "\n",
        "print(arr)\n",
        "print('shape of array :', arr.shape)"
      ]
    },
    {
      "cell_type": "code",
      "execution_count": 57,
      "metadata": {
        "colab": {
          "base_uri": "https://localhost:8080/"
        },
        "id": "__Oz-5W59AYg",
        "outputId": "2423b9fa-d99c-4b0b-856c-ed900cfe929d"
      },
      "outputs": [
        {
          "name": "stdout",
          "output_type": "stream",
          "text": [
            "[ 1  2  3  4  5  6  7  8  9 10 11 12]\n"
          ]
        },
        {
          "data": {
            "text/plain": [
              "(12,)"
            ]
          },
          "execution_count": 57,
          "metadata": {},
          "output_type": "execute_result"
        }
      ],
      "source": [
        "arr = np.array([1, 2, 3, 4, 5, 6, 7, 8, 9, 10, 11, 12])\n",
        "print(arr)\n",
        "arr.shape"
      ]
    },
    {
      "cell_type": "code",
      "execution_count": 58,
      "metadata": {
        "colab": {
          "base_uri": "https://localhost:8080/"
        },
        "id": "p-q-_nWs975S",
        "outputId": "fc237402-576e-45db-93c3-a61c29396bc2"
      },
      "outputs": [
        {
          "name": "stdout",
          "output_type": "stream",
          "text": [
            "[[ 1  2  3]\n",
            " [ 4  5  6]\n",
            " [ 7  8  9]\n",
            " [10 11 12]]\n"
          ]
        },
        {
          "data": {
            "text/plain": [
              "(4, 3)"
            ]
          },
          "execution_count": 58,
          "metadata": {},
          "output_type": "execute_result"
        }
      ],
      "source": [
        "newarr = arr.reshape(4, 3)\n",
        "print(newarr)\n",
        "newarr.shape"
      ]
    },
    {
      "cell_type": "code",
      "execution_count": 59,
      "metadata": {
        "colab": {
          "base_uri": "https://localhost:8080/"
        },
        "id": "8QMoHbhF-Hk1",
        "outputId": "6437359d-a610-4249-abf0-577faca0f91d"
      },
      "outputs": [
        {
          "name": "stdout",
          "output_type": "stream",
          "text": [
            "1\n",
            "2\n",
            "3\n"
          ]
        }
      ],
      "source": [
        "arr = np.array([1, 2, 3])\n",
        "\n",
        "for x in arr:\n",
        "  print(x)"
      ]
    },
    {
      "cell_type": "code",
      "execution_count": 60,
      "metadata": {
        "id": "Cq98XRA2k6nU"
      },
      "outputs": [
        {
          "data": {
            "text/plain": [
              "[[1, 2, 3], [4, 5, 6]]"
            ]
          },
          "execution_count": 60,
          "metadata": {},
          "output_type": "execute_result"
        }
      ],
      "source": [
        "[[1, 2, 3], [4, 5, 6]]"
      ]
    },
    {
      "cell_type": "code",
      "execution_count": 61,
      "metadata": {
        "colab": {
          "base_uri": "https://localhost:8080/"
        },
        "id": "8FqoRlcI-r0D",
        "outputId": "4756f9a2-2580-4f94-d31d-c956561f54a7"
      },
      "outputs": [
        {
          "name": "stdout",
          "output_type": "stream",
          "text": [
            "[1 2 3]\n",
            "[4 5 6]\n"
          ]
        }
      ],
      "source": [
        "arr = np.array([[1, 2, 3], [4, 5, 6]])\n",
        "\n",
        "for x in arr:\n",
        "  print(x)"
      ]
    },
    {
      "cell_type": "code",
      "execution_count": 62,
      "metadata": {
        "colab": {
          "base_uri": "https://localhost:8080/"
        },
        "id": "c6jOMVYF-TK7",
        "outputId": "5186d61a-ca00-4975-8eb5-58d41ebca362"
      },
      "outputs": [
        {
          "name": "stdout",
          "output_type": "stream",
          "text": [
            "[1 2 3]\n",
            "[4 5 6]\n",
            "4\n",
            "5\n",
            "6\n"
          ]
        }
      ],
      "source": [
        "arr = np.array([[1, 2, 3], [4, 5, 6]])\n",
        "\n",
        "for x in arr:\n",
        "  print(x)\n",
        "for y in x:\n",
        "  print(y)"
      ]
    },
    {
      "cell_type": "code",
      "execution_count": 63,
      "metadata": {
        "colab": {
          "base_uri": "https://localhost:8080/"
        },
        "id": "bRCPIYV1-Ysv",
        "outputId": "a74e0e9e-a54d-4592-acd0-6926b215344f"
      },
      "outputs": [
        {
          "name": "stdout",
          "output_type": "stream",
          "text": [
            "[1 2 3 4 5 6]\n"
          ]
        }
      ],
      "source": [
        "arr1 = np.array([1, 2, 3])\n",
        "\n",
        "arr2 = np.array([4, 5, 6])\n",
        "\n",
        "arr = np.concatenate((arr1, arr2))\n",
        "\n",
        "print(arr)"
      ]
    },
    {
      "cell_type": "code",
      "execution_count": 64,
      "metadata": {
        "colab": {
          "base_uri": "https://localhost:8080/"
        },
        "id": "STv8lGYoAqyr",
        "outputId": "9cdba8db-9e9a-4ca6-f513-109fa212c81d"
      },
      "outputs": [
        {
          "name": "stdout",
          "output_type": "stream",
          "text": [
            "[[1 4]\n",
            " [2 5]\n",
            " [3 6]]\n"
          ]
        }
      ],
      "source": [
        "import numpy as np\n",
        "arr1 = np.array([1, 2, 3])\n",
        "arr2 = np.array([4, 5, 6])\n",
        "arr = np.stack((arr1, arr2), axis=1)\n",
        "print(arr)"
      ]
    },
    {
      "cell_type": "code",
      "execution_count": 65,
      "metadata": {
        "colab": {
          "base_uri": "https://localhost:8080/"
        },
        "id": "aN_AI987BC70",
        "outputId": "58d1708c-a715-432c-c30f-a614b2e2b6f3"
      },
      "outputs": [
        {
          "name": "stdout",
          "output_type": "stream",
          "text": [
            "[array([1, 2, 3, 4]), array([5, 6, 7]), array([ 8,  9, 10])]\n"
          ]
        }
      ],
      "source": [
        "arr = np.array([1, 2, 3,4,5, 6,7,8,9,10])\n",
        "\n",
        "newarr = np.array_split(arr, 3)\n",
        "\n",
        "print(newarr)"
      ]
    },
    {
      "cell_type": "code",
      "execution_count": 66,
      "metadata": {
        "colab": {
          "base_uri": "https://localhost:8080/"
        },
        "id": "9g9717KuBeZk",
        "outputId": "70f2e2ab-fc4d-4f8c-adc9-187e1309225d"
      },
      "outputs": [
        {
          "name": "stdout",
          "output_type": "stream",
          "text": [
            "(array([3, 5, 6], dtype=int64),)\n"
          ]
        }
      ],
      "source": [
        "arr = np.array([1, 2, 3, 4, 5, 4, 4])\n",
        "\n",
        "x = np.where(arr == 4)\n",
        "\n",
        "print(x)"
      ]
    },
    {
      "cell_type": "code",
      "execution_count": 67,
      "metadata": {
        "colab": {
          "base_uri": "https://localhost:8080/"
        },
        "id": "-kqSRIEqB7CX",
        "outputId": "f6e691c2-8821-4388-a8cc-b511fa183a60"
      },
      "outputs": [
        {
          "name": "stdout",
          "output_type": "stream",
          "text": [
            "[0 1 2 3]\n"
          ]
        }
      ],
      "source": [
        "arr = np.array([3, 2, 0, 1])\n",
        "\n",
        "# reverse_order = np.sort(arr)[::-1]\n",
        "print(np.sort(arr))"
      ]
    },
    {
      "cell_type": "code",
      "execution_count": 68,
      "metadata": {
        "colab": {
          "base_uri": "https://localhost:8080/"
        },
        "id": "fZz7T4lHCkNL",
        "outputId": "f98c3814-36a5-4f94-f01a-e03c815f9ef4"
      },
      "outputs": [
        {
          "name": "stdout",
          "output_type": "stream",
          "text": [
            "['apple' 'banana' 'cherry']\n"
          ]
        }
      ],
      "source": [
        "arr = np.array(['banana', 'cherry', 'apple'])\n",
        "print(np.sort(arr))"
      ]
    },
    {
      "cell_type": "code",
      "execution_count": 69,
      "metadata": {
        "colab": {
          "base_uri": "https://localhost:8080/"
        },
        "id": "ExR9j8WyCrbB",
        "outputId": "afb027b3-3b35-47b8-f3ed-1698fbefca0a"
      },
      "outputs": [
        {
          "name": "stdout",
          "output_type": "stream",
          "text": [
            "[False  True  True]\n"
          ]
        }
      ],
      "source": [
        "arr = np.array([True, False, True])\n",
        "\n",
        "print(np.sort(arr))"
      ]
    },
    {
      "cell_type": "code",
      "execution_count": 70,
      "metadata": {
        "colab": {
          "base_uri": "https://localhost:8080/"
        },
        "id": "82rsW9ZEC8x0",
        "outputId": "94f32da8-377a-48a2-9c9d-3693969ad8c4"
      },
      "outputs": [
        {
          "name": "stdout",
          "output_type": "stream",
          "text": [
            "[[2 3 4]\n",
            " [0 1 5]]\n"
          ]
        }
      ],
      "source": [
        "\n",
        "arr = np.array([[3, 2, 4], [5, 0, 1]])\n",
        "\n",
        "print(np.sort(arr))"
      ]
    },
    {
      "cell_type": "markdown",
      "metadata": {
        "id": "1XYyCWgG0ucc"
      },
      "source": [
        "# **NUMPY RANDOM**"
      ]
    },
    {
      "cell_type": "markdown",
      "metadata": {
        "id": "UTRNojvJ01rA"
      },
      "source": [
        "**What is a Random Number?**\n",
        "\n",
        "- Random number does NOT mean a different number every time. Random means something that can not be predicted logically."
      ]
    },
    {
      "cell_type": "code",
      "execution_count": 71,
      "metadata": {
        "colab": {
          "base_uri": "https://localhost:8080/"
        },
        "id": "XmhsTgzj0xtd",
        "outputId": "6deb7bba-6ce1-4155-8603-371ae00beb5f"
      },
      "outputs": [
        {
          "name": "stdout",
          "output_type": "stream",
          "text": [
            "80\n"
          ]
        }
      ],
      "source": [
        "from numpy import random\n",
        "x = random.randint(100)\n",
        "print(x)"
      ]
    },
    {
      "cell_type": "code",
      "execution_count": 72,
      "metadata": {
        "id": "Cev89ACiZR7E"
      },
      "outputs": [],
      "source": [
        "# from numpy import random\n",
        "# x = random.randint(100,replace=True)\n",
        "# print(x)"
      ]
    },
    {
      "cell_type": "code",
      "execution_count": 73,
      "metadata": {
        "colab": {
          "base_uri": "https://localhost:8080/"
        },
        "id": "V1Npl5Is07sc",
        "outputId": "31382d5b-4068-45dc-dd03-c098842acfbf"
      },
      "outputs": [
        {
          "name": "stdout",
          "output_type": "stream",
          "text": [
            "3\n"
          ]
        }
      ],
      "source": [
        "# This random is directly being called from Python library\n",
        "import random\n",
        "\n",
        "# This will return any number in between 3 and 9 where 3 is the lower bound and 9 is the upper bound\n",
        "print(random.randint(3, 9))"
      ]
    },
    {
      "cell_type": "code",
      "execution_count": 74,
      "metadata": {
        "colab": {
          "base_uri": "https://localhost:8080/"
        },
        "id": "ZXIDl8D21Lcw",
        "outputId": "59bdd454-72ef-442a-c601-9930407bb28f"
      },
      "outputs": [
        {
          "name": "stdout",
          "output_type": "stream",
          "text": [
            "0.9025149491443057\n"
          ]
        }
      ],
      "source": [
        "from numpy import random\n",
        "\n",
        "# As we use the rand() method we will get float as the returned value. \n",
        "x = random.rand()\n",
        "\n",
        "print(x)"
      ]
    },
    {
      "cell_type": "code",
      "execution_count": 75,
      "metadata": {
        "colab": {
          "base_uri": "https://localhost:8080/"
        },
        "id": "5Ro443rs1bqa",
        "outputId": "26285e56-fe06-4f0e-9985-a266dad2b04c"
      },
      "outputs": [
        {
          "name": "stdout",
          "output_type": "stream",
          "text": [
            "[17 31 53 80 72]\n"
          ]
        }
      ],
      "source": [
        "# The randint() method takes a size parameter where you can specify the shape of an array.\n",
        "from numpy import random\n",
        "x=random.randint(100, size=(5))\n",
        "print(x)"
      ]
    },
    {
      "cell_type": "code",
      "execution_count": 76,
      "metadata": {
        "colab": {
          "base_uri": "https://localhost:8080/"
        },
        "id": "aPaCJVbt1pQ1",
        "outputId": "345d90b9-3449-43b4-a2b8-96a7cb670d8f"
      },
      "outputs": [
        {
          "name": "stdout",
          "output_type": "stream",
          "text": [
            "[[76 75 70 75 81]\n",
            " [73 68 67 94 22]\n",
            " [39 29 55  7 86]]\n"
          ]
        }
      ],
      "source": [
        "from numpy import random\n",
        "x = random.randint(100, size=(3, 5))\n",
        "print(x)"
      ]
    },
    {
      "cell_type": "code",
      "execution_count": 77,
      "metadata": {
        "colab": {
          "base_uri": "https://localhost:8080/"
        },
        "id": "6hKeLY8R1wfn",
        "outputId": "6c30ccb5-0e17-42fb-926a-8ee09b0e0e4b"
      },
      "outputs": [
        {
          "name": "stdout",
          "output_type": "stream",
          "text": [
            "[0.23068465 0.98011609 0.62585883 0.49516539 0.69131473]\n"
          ]
        }
      ],
      "source": [
        "from numpy import random\n",
        "# random.rand(5) will return me an array with size 5 (The total number of elements are going to be 5)\n",
        "x = random.rand(5)\n",
        "print(x)"
      ]
    },
    {
      "cell_type": "code",
      "execution_count": 78,
      "metadata": {
        "colab": {
          "base_uri": "https://localhost:8080/"
        },
        "id": "z0XrSUEYadpo",
        "outputId": "f8860ca1-78aa-4151-f4e4-86fa6f67398e"
      },
      "outputs": [
        {
          "name": "stdout",
          "output_type": "stream",
          "text": [
            "1\n"
          ]
        }
      ],
      "source": [
        "x = random.randint(1,5)\n",
        "print(x)"
      ]
    },
    {
      "cell_type": "code",
      "execution_count": 79,
      "metadata": {
        "colab": {
          "base_uri": "https://localhost:8080/"
        },
        "id": "hKgiapzV166A",
        "outputId": "956a614a-6617-44e6-8c66-3434ea78e580"
      },
      "outputs": [
        {
          "name": "stdout",
          "output_type": "stream",
          "text": [
            "[[0.35189474 0.27591164 0.59966428 0.79119434 0.86263429]\n",
            " [0.72735893 0.18281889 0.8762514  0.71971008 0.69713719]\n",
            " [0.9604714  0.48181929 0.01815434 0.30843557 0.14438345]]\n"
          ]
        }
      ],
      "source": [
        "from numpy import random\n",
        "# 3 rows and 5 columns\n",
        "# Each row will have 5 float values as elements\n",
        "x = random.rand(3, 5)\n",
        "print(x)"
      ]
    },
    {
      "cell_type": "markdown",
      "metadata": {
        "id": "26hCcH352V-t"
      },
      "source": [
        "**Generate Random Number From Array**\n",
        "\n",
        "- The **`choice()`** method allows you to generate a random value based on an array of values.\n",
        "\n",
        "- The **`choice()`** method takes an array as a parameter and randomly returns one of the values.\n",
        "\n",
        "- Basically it will return any element from the given array as the input."
      ]
    },
    {
      "cell_type": "code",
      "execution_count": 80,
      "metadata": {
        "colab": {
          "base_uri": "https://localhost:8080/"
        },
        "id": "CUFbo33xbBgf",
        "outputId": "327a5f99-4545-481d-d269-4d10fe30aaf8"
      },
      "outputs": [
        {
          "data": {
            "text/plain": [
              "66"
            ]
          },
          "execution_count": 80,
          "metadata": {},
          "output_type": "execute_result"
        }
      ],
      "source": [
        "import numpy as np\n",
        "np.random.randint(109)"
      ]
    },
    {
      "cell_type": "code",
      "execution_count": 81,
      "metadata": {
        "colab": {
          "base_uri": "https://localhost:8080/"
        },
        "id": "XIBpxF_Q2LEJ",
        "outputId": "32301903-73a8-4772-81a8-cfe68ac9b833"
      },
      "outputs": [
        {
          "name": "stdout",
          "output_type": "stream",
          "text": [
            "9\n"
          ]
        }
      ],
      "source": [
        "from numpy import random\n",
        "# choose any number from 3, 5, 7, 9 \n",
        "x = random.choice([3, 5, 7, 9,10,109])\n",
        "print(x)"
      ]
    },
    {
      "cell_type": "markdown",
      "metadata": {
        "id": "Naomnrh42wvJ"
      },
      "source": [
        "- The **`choice()`** method also allows you to return an array of values.\n",
        "\n",
        "- Add a **`size`** parameter to specify the shape of the array."
      ]
    },
    {
      "cell_type": "code",
      "execution_count": 82,
      "metadata": {
        "colab": {
          "base_uri": "https://localhost:8080/"
        },
        "id": "lgrDQw3g2h89",
        "outputId": "9bb8d8e7-c242-4200-a4f8-0545dec96077"
      },
      "outputs": [
        {
          "name": "stdout",
          "output_type": "stream",
          "text": [
            "[[3 7 5 3]\n",
            " [7 9 9 7]\n",
            " [7 5 7 3]]\n"
          ]
        }
      ],
      "source": [
        "from numpy import random\n",
        "# If we specify a 2D shape the random.choice() method will arrange the numpy inputs as per the shape\n",
        "# Here, the shape is 3,5 i.e, 3 rows and 5 columns\n",
        "# Hence, numpy will take 3, 5, 7, 9 as the input \n",
        "# Then it will arrange these numbers randomly but keeping in mind that there should be 3 rows and 5 columns   \n",
        "x = random.choice([3, 5, 7, 9], size=(3, 4))\n",
        "print(x)"
      ]
    },
    {
      "cell_type": "markdown",
      "metadata": {
        "id": "AzZOWUzM3_ds"
      },
      "source": [
        "# **NUMPY arange**\n",
        "\n",
        "- The **`arange([start,] stop[, step,][, dtype])`** : Returns an array with evenly spaced elements as per the interval. \n",
        "\n",
        "- The interval mentioned is half-opened i.e. [Start, Stop) "
      ]
    },
    {
      "cell_type": "markdown",
      "metadata": {
        "id": "rHUy8s5B4QDh"
      },
      "source": [
        "#### **Very Important**\n",
        "#### **Syntax for numpy arange**\n",
        "`arange([start,] stop[, step,][, dtype])`"
      ]
    },
    {
      "cell_type": "markdown",
      "metadata": {
        "id": "AwzdtYND4mxr"
      },
      "source": [
        "**Parameters :** \n",
        "\n",
        "- **`start :`** [optional] start of interval range. **By default start = 0**\n",
        "\n",
        "- **`stop  :`** end of interval range\n",
        "\n",
        "- **`step  :`** [optional] step size of interval. **By default step size = 1**,  \n",
        "  - For any output **`out`**, this is the distance between two adjacent values, **`out[i+1] - out[i]`**. \n",
        "\n",
        "- **`dtype :`** type of output array"
      ]
    },
    {
      "cell_type": "markdown",
      "metadata": {
        "id": "Ojtfvs-W5Mvm"
      },
      "source": [
        "**Return:** \n",
        "\n",
        "- Array of evenly spaced values."
      ]
    },
    {
      "cell_type": "code",
      "execution_count": 83,
      "metadata": {
        "colab": {
          "base_uri": "https://localhost:8080/"
        },
        "id": "k3M36inZ3DiY",
        "outputId": "1890d388-c956-42e3-de59-513dfc6b76ea"
      },
      "outputs": [
        {
          "name": "stdout",
          "output_type": "stream",
          "text": [
            "A\n",
            " [4 5 6 7 8 9] \n",
            "\n",
            "B\n",
            " [ 4  7 10 13 16 19] \n",
            "\n"
          ]
        }
      ],
      "source": [
        "# Python Programming illustrating\n",
        "# numpy.arange method\n",
        "\n",
        "import numpy as np\n",
        "print(\"A\\n\", np.arange(4, 10), \"\\n\")\n",
        "print(\"B\\n\", np.arange(4, 20, 3), \"\\n\")"
      ]
    },
    {
      "cell_type": "code",
      "execution_count": 84,
      "metadata": {
        "colab": {
          "base_uri": "https://localhost:8080/"
        },
        "id": "DGrf7Vpn5WYB",
        "outputId": "1b469108-ae3d-43ff-e6f5-79f4e5bc2a17"
      },
      "outputs": [
        {
          "name": "stdout",
          "output_type": "stream",
          "text": [
            "[0.  0.1 0.2 0.3 0.4 0.5 0.6 0.7 0.8 0.9]\n"
          ]
        }
      ],
      "source": [
        "print(np.arange(0, 1, 0.1)) # From 1 to 2 the numbers are increasing by 0.1"
      ]
    },
    {
      "cell_type": "markdown",
      "metadata": {
        "id": "-b7W5dGk55Dk"
      },
      "source": [
        "# **numpy.linspace()**"
      ]
    },
    {
      "cell_type": "code",
      "execution_count": 85,
      "metadata": {
        "colab": {
          "base_uri": "https://localhost:8080/"
        },
        "id": "Kw1jaBLi5vnE",
        "outputId": "250e5286-83b6-4742-e5fc-e1a2941cbc27"
      },
      "outputs": [
        {
          "name": "stdout",
          "output_type": "stream",
          "text": [
            "B\n",
            " [2.         2.11111111 2.22222222 2.33333333 2.44444444 2.55555556\n",
            " 2.66666667 2.77777778 2.88888889 3.        ] \n",
            "\n"
          ]
        }
      ],
      "source": [
        "import numpy as np\n",
        "# restep set to True\n",
        "print(\"B\\n\", np.linspace(2.0, 3.0,num=10), \"\\n\")"
      ]
    },
    {
      "cell_type": "code",
      "execution_count": 86,
      "metadata": {
        "colab": {
          "base_uri": "https://localhost:8080/"
        },
        "id": "MiahZ4uhBUqU",
        "outputId": "b1889d17-fedd-401a-922f-0701fe65f7fb"
      },
      "outputs": [
        {
          "data": {
            "text/plain": [
              "array([0., 0., 0., 0., 0., 0., 0., 0., 0., 0.])"
            ]
          },
          "execution_count": 86,
          "metadata": {},
          "output_type": "execute_result"
        }
      ],
      "source": [
        "np.zeros(10)"
      ]
    },
    {
      "cell_type": "code",
      "execution_count": 87,
      "metadata": {
        "colab": {
          "base_uri": "https://localhost:8080/"
        },
        "id": "z0pl7wmrBXD5",
        "outputId": "a7c0c6ed-190b-4336-8de9-3f4000d2550b"
      },
      "outputs": [
        {
          "data": {
            "text/plain": [
              "array([1., 1., 1., 1., 1., 1., 1., 1., 1., 1.])"
            ]
          },
          "execution_count": 87,
          "metadata": {},
          "output_type": "execute_result"
        }
      ],
      "source": [
        "np.ones(10)"
      ]
    },
    {
      "cell_type": "code",
      "execution_count": 88,
      "metadata": {
        "colab": {
          "base_uri": "https://localhost:8080/",
          "height": 282
        },
        "id": "A3uHlbU-I_qR",
        "outputId": "8692c1f3-a943-45a4-b0e9-9427cda05601"
      },
      "outputs": [
        {
          "data": {
            "text/plain": [
              "[<matplotlib.lines.Line2D at 0x260e4f4bdf0>]"
            ]
          },
          "execution_count": 88,
          "metadata": {},
          "output_type": "execute_result"
        },
        {
          "data": {
            "image/png": "[encoded data removed]",
            "text/plain": [
              "<Figure size 640x480 with 1 Axes>"
            ]
          },
          "metadata": {},
          "output_type": "display_data"
        }
      ],
      "source": [
        "import numpy as geek\n",
        "import pylab as p\n",
        " \n",
        "# Start = 0\n",
        "# End = 2\n",
        "# Samples to generate = 10\n",
        "x1 = np.linspace(0, 2, 10, endpoint = True)\n",
        "y1 = np.ones(10)\n",
        "p.plot(x1, y1, '--', color = '#00ffff')\n",
        "# p.xlim(-0.2, 1.8)"
      ]
    },
    {
      "cell_type": "code",
      "execution_count": 89,
      "metadata": {
        "colab": {
          "base_uri": "https://localhost:8080/"
        },
        "id": "YwRz2MOdJzMa",
        "outputId": "1dbf4181-f3ec-400f-9060-f8597ef8e3e9"
      },
      "outputs": [
        {
          "data": {
            "text/plain": [
              "array([0.        , 0.22222222, 0.44444444, 0.66666667, 0.88888889,\n",
              "       1.11111111, 1.33333333, 1.55555556, 1.77777778, 2.        ])"
            ]
          },
          "execution_count": 89,
          "metadata": {},
          "output_type": "execute_result"
        }
      ],
      "source": [
        "x1"
      ]
    },
    {
      "cell_type": "code",
      "execution_count": 90,
      "metadata": {
        "id": "S_Ecd-J2KAsB"
      },
      "outputs": [
        {
          "name": "stdout",
          "output_type": "stream",
          "text": [
            "\n",
            "array reshaped with 2 rows and 4 columns : \n",
            " [[0 1]\n",
            " [2 3]\n",
            " [4 5]\n",
            " [6 7]]\n"
          ]
        }
      ],
      "source": [
        "# Python Program illustrating\n",
        "# numpy.reshape() method\n",
        "\n",
        "\n",
        "\n",
        "\n",
        "\n",
        "# shape array with 4 rows and 2 columns\n",
        "array3 = geek.arange(8).reshape(4, 2)\n",
        "print(\"\\narray reshaped with 2 rows and 4 columns : \\n\",\n",
        "\tarray3)\n",
        "\n",
        "\n"
      ]
    },
    {
      "cell_type": "code",
      "execution_count": 91,
      "metadata": {
        "colab": {
          "base_uri": "https://localhost:8080/"
        },
        "id": "qWFI6ud-MT3p",
        "outputId": "b3f4da6e-8e3d-4ef7-c257-39c5d9a56866"
      },
      "outputs": [
        {
          "name": "stdout",
          "output_type": "stream",
          "text": [
            "Original array : \n",
            " [0 1 2 3 4 5 6 7]\n"
          ]
        }
      ],
      "source": [
        "import numpy as geek\n",
        "\n",
        "# array = geek.arrange(8)\n",
        "# The 'numpy' module has no attribute 'arrange'\n",
        "array1 = geek.arange(8)\n",
        "print(\"Original array : \\n\", array1)"
      ]
    },
    {
      "cell_type": "code",
      "execution_count": 92,
      "metadata": {
        "colab": {
          "base_uri": "https://localhost:8080/"
        },
        "id": "fkOBwjxCMVcA",
        "outputId": "006cca0d-f2f5-4e6d-c9d7-983b45656181"
      },
      "outputs": [
        {
          "name": "stdout",
          "output_type": "stream",
          "text": [
            "\n",
            "array reshaped with 2 rows and 4 columns : \n",
            " [[0 1 2 3]\n",
            " [4 5 6 7]]\n"
          ]
        }
      ],
      "source": [
        "# shape array with 2 rows and 4 columns\n",
        "array2 = geek.arange(8).reshape(2, 4)\n",
        "print(\"\\narray reshaped with 2 rows and 4 columns : \\n\",\n",
        "\tarray2)"
      ]
    },
    {
      "cell_type": "code",
      "execution_count": 93,
      "metadata": {
        "colab": {
          "base_uri": "https://localhost:8080/"
        },
        "id": "DtxPhfXcMZoF",
        "outputId": "b6b72425-5cbc-47bd-d20c-1d910b99d77f"
      },
      "outputs": [
        {
          "name": "stdout",
          "output_type": "stream",
          "text": [
            "\n",
            "Original array reshaped to 3D : \n",
            " [[[0 1]\n",
            "  [2 3]]\n",
            "\n",
            " [[4 5]\n",
            "  [6 7]]]\n"
          ]
        }
      ],
      "source": [
        "# Constructs 3D array\n",
        "import numpy as geek\n",
        "array4 = geek.arange(8).reshape(2, 2, 2)\n",
        "print(\"\\nOriginal array reshaped to 3D : \\n\",\n",
        "\tarray4)"
      ]
    }
  ],
  "metadata": {
    "colab": {
      "provenance": []
    },
    "kernelspec": {
      "display_name": "Python 3",
      "name": "python3"
    },
    "language_info": {
      "codemirror_mode": {
        "name": "ipython",
        "version": 3
      },
      "file_extension": ".py",
      "mimetype": "text/x-python",
      "name": "python",
      "nbconvert_exporter": "python",
      "pygments_lexer": "ipython3",
      "version": "3.9.13"
    }
  },
  "nbformat": 4,
  "nbformat_minor": 0
}
