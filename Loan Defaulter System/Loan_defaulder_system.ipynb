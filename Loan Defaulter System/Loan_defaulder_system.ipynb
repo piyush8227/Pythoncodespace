{
  "nbformat": 4,
  "nbformat_minor": 0,
  "metadata": {
    "colab": {
      "provenance": []
    },
    "kernelspec": {
      "name": "python3",
      "display_name": "Python 3"
    },
    "language_info": {
      "name": "python"
    }
  },
  "cells": [
    {
      "cell_type": "markdown",
      "source": [
        "# **Importing Libraries**"
      ],
      "metadata": {
        "id": "x8BX17aBQYBj"
      }
    },
    {
      "cell_type": "code",
      "execution_count": 45,
      "metadata": {
        "id": "XSn_GCYkQIVl"
      },
      "outputs": [],
      "source": [
        "import numpy as np\n",
        "import pandas as pd\n",
        "import matplotlib.pyplot as plt\n",
        "import seaborn as sns\n",
        "from scipy import stats as st\n",
        "%matplotlib inline"
      ]
    },
    {
      "cell_type": "markdown",
      "source": [
        "# **Load the Dataset**"
      ],
      "metadata": {
        "id": "ofM-3u_BQlpy"
      }
    },
    {
      "cell_type": "code",
      "source": [
        "data_train = pd.read_csv(\"/content/loan_sanction_train.csv\", encoding_errors = \"ignore\")\n",
        "data_test = pd.read_csv(\"/content/loan_sanction_test.csv\", encoding_errors = \"ignore\")"
      ],
      "metadata": {
        "id": "ukgZHYFnQils"
      },
      "execution_count": 46,
      "outputs": []
    },
    {
      "cell_type": "code",
      "source": [
        "print(\"The shape of the training data is :\", data_train.shape)\n",
        "print(\"The shape of the test data is :\", data_test.shape)"
      ],
      "metadata": {
        "colab": {
          "base_uri": "https://localhost:8080/"
        },
        "id": "lqCoKKHKQy40",
        "outputId": "391ff6d6-a286-4879-b3b5-9d8553ac2258"
      },
      "execution_count": 47,
      "outputs": [
        {
          "output_type": "stream",
          "name": "stdout",
          "text": [
            "The shape of the training data is : (614, 13)\n",
            "The shape of the test data is : (367, 12)\n"
          ]
        }
      ]
    },
    {
      "cell_type": "markdown",
      "source": [
        "# **Data Exploration  and Preprocessing**"
      ],
      "metadata": {
        "id": "-QD6GLFoRBsH"
      }
    },
    {
      "cell_type": "code",
      "source": [
        "data_train.describe()"
      ],
      "metadata": {
        "colab": {
          "base_uri": "https://localhost:8080/",
          "height": 300
        },
        "id": "Jrkc_cKwR_C6",
        "outputId": "7f5857ff-8387-40f5-d415-6b1550e7542a"
      },
      "execution_count": 48,
      "outputs": [
        {
          "output_type": "execute_result",
          "data": {
            "text/plain": [
              "       ApplicantIncome  CoapplicantIncome  LoanAmount  Loan_Amount_Term  \\\n",
              "count       614.000000         614.000000  592.000000         600.00000   \n",
              "mean       5403.459283        1621.245798  146.412162         342.00000   \n",
              "std        6109.041673        2926.248369   85.587325          65.12041   \n",
              "min         150.000000           0.000000    9.000000          12.00000   \n",
              "25%        2877.500000           0.000000  100.000000         360.00000   \n",
              "50%        3812.500000        1188.500000  128.000000         360.00000   \n",
              "75%        5795.000000        2297.250000  168.000000         360.00000   \n",
              "max       81000.000000       41667.000000  700.000000         480.00000   \n",
              "\n",
              "       Credit_History  \n",
              "count      564.000000  \n",
              "mean         0.842199  \n",
              "std          0.364878  \n",
              "min          0.000000  \n",
              "25%          1.000000  \n",
              "50%          1.000000  \n",
              "75%          1.000000  \n",
              "max          1.000000  "
            ],
            "text/html": [
              "\n",
              "  <div id=\"df-fbd48f2d-3928-4ed2-9f33-420f53422390\">\n",
              "    <div class=\"colab-df-container\">\n",
              "      <div>\n",
              "<style scoped>\n",
              "    .dataframe tbody tr th:only-of-type {\n",
              "        vertical-align: middle;\n",
              "    }\n",
              "\n",
              "    .dataframe tbody tr th {\n",
              "        vertical-align: top;\n",
              "    }\n",
              "\n",
              "    .dataframe thead th {\n",
              "        text-align: right;\n",
              "    }\n",
              "</style>\n",
              "<table border=\"1\" class=\"dataframe\">\n",
              "  <thead>\n",
              "    <tr style=\"text-align: right;\">\n",
              "      <th></th>\n",
              "      <th>ApplicantIncome</th>\n",
              "      <th>CoapplicantIncome</th>\n",
              "      <th>LoanAmount</th>\n",
              "      <th>Loan_Amount_Term</th>\n",
              "      <th>Credit_History</th>\n",
              "    </tr>\n",
              "  </thead>\n",
              "  <tbody>\n",
              "    <tr>\n",
              "      <th>count</th>\n",
              "      <td>614.000000</td>\n",
              "      <td>614.000000</td>\n",
              "      <td>592.000000</td>\n",
              "      <td>600.00000</td>\n",
              "      <td>564.000000</td>\n",
              "    </tr>\n",
              "    <tr>\n",
              "      <th>mean</th>\n",
              "      <td>5403.459283</td>\n",
              "      <td>1621.245798</td>\n",
              "      <td>146.412162</td>\n",
              "      <td>342.00000</td>\n",
              "      <td>0.842199</td>\n",
              "    </tr>\n",
              "    <tr>\n",
              "      <th>std</th>\n",
              "      <td>6109.041673</td>\n",
              "      <td>2926.248369</td>\n",
              "      <td>85.587325</td>\n",
              "      <td>65.12041</td>\n",
              "      <td>0.364878</td>\n",
              "    </tr>\n",
              "    <tr>\n",
              "      <th>min</th>\n",
              "      <td>150.000000</td>\n",
              "      <td>0.000000</td>\n",
              "      <td>9.000000</td>\n",
              "      <td>12.00000</td>\n",
              "      <td>0.000000</td>\n",
              "    </tr>\n",
              "    <tr>\n",
              "      <th>25%</th>\n",
              "      <td>2877.500000</td>\n",
              "      <td>0.000000</td>\n",
              "      <td>100.000000</td>\n",
              "      <td>360.00000</td>\n",
              "      <td>1.000000</td>\n",
              "    </tr>\n",
              "    <tr>\n",
              "      <th>50%</th>\n",
              "      <td>3812.500000</td>\n",
              "      <td>1188.500000</td>\n",
              "      <td>128.000000</td>\n",
              "      <td>360.00000</td>\n",
              "      <td>1.000000</td>\n",
              "    </tr>\n",
              "    <tr>\n",
              "      <th>75%</th>\n",
              "      <td>5795.000000</td>\n",
              "      <td>2297.250000</td>\n",
              "      <td>168.000000</td>\n",
              "      <td>360.00000</td>\n",
              "      <td>1.000000</td>\n",
              "    </tr>\n",
              "    <tr>\n",
              "      <th>max</th>\n",
              "      <td>81000.000000</td>\n",
              "      <td>41667.000000</td>\n",
              "      <td>700.000000</td>\n",
              "      <td>480.00000</td>\n",
              "      <td>1.000000</td>\n",
              "    </tr>\n",
              "  </tbody>\n",
              "</table>\n",
              "</div>\n",
              "      <button class=\"colab-df-convert\" onclick=\"convertToInteractive('df-fbd48f2d-3928-4ed2-9f33-420f53422390')\"\n",
              "              title=\"Convert this dataframe to an interactive table.\"\n",
              "              style=\"display:none;\">\n",
              "        \n",
              "  <svg xmlns=\"http://www.w3.org/2000/svg\" height=\"24px\"viewBox=\"0 0 24 24\"\n",
              "       width=\"24px\">\n",
              "    <path d=\"M0 0h24v24H0V0z\" fill=\"none\"/>\n",
              "    <path d=\"M18.56 5.44l.94 2.06.94-2.06 2.06-.94-2.06-.94-.94-2.06-.94 2.06-2.06.94zm-11 1L8.5 8.5l.94-2.06 2.06-.94-2.06-.94L8.5 2.5l-.94 2.06-2.06.94zm10 10l.94 2.06.94-2.06 2.06-.94-2.06-.94-.94-2.06-.94 2.06-2.06.94z\"/><path d=\"M17.41 7.96l-1.37-1.37c-.4-.4-.92-.59-1.43-.59-.52 0-1.04.2-1.43.59L10.3 9.45l-7.72 7.72c-.78.78-.78 2.05 0 2.83L4 21.41c.39.39.9.59 1.41.59.51 0 1.02-.2 1.41-.59l7.78-7.78 2.81-2.81c.8-.78.8-2.07 0-2.86zM5.41 20L4 18.59l7.72-7.72 1.47 1.35L5.41 20z\"/>\n",
              "  </svg>\n",
              "      </button>\n",
              "      \n",
              "  <style>\n",
              "    .colab-df-container {\n",
              "      display:flex;\n",
              "      flex-wrap:wrap;\n",
              "      gap: 12px;\n",
              "    }\n",
              "\n",
              "    .colab-df-convert {\n",
              "      background-color: #E8F0FE;\n",
              "      border: none;\n",
              "      border-radius: 50%;\n",
              "      cursor: pointer;\n",
              "      display: none;\n",
              "      fill: #1967D2;\n",
              "      height: 32px;\n",
              "      padding: 0 0 0 0;\n",
              "      width: 32px;\n",
              "    }\n",
              "\n",
              "    .colab-df-convert:hover {\n",
              "      background-color: #E2EBFA;\n",
              "      box-shadow: 0px 1px 2px rgba(60, 64, 67, 0.3), 0px 1px 3px 1px rgba(60, 64, 67, 0.15);\n",
              "      fill: #174EA6;\n",
              "    }\n",
              "\n",
              "    [theme=dark] .colab-df-convert {\n",
              "      background-color: #3B4455;\n",
              "      fill: #D2E3FC;\n",
              "    }\n",
              "\n",
              "    [theme=dark] .colab-df-convert:hover {\n",
              "      background-color: #434B5C;\n",
              "      box-shadow: 0px 1px 3px 1px rgba(0, 0, 0, 0.15);\n",
              "      filter: drop-shadow(0px 1px 2px rgba(0, 0, 0, 0.3));\n",
              "      fill: #FFFFFF;\n",
              "    }\n",
              "  </style>\n",
              "\n",
              "      <script>\n",
              "        const buttonEl =\n",
              "          document.querySelector('#df-fbd48f2d-3928-4ed2-9f33-420f53422390 button.colab-df-convert');\n",
              "        buttonEl.style.display =\n",
              "          google.colab.kernel.accessAllowed ? 'block' : 'none';\n",
              "\n",
              "        async function convertToInteractive(key) {\n",
              "          const element = document.querySelector('#df-fbd48f2d-3928-4ed2-9f33-420f53422390');\n",
              "          const dataTable =\n",
              "            await google.colab.kernel.invokeFunction('convertToInteractive',\n",
              "                                                     [key], {});\n",
              "          if (!dataTable) return;\n",
              "\n",
              "          const docLinkHtml = 'Like what you see? Visit the ' +\n",
              "            '<a target=\"_blank\" href=https://colab.research.google.com/notebooks/data_table.ipynb>data table notebook</a>'\n",
              "            + ' to learn more about interactive tables.';\n",
              "          element.innerHTML = '';\n",
              "          dataTable['output_type'] = 'display_data';\n",
              "          await google.colab.output.renderOutput(dataTable, element);\n",
              "          const docLink = document.createElement('div');\n",
              "          docLink.innerHTML = docLinkHtml;\n",
              "          element.appendChild(docLink);\n",
              "        }\n",
              "      </script>\n",
              "    </div>\n",
              "  </div>\n",
              "  "
            ]
          },
          "metadata": {},
          "execution_count": 48
        }
      ]
    },
    {
      "cell_type": "code",
      "source": [
        "data_train[\"Credit_History\"]"
      ],
      "metadata": {
        "colab": {
          "base_uri": "https://localhost:8080/"
        },
        "id": "0Fipss87TP2L",
        "outputId": "8bdd3fd3-0011-4fda-8c32-16120f480f1a"
      },
      "execution_count": 49,
      "outputs": [
        {
          "output_type": "execute_result",
          "data": {
            "text/plain": [
              "0      1.0\n",
              "1      1.0\n",
              "2      1.0\n",
              "3      1.0\n",
              "4      1.0\n",
              "      ... \n",
              "609    1.0\n",
              "610    1.0\n",
              "611    1.0\n",
              "612    1.0\n",
              "613    0.0\n",
              "Name: Credit_History, Length: 614, dtype: float64"
            ]
          },
          "metadata": {},
          "execution_count": 49
        }
      ]
    },
    {
      "cell_type": "code",
      "source": [
        "# Checking for the description of the data:\n",
        "data_train.describe(include = \"all\")"
      ],
      "metadata": {
        "colab": {
          "base_uri": "https://localhost:8080/",
          "height": 458
        },
        "id": "iIBODi6EQ6sV",
        "outputId": "fcdf9f36-660f-466c-97c1-91f1fae0f625"
      },
      "execution_count": 50,
      "outputs": [
        {
          "output_type": "execute_result",
          "data": {
            "text/plain": [
              "         Loan_ID Gender Married Dependents Education Self_Employed  \\\n",
              "count        614    601     611        599       614           582   \n",
              "unique       614      2       2          4         2             2   \n",
              "top     LP001002   Male     Yes          0  Graduate            No   \n",
              "freq           1    489     398        345       480           500   \n",
              "mean         NaN    NaN     NaN        NaN       NaN           NaN   \n",
              "std          NaN    NaN     NaN        NaN       NaN           NaN   \n",
              "min          NaN    NaN     NaN        NaN       NaN           NaN   \n",
              "25%          NaN    NaN     NaN        NaN       NaN           NaN   \n",
              "50%          NaN    NaN     NaN        NaN       NaN           NaN   \n",
              "75%          NaN    NaN     NaN        NaN       NaN           NaN   \n",
              "max          NaN    NaN     NaN        NaN       NaN           NaN   \n",
              "\n",
              "        ApplicantIncome  CoapplicantIncome  LoanAmount  Loan_Amount_Term  \\\n",
              "count        614.000000         614.000000  592.000000         600.00000   \n",
              "unique              NaN                NaN         NaN               NaN   \n",
              "top                 NaN                NaN         NaN               NaN   \n",
              "freq                NaN                NaN         NaN               NaN   \n",
              "mean        5403.459283        1621.245798  146.412162         342.00000   \n",
              "std         6109.041673        2926.248369   85.587325          65.12041   \n",
              "min          150.000000           0.000000    9.000000          12.00000   \n",
              "25%         2877.500000           0.000000  100.000000         360.00000   \n",
              "50%         3812.500000        1188.500000  128.000000         360.00000   \n",
              "75%         5795.000000        2297.250000  168.000000         360.00000   \n",
              "max        81000.000000       41667.000000  700.000000         480.00000   \n",
              "\n",
              "        Credit_History Property_Area Loan_Status  \n",
              "count       564.000000           614         614  \n",
              "unique             NaN             3           2  \n",
              "top                NaN     Semiurban           Y  \n",
              "freq               NaN           233         422  \n",
              "mean          0.842199           NaN         NaN  \n",
              "std           0.364878           NaN         NaN  \n",
              "min           0.000000           NaN         NaN  \n",
              "25%           1.000000           NaN         NaN  \n",
              "50%           1.000000           NaN         NaN  \n",
              "75%           1.000000           NaN         NaN  \n",
              "max           1.000000           NaN         NaN  "
            ],
            "text/html": [
              "\n",
              "  <div id=\"df-f77176cb-e7a0-406c-8328-b490bd0d35ed\">\n",
              "    <div class=\"colab-df-container\">\n",
              "      <div>\n",
              "<style scoped>\n",
              "    .dataframe tbody tr th:only-of-type {\n",
              "        vertical-align: middle;\n",
              "    }\n",
              "\n",
              "    .dataframe tbody tr th {\n",
              "        vertical-align: top;\n",
              "    }\n",
              "\n",
              "    .dataframe thead th {\n",
              "        text-align: right;\n",
              "    }\n",
              "</style>\n",
              "<table border=\"1\" class=\"dataframe\">\n",
              "  <thead>\n",
              "    <tr style=\"text-align: right;\">\n",
              "      <th></th>\n",
              "      <th>Loan_ID</th>\n",
              "      <th>Gender</th>\n",
              "      <th>Married</th>\n",
              "      <th>Dependents</th>\n",
              "      <th>Education</th>\n",
              "      <th>Self_Employed</th>\n",
              "      <th>ApplicantIncome</th>\n",
              "      <th>CoapplicantIncome</th>\n",
              "      <th>LoanAmount</th>\n",
              "      <th>Loan_Amount_Term</th>\n",
              "      <th>Credit_History</th>\n",
              "      <th>Property_Area</th>\n",
              "      <th>Loan_Status</th>\n",
              "    </tr>\n",
              "  </thead>\n",
              "  <tbody>\n",
              "    <tr>\n",
              "      <th>count</th>\n",
              "      <td>614</td>\n",
              "      <td>601</td>\n",
              "      <td>611</td>\n",
              "      <td>599</td>\n",
              "      <td>614</td>\n",
              "      <td>582</td>\n",
              "      <td>614.000000</td>\n",
              "      <td>614.000000</td>\n",
              "      <td>592.000000</td>\n",
              "      <td>600.00000</td>\n",
              "      <td>564.000000</td>\n",
              "      <td>614</td>\n",
              "      <td>614</td>\n",
              "    </tr>\n",
              "    <tr>\n",
              "      <th>unique</th>\n",
              "      <td>614</td>\n",
              "      <td>2</td>\n",
              "      <td>2</td>\n",
              "      <td>4</td>\n",
              "      <td>2</td>\n",
              "      <td>2</td>\n",
              "      <td>NaN</td>\n",
              "      <td>NaN</td>\n",
              "      <td>NaN</td>\n",
              "      <td>NaN</td>\n",
              "      <td>NaN</td>\n",
              "      <td>3</td>\n",
              "      <td>2</td>\n",
              "    </tr>\n",
              "    <tr>\n",
              "      <th>top</th>\n",
              "      <td>LP001002</td>\n",
              "      <td>Male</td>\n",
              "      <td>Yes</td>\n",
              "      <td>0</td>\n",
              "      <td>Graduate</td>\n",
              "      <td>No</td>\n",
              "      <td>NaN</td>\n",
              "      <td>NaN</td>\n",
              "      <td>NaN</td>\n",
              "      <td>NaN</td>\n",
              "      <td>NaN</td>\n",
              "      <td>Semiurban</td>\n",
              "      <td>Y</td>\n",
              "    </tr>\n",
              "    <tr>\n",
              "      <th>freq</th>\n",
              "      <td>1</td>\n",
              "      <td>489</td>\n",
              "      <td>398</td>\n",
              "      <td>345</td>\n",
              "      <td>480</td>\n",
              "      <td>500</td>\n",
              "      <td>NaN</td>\n",
              "      <td>NaN</td>\n",
              "      <td>NaN</td>\n",
              "      <td>NaN</td>\n",
              "      <td>NaN</td>\n",
              "      <td>233</td>\n",
              "      <td>422</td>\n",
              "    </tr>\n",
              "    <tr>\n",
              "      <th>mean</th>\n",
              "      <td>NaN</td>\n",
              "      <td>NaN</td>\n",
              "      <td>NaN</td>\n",
              "      <td>NaN</td>\n",
              "      <td>NaN</td>\n",
              "      <td>NaN</td>\n",
              "      <td>5403.459283</td>\n",
              "      <td>1621.245798</td>\n",
              "      <td>146.412162</td>\n",
              "      <td>342.00000</td>\n",
              "      <td>0.842199</td>\n",
              "      <td>NaN</td>\n",
              "      <td>NaN</td>\n",
              "    </tr>\n",
              "    <tr>\n",
              "      <th>std</th>\n",
              "      <td>NaN</td>\n",
              "      <td>NaN</td>\n",
              "      <td>NaN</td>\n",
              "      <td>NaN</td>\n",
              "      <td>NaN</td>\n",
              "      <td>NaN</td>\n",
              "      <td>6109.041673</td>\n",
              "      <td>2926.248369</td>\n",
              "      <td>85.587325</td>\n",
              "      <td>65.12041</td>\n",
              "      <td>0.364878</td>\n",
              "      <td>NaN</td>\n",
              "      <td>NaN</td>\n",
              "    </tr>\n",
              "    <tr>\n",
              "      <th>min</th>\n",
              "      <td>NaN</td>\n",
              "      <td>NaN</td>\n",
              "      <td>NaN</td>\n",
              "      <td>NaN</td>\n",
              "      <td>NaN</td>\n",
              "      <td>NaN</td>\n",
              "      <td>150.000000</td>\n",
              "      <td>0.000000</td>\n",
              "      <td>9.000000</td>\n",
              "      <td>12.00000</td>\n",
              "      <td>0.000000</td>\n",
              "      <td>NaN</td>\n",
              "      <td>NaN</td>\n",
              "    </tr>\n",
              "    <tr>\n",
              "      <th>25%</th>\n",
              "      <td>NaN</td>\n",
              "      <td>NaN</td>\n",
              "      <td>NaN</td>\n",
              "      <td>NaN</td>\n",
              "      <td>NaN</td>\n",
              "      <td>NaN</td>\n",
              "      <td>2877.500000</td>\n",
              "      <td>0.000000</td>\n",
              "      <td>100.000000</td>\n",
              "      <td>360.00000</td>\n",
              "      <td>1.000000</td>\n",
              "      <td>NaN</td>\n",
              "      <td>NaN</td>\n",
              "    </tr>\n",
              "    <tr>\n",
              "      <th>50%</th>\n",
              "      <td>NaN</td>\n",
              "      <td>NaN</td>\n",
              "      <td>NaN</td>\n",
              "      <td>NaN</td>\n",
              "      <td>NaN</td>\n",
              "      <td>NaN</td>\n",
              "      <td>3812.500000</td>\n",
              "      <td>1188.500000</td>\n",
              "      <td>128.000000</td>\n",
              "      <td>360.00000</td>\n",
              "      <td>1.000000</td>\n",
              "      <td>NaN</td>\n",
              "      <td>NaN</td>\n",
              "    </tr>\n",
              "    <tr>\n",
              "      <th>75%</th>\n",
              "      <td>NaN</td>\n",
              "      <td>NaN</td>\n",
              "      <td>NaN</td>\n",
              "      <td>NaN</td>\n",
              "      <td>NaN</td>\n",
              "      <td>NaN</td>\n",
              "      <td>5795.000000</td>\n",
              "      <td>2297.250000</td>\n",
              "      <td>168.000000</td>\n",
              "      <td>360.00000</td>\n",
              "      <td>1.000000</td>\n",
              "      <td>NaN</td>\n",
              "      <td>NaN</td>\n",
              "    </tr>\n",
              "    <tr>\n",
              "      <th>max</th>\n",
              "      <td>NaN</td>\n",
              "      <td>NaN</td>\n",
              "      <td>NaN</td>\n",
              "      <td>NaN</td>\n",
              "      <td>NaN</td>\n",
              "      <td>NaN</td>\n",
              "      <td>81000.000000</td>\n",
              "      <td>41667.000000</td>\n",
              "      <td>700.000000</td>\n",
              "      <td>480.00000</td>\n",
              "      <td>1.000000</td>\n",
              "      <td>NaN</td>\n",
              "      <td>NaN</td>\n",
              "    </tr>\n",
              "  </tbody>\n",
              "</table>\n",
              "</div>\n",
              "      <button class=\"colab-df-convert\" onclick=\"convertToInteractive('df-f77176cb-e7a0-406c-8328-b490bd0d35ed')\"\n",
              "              title=\"Convert this dataframe to an interactive table.\"\n",
              "              style=\"display:none;\">\n",
              "        \n",
              "  <svg xmlns=\"http://www.w3.org/2000/svg\" height=\"24px\"viewBox=\"0 0 24 24\"\n",
              "       width=\"24px\">\n",
              "    <path d=\"M0 0h24v24H0V0z\" fill=\"none\"/>\n",
              "    <path d=\"M18.56 5.44l.94 2.06.94-2.06 2.06-.94-2.06-.94-.94-2.06-.94 2.06-2.06.94zm-11 1L8.5 8.5l.94-2.06 2.06-.94-2.06-.94L8.5 2.5l-.94 2.06-2.06.94zm10 10l.94 2.06.94-2.06 2.06-.94-2.06-.94-.94-2.06-.94 2.06-2.06.94z\"/><path d=\"M17.41 7.96l-1.37-1.37c-.4-.4-.92-.59-1.43-.59-.52 0-1.04.2-1.43.59L10.3 9.45l-7.72 7.72c-.78.78-.78 2.05 0 2.83L4 21.41c.39.39.9.59 1.41.59.51 0 1.02-.2 1.41-.59l7.78-7.78 2.81-2.81c.8-.78.8-2.07 0-2.86zM5.41 20L4 18.59l7.72-7.72 1.47 1.35L5.41 20z\"/>\n",
              "  </svg>\n",
              "      </button>\n",
              "      \n",
              "  <style>\n",
              "    .colab-df-container {\n",
              "      display:flex;\n",
              "      flex-wrap:wrap;\n",
              "      gap: 12px;\n",
              "    }\n",
              "\n",
              "    .colab-df-convert {\n",
              "      background-color: #E8F0FE;\n",
              "      border: none;\n",
              "      border-radius: 50%;\n",
              "      cursor: pointer;\n",
              "      display: none;\n",
              "      fill: #1967D2;\n",
              "      height: 32px;\n",
              "      padding: 0 0 0 0;\n",
              "      width: 32px;\n",
              "    }\n",
              "\n",
              "    .colab-df-convert:hover {\n",
              "      background-color: #E2EBFA;\n",
              "      box-shadow: 0px 1px 2px rgba(60, 64, 67, 0.3), 0px 1px 3px 1px rgba(60, 64, 67, 0.15);\n",
              "      fill: #174EA6;\n",
              "    }\n",
              "\n",
              "    [theme=dark] .colab-df-convert {\n",
              "      background-color: #3B4455;\n",
              "      fill: #D2E3FC;\n",
              "    }\n",
              "\n",
              "    [theme=dark] .colab-df-convert:hover {\n",
              "      background-color: #434B5C;\n",
              "      box-shadow: 0px 1px 3px 1px rgba(0, 0, 0, 0.15);\n",
              "      filter: drop-shadow(0px 1px 2px rgba(0, 0, 0, 0.3));\n",
              "      fill: #FFFFFF;\n",
              "    }\n",
              "  </style>\n",
              "\n",
              "      <script>\n",
              "        const buttonEl =\n",
              "          document.querySelector('#df-f77176cb-e7a0-406c-8328-b490bd0d35ed button.colab-df-convert');\n",
              "        buttonEl.style.display =\n",
              "          google.colab.kernel.accessAllowed ? 'block' : 'none';\n",
              "\n",
              "        async function convertToInteractive(key) {\n",
              "          const element = document.querySelector('#df-f77176cb-e7a0-406c-8328-b490bd0d35ed');\n",
              "          const dataTable =\n",
              "            await google.colab.kernel.invokeFunction('convertToInteractive',\n",
              "                                                     [key], {});\n",
              "          if (!dataTable) return;\n",
              "\n",
              "          const docLinkHtml = 'Like what you see? Visit the ' +\n",
              "            '<a target=\"_blank\" href=https://colab.research.google.com/notebooks/data_table.ipynb>data table notebook</a>'\n",
              "            + ' to learn more about interactive tables.';\n",
              "          element.innerHTML = '';\n",
              "          dataTable['output_type'] = 'display_data';\n",
              "          await google.colab.output.renderOutput(dataTable, element);\n",
              "          const docLink = document.createElement('div');\n",
              "          docLink.innerHTML = docLinkHtml;\n",
              "          element.appendChild(docLink);\n",
              "        }\n",
              "      </script>\n",
              "    </div>\n",
              "  </div>\n",
              "  "
            ]
          },
          "metadata": {},
          "execution_count": 50
        }
      ]
    },
    {
      "cell_type": "code",
      "source": [
        "data_test.describe(include = \"all\")"
      ],
      "metadata": {
        "colab": {
          "base_uri": "https://localhost:8080/",
          "height": 458
        },
        "id": "I03jiOlQRNYd",
        "outputId": "fb0bae5d-f4b1-4432-f3ab-4fdfcac2addd"
      },
      "execution_count": 51,
      "outputs": [
        {
          "output_type": "execute_result",
          "data": {
            "text/plain": [
              "         Loan_ID Gender Married Dependents Education Self_Employed  \\\n",
              "count        367    356     367        357       367           344   \n",
              "unique       367      2       2          4         2             2   \n",
              "top     LP001015   Male     Yes          0  Graduate            No   \n",
              "freq           1    286     233        200       283           307   \n",
              "mean         NaN    NaN     NaN        NaN       NaN           NaN   \n",
              "std          NaN    NaN     NaN        NaN       NaN           NaN   \n",
              "min          NaN    NaN     NaN        NaN       NaN           NaN   \n",
              "25%          NaN    NaN     NaN        NaN       NaN           NaN   \n",
              "50%          NaN    NaN     NaN        NaN       NaN           NaN   \n",
              "75%          NaN    NaN     NaN        NaN       NaN           NaN   \n",
              "max          NaN    NaN     NaN        NaN       NaN           NaN   \n",
              "\n",
              "        ApplicantIncome  CoapplicantIncome  LoanAmount  Loan_Amount_Term  \\\n",
              "count        367.000000         367.000000  362.000000        361.000000   \n",
              "unique              NaN                NaN         NaN               NaN   \n",
              "top                 NaN                NaN         NaN               NaN   \n",
              "freq                NaN                NaN         NaN               NaN   \n",
              "mean        4805.599455        1569.577657  136.132597        342.537396   \n",
              "std         4910.685399        2334.232099   61.366652         65.156643   \n",
              "min            0.000000           0.000000   28.000000          6.000000   \n",
              "25%         2864.000000           0.000000  100.250000        360.000000   \n",
              "50%         3786.000000        1025.000000  125.000000        360.000000   \n",
              "75%         5060.000000        2430.500000  158.000000        360.000000   \n",
              "max        72529.000000       24000.000000  550.000000        480.000000   \n",
              "\n",
              "        Credit_History Property_Area  \n",
              "count       338.000000           367  \n",
              "unique             NaN             3  \n",
              "top                NaN         Urban  \n",
              "freq               NaN           140  \n",
              "mean          0.825444           NaN  \n",
              "std           0.380150           NaN  \n",
              "min           0.000000           NaN  \n",
              "25%           1.000000           NaN  \n",
              "50%           1.000000           NaN  \n",
              "75%           1.000000           NaN  \n",
              "max           1.000000           NaN  "
            ],
            "text/html": [
              "\n",
              "  <div id=\"df-c1fbbe3d-e399-497e-a67d-24c282ae7b0b\">\n",
              "    <div class=\"colab-df-container\">\n",
              "      <div>\n",
              "<style scoped>\n",
              "    .dataframe tbody tr th:only-of-type {\n",
              "        vertical-align: middle;\n",
              "    }\n",
              "\n",
              "    .dataframe tbody tr th {\n",
              "        vertical-align: top;\n",
              "    }\n",
              "\n",
              "    .dataframe thead th {\n",
              "        text-align: right;\n",
              "    }\n",
              "</style>\n",
              "<table border=\"1\" class=\"dataframe\">\n",
              "  <thead>\n",
              "    <tr style=\"text-align: right;\">\n",
              "      <th></th>\n",
              "      <th>Loan_ID</th>\n",
              "      <th>Gender</th>\n",
              "      <th>Married</th>\n",
              "      <th>Dependents</th>\n",
              "      <th>Education</th>\n",
              "      <th>Self_Employed</th>\n",
              "      <th>ApplicantIncome</th>\n",
              "      <th>CoapplicantIncome</th>\n",
              "      <th>LoanAmount</th>\n",
              "      <th>Loan_Amount_Term</th>\n",
              "      <th>Credit_History</th>\n",
              "      <th>Property_Area</th>\n",
              "    </tr>\n",
              "  </thead>\n",
              "  <tbody>\n",
              "    <tr>\n",
              "      <th>count</th>\n",
              "      <td>367</td>\n",
              "      <td>356</td>\n",
              "      <td>367</td>\n",
              "      <td>357</td>\n",
              "      <td>367</td>\n",
              "      <td>344</td>\n",
              "      <td>367.000000</td>\n",
              "      <td>367.000000</td>\n",
              "      <td>362.000000</td>\n",
              "      <td>361.000000</td>\n",
              "      <td>338.000000</td>\n",
              "      <td>367</td>\n",
              "    </tr>\n",
              "    <tr>\n",
              "      <th>unique</th>\n",
              "      <td>367</td>\n",
              "      <td>2</td>\n",
              "      <td>2</td>\n",
              "      <td>4</td>\n",
              "      <td>2</td>\n",
              "      <td>2</td>\n",
              "      <td>NaN</td>\n",
              "      <td>NaN</td>\n",
              "      <td>NaN</td>\n",
              "      <td>NaN</td>\n",
              "      <td>NaN</td>\n",
              "      <td>3</td>\n",
              "    </tr>\n",
              "    <tr>\n",
              "      <th>top</th>\n",
              "      <td>LP001015</td>\n",
              "      <td>Male</td>\n",
              "      <td>Yes</td>\n",
              "      <td>0</td>\n",
              "      <td>Graduate</td>\n",
              "      <td>No</td>\n",
              "      <td>NaN</td>\n",
              "      <td>NaN</td>\n",
              "      <td>NaN</td>\n",
              "      <td>NaN</td>\n",
              "      <td>NaN</td>\n",
              "      <td>Urban</td>\n",
              "    </tr>\n",
              "    <tr>\n",
              "      <th>freq</th>\n",
              "      <td>1</td>\n",
              "      <td>286</td>\n",
              "      <td>233</td>\n",
              "      <td>200</td>\n",
              "      <td>283</td>\n",
              "      <td>307</td>\n",
              "      <td>NaN</td>\n",
              "      <td>NaN</td>\n",
              "      <td>NaN</td>\n",
              "      <td>NaN</td>\n",
              "      <td>NaN</td>\n",
              "      <td>140</td>\n",
              "    </tr>\n",
              "    <tr>\n",
              "      <th>mean</th>\n",
              "      <td>NaN</td>\n",
              "      <td>NaN</td>\n",
              "      <td>NaN</td>\n",
              "      <td>NaN</td>\n",
              "      <td>NaN</td>\n",
              "      <td>NaN</td>\n",
              "      <td>4805.599455</td>\n",
              "      <td>1569.577657</td>\n",
              "      <td>136.132597</td>\n",
              "      <td>342.537396</td>\n",
              "      <td>0.825444</td>\n",
              "      <td>NaN</td>\n",
              "    </tr>\n",
              "    <tr>\n",
              "      <th>std</th>\n",
              "      <td>NaN</td>\n",
              "      <td>NaN</td>\n",
              "      <td>NaN</td>\n",
              "      <td>NaN</td>\n",
              "      <td>NaN</td>\n",
              "      <td>NaN</td>\n",
              "      <td>4910.685399</td>\n",
              "      <td>2334.232099</td>\n",
              "      <td>61.366652</td>\n",
              "      <td>65.156643</td>\n",
              "      <td>0.380150</td>\n",
              "      <td>NaN</td>\n",
              "    </tr>\n",
              "    <tr>\n",
              "      <th>min</th>\n",
              "      <td>NaN</td>\n",
              "      <td>NaN</td>\n",
              "      <td>NaN</td>\n",
              "      <td>NaN</td>\n",
              "      <td>NaN</td>\n",
              "      <td>NaN</td>\n",
              "      <td>0.000000</td>\n",
              "      <td>0.000000</td>\n",
              "      <td>28.000000</td>\n",
              "      <td>6.000000</td>\n",
              "      <td>0.000000</td>\n",
              "      <td>NaN</td>\n",
              "    </tr>\n",
              "    <tr>\n",
              "      <th>25%</th>\n",
              "      <td>NaN</td>\n",
              "      <td>NaN</td>\n",
              "      <td>NaN</td>\n",
              "      <td>NaN</td>\n",
              "      <td>NaN</td>\n",
              "      <td>NaN</td>\n",
              "      <td>2864.000000</td>\n",
              "      <td>0.000000</td>\n",
              "      <td>100.250000</td>\n",
              "      <td>360.000000</td>\n",
              "      <td>1.000000</td>\n",
              "      <td>NaN</td>\n",
              "    </tr>\n",
              "    <tr>\n",
              "      <th>50%</th>\n",
              "      <td>NaN</td>\n",
              "      <td>NaN</td>\n",
              "      <td>NaN</td>\n",
              "      <td>NaN</td>\n",
              "      <td>NaN</td>\n",
              "      <td>NaN</td>\n",
              "      <td>3786.000000</td>\n",
              "      <td>1025.000000</td>\n",
              "      <td>125.000000</td>\n",
              "      <td>360.000000</td>\n",
              "      <td>1.000000</td>\n",
              "      <td>NaN</td>\n",
              "    </tr>\n",
              "    <tr>\n",
              "      <th>75%</th>\n",
              "      <td>NaN</td>\n",
              "      <td>NaN</td>\n",
              "      <td>NaN</td>\n",
              "      <td>NaN</td>\n",
              "      <td>NaN</td>\n",
              "      <td>NaN</td>\n",
              "      <td>5060.000000</td>\n",
              "      <td>2430.500000</td>\n",
              "      <td>158.000000</td>\n",
              "      <td>360.000000</td>\n",
              "      <td>1.000000</td>\n",
              "      <td>NaN</td>\n",
              "    </tr>\n",
              "    <tr>\n",
              "      <th>max</th>\n",
              "      <td>NaN</td>\n",
              "      <td>NaN</td>\n",
              "      <td>NaN</td>\n",
              "      <td>NaN</td>\n",
              "      <td>NaN</td>\n",
              "      <td>NaN</td>\n",
              "      <td>72529.000000</td>\n",
              "      <td>24000.000000</td>\n",
              "      <td>550.000000</td>\n",
              "      <td>480.000000</td>\n",
              "      <td>1.000000</td>\n",
              "      <td>NaN</td>\n",
              "    </tr>\n",
              "  </tbody>\n",
              "</table>\n",
              "</div>\n",
              "      <button class=\"colab-df-convert\" onclick=\"convertToInteractive('df-c1fbbe3d-e399-497e-a67d-24c282ae7b0b')\"\n",
              "              title=\"Convert this dataframe to an interactive table.\"\n",
              "              style=\"display:none;\">\n",
              "        \n",
              "  <svg xmlns=\"http://www.w3.org/2000/svg\" height=\"24px\"viewBox=\"0 0 24 24\"\n",
              "       width=\"24px\">\n",
              "    <path d=\"M0 0h24v24H0V0z\" fill=\"none\"/>\n",
              "    <path d=\"M18.56 5.44l.94 2.06.94-2.06 2.06-.94-2.06-.94-.94-2.06-.94 2.06-2.06.94zm-11 1L8.5 8.5l.94-2.06 2.06-.94-2.06-.94L8.5 2.5l-.94 2.06-2.06.94zm10 10l.94 2.06.94-2.06 2.06-.94-2.06-.94-.94-2.06-.94 2.06-2.06.94z\"/><path d=\"M17.41 7.96l-1.37-1.37c-.4-.4-.92-.59-1.43-.59-.52 0-1.04.2-1.43.59L10.3 9.45l-7.72 7.72c-.78.78-.78 2.05 0 2.83L4 21.41c.39.39.9.59 1.41.59.51 0 1.02-.2 1.41-.59l7.78-7.78 2.81-2.81c.8-.78.8-2.07 0-2.86zM5.41 20L4 18.59l7.72-7.72 1.47 1.35L5.41 20z\"/>\n",
              "  </svg>\n",
              "      </button>\n",
              "      \n",
              "  <style>\n",
              "    .colab-df-container {\n",
              "      display:flex;\n",
              "      flex-wrap:wrap;\n",
              "      gap: 12px;\n",
              "    }\n",
              "\n",
              "    .colab-df-convert {\n",
              "      background-color: #E8F0FE;\n",
              "      border: none;\n",
              "      border-radius: 50%;\n",
              "      cursor: pointer;\n",
              "      display: none;\n",
              "      fill: #1967D2;\n",
              "      height: 32px;\n",
              "      padding: 0 0 0 0;\n",
              "      width: 32px;\n",
              "    }\n",
              "\n",
              "    .colab-df-convert:hover {\n",
              "      background-color: #E2EBFA;\n",
              "      box-shadow: 0px 1px 2px rgba(60, 64, 67, 0.3), 0px 1px 3px 1px rgba(60, 64, 67, 0.15);\n",
              "      fill: #174EA6;\n",
              "    }\n",
              "\n",
              "    [theme=dark] .colab-df-convert {\n",
              "      background-color: #3B4455;\n",
              "      fill: #D2E3FC;\n",
              "    }\n",
              "\n",
              "    [theme=dark] .colab-df-convert:hover {\n",
              "      background-color: #434B5C;\n",
              "      box-shadow: 0px 1px 3px 1px rgba(0, 0, 0, 0.15);\n",
              "      filter: drop-shadow(0px 1px 2px rgba(0, 0, 0, 0.3));\n",
              "      fill: #FFFFFF;\n",
              "    }\n",
              "  </style>\n",
              "\n",
              "      <script>\n",
              "        const buttonEl =\n",
              "          document.querySelector('#df-c1fbbe3d-e399-497e-a67d-24c282ae7b0b button.colab-df-convert');\n",
              "        buttonEl.style.display =\n",
              "          google.colab.kernel.accessAllowed ? 'block' : 'none';\n",
              "\n",
              "        async function convertToInteractive(key) {\n",
              "          const element = document.querySelector('#df-c1fbbe3d-e399-497e-a67d-24c282ae7b0b');\n",
              "          const dataTable =\n",
              "            await google.colab.kernel.invokeFunction('convertToInteractive',\n",
              "                                                     [key], {});\n",
              "          if (!dataTable) return;\n",
              "\n",
              "          const docLinkHtml = 'Like what you see? Visit the ' +\n",
              "            '<a target=\"_blank\" href=https://colab.research.google.com/notebooks/data_table.ipynb>data table notebook</a>'\n",
              "            + ' to learn more about interactive tables.';\n",
              "          element.innerHTML = '';\n",
              "          dataTable['output_type'] = 'display_data';\n",
              "          await google.colab.output.renderOutput(dataTable, element);\n",
              "          const docLink = document.createElement('div');\n",
              "          docLink.innerHTML = docLinkHtml;\n",
              "          element.appendChild(docLink);\n",
              "        }\n",
              "      </script>\n",
              "    </div>\n",
              "  </div>\n",
              "  "
            ]
          },
          "metadata": {},
          "execution_count": 51
        }
      ]
    },
    {
      "cell_type": "markdown",
      "source": [
        "**Observations**\n",
        "\n",
        "- Except for the Loan ID in\n",
        "training data most of the \n",
        "features are supposed to\n",
        "have null values.\n",
        "\n",
        "- Most of the cat- features\n",
        "in the training dataset\n",
        "are likely to have two \n",
        "categories.\n",
        "\n",
        "- In applicantIncome \n",
        "feature the difference\n",
        "in between 50th percentile\n",
        "to 75th percentile\n",
        "from 25th to 50 percentile\n",
        "is almost twice.\n",
        "\n",
        "- ApplicantIncome is likely to be a \n",
        "right skewed distribution on train data\n",
        "as we can see almost 40X scale\n",
        "from min - 25 percentile to 75-max\n",
        "\n",
        "- We can see that there is an inconsistancy in the credit history.\n",
        "0 : The person has no credit history\n",
        "1: The person has credit history but here the data is reported as  float instead of object.\n",
        "At the time of encoding we will revert the object type to numerical type to fit our model."
      ],
      "metadata": {
        "id": "8siDjhS8T0jA"
      }
    },
    {
      "cell_type": "code",
      "source": [
        "data_train.info()"
      ],
      "metadata": {
        "colab": {
          "base_uri": "https://localhost:8080/"
        },
        "id": "LB5XifsORU0-",
        "outputId": "2305b367-4dd5-43d4-dbd6-30834996ad27"
      },
      "execution_count": 52,
      "outputs": [
        {
          "output_type": "stream",
          "name": "stdout",
          "text": [
            "<class 'pandas.core.frame.DataFrame'>\n",
            "RangeIndex: 614 entries, 0 to 613\n",
            "Data columns (total 13 columns):\n",
            " #   Column             Non-Null Count  Dtype  \n",
            "---  ------             --------------  -----  \n",
            " 0   Loan_ID            614 non-null    object \n",
            " 1   Gender             601 non-null    object \n",
            " 2   Married            611 non-null    object \n",
            " 3   Dependents         599 non-null    object \n",
            " 4   Education          614 non-null    object \n",
            " 5   Self_Employed      582 non-null    object \n",
            " 6   ApplicantIncome    614 non-null    int64  \n",
            " 7   CoapplicantIncome  614 non-null    float64\n",
            " 8   LoanAmount         592 non-null    float64\n",
            " 9   Loan_Amount_Term   600 non-null    float64\n",
            " 10  Credit_History     564 non-null    float64\n",
            " 11  Property_Area      614 non-null    object \n",
            " 12  Loan_Status        614 non-null    object \n",
            "dtypes: float64(4), int64(1), object(8)\n",
            "memory usage: 62.5+ KB\n"
          ]
        }
      ]
    },
    {
      "cell_type": "code",
      "source": [
        "data_test.info()"
      ],
      "metadata": {
        "colab": {
          "base_uri": "https://localhost:8080/"
        },
        "id": "__z2Cpw7UCRv",
        "outputId": "edb315f9-f775-484d-d378-ca540d5c35dc"
      },
      "execution_count": 53,
      "outputs": [
        {
          "output_type": "stream",
          "name": "stdout",
          "text": [
            "<class 'pandas.core.frame.DataFrame'>\n",
            "RangeIndex: 367 entries, 0 to 366\n",
            "Data columns (total 12 columns):\n",
            " #   Column             Non-Null Count  Dtype  \n",
            "---  ------             --------------  -----  \n",
            " 0   Loan_ID            367 non-null    object \n",
            " 1   Gender             356 non-null    object \n",
            " 2   Married            367 non-null    object \n",
            " 3   Dependents         357 non-null    object \n",
            " 4   Education          367 non-null    object \n",
            " 5   Self_Employed      344 non-null    object \n",
            " 6   ApplicantIncome    367 non-null    int64  \n",
            " 7   CoapplicantIncome  367 non-null    int64  \n",
            " 8   LoanAmount         362 non-null    float64\n",
            " 9   Loan_Amount_Term   361 non-null    float64\n",
            " 10  Credit_History     338 non-null    float64\n",
            " 11  Property_Area      367 non-null    object \n",
            "dtypes: float64(3), int64(2), object(7)\n",
            "memory usage: 34.5+ KB\n"
          ]
        }
      ]
    },
    {
      "cell_type": "markdown",
      "source": [
        "**Observation:**\n",
        "\n",
        "- For both train and test data there are a lot of null values reported.\n",
        "\n",
        "- credit_history remians as inconstant for both train and test data."
      ],
      "metadata": {
        "id": "QW6mUlCQUKB7"
      }
    },
    {
      "cell_type": "code",
      "source": [
        "# Type casting for credit history\n",
        "data_train[\"Credit_History\"] = data_train[\"Credit_History\"].astype(object)\n",
        "data_test[\"Credit_History\"] = data_test[\"Credit_History\"].astype(object)"
      ],
      "metadata": {
        "id": "jtxL1z1ZUzSu"
      },
      "execution_count": 54,
      "outputs": []
    },
    {
      "cell_type": "code",
      "source": [
        "# Type casting for credit history\n",
        "data_train[\"Loan_Amount_Term\"] = data_train[\"Loan_Amount_Term\"].astype(object)\n",
        "data_test[\"Loan_Amount_Term\"] = data_test[\"Loan_Amount_Term\"].astype(object)"
      ],
      "metadata": {
        "id": "Tqf5Q-hCW5y1"
      },
      "execution_count": 55,
      "outputs": []
    },
    {
      "cell_type": "code",
      "source": [
        "data_train.dtypes"
      ],
      "metadata": {
        "colab": {
          "base_uri": "https://localhost:8080/"
        },
        "id": "ZLYRim_KVHRi",
        "outputId": "9ab0317d-c921-4f5f-ed28-e9fabe3fbf3b"
      },
      "execution_count": 56,
      "outputs": [
        {
          "output_type": "execute_result",
          "data": {
            "text/plain": [
              "Loan_ID               object\n",
              "Gender                object\n",
              "Married               object\n",
              "Dependents            object\n",
              "Education             object\n",
              "Self_Employed         object\n",
              "ApplicantIncome        int64\n",
              "CoapplicantIncome    float64\n",
              "LoanAmount           float64\n",
              "Loan_Amount_Term      object\n",
              "Credit_History        object\n",
              "Property_Area         object\n",
              "Loan_Status           object\n",
              "dtype: object"
            ]
          },
          "metadata": {},
          "execution_count": 56
        }
      ]
    },
    {
      "cell_type": "code",
      "source": [
        "data_test.dtypes"
      ],
      "metadata": {
        "colab": {
          "base_uri": "https://localhost:8080/"
        },
        "id": "mL9_JSG1VJmw",
        "outputId": "c0f98ade-a700-4a44-fefd-348d9f5572cc"
      },
      "execution_count": 57,
      "outputs": [
        {
          "output_type": "execute_result",
          "data": {
            "text/plain": [
              "Loan_ID               object\n",
              "Gender                object\n",
              "Married               object\n",
              "Dependents            object\n",
              "Education             object\n",
              "Self_Employed         object\n",
              "ApplicantIncome        int64\n",
              "CoapplicantIncome      int64\n",
              "LoanAmount           float64\n",
              "Loan_Amount_Term      object\n",
              "Credit_History        object\n",
              "Property_Area         object\n",
              "dtype: object"
            ]
          },
          "metadata": {},
          "execution_count": 57
        }
      ]
    },
    {
      "cell_type": "code",
      "source": [
        "data_train[\"Credit_History\"].value_counts()"
      ],
      "metadata": {
        "colab": {
          "base_uri": "https://localhost:8080/"
        },
        "id": "10n-q4U6VN4P",
        "outputId": "f6a856bb-52b0-4b30-ec28-86708ad5dd7e"
      },
      "execution_count": 58,
      "outputs": [
        {
          "output_type": "execute_result",
          "data": {
            "text/plain": [
              "1.0    475\n",
              "0.0     89\n",
              "Name: Credit_History, dtype: int64"
            ]
          },
          "metadata": {},
          "execution_count": 58
        }
      ]
    },
    {
      "cell_type": "code",
      "source": [
        "data_test[\"Credit_History\"].value_counts()"
      ],
      "metadata": {
        "colab": {
          "base_uri": "https://localhost:8080/"
        },
        "id": "f3ZuItbyVbgH",
        "outputId": "0c805b90-07fa-4fec-b5e9-ba2b0a6eae55"
      },
      "execution_count": 59,
      "outputs": [
        {
          "output_type": "execute_result",
          "data": {
            "text/plain": [
              "1.0    279\n",
              "0.0     59\n",
              "Name: Credit_History, dtype: int64"
            ]
          },
          "metadata": {},
          "execution_count": 59
        }
      ]
    },
    {
      "cell_type": "code",
      "source": [
        "# As we found that credit history has an imbalanced data distribution we need to check for the categorical features\n",
        "# what is the class ratio distribution (data imbalance check)\n",
        "\n",
        "def separate_categrorical_and_numerical(data):\n",
        "    cateorical_list = []\n",
        "    numerical_list = []\n",
        "    data_columns = data.columns\n",
        "    for col in data_columns:\n",
        "        if data[col].dtypes == \"object\":\n",
        "            cateorical_list.append(col)\n",
        "        elif data[col].dtypes != \"object\":\n",
        "            numerical_list.append(col)\n",
        "    return cateorical_list, numerical_list"
      ],
      "metadata": {
        "id": "EHIRAT8VVi81"
      },
      "execution_count": 60,
      "outputs": []
    },
    {
      "cell_type": "code",
      "source": [
        "cateorical_list, numerical_list = separate_categrorical_and_numerical(data_train)"
      ],
      "metadata": {
        "id": "lm2QTlKeWZki"
      },
      "execution_count": 61,
      "outputs": []
    },
    {
      "cell_type": "code",
      "source": [
        "numerical_list"
      ],
      "metadata": {
        "colab": {
          "base_uri": "https://localhost:8080/"
        },
        "id": "50ve_CbbWmhu",
        "outputId": "35687db6-b845-4bbf-aecb-57ccdacd6a2f"
      },
      "execution_count": 62,
      "outputs": [
        {
          "output_type": "execute_result",
          "data": {
            "text/plain": [
              "['ApplicantIncome', 'CoapplicantIncome', 'LoanAmount']"
            ]
          },
          "metadata": {},
          "execution_count": 62
        }
      ]
    },
    {
      "cell_type": "code",
      "source": [
        "cateorical_list"
      ],
      "metadata": {
        "colab": {
          "base_uri": "https://localhost:8080/"
        },
        "id": "PIH_nf01Wh9g",
        "outputId": "b28c2998-db69-4147-c79d-42b847eebf29"
      },
      "execution_count": 63,
      "outputs": [
        {
          "output_type": "execute_result",
          "data": {
            "text/plain": [
              "['Loan_ID',\n",
              " 'Gender',\n",
              " 'Married',\n",
              " 'Dependents',\n",
              " 'Education',\n",
              " 'Self_Employed',\n",
              " 'Loan_Amount_Term',\n",
              " 'Credit_History',\n",
              " 'Property_Area',\n",
              " 'Loan_Status']"
            ]
          },
          "metadata": {},
          "execution_count": 63
        }
      ]
    },
    {
      "cell_type": "code",
      "source": [
        "for col in cateorical_list:\n",
        "    print(\"*\"*50)\n",
        "    print(\"The value counts for {} is :\".format(col))\n",
        "    print(\"\\n\")\n",
        "    print(data_train[col].value_counts())\n",
        "    print(\"\\n\")\n",
        "    print(\"*\"*50)"
      ],
      "metadata": {
        "colab": {
          "base_uri": "https://localhost:8080/"
        },
        "id": "YipVu47pWlTk",
        "outputId": "f8e5e17b-1e62-41f6-d2fd-da2c7e65c531"
      },
      "execution_count": 64,
      "outputs": [
        {
          "output_type": "stream",
          "name": "stdout",
          "text": [
            "**************************************************\n",
            "The value counts for Loan_ID is :\n",
            "\n",
            "\n",
            "LP001002    1\n",
            "LP002328    1\n",
            "LP002305    1\n",
            "LP002308    1\n",
            "LP002314    1\n",
            "           ..\n",
            "LP001692    1\n",
            "LP001693    1\n",
            "LP001698    1\n",
            "LP001699    1\n",
            "LP002990    1\n",
            "Name: Loan_ID, Length: 614, dtype: int64\n",
            "\n",
            "\n",
            "**************************************************\n",
            "**************************************************\n",
            "The value counts for Gender is :\n",
            "\n",
            "\n",
            "Male      489\n",
            "Female    112\n",
            "Name: Gender, dtype: int64\n",
            "\n",
            "\n",
            "**************************************************\n",
            "**************************************************\n",
            "The value counts for Married is :\n",
            "\n",
            "\n",
            "Yes    398\n",
            "No     213\n",
            "Name: Married, dtype: int64\n",
            "\n",
            "\n",
            "**************************************************\n",
            "**************************************************\n",
            "The value counts for Dependents is :\n",
            "\n",
            "\n",
            "0     345\n",
            "1     102\n",
            "2     101\n",
            "3+     51\n",
            "Name: Dependents, dtype: int64\n",
            "\n",
            "\n",
            "**************************************************\n",
            "**************************************************\n",
            "The value counts for Education is :\n",
            "\n",
            "\n",
            "Graduate        480\n",
            "Not Graduate    134\n",
            "Name: Education, dtype: int64\n",
            "\n",
            "\n",
            "**************************************************\n",
            "**************************************************\n",
            "The value counts for Self_Employed is :\n",
            "\n",
            "\n",
            "No     500\n",
            "Yes     82\n",
            "Name: Self_Employed, dtype: int64\n",
            "\n",
            "\n",
            "**************************************************\n",
            "**************************************************\n",
            "The value counts for Loan_Amount_Term is :\n",
            "\n",
            "\n",
            "360.0    512\n",
            "180.0     44\n",
            "480.0     15\n",
            "300.0     13\n",
            "240.0      4\n",
            "84.0       4\n",
            "120.0      3\n",
            "60.0       2\n",
            "36.0       2\n",
            "12.0       1\n",
            "Name: Loan_Amount_Term, dtype: int64\n",
            "\n",
            "\n",
            "**************************************************\n",
            "**************************************************\n",
            "The value counts for Credit_History is :\n",
            "\n",
            "\n",
            "1.0    475\n",
            "0.0     89\n",
            "Name: Credit_History, dtype: int64\n",
            "\n",
            "\n",
            "**************************************************\n",
            "**************************************************\n",
            "The value counts for Property_Area is :\n",
            "\n",
            "\n",
            "Semiurban    233\n",
            "Urban        202\n",
            "Rural        179\n",
            "Name: Property_Area, dtype: int64\n",
            "\n",
            "\n",
            "**************************************************\n",
            "**************************************************\n",
            "The value counts for Loan_Status is :\n",
            "\n",
            "\n",
            "Y    422\n",
            "N    192\n",
            "Name: Loan_Status, dtype: int64\n",
            "\n",
            "\n",
            "**************************************************\n"
          ]
        }
      ]
    },
    {
      "cell_type": "markdown",
      "source": [
        "**Observation**\n",
        "\n",
        "- As we can see that in our data the target variable has imbalanced class distribution hence, Accuracy might not be an ideal performence metric.\n",
        "\n",
        "- Howvever, some oversampling / undersampling can help in getting a close bias-var trade off.\n",
        "\n",
        "- Apart from that we will be validating Precsion Recall , Confusion Matrix and AUC-ROC scores to validate and finalise our model."
      ],
      "metadata": {
        "id": "e0NTb2fXYzaz"
      }
    },
    {
      "cell_type": "code",
      "source": [
        "# Checking the null counts for train and test data:\n",
        "data_train.isnull().sum()"
      ],
      "metadata": {
        "colab": {
          "base_uri": "https://localhost:8080/"
        },
        "id": "3i_0hIl7UC8T",
        "outputId": "8251c559-f288-4627-e6c3-1c25e5427aa8"
      },
      "execution_count": 65,
      "outputs": [
        {
          "output_type": "execute_result",
          "data": {
            "text/plain": [
              "Loan_ID               0\n",
              "Gender               13\n",
              "Married               3\n",
              "Dependents           15\n",
              "Education             0\n",
              "Self_Employed        32\n",
              "ApplicantIncome       0\n",
              "CoapplicantIncome     0\n",
              "LoanAmount           22\n",
              "Loan_Amount_Term     14\n",
              "Credit_History       50\n",
              "Property_Area         0\n",
              "Loan_Status           0\n",
              "dtype: int64"
            ]
          },
          "metadata": {},
          "execution_count": 65
        }
      ]
    },
    {
      "cell_type": "code",
      "source": [
        "# Checking the null counts for train and test data:\n",
        "data_test.isnull().sum()"
      ],
      "metadata": {
        "colab": {
          "base_uri": "https://localhost:8080/"
        },
        "id": "THL1S8GdUkyO",
        "outputId": "1e627749-b1ec-4591-e9b3-92b4c970f9da"
      },
      "execution_count": 66,
      "outputs": [
        {
          "output_type": "execute_result",
          "data": {
            "text/plain": [
              "Loan_ID               0\n",
              "Gender               11\n",
              "Married               0\n",
              "Dependents           10\n",
              "Education             0\n",
              "Self_Employed        23\n",
              "ApplicantIncome       0\n",
              "CoapplicantIncome     0\n",
              "LoanAmount            5\n",
              "Loan_Amount_Term      6\n",
              "Credit_History       29\n",
              "Property_Area         0\n",
              "dtype: int64"
            ]
          },
          "metadata": {},
          "execution_count": 66
        }
      ]
    },
    {
      "cell_type": "markdown",
      "source": [
        "**Observation**\n",
        "- As there are a lot of null values, hence, we will be imputing categorical null counts with their respective feature modes.\n",
        "\n",
        "- Similary for numerical features we will use mean / median as our central tendency metric.\n",
        "\n",
        "- We will not be droping our data because it may result in a huge data loss alotogether."
      ],
      "metadata": {
        "id": "YGyIFBGTZiOz"
      }
    },
    {
      "cell_type": "code",
      "source": [
        "# Performing Null Imputation\n",
        "cateorical_list"
      ],
      "metadata": {
        "colab": {
          "base_uri": "https://localhost:8080/"
        },
        "id": "xTF2OeW0UmK7",
        "outputId": "8e533406-10d9-430b-b1b7-e14870596293"
      },
      "execution_count": 67,
      "outputs": [
        {
          "output_type": "execute_result",
          "data": {
            "text/plain": [
              "['Loan_ID',\n",
              " 'Gender',\n",
              " 'Married',\n",
              " 'Dependents',\n",
              " 'Education',\n",
              " 'Self_Employed',\n",
              " 'Loan_Amount_Term',\n",
              " 'Credit_History',\n",
              " 'Property_Area',\n",
              " 'Loan_Status']"
            ]
          },
          "metadata": {},
          "execution_count": 67
        }
      ]
    },
    {
      "cell_type": "code",
      "source": [
        "data_train['Gender'].mode()[0]"
      ],
      "metadata": {
        "colab": {
          "base_uri": "https://localhost:8080/",
          "height": 35
        },
        "id": "J9bBof-eajEG",
        "outputId": "ee623327-83f9-4629-ab9c-279ea07e36e0"
      },
      "execution_count": 68,
      "outputs": [
        {
          "output_type": "execute_result",
          "data": {
            "text/plain": [
              "'Male'"
            ],
            "application/vnd.google.colaboratory.intrinsic+json": {
              "type": "string"
            }
          },
          "metadata": {},
          "execution_count": 68
        }
      ]
    },
    {
      "cell_type": "code",
      "source": [
        "numerical_list"
      ],
      "metadata": {
        "colab": {
          "base_uri": "https://localhost:8080/"
        },
        "id": "DWNxMgWsaHH5",
        "outputId": "1667717d-b940-47aa-8c31-b557fdb08a3d"
      },
      "execution_count": 69,
      "outputs": [
        {
          "output_type": "execute_result",
          "data": {
            "text/plain": [
              "['ApplicantIncome', 'CoapplicantIncome', 'LoanAmount']"
            ]
          },
          "metadata": {},
          "execution_count": 69
        }
      ]
    },
    {
      "cell_type": "code",
      "source": [
        "data_train['Loan_Status'].value_counts()"
      ],
      "metadata": {
        "colab": {
          "base_uri": "https://localhost:8080/"
        },
        "id": "0y7FYjdYbhvN",
        "outputId": "ba11eee7-53ec-4fa0-81a9-bf092ffc51ab"
      },
      "execution_count": 70,
      "outputs": [
        {
          "output_type": "execute_result",
          "data": {
            "text/plain": [
              "Y    422\n",
              "N    192\n",
              "Name: Loan_Status, dtype: int64"
            ]
          },
          "metadata": {},
          "execution_count": 70
        }
      ]
    },
    {
      "cell_type": "code",
      "source": [
        "data_train['Loan_Status'].isnull().sum()"
      ],
      "metadata": {
        "colab": {
          "base_uri": "https://localhost:8080/"
        },
        "id": "ULOUHGtebrTF",
        "outputId": "29acda37-588c-4c0e-8def-454be6a7a99d"
      },
      "execution_count": 71,
      "outputs": [
        {
          "output_type": "execute_result",
          "data": {
            "text/plain": [
              "0"
            ]
          },
          "metadata": {},
          "execution_count": 71
        }
      ]
    },
    {
      "cell_type": "code",
      "source": [
        "data_train.columns"
      ],
      "metadata": {
        "colab": {
          "base_uri": "https://localhost:8080/"
        },
        "id": "fUXOD1h3bv0T",
        "outputId": "220eba1c-847f-41f9-bb15-ba66de0975aa"
      },
      "execution_count": 72,
      "outputs": [
        {
          "output_type": "execute_result",
          "data": {
            "text/plain": [
              "Index(['Loan_ID', 'Gender', 'Married', 'Dependents', 'Education',\n",
              "       'Self_Employed', 'ApplicantIncome', 'CoapplicantIncome', 'LoanAmount',\n",
              "       'Loan_Amount_Term', 'Credit_History', 'Property_Area', 'Loan_Status'],\n",
              "      dtype='object')"
            ]
          },
          "metadata": {},
          "execution_count": 72
        }
      ]
    },
    {
      "cell_type": "code",
      "source": [
        "column_list = ['Loan_ID', 'Gender', 'Married', 'Dependents', 'Education',\n",
        "                'Self_Employed', 'ApplicantIncome', 'CoapplicantIncome', 'LoanAmount',\n",
        "                'Loan_Amount_Term', 'Credit_History', 'Property_Area']\n",
        "for col in column_list:\n",
        "    if col in cateorical_list:\n",
        "        data_train[col].fillna(data_train[col].mode()[0], inplace = True)\n",
        "        data_test[col].fillna(data_test[col].mode()[0], inplace = True)\n",
        "    elif col in numerical_list:\n",
        "        data_train[col].fillna(np.mean(data_train[col]), inplace = True)\n",
        "        data_test[col].fillna(np.mean(data_test[col]), inplace = True)"
      ],
      "metadata": {
        "id": "2ktH2AXyaOgv"
      },
      "execution_count": 73,
      "outputs": []
    },
    {
      "cell_type": "code",
      "source": [
        "data_train.isnull().sum()"
      ],
      "metadata": {
        "colab": {
          "base_uri": "https://localhost:8080/"
        },
        "id": "Is-X_KkebaJy",
        "outputId": "0e4c35a2-73a4-4149-8fc9-ee7591e6c2d4"
      },
      "execution_count": 74,
      "outputs": [
        {
          "output_type": "execute_result",
          "data": {
            "text/plain": [
              "Loan_ID              0\n",
              "Gender               0\n",
              "Married              0\n",
              "Dependents           0\n",
              "Education            0\n",
              "Self_Employed        0\n",
              "ApplicantIncome      0\n",
              "CoapplicantIncome    0\n",
              "LoanAmount           0\n",
              "Loan_Amount_Term     0\n",
              "Credit_History       0\n",
              "Property_Area        0\n",
              "Loan_Status          0\n",
              "dtype: int64"
            ]
          },
          "metadata": {},
          "execution_count": 74
        }
      ]
    },
    {
      "cell_type": "code",
      "source": [
        "data_test.isnull().sum()"
      ],
      "metadata": {
        "colab": {
          "base_uri": "https://localhost:8080/"
        },
        "id": "tIKOnqUfcIi7",
        "outputId": "a12972a1-eba2-4fe2-cfff-77a873486e15"
      },
      "execution_count": 75,
      "outputs": [
        {
          "output_type": "execute_result",
          "data": {
            "text/plain": [
              "Loan_ID              0\n",
              "Gender               0\n",
              "Married              0\n",
              "Dependents           0\n",
              "Education            0\n",
              "Self_Employed        0\n",
              "ApplicantIncome      0\n",
              "CoapplicantIncome    0\n",
              "LoanAmount           0\n",
              "Loan_Amount_Term     0\n",
              "Credit_History       0\n",
              "Property_Area        0\n",
              "dtype: int64"
            ]
          },
          "metadata": {},
          "execution_count": 75
        }
      ]
    },
    {
      "cell_type": "markdown",
      "source": [
        "# **Exploratory Data Analysis**"
      ],
      "metadata": {
        "id": "rZz7pdPVeqJT"
      }
    },
    {
      "cell_type": "markdown",
      "source": [
        "## **Univariate Analysis (Categorical Features)**"
      ],
      "metadata": {
        "id": "N-TnFwnyevng"
      }
    },
    {
      "cell_type": "code",
      "source": [
        "cateorical_list"
      ],
      "metadata": {
        "colab": {
          "base_uri": "https://localhost:8080/"
        },
        "id": "mudCpjSEcKWt",
        "outputId": "8b28641d-a402-4899-ee04-baab363e8333"
      },
      "execution_count": 76,
      "outputs": [
        {
          "output_type": "execute_result",
          "data": {
            "text/plain": [
              "['Loan_ID',\n",
              " 'Gender',\n",
              " 'Married',\n",
              " 'Dependents',\n",
              " 'Education',\n",
              " 'Self_Employed',\n",
              " 'Loan_Amount_Term',\n",
              " 'Credit_History',\n",
              " 'Property_Area',\n",
              " 'Loan_Status']"
            ]
          },
          "metadata": {},
          "execution_count": 76
        }
      ]
    },
    {
      "cell_type": "code",
      "source": [
        "numerical_list"
      ],
      "metadata": {
        "colab": {
          "base_uri": "https://localhost:8080/"
        },
        "id": "Lt7R82TNe4Ge",
        "outputId": "e8bde8e6-b364-49a3-ed73-6834baffba60"
      },
      "execution_count": 77,
      "outputs": [
        {
          "output_type": "execute_result",
          "data": {
            "text/plain": [
              "['ApplicantIncome', 'CoapplicantIncome', 'LoanAmount']"
            ]
          },
          "metadata": {},
          "execution_count": 77
        }
      ]
    },
    {
      "cell_type": "code",
      "source": [
        "plt.figure(figsize = [10,8])\n",
        "for col in cateorical_list:\n",
        "    sns.countplot(data = data_train,y = col)\n",
        "    plt.show();"
      ],
      "metadata": {
        "colab": {
          "base_uri": "https://localhost:8080/",
          "height": 1000
        },
        "id": "2w4UAx8ce6As",
        "outputId": "e47d89e4-4a59-4619-841d-f20018c52493"
      },
      "execution_count": 78,
      "outputs": [
        {
          "output_type": "display_data",
          "data": {
            "text/plain": [
              "<Figure size 1000x800 with 1 Axes>"
            ],
            "image/png": "[encoded data removed]"
          },
          "metadata": {}
        },
        {
          "output_type": "display_data",
          "data": {
            "text/plain": [
              "<Figure size 640x480 with 1 Axes>"
            ],
            "image/png": "[encoded data removed]"
          },
          "metadata": {}
        },
        {
          "output_type": "display_data",
          "data": {
            "text/plain": [
              "<Figure size 640x480 with 1 Axes>"
            ],
            "image/png": "[encoded data removed]"
          },
          "metadata": {}
        },
        {
          "output_type": "display_data",
          "data": {
            "text/plain": [
              "<Figure size 640x480 with 1 Axes>"
            ],
            "image/png": "[encoded data removed]"
          },
          "metadata": {}
        },
        {
          "output_type": "display_data",
          "data": {
            "text/plain": [
              "<Figure size 640x480 with 1 Axes>"
            ],
            "image/png": "[encoded data removed]"
          },
          "metadata": {}
        },
        {
          "output_type": "display_data",
          "data": {
            "text/plain": [
              "<Figure size 640x480 with 1 Axes>"
            ],
            "image/png": "[encoded data removed]"
          },
          "metadata": {}
        },
        {
          "output_type": "display_data",
          "data": {
            "text/plain": [
              "<Figure size 640x480 with 1 Axes>"
            ],
            "image/png": "[encoded data removed]"
          },
          "metadata": {}
        },
        {
          "output_type": "display_data",
          "data": {
            "text/plain": [
              "<Figure size 640x480 with 1 Axes>"
            ],
            "image/png": "[encoded data removed]"
          },
          "metadata": {}
        },
        {
          "output_type": "display_data",
          "data": {
            "text/plain": [
              "<Figure size 640x480 with 1 Axes>"
            ],
            "image/png": "[encoded data removed]"
          },
          "metadata": {}
        },
        {
          "output_type": "display_data",
          "data": {
            "text/plain": [
              "<Figure size 640x480 with 1 Axes>"
            ],
            "image/png": "[encoded data removed]"
          },
          "metadata": {}
        }
      ]
    },
    {
      "cell_type": "markdown",
      "source": [
        "**Observations**\n",
        "\n",
        "- People who have taken previous loans are\n",
        "reported maximum number of times.\n",
        "\n",
        "- The highest count of records are from\n",
        " Semiurban properties.\n",
        "\n",
        "- People who had previous credit history\n",
        "are reported maximum number of times.\n",
        "\n",
        "- Most of the loan applicants already have\n",
        "a 360 months tenured loan ongoing.\n",
        "\n",
        "- Most of loan applications are of\n",
        " salaried employees.\n",
        "\n",
        "- Most of the applications are of graduates.\n",
        "\n",
        "- Most of the applications have no dependencies.\n",
        "\n",
        "- People who are married are applying more for the loan.\n",
        "\n",
        "- The count for male applications are comparively higher than that of females."
      ],
      "metadata": {
        "id": "8FByv6nXhI5s"
      }
    },
    {
      "cell_type": "markdown",
      "source": [
        "## **Univariate Analysis (Numerical Features)**"
      ],
      "metadata": {
        "id": "9Ih-UzX-hUSi"
      }
    },
    {
      "cell_type": "code",
      "source": [
        "data_train[data_train[\"CoapplicantIncome\"] == 0.00000000e+00].index"
      ],
      "metadata": {
        "colab": {
          "base_uri": "https://localhost:8080/"
        },
        "id": "An0Cxv2SjMQZ",
        "outputId": "8d210277-4c6a-4830-d975-5dabebf521da"
      },
      "execution_count": 79,
      "outputs": [
        {
          "output_type": "execute_result",
          "data": {
            "text/plain": [
              "Int64Index([  0,   2,   4,  15,  16,  17,  18,  20,  25,  28,\n",
              "            ...\n",
              "            595, 597, 598, 599, 602, 604, 609, 610, 612, 613],\n",
              "           dtype='int64', length=273)"
            ]
          },
          "metadata": {},
          "execution_count": 79
        }
      ]
    },
    {
      "cell_type": "code",
      "source": [
        "for index in data_train[data_train[\"CoapplicantIncome\"] == 0.00000000e+00].index:\n",
        "    data_train[\"CoapplicantIncome\"][index] = np.mean(data_train[\"CoapplicantIncome\"])"
      ],
      "metadata": {
        "colab": {
          "base_uri": "https://localhost:8080/"
        },
        "id": "beYT88wIi2v2",
        "outputId": "e40ec4d3-fa20-44b4-f227-afab89bbb31f"
      },
      "execution_count": 80,
      "outputs": [
        {
          "output_type": "stream",
          "name": "stderr",
          "text": [
            "<ipython-input-80-05cdd2dfc7d2>:2: SettingWithCopyWarning: \n",
            "A value is trying to be set on a copy of a slice from a DataFrame\n",
            "\n",
            "See the caveats in the documentation: https://pandas.pydata.org/pandas-docs/stable/user_guide/indexing.html#returning-a-view-versus-a-copy\n",
            "  data_train[\"CoapplicantIncome\"][index] = np.mean(data_train[\"CoapplicantIncome\"])\n"
          ]
        }
      ]
    },
    {
      "cell_type": "code",
      "source": [
        "plt.figure(figsize = [10,4])\n",
        "for col in numerical_list:\n",
        "    plt.hist(data_train[col]);\n",
        "    plt.grid();\n",
        "    plt.title(\"Histogram Plot for {} \".format(col))\n",
        "    plt.show();"
      ],
      "metadata": {
        "colab": {
          "base_uri": "https://localhost:8080/",
          "height": 1000
        },
        "id": "Yi82qoXVfkJz",
        "outputId": "723a6259-81c2-419c-ee1a-1f0a8936f63e"
      },
      "execution_count": 81,
      "outputs": [
        {
          "output_type": "display_data",
          "data": {
            "text/plain": [
              "<Figure size 1000x400 with 1 Axes>"
            ],
            "image/png": "[encoded data removed]"
          },
          "metadata": {}
        },
        {
          "output_type": "display_data",
          "data": {
            "text/plain": [
              "<Figure size 640x480 with 1 Axes>"
            ],
            "image/png": "[encoded data removed]"
          },
          "metadata": {}
        },
        {
          "output_type": "display_data",
          "data": {
            "text/plain": [
              "<Figure size 640x480 with 1 Axes>"
            ],
            "image/png": "[encoded data removed]"
          },
          "metadata": {}
        }
      ]
    },
    {
      "cell_type": "markdown",
      "source": [
        "**Observations:**\n",
        "\n",
        "- All of the features they are having a right-skewed distribution.\n",
        "\n",
        "- This means that these features are highly sensitive to outliers / noise data.\n",
        "\n",
        "- Changing these features to log scale by using log trainsformation or using box-cox method may centralise the plots."
      ],
      "metadata": {
        "id": "MGDp8avPh9F0"
      }
    },
    {
      "cell_type": "code",
      "source": [
        "data_train[\"CoapplicantIncome\"].values"
      ],
      "metadata": {
        "colab": {
          "base_uri": "https://localhost:8080/"
        },
        "id": "a1NyGe2GjbFh",
        "outputId": "5a433f8f-145f-4ad6-b380-5211df3f0304"
      },
      "execution_count": 82,
      "outputs": [
        {
          "output_type": "execute_result",
          "data": {
            "text/plain": [
              "array([1.62124580e+03, 1.50800000e+03, 1.62388626e+03, 2.35800000e+03,\n",
              "       1.62653103e+03, 4.19600000e+03, 1.51600000e+03, 2.50400000e+03,\n",
              "       1.52600000e+03, 1.09680000e+04, 7.00000000e+02, 1.84000000e+03,\n",
              "       8.10600000e+03, 2.84000000e+03, 1.08600000e+03, 1.62918010e+03,\n",
              "       1.63183349e+03, 1.63449120e+03, 1.63715324e+03, 3.50000000e+03,\n",
              "       1.63981961e+03, 5.62500000e+03, 1.91100000e+03, 1.91700000e+03,\n",
              "       2.92500000e+03, 1.64249033e+03, 2.25300000e+03, 1.04000000e+03,\n",
              "       1.64516539e+03, 2.08300000e+03, 3.36900000e+03, 1.64784482e+03,\n",
              "       1.65052860e+03, 1.66700000e+03, 3.00000000e+03, 2.06700000e+03,\n",
              "       1.33000000e+03, 1.45900000e+03, 7.21000000e+03, 1.66800000e+03,\n",
              "       1.65321676e+03, 1.21300000e+03, 1.65590929e+03, 2.33600000e+03,\n",
              "       1.65860621e+03, 1.66130753e+03, 1.66401324e+03, 1.66672336e+03,\n",
              "       3.44000000e+03, 2.27500000e+03, 1.64400000e+03, 1.66943789e+03,\n",
              "       1.67215685e+03, 1.67488023e+03, 1.67760805e+03, 1.16700000e+03,\n",
              "       1.59100000e+03, 2.20000000e+03, 2.25000000e+03, 2.85900000e+03,\n",
              "       3.79600000e+03, 1.68034031e+03, 3.44900000e+03, 1.68307702e+03,\n",
              "       1.68581819e+03, 4.59500000e+03, 2.25400000e+03, 1.68856382e+03,\n",
              "       1.69131392e+03, 1.69406851e+03, 3.06600000e+03, 1.87500000e+03,\n",
              "       1.69682757e+03, 1.69959114e+03, 1.77400000e+03, 1.70235920e+03,\n",
              "       4.75000000e+03, 3.02200000e+03, 4.00000000e+03, 2.16600000e+03,\n",
              "       1.70513177e+03, 1.70790886e+03, 1.88100000e+03, 2.25000000e+03,\n",
              "       1.71069047e+03, 2.53100000e+03, 2.00000000e+03, 2.11800000e+03,\n",
              "       1.71347661e+03, 4.16700000e+03, 2.90000000e+03, 5.65400000e+03,\n",
              "       1.82000000e+03, 1.71626729e+03, 1.71906251e+03, 1.72186229e+03,\n",
              "       2.30200000e+03, 9.97000000e+02, 1.72466663e+03, 3.54100000e+03,\n",
              "       3.26300000e+03, 3.80600000e+03, 1.72747553e+03, 3.58300000e+03,\n",
              "       7.54000000e+02, 1.03000000e+03, 1.12600000e+03, 1.73028901e+03,\n",
              "       3.60000000e+03, 7.54000000e+02, 1.73310707e+03, 2.33300000e+03,\n",
              "       4.11400000e+03, 1.73592972e+03, 1.73875697e+03, 1.74158882e+03,\n",
              "       2.28300000e+03, 1.39800000e+03, 2.14200000e+03, 1.74442528e+03,\n",
              "       2.66700000e+03, 1.74726636e+03, 8.98000000e+03, 1.75011208e+03,\n",
              "       2.01400000e+03, 1.75296242e+03, 1.75581741e+03, 1.64000000e+03,\n",
              "       3.85000000e+03, 2.56900000e+03, 1.75867705e+03, 1.92900000e+03,\n",
              "       1.76154134e+03, 1.76441030e+03, 1.76728393e+03, 7.75000000e+03,\n",
              "       1.77016225e+03, 3.50000000e+03, 1.77304525e+03, 1.43000000e+03,\n",
              "       2.08300000e+03, 1.77593294e+03, 1.77882534e+03, 2.03400000e+03,\n",
              "       1.78172245e+03, 4.48600000e+03, 1.78462428e+03, 1.42500000e+03,\n",
              "       1.66600000e+03, 8.30000000e+02, 1.78753083e+03, 3.75000000e+03,\n",
              "       1.79044212e+03, 1.79335815e+03, 1.79627893e+03, 1.79920446e+03,\n",
              "       1.80213476e+03, 1.80506984e+03, 2.08300000e+03, 5.62500000e+03,\n",
              "       1.04100000e+03, 1.80800969e+03, 1.28000000e+03, 1.44700000e+03,\n",
              "       1.81095433e+03, 3.16600000e+03, 1.81390377e+03, 3.33300000e+03,\n",
              "       1.81685801e+03, 1.81981706e+03, 1.76900000e+03, 1.82278093e+03,\n",
              "       1.82574963e+03, 5.62500000e+03, 7.36000000e+02, 1.96400000e+03,\n",
              "       1.61900000e+03, 1.13000000e+04, 1.82872317e+03, 1.45100000e+03,\n",
              "       7.25000000e+03, 5.06300000e+03, 1.83170154e+03, 1.83468477e+03,\n",
              "       1.83767286e+03, 4.75000000e+03, 1.84066581e+03, 2.13800000e+03,\n",
              "       5.29600000e+03, 1.84366363e+03, 1.84666634e+03, 1.84967394e+03,\n",
              "       1.85268644e+03, 1.85570385e+03, 1.85872617e+03, 2.58300000e+03,\n",
              "       3.75000000e+03, 2.36500000e+03, 2.81600000e+03, 1.86175341e+03,\n",
              "       2.50000000e+03, 1.86478558e+03, 1.86782269e+03, 1.08300000e+03,\n",
              "       1.87086475e+03, 1.87391176e+03, 1.87696373e+03, 2.53100000e+03,\n",
              "       1.88002067e+03, 1.88308260e+03, 1.88614951e+03, 1.25000000e+03,\n",
              "       1.88922141e+03, 1.89229832e+03, 3.02100000e+03, 9.83000000e+02,\n",
              "       1.80000000e+03, 1.77500000e+03, 1.89538024e+03, 2.38300000e+03,\n",
              "       1.89846718e+03, 1.71700000e+03, 2.79100000e+03, 1.01000000e+03,\n",
              "       1.90155914e+03, 1.90465615e+03, 1.90775819e+03, 1.69500000e+03,\n",
              "       1.91086529e+03, 1.91397745e+03, 2.05400000e+03, 1.91709467e+03,\n",
              "       2.59800000e+03, 1.92021698e+03, 1.77900000e+03, 1.26000000e+03,\n",
              "       1.92334437e+03, 1.92647685e+03, 1.92961444e+03, 1.93275713e+03,\n",
              "       5.00000000e+03, 1.98300000e+03, 5.70100000e+03, 1.30000000e+03,\n",
              "       4.41700000e+03, 4.33300000e+03, 1.93590494e+03, 1.93905788e+03,\n",
              "       1.84300000e+03, 1.86800000e+03, 3.89000000e+03, 1.94221596e+03,\n",
              "       2.16700000e+03, 7.10100000e+03, 1.94537918e+03, 1.94854755e+03,\n",
              "       1.95172108e+03, 1.95489977e+03, 2.10000000e+03, 1.95808365e+03,\n",
              "       4.25000000e+03, 2.20900000e+03, 1.96127271e+03, 1.96446697e+03,\n",
              "       1.96766642e+03, 3.44700000e+03, 1.38700000e+03, 1.81100000e+03,\n",
              "       1.97087109e+03, 1.56000000e+03, 1.97408098e+03, 1.97729610e+03,\n",
              "       1.85700000e+03, 2.22300000e+03, 1.98051645e+03, 1.84200000e+03,\n",
              "       3.27400000e+03, 1.30000000e+03, 1.98374204e+03, 1.98697289e+03,\n",
              "       2.42600000e+03, 8.00000000e+02, 9.85799988e+02, 1.66600000e+03,\n",
              "       1.99020901e+03, 3.05300000e+03, 1.71700000e+03, 2.00000000e+03,\n",
              "       1.99345039e+03, 1.99669705e+03, 2.41600000e+03, 1.99994900e+03,\n",
              "       1.56000000e+03, 2.00320625e+03, 3.33400000e+03, 1.25000000e+03,\n",
              "       2.00646880e+03, 2.00973666e+03, 2.54100000e+03, 2.92500000e+03,\n",
              "       2.93400000e+03, 1.75000000e+03, 2.01300985e+03, 1.80300000e+03,\n",
              "       2.50000000e+03, 2.01628837e+03, 1.66600000e+03, 1.86300000e+03,\n",
              "       2.01957222e+03, 2.02286143e+03, 2.02615599e+03, 2.40500000e+03,\n",
              "       2.02945592e+03, 2.03276122e+03, 1.84300000e+03, 1.64000000e+03,\n",
              "       2.03607191e+03, 2.13400000e+03, 2.03938799e+03, 2.04270947e+03,\n",
              "       2.16700000e+03, 1.89000000e+02, 1.59000000e+03, 2.98500000e+03,\n",
              "       2.04603635e+03, 4.98300000e+03, 2.04936866e+03, 2.16000000e+03,\n",
              "       2.45100000e+03, 2.05270640e+03, 1.79300000e+03, 2.05604957e+03,\n",
              "       2.05939818e+03, 2.06275225e+03, 1.83300000e+03, 4.49000000e+03,\n",
              "       6.88000000e+02, 4.60000000e+03, 2.06611178e+03, 2.06947678e+03,\n",
              "       1.58700000e+03, 2.07284727e+03, 1.22900000e+03, 2.07622324e+03,\n",
              "       2.33000000e+03, 2.45800000e+03, 3.23000000e+03, 2.16800000e+03,\n",
              "       4.58300000e+03, 6.25000000e+03, 2.07960471e+03, 4.16700000e+03,\n",
              "       2.08300000e+03, 2.08299169e+03, 5.05000000e+02, 2.08638418e+03,\n",
              "       3.16700000e+03, 2.08978220e+03, 1.66600000e+03, 3.16700000e+03,\n",
              "       2.09318576e+03, 3.66700000e+03, 2.33300000e+03, 3.03300000e+03,\n",
              "       2.09659485e+03, 2.10000950e+03, 2.10342972e+03, 2.10685550e+03,\n",
              "       2.11028686e+03, 5.26600000e+03, 2.11372381e+03, 2.11716635e+03,\n",
              "       7.87300000e+03, 1.98700000e+03, 1.45900000e+03, 9.23000000e+02,\n",
              "       4.99600000e+03, 2.12061451e+03, 2.12406828e+03, 2.12752767e+03,\n",
              "       2.50000000e+03, 4.23200000e+03, 2.13099270e+03, 2.13446337e+03,\n",
              "       2.13793970e+03, 2.14142168e+03, 1.60000000e+03, 3.13600000e+03,\n",
              "       2.41700000e+03, 2.14490934e+03, 2.14840268e+03, 2.15190171e+03,\n",
              "       2.11500000e+03, 1.62500000e+03, 1.40000000e+03, 4.84000000e+02,\n",
              "       2.15540643e+03, 1.45900000e+03, 1.66600000e+03, 1.80000000e+03,\n",
              "       2.15891687e+03, 2.16243302e+03, 2.00000000e+04, 2.16595489e+03,\n",
              "       2.16948251e+03, 2.17301587e+03, 2.40000000e+03, 2.17655498e+03,\n",
              "       2.18009986e+03, 2.18365051e+03, 2.18720694e+03, 2.19076917e+03,\n",
              "       2.19433720e+03, 2.03300000e+03, 3.23700000e+03, 2.19791104e+03,\n",
              "       2.20149070e+03, 2.00000000e+04, 2.77300000e+03, 1.41700000e+03,\n",
              "       2.20507619e+03, 2.20866752e+03, 1.71900000e+03, 1.66700000e+03,\n",
              "       2.21226470e+03, 4.30000000e+03, 2.21586773e+03, 2.21947664e+03,\n",
              "       1.61200008e+01, 2.22309142e+03, 2.22671209e+03, 2.23033866e+03,\n",
              "       2.23397113e+03, 2.34000000e+03, 2.23760952e+03, 2.24125384e+03,\n",
              "       1.85100000e+03, 1.12500000e+03, 2.24490409e+03, 2.24856028e+03,\n",
              "       5.06400000e+03, 1.83300000e+03, 1.99300000e+03, 2.25222243e+03,\n",
              "       8.33300000e+03, 1.21000000e+03, 2.25589055e+03, 1.37600000e+03,\n",
              "       1.71000000e+03, 1.54200000e+03, 1.25500000e+03, 1.45600000e+03,\n",
              "       1.73300000e+03, 2.46600000e+03, 2.25956464e+03, 2.26324471e+03,\n",
              "       2.26693077e+03, 2.56900000e+03, 2.27062284e+03, 2.27432093e+03,\n",
              "       4.08300000e+03, 2.27802503e+03, 2.18800000e+03, 2.28173517e+03,\n",
              "       2.28545135e+03, 2.28917359e+03, 1.66400000e+03, 2.29290188e+03,\n",
              "       2.91700000e+03, 2.45100000e+03, 2.07900000e+03, 1.50000000e+03,\n",
              "       2.29663625e+03, 2.30037670e+03, 4.64800000e+03, 1.01400000e+03,\n",
              "       1.75000000e+03, 1.87200000e+03, 2.25000000e+03, 1.60300000e+03,\n",
              "       2.30412324e+03, 2.30787588e+03, 3.15000000e+03, 2.31163464e+03,\n",
              "       2.31539952e+03, 2.43600000e+03, 2.31917053e+03, 2.32294768e+03,\n",
              "       2.08300000e+03, 2.32673098e+03, 2.78500000e+03, 1.13100000e+03,\n",
              "       2.33052044e+03, 2.33431608e+03, 2.15700000e+03, 9.13000000e+02,\n",
              "       1.70000000e+03, 2.85700000e+03, 2.33811790e+03, 4.41600000e+03,\n",
              "       3.68300000e+03, 2.34192591e+03, 5.62400000e+03, 5.30200000e+03,\n",
              "       1.48300000e+03, 4.41600000e+03, 6.66700000e+03, 2.34574012e+03,\n",
              "       3.01300000e+03, 2.34956054e+03, 1.28700000e+03, 2.00400000e+03,\n",
              "       2.03500000e+03, 6.66600000e+03, 3.66600000e+03, 3.42800000e+03,\n",
              "       1.63200000e+03, 1.80000000e+03, 1.91500000e+03, 2.35338719e+03,\n",
              "       1.74200000e+03, 2.35722007e+03, 1.42400000e+03, 7.16600000e+03,\n",
              "       2.08700000e+03, 2.36105919e+03, 2.36490456e+03, 1.43000000e+03,\n",
              "       1.30200000e+03, 2.36875620e+03, 5.50000000e+03, 2.37261410e+03,\n",
              "       2.37647830e+03, 2.38034878e+03, 2.38422557e+03, 2.04200000e+03,\n",
              "       3.90600000e+03, 2.38810868e+03, 5.36000000e+02, 2.39199810e+03,\n",
              "       2.84500000e+03, 2.39589387e+03, 2.39979597e+03, 2.52400000e+03,\n",
              "       6.63000000e+02, 1.95000000e+03, 2.40370444e+03, 1.78300000e+03,\n",
              "       2.40761926e+03, 2.01600000e+03, 2.41154047e+03, 2.37500000e+03,\n",
              "       3.25000000e+03, 2.33300000e+03, 4.26600000e+03, 1.03200000e+03,\n",
              "       1.62500000e+03, 2.41546806e+03, 2.66900000e+03, 2.30600000e+03,\n",
              "       2.42000000e+02, 2.41940205e+03, 2.05400000e+03, 2.42334244e+03,\n",
              "       2.42728925e+03, 2.43124249e+03, 2.43520217e+03, 2.50000000e+03,\n",
              "       2.43916830e+03, 2.06400000e+03, 1.75000000e+03, 1.45100000e+03,\n",
              "       2.44314088e+03, 1.62500000e+03, 2.44711994e+03, 4.61000000e+02,\n",
              "       2.21000000e+03, 2.73900000e+03, 2.23200000e+03, 2.91700000e+03,\n",
              "       2.45110548e+03, 3.38370000e+04, 2.45509751e+03, 2.45909604e+03,\n",
              "       1.91700000e+03, 3.00000000e+03, 1.52200000e+03, 2.46310108e+03,\n",
              "       2.46711264e+03, 2.47113074e+03, 3.41600000e+03, 2.47515539e+03,\n",
              "       2.47918658e+03, 3.30000000e+03, 2.48322435e+03, 2.48726869e+03,\n",
              "       1.00000000e+03, 2.49131961e+03, 2.49537714e+03, 2.49944127e+03,\n",
              "       4.16670000e+04, 2.79200000e+03, 2.50351202e+03, 4.30100000e+03,\n",
              "       2.50758940e+03, 3.80000000e+03, 2.50000000e+03, 1.41100000e+03,\n",
              "       1.95000000e+03, 2.51167342e+03, 2.51576410e+03, 2.40000000e+02,\n",
              "       2.51986143e+03, 2.52396544e+03])"
            ]
          },
          "metadata": {},
          "execution_count": 82
        }
      ]
    },
    {
      "cell_type": "code",
      "source": [
        "plt.figure(figsize = [10,4])\n",
        "for col in numerical_list:\n",
        "    plt.hist(np.log(data_train[col].values));\n",
        "    plt.grid();\n",
        "    plt.title(\"Histogram Plot for {} \".format(col))\n",
        "    plt.show();"
      ],
      "metadata": {
        "colab": {
          "base_uri": "https://localhost:8080/",
          "height": 1000
        },
        "id": "4brJ4onAhy95",
        "outputId": "449e08fb-d96d-4075-8e05-6be47575fe2d"
      },
      "execution_count": 83,
      "outputs": [
        {
          "output_type": "display_data",
          "data": {
            "text/plain": [
              "<Figure size 1000x400 with 1 Axes>"
            ],
            "image/png": "[encoded data removed]"
          },
          "metadata": {}
        },
        {
          "output_type": "display_data",
          "data": {
            "text/plain": [
              "<Figure size 640x480 with 1 Axes>"
            ],
            "image/png": "[encoded data removed]"
          },
          "metadata": {}
        },
        {
          "output_type": "display_data",
          "data": {
            "text/plain": [
              "<Figure size 640x480 with 1 Axes>"
            ],
            "image/png": "[encoded data removed]"
          },
          "metadata": {}
        }
      ]
    },
    {
      "cell_type": "code",
      "source": [
        "# making a dataframe in the log scale of the continious variables.\n",
        "data_train_log = data_train.copy()\n",
        "data_test_log = data_test.copy()\n",
        "\n",
        "data_train_log[data_train_log[\"CoapplicantIncome\"] == 0.00000000e+00].index\n",
        "for index in data_train_log[data_train_log[\"CoapplicantIncome\"] == 0.00000000e+00].index:\n",
        "    data_train_log[\"CoapplicantIncome\"][index] = np.mean(data_train_log[\"CoapplicantIncome\"])\n",
        "\n",
        "data_test_log[data_test_log[\"CoapplicantIncome\"] == 0.00000000e+00].index\n",
        "for index in data_test_log[data_test_log[\"CoapplicantIncome\"] == 0.00000000e+00].index:\n",
        "    data_test_log[\"CoapplicantIncome\"][index] = np.mean(data_test_log[\"CoapplicantIncome\"])"
      ],
      "metadata": {
        "colab": {
          "base_uri": "https://localhost:8080/"
        },
        "id": "bgzVJ7i7W_-q",
        "outputId": "ced4e32e-87b5-4312-9e59-88ddf7813e55"
      },
      "execution_count": 84,
      "outputs": [
        {
          "output_type": "stream",
          "name": "stderr",
          "text": [
            "<ipython-input-84-a1f0658e59e3>:11: SettingWithCopyWarning: \n",
            "A value is trying to be set on a copy of a slice from a DataFrame\n",
            "\n",
            "See the caveats in the documentation: https://pandas.pydata.org/pandas-docs/stable/user_guide/indexing.html#returning-a-view-versus-a-copy\n",
            "  data_test_log[\"CoapplicantIncome\"][index] = np.mean(data_test_log[\"CoapplicantIncome\"])\n"
          ]
        }
      ]
    },
    {
      "cell_type": "code",
      "source": [
        "for col in numerical_list:\n",
        "    data_train_log[col] = np.log(data_train_log[col])\n",
        "    data_test_log[col] = np.log(data_test_log[col])"
      ],
      "metadata": {
        "colab": {
          "base_uri": "https://localhost:8080/"
        },
        "id": "H3bCWyY4X6Ng",
        "outputId": "a604fc1d-b922-4cb4-e1a0-0a34ab377fa4"
      },
      "execution_count": 85,
      "outputs": [
        {
          "output_type": "stream",
          "name": "stderr",
          "text": [
            "/usr/local/lib/python3.10/dist-packages/pandas/core/arraylike.py:402: RuntimeWarning: divide by zero encountered in log\n",
            "  result = getattr(ufunc, method)(*inputs, **kwargs)\n"
          ]
        }
      ]
    },
    {
      "cell_type": "markdown",
      "source": [
        "# **Bi-Variate Analysis**"
      ],
      "metadata": {
        "id": "vlNmPdtkWbh4"
      }
    },
    {
      "cell_type": "code",
      "source": [
        "data_train.columns"
      ],
      "metadata": {
        "id": "hTYVjlwNiZfh",
        "colab": {
          "base_uri": "https://localhost:8080/"
        },
        "outputId": "53591f6a-b591-4c78-b139-c1d046a113b7"
      },
      "execution_count": 86,
      "outputs": [
        {
          "output_type": "execute_result",
          "data": {
            "text/plain": [
              "Index(['Loan_ID', 'Gender', 'Married', 'Dependents', 'Education',\n",
              "       'Self_Employed', 'ApplicantIncome', 'CoapplicantIncome', 'LoanAmount',\n",
              "       'Loan_Amount_Term', 'Credit_History', 'Property_Area', 'Loan_Status'],\n",
              "      dtype='object')"
            ]
          },
          "metadata": {},
          "execution_count": 86
        }
      ]
    },
    {
      "cell_type": "markdown",
      "source": [
        "**How does Education impacts the loan status ?**"
      ],
      "metadata": {
        "id": "9wP4njYoY0nl"
      }
    },
    {
      "cell_type": "code",
      "source": [
        "data_train[\"Education\"].value_counts()"
      ],
      "metadata": {
        "colab": {
          "base_uri": "https://localhost:8080/"
        },
        "id": "1ejpjtg1WiNU",
        "outputId": "e3ed190d-b606-46e8-e7d7-10c7da1901bc"
      },
      "execution_count": 88,
      "outputs": [
        {
          "output_type": "execute_result",
          "data": {
            "text/plain": [
              "Graduate        480\n",
              "Not Graduate    134\n",
              "Name: Education, dtype: int64"
            ]
          },
          "metadata": {},
          "execution_count": 88
        }
      ]
    },
    {
      "cell_type": "code",
      "source": [
        "data_train.groupby([\"Education\",'Loan_Status'])['Loan_Status'].count()"
      ],
      "metadata": {
        "colab": {
          "base_uri": "https://localhost:8080/"
        },
        "id": "6pTTE8RnZAGR",
        "outputId": "55a63472-3778-4dd2-d024-2047a40c8ec8"
      },
      "execution_count": 90,
      "outputs": [
        {
          "output_type": "execute_result",
          "data": {
            "text/plain": [
              "Education     Loan_Status\n",
              "Graduate      N              140\n",
              "              Y              340\n",
              "Not Graduate  N               52\n",
              "              Y               82\n",
              "Name: Loan_Status, dtype: int64"
            ]
          },
          "metadata": {},
          "execution_count": 90
        }
      ]
    },
    {
      "cell_type": "markdown",
      "source": [
        "**How does Credit history impacts the loan status ?**"
      ],
      "metadata": {
        "id": "v0LfO4-yZkYp"
      }
    },
    {
      "cell_type": "code",
      "source": [
        "data_train.groupby(['Credit_History','Loan_Status'])['Loan_Status'].count()"
      ],
      "metadata": {
        "colab": {
          "base_uri": "https://localhost:8080/"
        },
        "id": "fH48thVXZMlx",
        "outputId": "6e5ec330-b8a2-47fa-cf9d-9e12c3482681"
      },
      "execution_count": 91,
      "outputs": [
        {
          "output_type": "execute_result",
          "data": {
            "text/plain": [
              "Credit_History  Loan_Status\n",
              "0.0             N               82\n",
              "                Y                7\n",
              "1.0             N              110\n",
              "                Y              415\n",
              "Name: Loan_Status, dtype: int64"
            ]
          },
          "metadata": {},
          "execution_count": 91
        }
      ]
    },
    {
      "cell_type": "markdown",
      "source": [
        "**What is the likelihood of getting a loan if someone has an education as well they have a previous credit history?**"
      ],
      "metadata": {
        "id": "xeUe22MfaYYT"
      }
    },
    {
      "cell_type": "code",
      "source": [
        "data_train.groupby([\"Education\",'Credit_History','Loan_Status'])['Loan_Status'].count()"
      ],
      "metadata": {
        "colab": {
          "base_uri": "https://localhost:8080/"
        },
        "id": "BfmHGC0UZvq-",
        "outputId": "39eb1cf3-5cdc-4516-b578-bf54a909c445"
      },
      "execution_count": 92,
      "outputs": [
        {
          "output_type": "execute_result",
          "data": {
            "text/plain": [
              "Education     Credit_History  Loan_Status\n",
              "Graduate      0.0             N               57\n",
              "                              Y                6\n",
              "              1.0             N               83\n",
              "                              Y              334\n",
              "Not Graduate  0.0             N               25\n",
              "                              Y                1\n",
              "              1.0             N               27\n",
              "                              Y               81\n",
              "Name: Loan_Status, dtype: int64"
            ]
          },
          "metadata": {},
          "execution_count": 92
        }
      ]
    },
    {
      "cell_type": "markdown",
      "source": [
        "**Observations :**\n",
        "\n",
        "- Amongst the graduates there are 340 people who are eligable for loan.\n",
        "- People who are not graduate amongst them 82 people are eligable for a loan.\n",
        "- The majority who dont have a previous credit history are not getting loans however, there are 7 people who have recieved the loan.\n",
        "- If someone has a previous credit score then there lies an almost 80% chance that they will get a loan.\n",
        "- If one is a graduate and has an active credit history in that case the chance of getting a loan is around 54%"
      ],
      "metadata": {
        "id": "d3_-WnuHbYLX"
      }
    },
    {
      "cell_type": "markdown",
      "source": [
        "**What is the chance of getting a loan given that the person is self-employed and has a previous history of credit?**"
      ],
      "metadata": {
        "id": "ibn_SZxJbsd6"
      }
    },
    {
      "cell_type": "code",
      "source": [
        "data_train.columns"
      ],
      "metadata": {
        "colab": {
          "base_uri": "https://localhost:8080/"
        },
        "id": "g451thDYax84",
        "outputId": "04f2c8ef-faec-4c6f-bf2c-35e8915ce90e"
      },
      "execution_count": 93,
      "outputs": [
        {
          "output_type": "execute_result",
          "data": {
            "text/plain": [
              "Index(['Loan_ID', 'Gender', 'Married', 'Dependents', 'Education',\n",
              "       'Self_Employed', 'ApplicantIncome', 'CoapplicantIncome', 'LoanAmount',\n",
              "       'Loan_Amount_Term', 'Credit_History', 'Property_Area', 'Loan_Status'],\n",
              "      dtype='object')"
            ]
          },
          "metadata": {},
          "execution_count": 93
        }
      ]
    },
    {
      "cell_type": "code",
      "source": [
        "data_train.groupby([ 'Self_Employed' ,  'Credit_History' , 'Loan_Status'])['Loan_Status'].count()"
      ],
      "metadata": {
        "colab": {
          "base_uri": "https://localhost:8080/"
        },
        "id": "9WpLHXJgb__N",
        "outputId": "919fa5c3-873c-4dec-ef08-402e2ba30da9"
      },
      "execution_count": 94,
      "outputs": [
        {
          "output_type": "execute_result",
          "data": {
            "text/plain": [
              "Self_Employed  Credit_History  Loan_Status\n",
              "No             0.0             N               70\n",
              "                               Y                7\n",
              "               1.0             N               96\n",
              "                               Y              359\n",
              "Yes            0.0             N               12\n",
              "               1.0             N               14\n",
              "                               Y               56\n",
              "Name: Loan_Status, dtype: int64"
            ]
          },
          "metadata": {},
          "execution_count": 94
        }
      ]
    },
    {
      "cell_type": "code",
      "source": [
        "sns.countplot(data = data_train, y = \"Self_Employed\", hue = \"Credit_History\")"
      ],
      "metadata": {
        "colab": {
          "base_uri": "https://localhost:8080/",
          "height": 466
        },
        "id": "1Efs006Zdm-a",
        "outputId": "903a5459-2f53-4f1a-886f-9c6a8f038563"
      },
      "execution_count": 95,
      "outputs": [
        {
          "output_type": "execute_result",
          "data": {
            "text/plain": [
              "<Axes: xlabel='count', ylabel='Self_Employed'>"
            ]
          },
          "metadata": {},
          "execution_count": 95
        },
        {
          "output_type": "display_data",
          "data": {
            "text/plain": [
              "<Figure size 640x480 with 1 Axes>"
            ],
            "image/png": "[encoded data removed]"
          },
          "metadata": {}
        }
      ]
    },
    {
      "cell_type": "markdown",
      "source": [
        "**Observations**\n",
        "\n",
        "- If a person is not self employed i.e, the person is salaried and has a history of credit already then the person is likely\\\n",
        "to have a greater chance of getting a loan.\n",
        "\n",
        "- On the other hand If a person is not self employed i.e, the person is salaried in that case if he/she does'nt have an history of credit then, the likelihood of getting a loan is least.i.e, nearly 1.15%"
      ],
      "metadata": {
        "id": "GxX_eBOLcpka"
      }
    },
    {
      "cell_type": "markdown",
      "source": [
        "**What insights can be formed from the teniority of the loan and its average loan amount?**"
      ],
      "metadata": {
        "id": "Qhy2KwaOmBQt"
      }
    },
    {
      "cell_type": "code",
      "source": [
        "data_train['LoanAmount'].dtypes"
      ],
      "metadata": {
        "colab": {
          "base_uri": "https://localhost:8080/"
        },
        "id": "djWJF9Sjeww0",
        "outputId": "518c09db-ac88-4355-e4d8-65a2f23f76af"
      },
      "execution_count": 97,
      "outputs": [
        {
          "output_type": "execute_result",
          "data": {
            "text/plain": [
              "dtype('float64')"
            ]
          },
          "metadata": {},
          "execution_count": 97
        }
      ]
    },
    {
      "cell_type": "code",
      "source": [
        "data_train.columns"
      ],
      "metadata": {
        "colab": {
          "base_uri": "https://localhost:8080/"
        },
        "id": "Q8VWKhRwcok1",
        "outputId": "b7037cb4-2a30-4e65-f357-8509518d6225"
      },
      "execution_count": 96,
      "outputs": [
        {
          "output_type": "execute_result",
          "data": {
            "text/plain": [
              "Index(['Loan_ID', 'Gender', 'Married', 'Dependents', 'Education',\n",
              "       'Self_Employed', 'ApplicantIncome', 'CoapplicantIncome', 'LoanAmount',\n",
              "       'Loan_Amount_Term', 'Credit_History', 'Property_Area', 'Loan_Status'],\n",
              "      dtype='object')"
            ]
          },
          "metadata": {},
          "execution_count": 96
        }
      ]
    },
    {
      "cell_type": "code",
      "source": [
        "sns.countplot(data= data_train,\n",
        "             x = 'Loan_Amount_Term')"
      ],
      "metadata": {
        "colab": {
          "base_uri": "https://localhost:8080/",
          "height": 466
        },
        "id": "QklQ-Ie0fdvk",
        "outputId": "81ca7853-2ead-4bb0-b04c-fcc44d280019"
      },
      "execution_count": 99,
      "outputs": [
        {
          "output_type": "execute_result",
          "data": {
            "text/plain": [
              "<Axes: xlabel='Loan_Amount_Term', ylabel='count'>"
            ]
          },
          "metadata": {},
          "execution_count": 99
        },
        {
          "output_type": "display_data",
          "data": {
            "text/plain": [
              "<Figure size 640x480 with 1 Axes>"
            ],
            "image/png": "[encoded data removed]"
          },
          "metadata": {}
        }
      ]
    },
    {
      "cell_type": "code",
      "source": [
        "sns.histplot(data= data_train,\n",
        "             x = \"LoanAmount\",\n",
        "             hue = 'Loan_Amount_Term',\n",
        "             kde = True)"
      ],
      "metadata": {
        "colab": {
          "base_uri": "https://localhost:8080/",
          "height": 466
        },
        "id": "CS_KHjkkcRpU",
        "outputId": "dc5b62bc-a078-4958-e07b-5f98c1706d27"
      },
      "execution_count": 101,
      "outputs": [
        {
          "output_type": "execute_result",
          "data": {
            "text/plain": [
              "<Axes: xlabel='LoanAmount', ylabel='Count'>"
            ]
          },
          "metadata": {},
          "execution_count": 101
        },
        {
          "output_type": "display_data",
          "data": {
            "text/plain": [
              "<Figure size 640x480 with 1 Axes>"
            ],
            "image/png": "[encoded data removed]"
          },
          "metadata": {}
        }
      ]
    },
    {
      "cell_type": "code",
      "source": [
        "sns.kdeplot(data= data_train,\n",
        "             x = \"LoanAmount\",\n",
        "             hue = 'Loan_Amount_Term')"
      ],
      "metadata": {
        "colab": {
          "base_uri": "https://localhost:8080/",
          "height": 521
        },
        "id": "q8sR90sZfF0l",
        "outputId": "527449e3-094b-42cc-833e-a4da5725c462"
      },
      "execution_count": 102,
      "outputs": [
        {
          "output_type": "stream",
          "name": "stderr",
          "text": [
            "<ipython-input-102-aeb1a787ae2e>:1: UserWarning: Dataset has 0 variance; skipping density estimate. Pass `warn_singular=False` to disable this warning.\n",
            "  sns.kdeplot(data= data_train,\n"
          ]
        },
        {
          "output_type": "execute_result",
          "data": {
            "text/plain": [
              "<Axes: xlabel='LoanAmount', ylabel='Density'>"
            ]
          },
          "metadata": {},
          "execution_count": 102
        },
        {
          "output_type": "display_data",
          "data": {
            "text/plain": [
              "<Figure size 640x480 with 1 Axes>"
            ],
            "image/png": "[encoded data removed]"
          },
          "metadata": {}
        }
      ]
    },
    {
      "cell_type": "code",
      "source": [
        "data_train.groupby(['Loan_Amount_Term'])[\"LoanAmount\"].agg([np.mean,np.median])\n",
        "# data.groupby(by='State')['Sales'].agg([np.mean,np.median])"
      ],
      "metadata": {
        "colab": {
          "base_uri": "https://localhost:8080/",
          "height": 394
        },
        "id": "WvW-HnmihgtM",
        "outputId": "a447613e-decb-42b2-ce05-e30afd9233cc"
      },
      "execution_count": 118,
      "outputs": [
        {
          "output_type": "execute_result",
          "data": {
            "text/plain": [
              "                        mean      median\n",
              "Loan_Amount_Term                        \n",
              "12.0              111.000000  111.000000\n",
              "36.0              117.500000  117.500000\n",
              "60.0              140.000000  140.000000\n",
              "84.0              132.250000  126.000000\n",
              "120.0              22.333333   25.000000\n",
              "180.0             147.473280  127.000000\n",
              "240.0             125.353041  123.206081\n",
              "300.0             185.153846  124.000000\n",
              "360.0             146.389413  130.000000\n",
              "480.0             151.800000  113.000000"
            ],
            "text/html": [
              "\n",
              "  <div id=\"df-b8942521-5ee5-4bf9-950e-0dc4faaa43cf\">\n",
              "    <div class=\"colab-df-container\">\n",
              "      <div>\n",
              "<style scoped>\n",
              "    .dataframe tbody tr th:only-of-type {\n",
              "        vertical-align: middle;\n",
              "    }\n",
              "\n",
              "    .dataframe tbody tr th {\n",
              "        vertical-align: top;\n",
              "    }\n",
              "\n",
              "    .dataframe thead th {\n",
              "        text-align: right;\n",
              "    }\n",
              "</style>\n",
              "<table border=\"1\" class=\"dataframe\">\n",
              "  <thead>\n",
              "    <tr style=\"text-align: right;\">\n",
              "      <th></th>\n",
              "      <th>mean</th>\n",
              "      <th>median</th>\n",
              "    </tr>\n",
              "    <tr>\n",
              "      <th>Loan_Amount_Term</th>\n",
              "      <th></th>\n",
              "      <th></th>\n",
              "    </tr>\n",
              "  </thead>\n",
              "  <tbody>\n",
              "    <tr>\n",
              "      <th>12.0</th>\n",
              "      <td>111.000000</td>\n",
              "      <td>111.000000</td>\n",
              "    </tr>\n",
              "    <tr>\n",
              "      <th>36.0</th>\n",
              "      <td>117.500000</td>\n",
              "      <td>117.500000</td>\n",
              "    </tr>\n",
              "    <tr>\n",
              "      <th>60.0</th>\n",
              "      <td>140.000000</td>\n",
              "      <td>140.000000</td>\n",
              "    </tr>\n",
              "    <tr>\n",
              "      <th>84.0</th>\n",
              "      <td>132.250000</td>\n",
              "      <td>126.000000</td>\n",
              "    </tr>\n",
              "    <tr>\n",
              "      <th>120.0</th>\n",
              "      <td>22.333333</td>\n",
              "      <td>25.000000</td>\n",
              "    </tr>\n",
              "    <tr>\n",
              "      <th>180.0</th>\n",
              "      <td>147.473280</td>\n",
              "      <td>127.000000</td>\n",
              "    </tr>\n",
              "    <tr>\n",
              "      <th>240.0</th>\n",
              "      <td>125.353041</td>\n",
              "      <td>123.206081</td>\n",
              "    </tr>\n",
              "    <tr>\n",
              "      <th>300.0</th>\n",
              "      <td>185.153846</td>\n",
              "      <td>124.000000</td>\n",
              "    </tr>\n",
              "    <tr>\n",
              "      <th>360.0</th>\n",
              "      <td>146.389413</td>\n",
              "      <td>130.000000</td>\n",
              "    </tr>\n",
              "    <tr>\n",
              "      <th>480.0</th>\n",
              "      <td>151.800000</td>\n",
              "      <td>113.000000</td>\n",
              "    </tr>\n",
              "  </tbody>\n",
              "</table>\n",
              "</div>\n",
              "      <button class=\"colab-df-convert\" onclick=\"convertToInteractive('df-b8942521-5ee5-4bf9-950e-0dc4faaa43cf')\"\n",
              "              title=\"Convert this dataframe to an interactive table.\"\n",
              "              style=\"display:none;\">\n",
              "        \n",
              "  <svg xmlns=\"http://www.w3.org/2000/svg\" height=\"24px\"viewBox=\"0 0 24 24\"\n",
              "       width=\"24px\">\n",
              "    <path d=\"M0 0h24v24H0V0z\" fill=\"none\"/>\n",
              "    <path d=\"M18.56 5.44l.94 2.06.94-2.06 2.06-.94-2.06-.94-.94-2.06-.94 2.06-2.06.94zm-11 1L8.5 8.5l.94-2.06 2.06-.94-2.06-.94L8.5 2.5l-.94 2.06-2.06.94zm10 10l.94 2.06.94-2.06 2.06-.94-2.06-.94-.94-2.06-.94 2.06-2.06.94z\"/><path d=\"M17.41 7.96l-1.37-1.37c-.4-.4-.92-.59-1.43-.59-.52 0-1.04.2-1.43.59L10.3 9.45l-7.72 7.72c-.78.78-.78 2.05 0 2.83L4 21.41c.39.39.9.59 1.41.59.51 0 1.02-.2 1.41-.59l7.78-7.78 2.81-2.81c.8-.78.8-2.07 0-2.86zM5.41 20L4 18.59l7.72-7.72 1.47 1.35L5.41 20z\"/>\n",
              "  </svg>\n",
              "      </button>\n",
              "      \n",
              "  <style>\n",
              "    .colab-df-container {\n",
              "      display:flex;\n",
              "      flex-wrap:wrap;\n",
              "      gap: 12px;\n",
              "    }\n",
              "\n",
              "    .colab-df-convert {\n",
              "      background-color: #E8F0FE;\n",
              "      border: none;\n",
              "      border-radius: 50%;\n",
              "      cursor: pointer;\n",
              "      display: none;\n",
              "      fill: #1967D2;\n",
              "      height: 32px;\n",
              "      padding: 0 0 0 0;\n",
              "      width: 32px;\n",
              "    }\n",
              "\n",
              "    .colab-df-convert:hover {\n",
              "      background-color: #E2EBFA;\n",
              "      box-shadow: 0px 1px 2px rgba(60, 64, 67, 0.3), 0px 1px 3px 1px rgba(60, 64, 67, 0.15);\n",
              "      fill: #174EA6;\n",
              "    }\n",
              "\n",
              "    [theme=dark] .colab-df-convert {\n",
              "      background-color: #3B4455;\n",
              "      fill: #D2E3FC;\n",
              "    }\n",
              "\n",
              "    [theme=dark] .colab-df-convert:hover {\n",
              "      background-color: #434B5C;\n",
              "      box-shadow: 0px 1px 3px 1px rgba(0, 0, 0, 0.15);\n",
              "      filter: drop-shadow(0px 1px 2px rgba(0, 0, 0, 0.3));\n",
              "      fill: #FFFFFF;\n",
              "    }\n",
              "  </style>\n",
              "\n",
              "      <script>\n",
              "        const buttonEl =\n",
              "          document.querySelector('#df-b8942521-5ee5-4bf9-950e-0dc4faaa43cf button.colab-df-convert');\n",
              "        buttonEl.style.display =\n",
              "          google.colab.kernel.accessAllowed ? 'block' : 'none';\n",
              "\n",
              "        async function convertToInteractive(key) {\n",
              "          const element = document.querySelector('#df-b8942521-5ee5-4bf9-950e-0dc4faaa43cf');\n",
              "          const dataTable =\n",
              "            await google.colab.kernel.invokeFunction('convertToInteractive',\n",
              "                                                     [key], {});\n",
              "          if (!dataTable) return;\n",
              "\n",
              "          const docLinkHtml = 'Like what you see? Visit the ' +\n",
              "            '<a target=\"_blank\" href=https://colab.research.google.com/notebooks/data_table.ipynb>data table notebook</a>'\n",
              "            + ' to learn more about interactive tables.';\n",
              "          element.innerHTML = '';\n",
              "          dataTable['output_type'] = 'display_data';\n",
              "          await google.colab.output.renderOutput(dataTable, element);\n",
              "          const docLink = document.createElement('div');\n",
              "          docLink.innerHTML = docLinkHtml;\n",
              "          element.appendChild(docLink);\n",
              "        }\n",
              "      </script>\n",
              "    </div>\n",
              "  </div>\n",
              "  "
            ]
          },
          "metadata": {},
          "execution_count": 118
        }
      ]
    },
    {
      "cell_type": "code",
      "source": [
        "data_grouped_by_term_avg_loan_amount =data_train.groupby(['Loan_Amount_Term'])[\"LoanAmount\"].agg([np.mean])"
      ],
      "metadata": {
        "id": "AON2euPWgYUY"
      },
      "execution_count": 120,
      "outputs": []
    },
    {
      "cell_type": "code",
      "source": [
        "data_grouped_by_term_avg_loan_amount.index"
      ],
      "metadata": {
        "colab": {
          "base_uri": "https://localhost:8080/"
        },
        "id": "jcR7z4PfjXP8",
        "outputId": "5882ba57-e8d3-4ddd-fd22-084aadd60a96"
      },
      "execution_count": 121,
      "outputs": [
        {
          "output_type": "execute_result",
          "data": {
            "text/plain": [
              "Float64Index([12.0, 36.0, 60.0, 84.0, 120.0, 180.0, 240.0, 300.0, 360.0,\n",
              "              480.0],\n",
              "             dtype='float64', name='Loan_Amount_Term')"
            ]
          },
          "metadata": {},
          "execution_count": 121
        }
      ]
    },
    {
      "cell_type": "code",
      "source": [
        "data_grouped_by_term_avg_loan_amount.values"
      ],
      "metadata": {
        "colab": {
          "base_uri": "https://localhost:8080/"
        },
        "id": "dkbkMGvMjgxP",
        "outputId": "20c2707b-8656-4367-fda1-cf86aa648011"
      },
      "execution_count": 127,
      "outputs": [
        {
          "output_type": "execute_result",
          "data": {
            "text/plain": [
              "array([[111.        ],\n",
              "       [117.5       ],\n",
              "       [140.        ],\n",
              "       [132.25      ],\n",
              "       [ 22.33333333],\n",
              "       [147.4732801 ],\n",
              "       [125.35304054],\n",
              "       [185.15384615],\n",
              "       [146.3894127 ],\n",
              "       [151.8       ]])"
            ]
          },
          "metadata": {},
          "execution_count": 127
        }
      ]
    },
    {
      "cell_type": "code",
      "source": [
        "index = []\n",
        "for i in data_grouped_by_term_avg_loan_amount.index:\n",
        "    print(i)\n",
        "    index.append(i)\n",
        "    # for j in i :\n",
        "    #     print(j)"
      ],
      "metadata": {
        "colab": {
          "base_uri": "https://localhost:8080/"
        },
        "id": "tpdTdjqck0Jl",
        "outputId": "6f549566-164e-4e34-8563-6edde4d1c792"
      },
      "execution_count": 136,
      "outputs": [
        {
          "output_type": "stream",
          "name": "stdout",
          "text": [
            "12.0\n",
            "36.0\n",
            "60.0\n",
            "84.0\n",
            "120.0\n",
            "180.0\n",
            "240.0\n",
            "300.0\n",
            "360.0\n",
            "480.0\n"
          ]
        }
      ]
    },
    {
      "cell_type": "code",
      "source": [
        "values = []\n",
        "for i in data_grouped_by_term_avg_loan_amount.values:\n",
        "    # print(i)\n",
        "    for j in i :\n",
        "        print(j)\n",
        "        values.append(j)"
      ],
      "metadata": {
        "colab": {
          "base_uri": "https://localhost:8080/"
        },
        "id": "d5E_JAMkkk6P",
        "outputId": "4228fde1-245d-45b8-94f6-9c1a9e145d72"
      },
      "execution_count": 137,
      "outputs": [
        {
          "output_type": "stream",
          "name": "stdout",
          "text": [
            "111.0\n",
            "117.5\n",
            "140.0\n",
            "132.25\n",
            "22.333333333333332\n",
            "147.4732800982801\n",
            "125.35304054054055\n",
            "185.15384615384616\n",
            "146.38941270167507\n",
            "151.8\n"
          ]
        }
      ]
    },
    {
      "cell_type": "code",
      "source": [
        "plt.bar(index,values, width = 30)\n",
        "plt.xlabel(\"No of EMIs\")\n",
        "plt.ylabel(\"Average loan term amount\")"
      ],
      "metadata": {
        "colab": {
          "base_uri": "https://localhost:8080/",
          "height": 466
        },
        "id": "29witp-fjis2",
        "outputId": "6b04437b-40ae-4e8b-b31c-5acf7578b158"
      },
      "execution_count": 146,
      "outputs": [
        {
          "output_type": "execute_result",
          "data": {
            "text/plain": [
              "Text(0, 0.5, 'Average loan term amount')"
            ]
          },
          "metadata": {},
          "execution_count": 146
        },
        {
          "output_type": "display_data",
          "data": {
            "text/plain": [
              "<Figure size 640x480 with 1 Axes>"
            ],
            "image/png": "[encoded data removed]"
          },
          "metadata": {}
        }
      ]
    },
    {
      "cell_type": "markdown",
      "source": [
        "**How does the Applicant Income impact the LoanAmount ?**"
      ],
      "metadata": {
        "id": "xzo09baqoWmc"
      }
    },
    {
      "cell_type": "code",
      "source": [
        "data_train.columns"
      ],
      "metadata": {
        "colab": {
          "base_uri": "https://localhost:8080/"
        },
        "id": "Cc6of-Gfjxba",
        "outputId": "67ab01e4-5324-4b5e-e630-1c0f582b6310"
      },
      "execution_count": 149,
      "outputs": [
        {
          "output_type": "execute_result",
          "data": {
            "text/plain": [
              "Index(['Loan_ID', 'Gender', 'Married', 'Dependents', 'Education',\n",
              "       'Self_Employed', 'ApplicantIncome', 'CoapplicantIncome', 'LoanAmount',\n",
              "       'Loan_Amount_Term', 'Credit_History', 'Property_Area', 'Loan_Status'],\n",
              "      dtype='object')"
            ]
          },
          "metadata": {},
          "execution_count": 149
        }
      ]
    },
    {
      "cell_type": "code",
      "source": [
        "sns.histplot(data = data_train,\n",
        "             x = \"ApplicantIncome\",\n",
        "             kde= True)"
      ],
      "metadata": {
        "colab": {
          "base_uri": "https://localhost:8080/",
          "height": 470
        },
        "id": "ErvSZy_doYph",
        "outputId": "3427a629-b339-4229-8707-7ad452b511a0"
      },
      "execution_count": 150,
      "outputs": [
        {
          "output_type": "execute_result",
          "data": {
            "text/plain": [
              "<Axes: xlabel='ApplicantIncome', ylabel='Count'>"
            ]
          },
          "metadata": {},
          "execution_count": 150
        },
        {
          "output_type": "display_data",
          "data": {
            "text/plain": [
              "<Figure size 640x480 with 1 Axes>"
            ],
            "image/png": "[encoded data removed]"
          },
          "metadata": {}
        }
      ]
    },
    {
      "cell_type": "code",
      "source": [
        "sns.histplot(data = data_train_log,\n",
        "             x = \"ApplicantIncome\",\n",
        "             kde= True)"
      ],
      "metadata": {
        "colab": {
          "base_uri": "https://localhost:8080/",
          "height": 466
        },
        "id": "IBoRFfA2oyML",
        "outputId": "4544de94-e27c-4c40-f621-3c57422e536e"
      },
      "execution_count": 151,
      "outputs": [
        {
          "output_type": "execute_result",
          "data": {
            "text/plain": [
              "<Axes: xlabel='ApplicantIncome', ylabel='Count'>"
            ]
          },
          "metadata": {},
          "execution_count": 151
        },
        {
          "output_type": "display_data",
          "data": {
            "text/plain": [
              "<Figure size 640x480 with 1 Axes>"
            ],
            "image/png": "[encoded data removed]"
          },
          "metadata": {}
        }
      ]
    },
    {
      "cell_type": "code",
      "source": [
        "data_train.columns"
      ],
      "metadata": {
        "colab": {
          "base_uri": "https://localhost:8080/"
        },
        "id": "i_zs29AhpDhu",
        "outputId": "3965057d-cf42-4c32-f6c4-290ef481d985"
      },
      "execution_count": 152,
      "outputs": [
        {
          "output_type": "execute_result",
          "data": {
            "text/plain": [
              "Index(['Loan_ID', 'Gender', 'Married', 'Dependents', 'Education',\n",
              "       'Self_Employed', 'ApplicantIncome', 'CoapplicantIncome', 'LoanAmount',\n",
              "       'Loan_Amount_Term', 'Credit_History', 'Property_Area', 'Loan_Status'],\n",
              "      dtype='object')"
            ]
          },
          "metadata": {},
          "execution_count": 152
        }
      ]
    },
    {
      "cell_type": "code",
      "source": [
        "data_train[\"LoanAmount\"]"
      ],
      "metadata": {
        "colab": {
          "base_uri": "https://localhost:8080/"
        },
        "id": "aR4fbsj4pnEX",
        "outputId": "23501802-ce15-413d-de44-88c91ab85056"
      },
      "execution_count": 155,
      "outputs": [
        {
          "output_type": "execute_result",
          "data": {
            "text/plain": [
              "0      146.412162\n",
              "1      128.000000\n",
              "2       66.000000\n",
              "3      120.000000\n",
              "4      141.000000\n",
              "          ...    \n",
              "609     71.000000\n",
              "610     40.000000\n",
              "611    253.000000\n",
              "612    187.000000\n",
              "613    133.000000\n",
              "Name: LoanAmount, Length: 614, dtype: float64"
            ]
          },
          "metadata": {},
          "execution_count": 155
        }
      ]
    },
    {
      "cell_type": "code",
      "source": [
        "plt.scatter(data_train['ApplicantIncome'],\n",
        "            data_train['LoanAmount'])\n",
        "plt.xlabel(\"Applicant Income\")\n",
        "plt.ylabel(\"LoanAmount\")\n",
        "plt.grid();\n",
        "plt.title(\"Applicant income Impact on Loan Amount\");\n",
        "plt.show();"
      ],
      "metadata": {
        "colab": {
          "base_uri": "https://localhost:8080/",
          "height": 472
        },
        "id": "R3JojujGo5Dz",
        "outputId": "1a6ee407-4c50-41e7-f89c-9c9cab41930f"
      },
      "execution_count": 154,
      "outputs": [
        {
          "output_type": "display_data",
          "data": {
            "text/plain": [
              "<Figure size 640x480 with 1 Axes>"
            ],
            "image/png": "[encoded data removed]"
          },
          "metadata": {}
        }
      ]
    },
    {
      "cell_type": "markdown",
      "source": [
        "**Observation:**\n",
        "\n",
        "- People with a low income range seek to take a greater loan.\n",
        "The number of persons in this range is way higher than people who are making a greater amount of paycheck."
      ],
      "metadata": {
        "id": "GbmkTv4Yp6l4"
      }
    },
    {
      "cell_type": "markdown",
      "source": [
        "**Average income of people who are taking a greater loan ?**"
      ],
      "metadata": {
        "id": "I0MzE8meqaPm"
      }
    },
    {
      "cell_type": "code",
      "source": [
        "data_train.columns"
      ],
      "metadata": {
        "colab": {
          "base_uri": "https://localhost:8080/"
        },
        "id": "S_FdEGABpND3",
        "outputId": "1288c7f6-126e-4d53-9f16-1d6e8732bcd0"
      },
      "execution_count": 157,
      "outputs": [
        {
          "output_type": "execute_result",
          "data": {
            "text/plain": [
              "Index(['Loan_ID', 'Gender', 'Married', 'Dependents', 'Education',\n",
              "       'Self_Employed', 'ApplicantIncome', 'CoapplicantIncome', 'LoanAmount',\n",
              "       'Loan_Amount_Term', 'Credit_History', 'Property_Area', 'Loan_Status'],\n",
              "      dtype='object')"
            ]
          },
          "metadata": {},
          "execution_count": 157
        }
      ]
    },
    {
      "cell_type": "code",
      "source": [
        "data_train.groupby(by='Loan_Amount_Term')['ApplicantIncome'].agg([np.mean,np.median])"
      ],
      "metadata": {
        "colab": {
          "base_uri": "https://localhost:8080/",
          "height": 394
        },
        "id": "1YZH4uzVqh-z",
        "outputId": "e81c03f6-ec5f-4103-df80-c09228ac109f"
      },
      "execution_count": 158,
      "outputs": [
        {
          "output_type": "execute_result",
          "data": {
            "text/plain": [
              "                         mean  median\n",
              "Loan_Amount_Term                     \n",
              "12.0              4625.000000  4625.0\n",
              "36.0              3419.500000  3419.5\n",
              "60.0              5032.500000  5032.5\n",
              "84.0              4128.500000  3804.5\n",
              "120.0             2792.666667  3459.0\n",
              "180.0             6927.886364  3836.0\n",
              "240.0             5907.750000  4994.0\n",
              "300.0             8184.923077  3500.0\n",
              "360.0             5267.028517  3848.0\n",
              "480.0             4398.933333  3000.0"
            ],
            "text/html": [
              "\n",
              "  <div id=\"df-15b1e893-7256-404a-bff8-bb751f9599c3\">\n",
              "    <div class=\"colab-df-container\">\n",
              "      <div>\n",
              "<style scoped>\n",
              "    .dataframe tbody tr th:only-of-type {\n",
              "        vertical-align: middle;\n",
              "    }\n",
              "\n",
              "    .dataframe tbody tr th {\n",
              "        vertical-align: top;\n",
              "    }\n",
              "\n",
              "    .dataframe thead th {\n",
              "        text-align: right;\n",
              "    }\n",
              "</style>\n",
              "<table border=\"1\" class=\"dataframe\">\n",
              "  <thead>\n",
              "    <tr style=\"text-align: right;\">\n",
              "      <th></th>\n",
              "      <th>mean</th>\n",
              "      <th>median</th>\n",
              "    </tr>\n",
              "    <tr>\n",
              "      <th>Loan_Amount_Term</th>\n",
              "      <th></th>\n",
              "      <th></th>\n",
              "    </tr>\n",
              "  </thead>\n",
              "  <tbody>\n",
              "    <tr>\n",
              "      <th>12.0</th>\n",
              "      <td>4625.000000</td>\n",
              "      <td>4625.0</td>\n",
              "    </tr>\n",
              "    <tr>\n",
              "      <th>36.0</th>\n",
              "      <td>3419.500000</td>\n",
              "      <td>3419.5</td>\n",
              "    </tr>\n",
              "    <tr>\n",
              "      <th>60.0</th>\n",
              "      <td>5032.500000</td>\n",
              "      <td>5032.5</td>\n",
              "    </tr>\n",
              "    <tr>\n",
              "      <th>84.0</th>\n",
              "      <td>4128.500000</td>\n",
              "      <td>3804.5</td>\n",
              "    </tr>\n",
              "    <tr>\n",
              "      <th>120.0</th>\n",
              "      <td>2792.666667</td>\n",
              "      <td>3459.0</td>\n",
              "    </tr>\n",
              "    <tr>\n",
              "      <th>180.0</th>\n",
              "      <td>6927.886364</td>\n",
              "      <td>3836.0</td>\n",
              "    </tr>\n",
              "    <tr>\n",
              "      <th>240.0</th>\n",
              "      <td>5907.750000</td>\n",
              "      <td>4994.0</td>\n",
              "    </tr>\n",
              "    <tr>\n",
              "      <th>300.0</th>\n",
              "      <td>8184.923077</td>\n",
              "      <td>3500.0</td>\n",
              "    </tr>\n",
              "    <tr>\n",
              "      <th>360.0</th>\n",
              "      <td>5267.028517</td>\n",
              "      <td>3848.0</td>\n",
              "    </tr>\n",
              "    <tr>\n",
              "      <th>480.0</th>\n",
              "      <td>4398.933333</td>\n",
              "      <td>3000.0</td>\n",
              "    </tr>\n",
              "  </tbody>\n",
              "</table>\n",
              "</div>\n",
              "      <button class=\"colab-df-convert\" onclick=\"convertToInteractive('df-15b1e893-7256-404a-bff8-bb751f9599c3')\"\n",
              "              title=\"Convert this dataframe to an interactive table.\"\n",
              "              style=\"display:none;\">\n",
              "        \n",
              "  <svg xmlns=\"http://www.w3.org/2000/svg\" height=\"24px\"viewBox=\"0 0 24 24\"\n",
              "       width=\"24px\">\n",
              "    <path d=\"M0 0h24v24H0V0z\" fill=\"none\"/>\n",
              "    <path d=\"M18.56 5.44l.94 2.06.94-2.06 2.06-.94-2.06-.94-.94-2.06-.94 2.06-2.06.94zm-11 1L8.5 8.5l.94-2.06 2.06-.94-2.06-.94L8.5 2.5l-.94 2.06-2.06.94zm10 10l.94 2.06.94-2.06 2.06-.94-2.06-.94-.94-2.06-.94 2.06-2.06.94z\"/><path d=\"M17.41 7.96l-1.37-1.37c-.4-.4-.92-.59-1.43-.59-.52 0-1.04.2-1.43.59L10.3 9.45l-7.72 7.72c-.78.78-.78 2.05 0 2.83L4 21.41c.39.39.9.59 1.41.59.51 0 1.02-.2 1.41-.59l7.78-7.78 2.81-2.81c.8-.78.8-2.07 0-2.86zM5.41 20L4 18.59l7.72-7.72 1.47 1.35L5.41 20z\"/>\n",
              "  </svg>\n",
              "      </button>\n",
              "      \n",
              "  <style>\n",
              "    .colab-df-container {\n",
              "      display:flex;\n",
              "      flex-wrap:wrap;\n",
              "      gap: 12px;\n",
              "    }\n",
              "\n",
              "    .colab-df-convert {\n",
              "      background-color: #E8F0FE;\n",
              "      border: none;\n",
              "      border-radius: 50%;\n",
              "      cursor: pointer;\n",
              "      display: none;\n",
              "      fill: #1967D2;\n",
              "      height: 32px;\n",
              "      padding: 0 0 0 0;\n",
              "      width: 32px;\n",
              "    }\n",
              "\n",
              "    .colab-df-convert:hover {\n",
              "      background-color: #E2EBFA;\n",
              "      box-shadow: 0px 1px 2px rgba(60, 64, 67, 0.3), 0px 1px 3px 1px rgba(60, 64, 67, 0.15);\n",
              "      fill: #174EA6;\n",
              "    }\n",
              "\n",
              "    [theme=dark] .colab-df-convert {\n",
              "      background-color: #3B4455;\n",
              "      fill: #D2E3FC;\n",
              "    }\n",
              "\n",
              "    [theme=dark] .colab-df-convert:hover {\n",
              "      background-color: #434B5C;\n",
              "      box-shadow: 0px 1px 3px 1px rgba(0, 0, 0, 0.15);\n",
              "      filter: drop-shadow(0px 1px 2px rgba(0, 0, 0, 0.3));\n",
              "      fill: #FFFFFF;\n",
              "    }\n",
              "  </style>\n",
              "\n",
              "      <script>\n",
              "        const buttonEl =\n",
              "          document.querySelector('#df-15b1e893-7256-404a-bff8-bb751f9599c3 button.colab-df-convert');\n",
              "        buttonEl.style.display =\n",
              "          google.colab.kernel.accessAllowed ? 'block' : 'none';\n",
              "\n",
              "        async function convertToInteractive(key) {\n",
              "          const element = document.querySelector('#df-15b1e893-7256-404a-bff8-bb751f9599c3');\n",
              "          const dataTable =\n",
              "            await google.colab.kernel.invokeFunction('convertToInteractive',\n",
              "                                                     [key], {});\n",
              "          if (!dataTable) return;\n",
              "\n",
              "          const docLinkHtml = 'Like what you see? Visit the ' +\n",
              "            '<a target=\"_blank\" href=https://colab.research.google.com/notebooks/data_table.ipynb>data table notebook</a>'\n",
              "            + ' to learn more about interactive tables.';\n",
              "          element.innerHTML = '';\n",
              "          dataTable['output_type'] = 'display_data';\n",
              "          await google.colab.output.renderOutput(dataTable, element);\n",
              "          const docLink = document.createElement('div');\n",
              "          docLink.innerHTML = docLinkHtml;\n",
              "          element.appendChild(docLink);\n",
              "        }\n",
              "      </script>\n",
              "    </div>\n",
              "  </div>\n",
              "  "
            ]
          },
          "metadata": {},
          "execution_count": 158
        }
      ]
    },
    {
      "cell_type": "code",
      "source": [],
      "metadata": {
        "id": "0-czuggeq3Yu"
      },
      "execution_count": null,
      "outputs": []
    }
  ]
}