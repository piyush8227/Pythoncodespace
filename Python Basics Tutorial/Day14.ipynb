{
 "cells": [
  {
   "cell_type": "code",
   "execution_count": 2,
   "metadata": {},
   "outputs": [
    {
     "name": "stdout",
     "output_type": "stream",
     "text": [
      "Greatest of the three numbers is: 5555\n"
     ]
    }
   ],
   "source": [
    "# 1) DEVELOP A PROGRAM TO FIND GREATEST OF THREE NUMBERS.\n",
    "\n",
    "nums = []\n",
    "def greatest_of_three():\n",
    "    for i in range(3):\n",
    "        num = int(input(\"Enter a number: \"))\n",
    "        nums.append(num)\n",
    "    print(\"Greatest of the three numbers is:\", max(nums))\n",
    "\n",
    "greatest_of_three()"
   ]
  },
  {
   "cell_type": "code",
   "execution_count": 19,
   "metadata": {},
   "outputs": [
    {
     "name": "stdout",
     "output_type": "stream",
     "text": [
      "8: Eight\n"
     ]
    }
   ],
   "source": [
    "# 2) WAP TO CONVERT DIGITS FROM 0-9 ONLY INTO WORDS.\n",
    "\n",
    "def digit_to_word():\n",
    "    num = int(input(\"Enter a digit between 0-9: \"))\n",
    "    if num == 0:\n",
    "        print(f\"{num}: Zero\")\n",
    "    elif num == 1:\n",
    "        print(f\"{num}: One\")\n",
    "    elif num == 2:\n",
    "        print(f\"{num}: Two\")\n",
    "    elif num == 3:\n",
    "        print(f\"{num}: Three\")\n",
    "    elif num == 4:\n",
    "        print(f\"{num}: Four\")\n",
    "    elif num == 5:\n",
    "        print(f\"{num}: Five\")\n",
    "    elif num == 6:\n",
    "        print(f\"{num}: Six\")\n",
    "    elif num == 7:\n",
    "        print(f\"{num}: Seven\")\n",
    "    elif num == 8:\n",
    "        print(f\"{num}: Eight\")\n",
    "    elif num == 9:\n",
    "        print(f\"{num}: Nine\")\n",
    "    else:\n",
    "        print(f\"{num} not in range 0-9\")\n",
    "\n",
    "digit_to_word()"
   ]
  },
  {
   "cell_type": "code",
   "execution_count": 8,
   "metadata": {},
   "outputs": [
    {
     "name": "stdout",
     "output_type": "stream",
     "text": [
      "is p\n",
      "s\n"
     ]
    }
   ],
   "source": [
    "# WAP TO ACCESS THE STRING USING SLICING AND INDEXING.\n",
    "# T h i s   i s   p i y  u  s  h\n",
    "# 0 1 2 3 4 5 6 7 8 9 10 11 12 13\n",
    "\n",
    "str = 'This is piyush'\n",
    "\n",
    "def slicing_string():\n",
    "    start = int(input(\"Enter start index: \"))\n",
    "    end = int(input(\"Enter End index: \"))\n",
    "    print(str[start:end+1])\n",
    "slicing_string()\n",
    "\n",
    "def indexing_string():\n",
    "    index = int(input(\"Enter an index number: \"))\n",
    "    print(str[index])\n",
    "indexing_string()"
   ]
  },
  {
   "cell_type": "code",
   "execution_count": 18,
   "metadata": {},
   "outputs": [
    {
     "name": "stdout",
     "output_type": "stream",
     "text": [
      "Before reversing words: Piyush is an computer engineering graduate from India\n",
      "After reversing words: hsuyiP si na retupmoc gnireenigne etaudarg morf aidnI\n"
     ]
    }
   ],
   "source": [
    "# WAP TO REVERSE THE WORDS.\n",
    "\n",
    "def reversing_words():\n",
    "    string = input(\"Enter a sentence: \")\n",
    "    print('Before reversing words:', string)\n",
    "    string = string.split()\n",
    "    new_string = []\n",
    "    for word in range(len(string)):\n",
    "        reversed_word =  string[word][::-1]\n",
    "        new_string.append(reversed_word)\n",
    "    print('After reversing words:', ' '.join(new_string))\n",
    "\n",
    "reversing_words()"
   ]
  },
  {
   "cell_type": "code",
   "execution_count": 16,
   "metadata": {},
   "outputs": [
    {
     "name": "stdout",
     "output_type": "stream",
     "text": [
      "Reversed string is:  'gnisrever retcarahc si sihT\n"
     ]
    }
   ],
   "source": [
    "# Write a program to reverse characters of a string.\n",
    "\n",
    "def character_reversing():\n",
    "    str = input(\"Enter a string: \")\n",
    "    reveresed_str = str[::-1]\n",
    "    print(\"Reversed string is: \", reveresed_str)\n",
    "character_reversing()"
   ]
  },
  {
   "cell_type": "code",
   "execution_count": 21,
   "metadata": {},
   "outputs": [
    {
     "name": "stdout",
     "output_type": "stream",
     "text": [
      "Encyclopedia has 12 characters.\n"
     ]
    }
   ],
   "source": [
    "# WAP to print word along with its length.\n",
    "\n",
    "def word_length():\n",
    "    word = input(\"Enter a word: \")\n",
    "    length = len(word)\n",
    "    print(\"{word} has {length} characters.\".format(word=word, length=length))\n",
    "word_length()"
   ]
  },
  {
   "cell_type": "code",
   "execution_count": 22,
   "metadata": {},
   "outputs": [
    {
     "name": "stdout",
     "output_type": "stream",
     "text": [
      "Unique vowels:  o\n"
     ]
    }
   ],
   "source": [
    "# WAP to print unique vowels in a string.\n",
    "\n",
    "def unique_vowels():\n",
    "    str = input(\"Enter a string: \")\n",
    "\n",
    "    for i in 'aeiou':\n",
    "        count = str.count(i)\n",
    "        if count == 1:\n",
    "            print(\"Unique vowels: \",i)\n",
    "unique_vowels()"
   ]
  },
  {
   "cell_type": "code",
   "execution_count": 23,
   "metadata": {},
   "outputs": [
    {
     "name": "stdout",
     "output_type": "stream",
     "text": [
      "[['This', 4], ['is', 2], ['piyush', 6]]\n"
     ]
    }
   ],
   "source": [
    "# WAP to create a list of list where inner list contains word along with its length.\n",
    "\n",
    "def list_of_list():\n",
    "    str = input(\"Enter a string: \")\n",
    "    str = str.split()\n",
    "    list = []\n",
    "    for i in str:\n",
    "        list.append([i, len(i)])\n",
    "    print(list)\n",
    "list_of_list()"
   ]
  },
  {
   "cell_type": "code",
   "execution_count": null,
   "metadata": {},
   "outputs": [],
   "source": [
    "# COUNT THE OCCURENCES OF THE SPECIFIC WORD.\n",
    "str = 'This is a name which is a human name name'\n",
    "str = str.split()\n",
    "word = input(\"Enter a word: \")\n",
    "def word_count(word):\n",
    "    count = str.count(word)\n",
    "    print(f\"'{word}' count is :\",count)\n",
    "word_count(word)"
   ]
  }
 ],
 "metadata": {
  "kernelspec": {
   "display_name": "base",
   "language": "python",
   "name": "python3"
  },
  "language_info": {
   "codemirror_mode": {
    "name": "ipython",
    "version": 3
   },
   "file_extension": ".py",
   "mimetype": "text/x-python",
   "name": "python",
   "nbconvert_exporter": "python",
   "pygments_lexer": "ipython3",
   "version": "3.9.13"
  },
  "orig_nbformat": 4
 },
 "nbformat": 4,
 "nbformat_minor": 2
}
