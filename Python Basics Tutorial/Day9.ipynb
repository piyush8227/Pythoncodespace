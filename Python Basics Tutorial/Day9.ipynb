{
 "cells": [
  {
   "cell_type": "code",
   "execution_count": 1,
   "metadata": {},
   "outputs": [
    {
     "name": "stdout",
     "output_type": "stream",
     "text": [
      "<class 'str'>\n",
      "<class 'list'>\n",
      "hsuyiP si na retupmoc gnireenigne etaudarg morf aidnI "
     ]
    }
   ],
   "source": [
    "# WAP TO REVERSE THE WORDS.\n",
    "info = ('Piyush is an computer engineering graduate from India') # string\n",
    "info = info.split() # list of words separated by comma\n",
    "for word in range(len(info)):\n",
    "    print(info[word][::-1], end=\" \") # reversing each wors from list\n"
   ]
  }
 ],
 "metadata": {
  "kernelspec": {
   "display_name": "base",
   "language": "python",
   "name": "python3"
  },
  "language_info": {
   "codemirror_mode": {
    "name": "ipython",
    "version": 3
   },
   "file_extension": ".py",
   "mimetype": "text/x-python",
   "name": "python",
   "nbconvert_exporter": "python",
   "pygments_lexer": "ipython3",
   "version": "3.9.13"
  },
  "orig_nbformat": 4
 },
 "nbformat": 4,
 "nbformat_minor": 2
}
