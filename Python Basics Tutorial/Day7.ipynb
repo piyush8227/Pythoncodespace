{
 "cells": [
  {
   "cell_type": "code",
   "execution_count": 15,
   "metadata": {},
   "outputs": [
    {
     "name": "stdout",
     "output_type": "stream",
     "text": [
      "Greatest number is:  888888888\n"
     ]
    }
   ],
   "source": [
    "# 1) DEVELOP A PROGRAM TO FIND GREATEST OF THREE NUMBERS.\n",
    "lst = []\n",
    "for i in range(3):\n",
    "    num = int(input(\"Enter a number: \"))\n",
    "    lst.append(num)\n",
    "print(\"Greatest number is: \", max(lst))"
   ]
  },
  {
   "cell_type": "code",
   "execution_count": 18,
   "metadata": {},
   "outputs": [
    {
     "name": "stdout",
     "output_type": "stream",
     "text": [
      "Number out of range.\n"
     ]
    }
   ],
   "source": [
    "# 2) WAP TO CONVERT DIGITS FROM 0-9 ONLY INTO WORDS.\n",
    "num = int(input(\"Enter a number: \"))\n",
    "if num == 0:\n",
    "    print(\"Zero\")\n",
    "elif num == 1:\n",
    "    print(\"One\")\n",
    "elif num == 2:\n",
    "    print(\"Two\")\n",
    "elif num == 3:\n",
    "    print(\"Three\")\n",
    "elif num == 4:\n",
    "    print(\"Four\")\n",
    "elif num == 5:\n",
    "    print(\"Five\")\n",
    "elif num == 6:\n",
    "    print(\"Six\")\n",
    "elif num == 7:\n",
    "    print(\"Seven\")\n",
    "elif num == 8:\n",
    "    print(\"Eight\")\n",
    "elif num == 9:\n",
    "    print(\"Nine\")\n",
    "else:\n",
    "    print(\"Number out of range.\")"
   ]
  }
 ],
 "metadata": {
  "kernelspec": {
   "display_name": "base",
   "language": "python",
   "name": "python3"
  },
  "language_info": {
   "codemirror_mode": {
    "name": "ipython",
    "version": 3
   },
   "file_extension": ".py",
   "mimetype": "text/x-python",
   "name": "python",
   "nbconvert_exporter": "python",
   "pygments_lexer": "ipython3",
   "version": "3.9.13"
  },
  "orig_nbformat": 4,
  "vscode": {
   "interpreter": {
    "hash": "6cb2a783fba10e4988f74b94bf4b8ec0c47b621437b0dc0599ccabf2d2cf6b2d"
   }
  }
 },
 "nbformat": 4,
 "nbformat_minor": 2
}
