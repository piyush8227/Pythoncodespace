{
 "cells": [
  {
   "cell_type": "code",
   "execution_count": 10,
   "metadata": {},
   "outputs": [
    {
     "name": "stdout",
     "output_type": "stream",
     "text": [
      "H\n",
      "s\n",
      "Hello\n",
      "World this a python\n"
     ]
    }
   ],
   "source": [
    "# WAP TO ACCESS THE STRING USING SLICING AND INDEXING.\n",
    "str = \"Hello World this a python program.\"\n",
    "\n",
    "# Accessing the string using indexing\n",
    "print(str[0])\n",
    "print(str[15])\n",
    "\n",
    "# Accessing the string using slicing\n",
    "print(str[0:5])\n",
    "print(str[6:25])\n"
   ]
  }
 ],
 "metadata": {
  "kernelspec": {
   "display_name": "base",
   "language": "python",
   "name": "python3"
  },
  "language_info": {
   "codemirror_mode": {
    "name": "ipython",
    "version": 3
   },
   "file_extension": ".py",
   "mimetype": "text/x-python",
   "name": "python",
   "nbconvert_exporter": "python",
   "pygments_lexer": "ipython3",
   "version": "3.9.13"
  },
  "orig_nbformat": 4
 },
 "nbformat": 4,
 "nbformat_minor": 2
}
