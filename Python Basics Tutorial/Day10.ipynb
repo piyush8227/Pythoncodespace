{
 "cells": [
  {
   "cell_type": "code",
   "execution_count": 8,
   "metadata": {},
   "outputs": [
    {
     "name": "stdout",
     "output_type": "stream",
     "text": [
      "egaugnal gnimmargorp nohtyp si sihT\n"
     ]
    }
   ],
   "source": [
    "# Write a program to reverse characters of a string.\n",
    "str = 'This is python programming language'\n",
    "str = reversed(str)\n",
    "print(''.join(str))"
   ]
  }
 ],
 "metadata": {
  "kernelspec": {
   "display_name": "base",
   "language": "python",
   "name": "python3"
  },
  "language_info": {
   "codemirror_mode": {
    "name": "ipython",
    "version": 3
   },
   "file_extension": ".py",
   "mimetype": "text/x-python",
   "name": "python",
   "nbconvert_exporter": "python",
   "pygments_lexer": "ipython3",
   "version": "3.9.13"
  },
  "orig_nbformat": 4
 },
 "nbformat": 4,
 "nbformat_minor": 2
}
