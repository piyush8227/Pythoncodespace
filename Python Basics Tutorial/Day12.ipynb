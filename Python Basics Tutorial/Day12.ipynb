{
 "cells": [
  {
   "cell_type": "code",
   "execution_count": 10,
   "metadata": {},
   "outputs": [
    {
     "name": "stdout",
     "output_type": "stream",
     "text": [
      "'abc' counts 1 times.\n"
     ]
    }
   ],
   "source": [
    "# COUNT THE OCCURENCES OF THE SPECIFIC WORD.\n",
    "str = 'ABC abc ABC def DEF def'.split()\n",
    "tup = tuple(str)\n",
    "word = input('Enter a word')\n",
    "print(f\"'{word}' counts {tup.count(word)} times.\")"
   ]
  },
  {
   "cell_type": "code",
   "execution_count": 5,
   "metadata": {},
   "outputs": [
    {
     "name": "stdout",
     "output_type": "stream",
     "text": [
      "'name' count is : 3\n"
     ]
    }
   ],
   "source": [
    "# COUNT THE OCCURENCES OF THE SPECIFIC WORD.\n",
    "str = 'This is a name which is a human name name'\n",
    "str = str.split()\n",
    "word = input(\"Enter a word: \")\n",
    "def word_count(word):\n",
    "    count = str.count(word)\n",
    "    print(f\"'{word}' count is :\",count)\n",
    "word_count(word)"
   ]
  }
 ],
 "metadata": {
  "kernelspec": {
   "display_name": "base",
   "language": "python",
   "name": "python3"
  },
  "language_info": {
   "codemirror_mode": {
    "name": "ipython",
    "version": 3
   },
   "file_extension": ".py",
   "mimetype": "text/x-python",
   "name": "python",
   "nbconvert_exporter": "python",
   "pygments_lexer": "ipython3",
   "version": "3.9.13"
  },
  "orig_nbformat": 4
 },
 "nbformat": 4,
 "nbformat_minor": 2
}
