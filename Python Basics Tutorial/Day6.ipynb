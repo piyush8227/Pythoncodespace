{
 "cells": [
  {
   "attachments": {},
   "cell_type": "markdown",
   "metadata": {},
   "source": [
    "### Topics revision: \n",
    "##### Fundamental datatypes, Derived datatypes, Arithmetic operators, Conditional operators, logical operators, bitwise operators, assignment operators, special operators, membership operators, operator precedence, range() function, indexing, slicing, typecasting, input and output statements."
   ]
  },
  {
   "attachments": {},
   "cell_type": "markdown",
   "metadata": {},
   "source": [
    "### What is the difference between a fundamental datatype and a derived datatype in Python? Provide examples of each.\n",
    "##### Ans: Fundamental Datatypes are the basic datatypes in Python. Derived Datatypes are the datatypes that are derived from the fundamental datatypes. Examples of fundamental datatypes are int, float, bool, str. Examples of derived datatypes are list, tuple, set, dict."
   ]
  },
  {
   "cell_type": "code",
   "execution_count": 36,
   "metadata": {},
   "outputs": [
    {
     "name": "stdout",
     "output_type": "stream",
     "text": [
      "50\n"
     ]
    }
   ],
   "source": [
    "# Write a Python expression using arithmetic operators to calculate the area of a rectangle with length 5 and width 10.\n",
    "area = 5*10 # len*wid\n",
    "print(area)"
   ]
  },
  {
   "cell_type": "code",
   "execution_count": 37,
   "metadata": {},
   "outputs": [
    {
     "name": "stdout",
     "output_type": "stream",
     "text": [
      "Odd number\n"
     ]
    }
   ],
   "source": [
    "# Write a Python expression using conditional operators to check if a number is even or odd.\n",
    "num = 5\n",
    "if num%2 == 0:\n",
    "    print(\"Even number\")\n",
    "else:\n",
    "    print(\"Odd number\")"
   ]
  },
  {
   "cell_type": "code",
   "execution_count": 38,
   "metadata": {},
   "outputs": [
    {
     "name": "stdout",
     "output_type": "stream",
     "text": [
      "False\n"
     ]
    }
   ],
   "source": [
    "# Write a Python expression using logical operators to check if a number is between 10 and 20 (inclusive).\n",
    "num = 2\n",
    "if num >= 10 and num <= 20:\n",
    "    print(\"True\")\n",
    "else:\n",
    "    print(\"False\")"
   ]
  },
  {
   "attachments": {},
   "cell_type": "markdown",
   "metadata": {},
   "source": [
    "#### What is the purpose of bitwise operators in Python? Provide examples of different bitwise operators.\n",
    "#### Ans: Bitwise operators are mostly used to perform bitwise operations on integers. Examples of bitwise operators are &, |, ^, ~, <<, >>."
   ]
  },
  {
   "cell_type": "code",
   "execution_count": 39,
   "metadata": {},
   "outputs": [
    {
     "name": "stdout",
     "output_type": "stream",
     "text": [
      "a:  2\n",
      "b:  55\n"
     ]
    }
   ],
   "source": [
    "a = 23 & 34 # Bitwise and operation.\n",
    "print(\"a: \",a)\n",
    "\n",
    "b = 23 | 34 # Bitwise or operation.\n",
    "print(\"b: \",b)"
   ]
  },
  {
   "cell_type": "code",
   "execution_count": 40,
   "metadata": {},
   "outputs": [
    {
     "data": {
      "text/plain": [
       "100"
      ]
     },
     "execution_count": 40,
     "metadata": {},
     "output_type": "execute_result"
    }
   ],
   "source": [
    "# Write a Python expression using assignment operators to add 5 to a variable and then multiply the result by 10.\n",
    "a = 5\n",
    "a = (a + 5)*10\n",
    "a"
   ]
  },
  {
   "cell_type": "code",
   "execution_count": 41,
   "metadata": {},
   "outputs": [
    {
     "name": "stdout",
     "output_type": "stream",
     "text": [
      "True\n",
      "True\n"
     ]
    }
   ],
   "source": [
    "# What is the purpose of the 'in' and 'not in' operators in Python? Provide examples of their use.\n",
    "# Ans: 'in' is a membership operator which checks whether a subsequence is present in an sequence or not.\n",
    "# Eg\n",
    "str = \"This 'in' is a membership operator\"\n",
    "print('in' in str)\n",
    "print('what' not in str)"
   ]
  },
  {
   "cell_type": "code",
   "execution_count": 42,
   "metadata": {},
   "outputs": [
    {
     "name": "stdout",
     "output_type": "stream",
     "text": [
      "-228.0\n"
     ]
    }
   ],
   "source": [
    "# What is the order of operator precedence in Python? Provide an example that demonstrates the use of operator precedence.\n",
    "# Ans: \n",
    "# 1. Parenthesis: ()\n",
    "# 2. Exponentiation: **\n",
    "# 3. Bitwise Not & Unary minus: ~ , -\n",
    "# 4. Multiplication, Division, Modulus, Floor division: *,/,%,//\n",
    "# 5. Addition, Subtraction: +, -\n",
    "# 6. Left, Right shift: <<, >>\n",
    "# 7. Bitwise And: &\n",
    "# 8. Bitwise XOR: ^\n",
    "# 9. Bitwise OR: |\n",
    "# 10. Comparison Operators: <, >, >=, <=, ==, !=\n",
    "# 11. =. +=, -=, /=, //=, *=, **=,  %=, &=, |=, ^=, >>=, <<=\n",
    "# 12. Identity operators: is, is not.\n",
    "# 13. Membership operators: in, not in.\n",
    "# 14. not\n",
    "# 15. and\n",
    "# 16. or\n",
    "print(23-5*(254/2)+56*8/(4 | 3)*6)"
   ]
  },
  {
   "cell_type": "code",
   "execution_count": 43,
   "metadata": {},
   "outputs": [
    {
     "name": "stdout",
     "output_type": "stream",
     "text": [
      "0 1 2 3 4 5 6 7 8 9 "
     ]
    }
   ],
   "source": [
    "# Write a Python for loop using the range() function to print the numbers from 0 to 9.\n",
    "for i in range(0,10):\n",
    "    print(i, end=\" \")"
   ]
  },
  {
   "cell_type": "code",
   "execution_count": 44,
   "metadata": {},
   "outputs": [
    {
     "data": {
      "text/plain": [
       "2"
      ]
     },
     "execution_count": 44,
     "metadata": {},
     "output_type": "execute_result"
    }
   ],
   "source": [
    "# Write a Python expression using indexing to access the second element of a list.\n",
    "lst = [1,2,3,4,5,6,7,8,9]\n",
    "lst[1] # It access 2nd element having index 1 in list."
   ]
  },
  {
   "cell_type": "code",
   "execution_count": 45,
   "metadata": {},
   "outputs": [
    {
     "data": {
      "text/plain": [
       "[1, 2, 3]"
      ]
     },
     "execution_count": 45,
     "metadata": {},
     "output_type": "execute_result"
    }
   ],
   "source": [
    "# Write a Python expression using slicing to extract a sub-list containing the first 3 elements of a list.\n",
    "lst = [1,2,3,4,5,6,7,8,9]\n",
    "lst[0:3] # It slices the elements from the list from 0 to 3 index ie. 1,2,3 elements."
   ]
  },
  {
   "cell_type": "code",
   "execution_count": 46,
   "metadata": {},
   "outputs": [
    {
     "name": "stdout",
     "output_type": "stream",
     "text": [
      "42\n"
     ]
    }
   ],
   "source": [
    "# Write a Python expression using typecasting to convert a string \"42\" to an integer.\n",
    "str = '42'\n",
    "print(int(str))"
   ]
  },
  {
   "cell_type": "code",
   "execution_count": 47,
   "metadata": {},
   "outputs": [
    {
     "name": "stdout",
     "output_type": "stream",
     "text": [
      "Hello Piyush Good morning.\n"
     ]
    }
   ],
   "source": [
    "# Write a Python statement to prompt the user to enter their name and then print a greeting using their name.\n",
    "name = input(\"Enter your name: \")\n",
    "print(f\"Hello {name} Good morning.\")"
   ]
  },
  {
   "cell_type": "code",
   "execution_count": 48,
   "metadata": {},
   "outputs": [
    {
     "name": "stdout",
     "output_type": "stream",
     "text": [
      "25\n",
      "<class 'int'>\n"
     ]
    }
   ],
   "source": [
    "# Write a Python statement to prompt the user to enter a number and then convert the input to an integer.\n",
    "num = input(\"Enter any number of your choice: \")\n",
    "num = int(num) # Converts the input into integer.\n",
    "print(num)\n",
    "print(type(num))"
   ]
  },
  {
   "cell_type": "code",
   "execution_count": 49,
   "metadata": {},
   "outputs": [
    {
     "name": "stdout",
     "output_type": "stream",
     "text": [
      "Area of rectangle is: 20 sqft\n"
     ]
    }
   ],
   "source": [
    "# Write a Python program to calculate the area of a rectangle. Take the length and width as input from the user using the input() function.\n",
    "len = int(input(\"Enter the length of the rectangle: \"))\n",
    "wid = int(input(\"Enter the width of the rectangle: \"))\n",
    "rect_area = len * wid\n",
    "print(f\"Area of rectangle is: {rect_area} sqft\")"
   ]
  },
  {
   "cell_type": "code",
   "execution_count": 50,
   "metadata": {},
   "outputs": [
    {
     "name": "stdout",
     "output_type": "stream",
     "text": [
      "55 is odd number.\n"
     ]
    }
   ],
   "source": [
    "# Write a Python program to check if a given number is even or odd. Take the input from the user using the input() function.\n",
    "num = int(input(\"Enter a number: \"))\n",
    "if num % 2 == 0:\n",
    "    print(f\"{num} is even number.\")\n",
    "else:\n",
    "    print(f\"{num} is odd number.\")"
   ]
  },
  {
   "cell_type": "code",
   "execution_count": 51,
   "metadata": {},
   "outputs": [
    {
     "name": "stdout",
     "output_type": "stream",
     "text": [
      "2024 is a leap year.\n"
     ]
    }
   ],
   "source": [
    "# Write a Python program to check if a given year is a leap year. Take the year as input from the user using the input() function.\n",
    "year = int(input(\"Enter a year to check whether it is leap year or not: \"))\n",
    "\n",
    "if year % 4 == 0:\n",
    "    if year % 100 == 0:\n",
    "        if year % 400 == 0:\n",
    "            print(f\"{year} is a leap year.\")\n",
    "        else:\n",
    "            print(f\"{year} is not a leap year.\")\n",
    "    else:\n",
    "        print(f\"{year} is a leap year.\")\n",
    "else:\n",
    "    print(f\"{year} is not a leap year.\")"
   ]
  },
  {
   "cell_type": "code",
   "execution_count": 52,
   "metadata": {},
   "outputs": [
    {
     "name": "stdout",
     "output_type": "stream",
     "text": [
      "Factorial of the given number is: 720\n"
     ]
    }
   ],
   "source": [
    "# Write a Python program to calculate the factorial of a given number using a while loop.\n",
    "\n",
    "num = int(input(\"Enter a number: \"))\n",
    "fact = 1\n",
    "while num > 0:\n",
    "    fact = num * fact\n",
    "    num -= 1\n",
    "print(f\"Factorial of the given number is: {fact}\")"
   ]
  },
  {
   "cell_type": "code",
   "execution_count": 53,
   "metadata": {},
   "outputs": [
    {
     "name": "stdout",
     "output_type": "stream",
     "text": [
      "String is palindrome.\n"
     ]
    }
   ],
   "source": [
    "# Write a Python program to check if a given string is a palindrome or not. Take the string as input from the user using the input() function.\n",
    "str = input(\"Enter a string to check if it is palindrome or not: \")\n",
    "\n",
    "if str[::-1] == str:\n",
    "    print(\"String is palindrome.\")\n",
    "else:\n",
    "    print(\"String is not palindrome.\")"
   ]
  },
  {
   "cell_type": "code",
   "execution_count": 54,
   "metadata": {},
   "outputs": [
    {
     "name": "stdout",
     "output_type": "stream",
     "text": [
      "[5, 6, 9, 8]\n",
      "Largest element in the list is 9.\n"
     ]
    }
   ],
   "source": [
    "# Write a Python program to find the largest element in a list. Take the list as input from the user using the input() function.\n",
    "num = input(\"Enter elements of list separated by commas:\")\n",
    "lst = num.split(\",\") # This converts str into list.\n",
    "lst = [int(i) for i in lst] # This converts elements of list from str to integer.\n",
    "print(lst)\n",
    "print(f\"Largest element in the list is {max(lst)}.\")"
   ]
  },
  {
   "cell_type": "code",
   "execution_count": 55,
   "metadata": {},
   "outputs": [
    {
     "name": "stdout",
     "output_type": "stream",
     "text": [
      "List with duplicates: [22, 22, 33, 55, 66, 66]\n",
      "List without duplicates: [33, 66, 22, 55]\n"
     ]
    }
   ],
   "source": [
    "# Write a Python program to remove duplicates from a list.\n",
    "lst = [22,22,33,55,66,66]\n",
    "print(f\"List with duplicates: {lst}\")\n",
    "lst = list(set(lst)) # set() removes duplicates from list.\n",
    "print(f\"List without duplicates: {lst}\")"
   ]
  },
  {
   "cell_type": "code",
   "execution_count": 56,
   "metadata": {},
   "outputs": [
    {
     "name": "stdout",
     "output_type": "stream",
     "text": [
      "List before sorting: ['apple', 'banana', 'orange', 'mango', 'grapes']\n",
      "List after sorting: ['apple', 'banana', 'grapes', 'mango', 'orange']\n"
     ]
    }
   ],
   "source": [
    "# Write a Python program to sort a list of strings in alphabetical order.\n",
    "lst = [\"apple\", \"banana\", \"orange\", \"mango\", \"grapes\"]\n",
    "print(f\"List before sorting: {lst}\")\n",
    "lst.sort()\n",
    "print(f\"List after sorting: {lst}\")\n"
   ]
  },
  {
   "cell_type": "code",
   "execution_count": 57,
   "metadata": {},
   "outputs": [
    {
     "name": "stdout",
     "output_type": "stream",
     "text": [
      "Reverse of the string is: tsal\n"
     ]
    }
   ],
   "source": [
    "# Write a Python program to reverse a string without using the built-in reverse() function.\n",
    "str = input(\"Enter a string to reverse: \")\n",
    "print(f\"Reverse of the string is: {str[::-1]}\")"
   ]
  }
 ],
 "metadata": {
  "kernelspec": {
   "display_name": "base",
   "language": "python",
   "name": "python3"
  },
  "language_info": {
   "codemirror_mode": {
    "name": "ipython",
    "version": 3
   },
   "file_extension": ".py",
   "mimetype": "text/x-python",
   "name": "python",
   "nbconvert_exporter": "python",
   "pygments_lexer": "ipython3",
   "version": "3.9.13"
  },
  "orig_nbformat": 4,
  "vscode": {
   "interpreter": {
    "hash": "6cb2a783fba10e4988f74b94bf4b8ec0c47b621437b0dc0599ccabf2d2cf6b2d"
   }
  }
 },
 "nbformat": 4,
 "nbformat_minor": 2
}
