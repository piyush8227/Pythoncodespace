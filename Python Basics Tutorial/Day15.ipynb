{
 "cells": [
  {
   "cell_type": "code",
   "execution_count": 29,
   "metadata": {},
   "outputs": [
    {
     "name": "stdout",
     "output_type": "stream",
     "text": [
      "[('John', 25), ('Emma', 28), ('Harry', 30)]\n"
     ]
    }
   ],
   "source": [
    "# Write a Python program to create a list of tuples from a given list of dictionaries, \n",
    "# where each tuple contains the values of the corresponding dictionary.\n",
    "# i/p [{'name': 'John', 'age': 25}, {'name': 'Emma', 'age': 28}, {'name': 'Harry', 'age': 30}]\n",
    "# o/p [('John', 25), ('Emma', 28), ('Harry', 30)]\n",
    "\n",
    "lst_dict = [{'name': 'John', 'age': 25}, {'name': 'Emma', 'age': 28}, {'name': 'Harry', 'age': 30}]\n",
    "new_lst = []\n",
    "for i in lst_dict:\n",
    "    name = i['name']\n",
    "    age = i['age']\n",
    "    new_lst.append((name,age))\n",
    "print(new_lst)"
   ]
  },
  {
   "cell_type": "code",
   "execution_count": 30,
   "metadata": {},
   "outputs": [
    {
     "name": "stdout",
     "output_type": "stream",
     "text": [
      "fox quick the\n"
     ]
    }
   ],
   "source": [
    "# Write a Python program to remove all duplicates words from a given sentence and display them in alphabetical order.\n",
    "# i/p \"The quick brown fox jumps over the lazy dog and the quick fox\"\n",
    "# o/p fox quick the\n",
    "\n",
    "sentence = \"The quick brown fox jumps over the lazy dog and the quick fox\"\n",
    "lst = sentence.split()\n",
    "duplicates = []\n",
    "for i in lst:\n",
    "    if lst.count(i) > 1:\n",
    "        duplicates.append(i)\n",
    "duplicates = list(set(duplicates))\n",
    "duplicates.sort()\n",
    "print(\" \".join(duplicates))\n"
   ]
  },
  {
   "cell_type": "code",
   "execution_count": 31,
   "metadata": {},
   "outputs": [
    {
     "name": "stdout",
     "output_type": "stream",
     "text": [
      "quick 2\n",
      "fox 2\n",
      "the 2\n",
      "The 1\n",
      "brown 1\n",
      "jumps 1\n",
      "over 1\n",
      "lazy 1\n",
      "dog 1\n",
      "and 1\n"
     ]
    }
   ],
   "source": [
    "# Write a Python program to count the frequency of words in a given sentence and display them in descending order of their frequency.\n",
    "# input: \"The quick brown fox jumps over the lazy dog and the quick fox\"\n",
    "# output: the 2 quick 2 fox 2 jumps 1 over 1 brown 1 lazy 1 dog 1 and 1\n",
    "\n",
    "sentence = \"The quick brown fox jumps over the lazy dog and the quick fox\"\n",
    "word_freq = {}\n",
    "for word in sentence.split():\n",
    "    if word not in word_freq:\n",
    "        word_freq[word] = 1\n",
    "    else:\n",
    "        word_freq[word] += 1\n",
    "\n",
    "sorted_word_freq = sorted(word_freq.items(), key=lambda x: x[1], reverse=True)\n",
    "\n",
    "for word, freq in sorted_word_freq:\n",
    "    print(word, freq)\n"
   ]
  },
  {
   "cell_type": "code",
   "execution_count": 32,
   "metadata": {},
   "outputs": [],
   "source": [
    "# Write a Python program to find the sum of all the even numbers in a given list.\n",
    "# i/p [1,2,3,4,5,6,7,8,9,10]\n",
    "# o/p 30\n",
    "\n",
    "lst = [1,2,3,4,5,6,7,8,9,10]\n",
    "def sum_of_even_numbers():\n",
    "    sum = 0\n",
    "    for i in lst:\n",
    "        if i%2 == 0:\n",
    "            sum += i\n",
    "    print(sum)"
   ]
  },
  {
   "cell_type": "code",
   "execution_count": 33,
   "metadata": {},
   "outputs": [
    {
     "name": "stdout",
     "output_type": "stream",
     "text": [
      "30\n"
     ]
    }
   ],
   "source": [
    "sum_of_even_numbers()"
   ]
  },
  {
   "cell_type": "code",
   "execution_count": 34,
   "metadata": {},
   "outputs": [
    {
     "data": {
      "text/plain": [
       "[4, 5]"
      ]
     },
     "execution_count": 34,
     "metadata": {},
     "output_type": "execute_result"
    }
   ],
   "source": [
    "# Write a Python program to find the common elements between two lists.\n",
    "# i/p: [1, 2, 3, 4, 5], [4, 5, 6, 7, 8]\n",
    "# o/p: [4, 5]\n",
    "lst1 = [1, 2, 3, 4, 5]\n",
    "lst2 = [4, 5, 6, 7, 8]\n",
    "set1 = set(lst1)\n",
    "set2 = set(lst2)\n",
    "\n",
    "list(set1.intersection(set2))"
   ]
  },
  {
   "cell_type": "code",
   "execution_count": 35,
   "metadata": {},
   "outputs": [
    {
     "name": "stdout",
     "output_type": "stream",
     "text": [
      "[34, 39, 56, 76, 232, 323, 535]\n"
     ]
    }
   ],
   "source": [
    "# Write a Python program to remove all the duplicate elements from a list and print the sorted list.\n",
    "# i/p: [39,56,323,232,323,535,76,34]\n",
    "# o/p: [34, 39, 56, 76, 232, 323, 535]\n",
    "\n",
    "lst = [39,56,323,232,323,535,76,34,232]\n",
    "\n",
    "new_lst = []\n",
    "\n",
    "for i in lst:\n",
    "    if i not in new_lst:\n",
    "        new_lst.append(i)\n",
    "new_lst = sorted(new_lst)\n",
    "print(new_lst)"
   ]
  },
  {
   "cell_type": "code",
   "execution_count": 36,
   "metadata": {},
   "outputs": [
    {
     "name": "stdout",
     "output_type": "stream",
     "text": [
      "Second largest element in list is:  535\n"
     ]
    }
   ],
   "source": [
    "# Write a Python program to find the second largest number in a list.\n",
    "# i/p: [39,56,323,232,535,76,34,1000]\n",
    "# o/p: Second largest element in list is:  535\n",
    "\n",
    "lst = [39,56,323,232,535,76,34,1000]\n",
    "def second_largest():\n",
    "    sorted_list = sorted(lst)\n",
    "    print(\"Second largest element in list is: \",sorted_list[-2])\n",
    "\n",
    "second_largest()"
   ]
  },
  {
   "cell_type": "code",
   "execution_count": 37,
   "metadata": {},
   "outputs": [
    {
     "name": "stdout",
     "output_type": "stream",
     "text": [
      "[3, 4]\n"
     ]
    }
   ],
   "source": [
    "# Write a Python program to find the intersection of two lists.\n",
    "# i/p: [1, 2, 3, 4], [3, 4, 5, 6]\n",
    "# o/p: [3, 4]\n",
    "\n",
    "lst1 = [1, 2, 3, 4]\n",
    "lst2 = [3, 4, 5, 6]\n",
    "\n",
    "def list_intersection():\n",
    "    set1 = set(lst1)\n",
    "    set2 = set(lst2)\n",
    "\n",
    "    result = list(set1.intersection(set2))\n",
    "    print(result)\n",
    "\n",
    "list_intersection()"
   ]
  },
  {
   "cell_type": "code",
   "execution_count": 40,
   "metadata": {},
   "outputs": [
    {
     "name": "stdout",
     "output_type": "stream",
     "text": [
      "{'Data': 1, 'science': 1, 'is': 1, 'an': 1, 'interdisciplinary': 1, 'field': 1, 'that': 1, 'uses': 1, 'scientific': 1, 'methods,': 1, 'processes,': 1, 'algorithms': 1, 'and': 3, 'systems': 1, 'to': 1, 'extract': 1, 'knowledge': 1, 'insights': 1, 'from': 1, 'structured': 1, 'unstructured': 1, 'data.': 1}\n"
     ]
    }
   ],
   "source": [
    "# Write a Python program to count the frequency of each word in a given sentence using a dictionary.\n",
    "# i/p: \"Data science is an interdisciplinary field that uses scientific methods, processes, algorithms and systems to extract knowledge and insights from structured and unstructured data.\"\n",
    "# o/p: {'Data': 1, 'science': 1, 'is': 1, 'an': 1, 'interdisciplinary': 1, 'field': 1, 'that': 1, 'uses': 1,\n",
    "#       'scientific': 1, 'methods,': 1, 'processes,': 1, 'algorithms': 1, 'and': 2, 'systems': 1, 'to': 2, \n",
    "#       'extract': 1, 'knowledge': 1, 'insights': 1, 'from': 1, 'structured': 1, 'unstructured': 1, 'data.': 1}\n",
    "\n",
    "sentence = \"Data science is an interdisciplinary field that uses scientific methods, processes, algorithms and systems to extract knowledge and insights from structured and unstructured data.\"\n",
    "def word_freq():\n",
    "    word_list = sentence.split()\n",
    "    freq_dict = {k: word_list.count(k)  for k in word_list}\n",
    "    print(freq_dict)\n",
    "\n",
    "word_freq()"
   ]
  },
  {
   "cell_type": "code",
   "execution_count": 41,
   "metadata": {},
   "outputs": [
    {
     "data": {
      "text/plain": [
       "{10: 2, 20: 2, 30: 1, 40: 1}"
      ]
     },
     "execution_count": 41,
     "metadata": {},
     "output_type": "execute_result"
    }
   ],
   "source": [
    "# Write a Python program to create a dictionary from a given list where the keys are the unique elements in the list and the values are the number of times each element appears in the list.\n",
    "# i/p: [10, 20, 30, 20, 40, 10]\n",
    "# o/p: {10: 2, 20: 2, 30: 1, 40: 1}\n",
    "\n",
    "lst = [10, 20, 30, 20, 40, 10]\n",
    "\n",
    "def element_freq():\n",
    "    freq_dict = {k: lst.count(k) for k in lst}\n",
    "    return freq_dict\n",
    "\n",
    "element_freq()"
   ]
  },
  {
   "cell_type": "code",
   "execution_count": 49,
   "metadata": {},
   "outputs": [
    {
     "data": {
      "text/plain": [
       "True"
      ]
     },
     "execution_count": 49,
     "metadata": {},
     "output_type": "execute_result"
    }
   ],
   "source": [
    "# Write a Python program to check if two given sets have any elements in common.\n",
    "# i/p: {1, 2, 3}, {3, 4, 5}\n",
    "# o/p: True\n",
    "\n",
    "set1 = {1, 2, 3}\n",
    "set2 = {3, 4, 5}\n",
    "\n",
    "def common_elements():\n",
    "    if set1.intersection(set2):\n",
    "        return True\n",
    "    else:\n",
    "        return False\n",
    "\n",
    "common_elements()\n"
   ]
  },
  {
   "cell_type": "code",
   "execution_count": 51,
   "metadata": {},
   "outputs": [
    {
     "data": {
      "text/plain": [
       "2"
      ]
     },
     "execution_count": 51,
     "metadata": {},
     "output_type": "execute_result"
    }
   ],
   "source": [
    "# Write a Python program to find the index of the first occurrence of an element in a given list.\n",
    "# Example Input: [10, 20, 30, 40, 50], 30\n",
    "# Expected Output: 2\n",
    "\n",
    "lst = [10, 20, 30, 40, 50]\n",
    "def first_occurrence():\n",
    "    return lst.index(30)\n",
    "\n",
    "first_occurrence()"
   ]
  }
 ],
 "metadata": {
  "kernelspec": {
   "display_name": "base",
   "language": "python",
   "name": "python3"
  },
  "language_info": {
   "codemirror_mode": {
    "name": "ipython",
    "version": 3
   },
   "file_extension": ".py",
   "mimetype": "text/x-python",
   "name": "python",
   "nbconvert_exporter": "python",
   "pygments_lexer": "ipython3",
   "version": "3.9.13"
  },
  "orig_nbformat": 4
 },
 "nbformat": 4,
 "nbformat_minor": 2
}
