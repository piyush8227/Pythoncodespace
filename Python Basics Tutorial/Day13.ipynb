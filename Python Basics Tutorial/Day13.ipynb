{
 "cells": [
  {
   "cell_type": "code",
   "execution_count": 11,
   "metadata": {},
   "outputs": [
    {
     "name": "stdout",
     "output_type": "stream",
     "text": [
      "\n",
      "1\n",
      "\tName: Piyush\n",
      "\tAge: 23\n",
      "\tSalary: 50000\n",
      "\tDepartment: Data Analyst\n",
      "\n",
      "2\n",
      "\tName: Raj\n",
      "\tAge: 25\n",
      "\tSalary: 58000\n",
      "\tDepartment: HR\n"
     ]
    }
   ],
   "source": [
    "# DEVELOP EMP DATA BANK USING DICTIONARY\n",
    "emp_data_bank = {}\n",
    "\n",
    "while True:\n",
    "    emp_id = input(\"Enter Employee id no: or 'quit' to exit\")\n",
    "    \n",
    "    # To stop taking data we use break condition if 'quit' is encountered in emp_id\n",
    "    if emp_id == 'quit':\n",
    "        break\n",
    "\n",
    "    # Gathering employee information\n",
    "    name = input('Enter Employee name: ')\n",
    "    age = input('Enter age of Employee: ')\n",
    "    salary = input('Enter salary of Employee: ')\n",
    "    department = input(\"Enter Department of Employee: \")\n",
    "\n",
    "    # Adding data to dictionary\n",
    "    emp_data_bank[emp_id] = {'name': name,'age': age, 'salary': salary, 'department': department}\n",
    "\n",
    "# Printing dictionary\n",
    "\n",
    "for i in emp_data_bank:\n",
    "    print(f'\\n{i}')\n",
    "    print(f\"\\tName: {emp_data_bank[i]['name']}\")\n",
    "    print(f\"\\tAge: {emp_data_bank[i]['age']}\")\n",
    "    print(f\"\\tSalary: {emp_data_bank[i]['salary']}\")\n",
    "    print(f\"\\tDepartment: {emp_data_bank[i]['department']}\")"
   ]
  }
 ],
 "metadata": {
  "kernelspec": {
   "display_name": "base",
   "language": "python",
   "name": "python3"
  },
  "language_info": {
   "codemirror_mode": {
    "name": "ipython",
    "version": 3
   },
   "file_extension": ".py",
   "mimetype": "text/x-python",
   "name": "python",
   "nbconvert_exporter": "python",
   "pygments_lexer": "ipython3",
   "version": "3.9.13"
  },
  "orig_nbformat": 4
 },
 "nbformat": 4,
 "nbformat_minor": 2
}
