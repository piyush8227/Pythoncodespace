{
 "cells": [
  {
   "cell_type": "code",
   "execution_count": 44,
   "metadata": {},
   "outputs": [
    {
     "name": "stdout",
     "output_type": "stream",
     "text": [
      "Things: 6\n"
     ]
    }
   ],
   "source": [
    "# WAP to print word along with its length.\n",
    "word = input(\"Enter a word\")\n",
    "length = len(word)\n",
    "print(f\"{word}: {length}\")"
   ]
  },
  {
   "cell_type": "code",
   "execution_count": 53,
   "metadata": {},
   "outputs": [
    {
     "name": "stdout",
     "output_type": "stream",
     "text": [
      "Unique_vowel: u\n"
     ]
    }
   ],
   "source": [
    "# WAP to print unique vowels in a string.\n",
    "str = 'This is a python tutorial for all E-class'\n",
    "\n",
    "for i in 'aeiou':\n",
    "    count = str.count(i)\n",
    "    if count == 1:\n",
    "        print(\"Unique_vowel:\", i)"
   ]
  },
  {
   "cell_type": "code",
   "execution_count": 3,
   "metadata": {},
   "outputs": [
    {
     "name": "stdout",
     "output_type": "stream",
     "text": [
      "[['ANCDE', 5], ['print', 5], ['for', 3], ['while', 5]]\n"
     ]
    }
   ],
   "source": [
    "# WAP to create a list of list where inner list contains word along with its length.\n",
    "words = ['ANCDE','print','for','while']\n",
    "new_lst = []\n",
    "for word in words:\n",
    "    new_lst.append([word,len(word)])\n",
    "print(new_lst)\n"
   ]
  }
 ],
 "metadata": {
  "kernelspec": {
   "display_name": "base",
   "language": "python",
   "name": "python3"
  },
  "language_info": {
   "codemirror_mode": {
    "name": "ipython",
    "version": 3
   },
   "file_extension": ".py",
   "mimetype": "text/x-python",
   "name": "python",
   "nbconvert_exporter": "python",
   "pygments_lexer": "ipython3",
   "version": "3.9.13"
  },
  "orig_nbformat": 4
 },
 "nbformat": 4,
 "nbformat_minor": 2
}
