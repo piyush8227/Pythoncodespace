{
 "cells": [
  {
   "cell_type": "code",
   "execution_count": 4,
   "metadata": {},
   "outputs": [
    {
     "data": {
      "text/plain": [
       "12"
      ]
     },
     "execution_count": 4,
     "metadata": {},
     "output_type": "execute_result"
    }
   ],
   "source": [
    "# Write a Python function that takes in a list of numbers and returns the sum of all even numbers in the list.\n",
    "# Input: [1, 2, 3, 4, 5, 6]\n",
    "# Output: 12\n",
    "\n",
    "def sum_even_numbers():\n",
    "    num_lst = input(\"Enter a list of numbers separated by commas: \").split()\n",
    "    num_lst = [int(i) for i in num_lst]\n",
    "\n",
    "    sum = 0\n",
    "    for i in num_lst:\n",
    "        if i%2 == 0:\n",
    "            sum += i\n",
    "    return sum\n",
    "sum_even_numbers()"
   ]
  },
  {
   "cell_type": "code",
   "execution_count": 7,
   "metadata": {},
   "outputs": [
    {
     "name": "stdout",
     "output_type": "stream",
     "text": [
      "2\n"
     ]
    }
   ],
   "source": [
    "# Write a Python function that takes in a sentence and a word, and returns the number of times the word appears in the sentence.\n",
    "# Input: \"The quick brown fox jumps over the lazy dog\", \"the\"\n",
    "# Output: 2\n",
    "\n",
    "def word_count():\n",
    "    # Taking inputs\n",
    "    sentence = input(\"Enter a sentence: \")\n",
    "    word = input(\"Enter a word to find count: \")\n",
    "\n",
    "    # Converting sentence to lower case and using count method to find the count of the word\n",
    "    word_count = sentence.lower().count(word)\n",
    "\n",
    "    # Printing the count\n",
    "    print(word_count)\n",
    "word_count()"
   ]
  },
  {
   "cell_type": "code",
   "execution_count": 14,
   "metadata": {},
   "outputs": [
    {
     "name": "stdout",
     "output_type": "stream",
     "text": [
      "elephant\n"
     ]
    }
   ],
   "source": [
    "# Write a Python function that takes in a list of strings and returns the longest string in the list.\n",
    "# Input: [\"cat\", \"dog\", \"elephant\", \"lion\"]\n",
    "# Output: \"elephant\"\n",
    "\n",
    "def longest_string():\n",
    "    lst = input(\"Enter a list of strings separated by commas: \").split()\n",
    "    \n",
    "    # Finding the longest string in the list\n",
    "    for i in lst:\n",
    "        if len(i) == max(len(i) for i in lst):\n",
    "            print(i)\n",
    "longest_string()"
   ]
  },
  {
   "cell_type": "code",
   "execution_count": 24,
   "metadata": {},
   "outputs": [
    {
     "data": {
      "text/plain": [
       "(5, 1)"
      ]
     },
     "execution_count": 24,
     "metadata": {},
     "output_type": "execute_result"
    }
   ],
   "source": [
    "# Write a Python function that takes in a list of numbers and returns the highest and lowest numbers in the list.\n",
    "# Input: [1, 2, 3, 4, 5]\n",
    "# Output: (5, 1)\n",
    "\n",
    "def high_low_num():\n",
    "    num_lst = input(\"Enter numbers separated by comma: \").split()\n",
    "    num_lst = [int(i) for i in num_lst]\n",
    "    \n",
    "    return (max(num_lst), min(num_lst))\n",
    "\n",
    "high_low_num()"
   ]
  },
  {
   "cell_type": "code",
   "execution_count": 27,
   "metadata": {},
   "outputs": [
    {
     "data": {
      "text/plain": [
       "['Apple', 'Banana', 'Cherry']"
      ]
     },
     "execution_count": 27,
     "metadata": {},
     "output_type": "execute_result"
    }
   ],
   "source": [
    "# Write a Python function that takes in a list of strings and returns a new list with the first letter of each string capitalized.\n",
    "# Input: [\"apple\", \"banana\", \"cherry\"]\n",
    "# Output: [\"Apple\", \"Banana\", \"Cherry\"]\n",
    "\n",
    "def capitalize():\n",
    "    string_lst = input(\"Enter a list of strings separated by commas: \").split()\n",
    "\n",
    "    # Capitalizing the first letter of each string in the list\n",
    "    new_lst = []\n",
    "    for i in string_lst:\n",
    "        new_lst.append(i.capitalize())\n",
    "    return new_lst\n",
    "capitalize()"
   ]
  }
 ],
 "metadata": {
  "kernelspec": {
   "display_name": "base",
   "language": "python",
   "name": "python3"
  },
  "language_info": {
   "codemirror_mode": {
    "name": "ipython",
    "version": 3
   },
   "file_extension": ".py",
   "mimetype": "text/x-python",
   "name": "python",
   "nbconvert_exporter": "python",
   "pygments_lexer": "ipython3",
   "version": "3.9.13"
  },
  "orig_nbformat": 4
 },
 "nbformat": 4,
 "nbformat_minor": 2
}
