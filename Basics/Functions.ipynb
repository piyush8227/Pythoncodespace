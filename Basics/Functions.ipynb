{
 "cells": [
  {
   "attachments": {},
   "cell_type": "markdown",
   "metadata": {},
   "source": [
    "## **Functions in python**\n",
    "* Main advantage of functions is code reusability.\n",
    "* Functions are defined using the keyword **def**.\n",
    "* Functions should be 1-20 lines of code."
   ]
  },
  {
   "attachments": {},
   "cell_type": "markdown",
   "metadata": {},
   "source": [
    "#### **General categories of functions.**\n",
    "* No argument and no return value.\n",
    "* No argument and return value.\n",
    "* Argument and no return value.\n",
    "* Argument and return value."
   ]
  },
  {
   "cell_type": "code",
   "execution_count": 4,
   "metadata": {},
   "outputs": [
    {
     "name": "stdout",
     "output_type": "stream",
     "text": [
      "HEllO World\n"
     ]
    }
   ],
   "source": [
    "# No argument with no return value\n",
    "def foo(): # Definition of function.\n",
    "    print(\"HEllO World\") # Body of function\n",
    "\n",
    "foo() # Function calling."
   ]
  },
  {
   "cell_type": "code",
   "execution_count": 2,
   "metadata": {},
   "outputs": [
    {
     "name": "stdout",
     "output_type": "stream",
     "text": [
      "37\n"
     ]
    }
   ],
   "source": [
    "# No argument but return value\n",
    "def foo():\n",
    "    a = 34\n",
    "    b = 3\n",
    "    s = a + b\n",
    "    print(s)\n",
    "foo()"
   ]
  },
  {
   "cell_type": "code",
   "execution_count": 6,
   "metadata": {},
   "outputs": [
    {
     "name": "stdout",
     "output_type": "stream",
     "text": [
      "55\n"
     ]
    }
   ],
   "source": [
    "# Argument with no return value\n",
    "def foo(a,b):\n",
    "    print(a+b)\n",
    "\n",
    "foo(23,32)"
   ]
  },
  {
   "cell_type": "code",
   "execution_count": 7,
   "metadata": {},
   "outputs": [
    {
     "name": "stdout",
     "output_type": "stream",
     "text": [
      "314.0\n"
     ]
    }
   ],
   "source": [
    "#Argument with return value\n",
    "def foo(r):\n",
    "    a = 3.14 * r**2\n",
    "    return a\n",
    "a = foo(10)\n",
    "print(a)"
   ]
  },
  {
   "attachments": {},
   "cell_type": "markdown",
   "metadata": {},
   "source": [
    "#### **General types of functions**\n",
    "* Built-in functions: These are predefined functions in python. Example: print(), input(), type(), len(), etc.\n",
    "* User defined functions: These are defined by the user or programmer."
   ]
  },
  {
   "attachments": {},
   "cell_type": "markdown",
   "metadata": {},
   "source": [
    "#### **Syntax of a function**\n",
    "* def function_name():\n",
    "*     # function body\n",
    "*     # function body"
   ]
  },
  {
   "attachments": {},
   "cell_type": "markdown",
   "metadata": {},
   "source": [
    "#### **Argument**\n",
    "* An argument is a value that is passed to a function when it is called.\n",
    "* Arguments are specified after the function name, inside the parentheses. You can add as many arguments as you want, just separate them with a comma.\n",
    "* Example: def foo(a, b, c): print(a, b, c)  foo(2,3,4) here 2,3,4 are arguments.\n",
    "#### **Types of Arguments**\n",
    "* Positional arguments: These are the arguments that are passed to the function in the same order as they are defined in the function.\n",
    "* Keyword arguments: These are the arguments that are passed to the function using the keyword.\n",
    "* Default arguments: These are the arguments that are passed to the function when no value is passed to the function.\n",
    "* Variable length arguments: These are the arguments that are passed to the function when the number of arguments is not known."
   ]
  },
  {
   "attachments": {},
   "cell_type": "markdown",
   "metadata": {},
   "source": [
    "#### **Parameter(Formal argument)**\n",
    "* A parameter is a variable defined at the time of function definition.\n",
    "* Example: def foo(a, b, c) here a, b, c are parameters."
   ]
  },
  {
   "attachments": {},
   "cell_type": "markdown",
   "metadata": {},
   "source": [
    "#### **Assignment**\n",
    "* WAP to print whether a number is prime or not."
   ]
  },
  {
   "cell_type": "code",
   "execution_count": 9,
   "metadata": {},
   "outputs": [
    {
     "name": "stdout",
     "output_type": "stream",
     "text": [
      "Prime number\n"
     ]
    }
   ],
   "source": [
    "def prime(n):\n",
    "    i = 2\n",
    "    while i <= n//2:\n",
    "        if n % i == 0:\n",
    "            print(\"Not a prime number\")\n",
    "            break\n",
    "        i += 1\n",
    "    else:\n",
    "        print(\"Prime number\")\n",
    "\n",
    "prime(17)"
   ]
  },
  {
   "cell_type": "code",
   "execution_count": 2,
   "metadata": {},
   "outputs": [
    {
     "name": "stdout",
     "output_type": "stream",
     "text": [
      "1000\n",
      "345\n"
     ]
    }
   ],
   "source": [
    "a = 345 # Global variable\n",
    "\n",
    "def foo():\n",
    "    a = 1000 # Local variable\n",
    "    print(a)\n",
    "foo()\n",
    "print(a)"
   ]
  }
 ],
 "metadata": {
  "kernelspec": {
   "display_name": "base",
   "language": "python",
   "name": "python3"
  },
  "language_info": {
   "codemirror_mode": {
    "name": "ipython",
    "version": 3
   },
   "file_extension": ".py",
   "mimetype": "text/x-python",
   "name": "python",
   "nbconvert_exporter": "python",
   "pygments_lexer": "ipython3",
   "version": "3.9.13"
  },
  "orig_nbformat": 4
 },
 "nbformat": 4,
 "nbformat_minor": 2
}
