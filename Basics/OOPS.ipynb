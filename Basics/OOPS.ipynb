{
 "cells": [
  {
   "attachments": {},
   "cell_type": "markdown",
   "metadata": {},
   "source": [
    "## **OOPS Concepts**"
   ]
  },
  {
   "attachments": {},
   "cell_type": "markdown",
   "metadata": {},
   "source": [
    "**What is Class ?**\n",
    "* A class is a plan or model or a blue print to create object."
   ]
  },
  {
   "attachments": {},
   "cell_type": "markdown",
   "metadata": {},
   "source": [
    "**What is object?**\n",
    "* Object is instance of the class."
   ]
  },
  {
   "attachments": {},
   "cell_type": "markdown",
   "metadata": {},
   "source": [
    "**What is self variable ?**\n",
    "* It represents the current object."
   ]
  },
  {
   "cell_type": "code",
   "execution_count": 4,
   "metadata": {},
   "outputs": [
    {
     "name": "stdout",
     "output_type": "stream",
     "text": [
      "40\n"
     ]
    }
   ],
   "source": [
    "class Test:\n",
    "    a = 30 # Variable definition\n",
    "    \n",
    "    def m1(self,a,b): # Method definition\n",
    "        # self.a = 20\n",
    "        # self.b = 34\n",
    "        print(a + b)\n",
    "\n",
    "t = Test() ### Object deefining\n",
    "t.m1(10,30) # Method calling"
   ]
  },
  {
   "attachments": {},
   "cell_type": "markdown",
   "metadata": {},
   "source": [
    "**What is constructor ?**\n",
    "1. Constructor is a special method\n",
    "2. Name of the constructor is  **__init__(self, a1, a2, a3, ….)**\n",
    "3. It gets executed automatically.\n",
    "4. The main purpose of constructor is to intialize instance variable.\n",
    "5. Constructor is optional, if you want you can write the constructor, otherwise you can ignore it. Default constructor will be executed to initialize the object."
   ]
  },
  {
   "cell_type": "code",
   "execution_count": 5,
   "metadata": {},
   "outputs": [
    {
     "name": "stdout",
     "output_type": "stream",
     "text": [
      "5\n"
     ]
    }
   ],
   "source": [
    "class Test:\n",
    "    def __init__(self, a, b):\n",
    "        self.a = a\n",
    "        self.b = b\n",
    "    def m1(self): # Method definition\n",
    "        print(self.a + self.b)\n",
    "\n",
    "t = Test(2,3) ### Object deefining\n",
    "t.m1() # Method calling"
   ]
  },
  {
   "attachments": {},
   "cell_type": "markdown",
   "metadata": {},
   "source": [
    "### **Different variables in a class**\n",
    "* Instance variable( object level variable):\n",
    "    1. If the value of the variable varies from object to object, then it is known as Instance variables.\n",
    "    2. For every object separate copy of instance variable will be created.\n",
    "    3. Where we can declare instance variable.\n",
    "        * Inside the constructor\n",
    "        * Inside the method\n",
    "        * Outside the class\n",
    "* Static variable(Class Level variable):\n",
    "    1. There is only one copy of the static variable and the same will be shared with all the objects.\n",
    "    2. We can access the static variable by class name or by using object reference. It is highly recommended to use class name.\n",
    "    3. Various places to define the static variable:\n",
    "        * Inside the class outside of all the method.\n",
    "        * Inside the constructor using class name.\n",
    "        * Inside the instance method using class name.\n",
    "        * Inside the class method using cls or class name.\n",
    "        * Inside the static method using class name.\n",
    "* Local variable( Method level variable):\n",
    "    1. Any variable inside the method not declared using self variable."
   ]
  },
  {
   "attachments": {},
   "cell_type": "markdown",
   "metadata": {},
   "source": [
    "## **Variables types**"
   ]
  },
  {
   "cell_type": "code",
   "execution_count": 9,
   "metadata": {},
   "outputs": [
    {
     "name": "stdout",
     "output_type": "stream",
     "text": [
      "200 300\n"
     ]
    }
   ],
   "source": [
    "class Demo:\n",
    "    def __init__(self,a,b):\n",
    "        self.c = a\n",
    "        self.d = b\n",
    "    def m1(self):\n",
    "        self.a = 100\n",
    "\n",
    "    def display(self):\n",
    "        print(self.c,self.d)\n",
    "\n",
    "d = Demo(1,2)\n",
    "d2 = Demo(200,300)\n",
    "d2.display()\n",
    "# d.b = 34"
   ]
  },
  {
   "attachments": {},
   "cell_type": "markdown",
   "metadata": {},
   "source": [
    "### **Different methods in a class** \n",
    "1. Instance method:\n",
    "    * If we are using only instance variable inside the method, then that method is known as instance method.\n",
    "    * Method where we use variable self in its definition.\n",
    "2. Class method: \n",
    "    * If we are using only class variable or the static variable inside our method, then declare that method as class method.\n",
    "    * To define the method as class method we have to use @classmethod decorator explicitly.\n",
    "    * We can call these method by using class name of object reference.\n",
    "3. Static method:\n",
    "    * These methods are generally utility methods.\n",
    "    * Inside these method we won’t use any instance or class variable.\n",
    "    * To declare these methods we have to use @staticmethod decorator explicitly.\n",
    "    * We can access these methods either by using class name or by using object reference."
   ]
  },
  {
   "cell_type": "markdown",
   "metadata": {},
   "source": []
  },
  {
   "cell_type": "code",
   "execution_count": 3,
   "metadata": {},
   "outputs": [
    {
     "name": "stdout",
     "output_type": "stream",
     "text": [
      "No of cylinder\n",
      "4\n"
     ]
    }
   ],
   "source": [
    "class Engine:\n",
    "    cylinder = 4\n",
    "    def m1(self):\n",
    "        print('My Car engine is 4 cylinder')\n",
    "    \n",
    "class Car:\n",
    "    def __init__(self):\n",
    "        self.engine = Engine()\n",
    "\n",
    "    def m2(self):\n",
    "        print('No of cylinder')\n",
    "        print(self.engine.cylinder)\n",
    "\n",
    "c = Car()\n",
    "c.m2()"
   ]
  },
  {
   "cell_type": "code",
   "execution_count": 7,
   "metadata": {},
   "outputs": [
    {
     "name": "stdout",
     "output_type": "stream",
     "text": [
      "m1 method\n",
      "m2 method\n",
      "m3 method\n"
     ]
    }
   ],
   "source": [
    "# Inheritance\n",
    "class A:\n",
    "    def m1(self):\n",
    "        print('m1 method')\n",
    "\n",
    "class B(A):\n",
    "    def m2(self):\n",
    "        print('m2 method')\n",
    "\n",
    "class C(B):\n",
    "    def m3(self):\n",
    "        print('m3 method')\n",
    "\n",
    "c = C()\n",
    "c.m1()\n",
    "c.m2()\n",
    "c.m3()"
   ]
  },
  {
   "cell_type": "code",
   "execution_count": 9,
   "metadata": {},
   "outputs": [
    {
     "name": "stdout",
     "output_type": "stream",
     "text": [
      "m1 method\n",
      "m2 method\n",
      "m1 method\n",
      "m3 method\n"
     ]
    }
   ],
   "source": [
    "class A:\n",
    "    def m1(self):\n",
    "        print('m1 method')\n",
    "\n",
    "class B(A):\n",
    "    def m2(self):\n",
    "        print('m2 method')\n",
    "\n",
    "class C(A):\n",
    "    def m3(self):\n",
    "        print('m3 method')\n",
    "\n",
    "c=C()\n",
    "b=B()\n",
    "\n",
    "b.m1()\n",
    "b.m2()\n",
    "\n",
    "c.m1()\n",
    "c.m3()"
   ]
  },
  {
   "cell_type": "code",
   "execution_count": 10,
   "metadata": {},
   "outputs": [
    {
     "name": "stdout",
     "output_type": "stream",
     "text": [
      "m1 method\n",
      "m2 method\n",
      "m3 method\n"
     ]
    }
   ],
   "source": [
    "class A:\n",
    "    def m1(self):\n",
    "        print('m1 method')\n",
    "\n",
    "class B:\n",
    "    def m2(self):\n",
    "        print('m2 method')\n",
    "\n",
    "class C(A,B):\n",
    "    def m3(self):\n",
    "        print('m3 method')\n",
    "\n",
    "c=C()\n",
    "c.m1()\n",
    "c.m2()\n",
    "c.m3()"
   ]
  },
  {
   "cell_type": "code",
   "execution_count": 12,
   "metadata": {},
   "outputs": [
    {
     "data": {
      "text/plain": [
       "True"
      ]
     },
     "execution_count": 12,
     "metadata": {},
     "output_type": "execute_result"
    }
   ],
   "source": [
    "#  Operator overloading\n",
    "class Student:\n",
    "    def __init__(self, name, marks):\n",
    "        self.name = name\n",
    "        self.marks = marks\n",
    "    def __gt__(self, other):\n",
    "        return self.marks > other.marks\n",
    "\n",
    "s1 = Student('Piyush',25)\n",
    "s2 = Student('Jay',50)\n",
    "s1 < s2\n"
   ]
  }
 ],
 "metadata": {
  "kernelspec": {
   "display_name": "base",
   "language": "python",
   "name": "python3"
  },
  "language_info": {
   "codemirror_mode": {
    "name": "ipython",
    "version": 3
   },
   "file_extension": ".py",
   "mimetype": "text/x-python",
   "name": "python",
   "nbconvert_exporter": "python",
   "pygments_lexer": "ipython3",
   "version": "3.9.13"
  },
  "orig_nbformat": 4
 },
 "nbformat": 4,
 "nbformat_minor": 2
}
