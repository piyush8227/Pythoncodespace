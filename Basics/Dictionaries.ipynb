{
 "cells": [
  {
   "attachments": {},
   "cell_type": "markdown",
   "metadata": {},
   "source": [
    "## **Dictionary Data structure**\n",
    "* A dictionary is a heterogenous collection of key-value pairs.\n",
    "* Insertion order is not preserved.\n",
    "* Slicing and indexing is not applicable.\n",
    "* Duplicate keys are not allowed, but duplicate values are allowed.\n",
    "* If we try to add duplicate key value pair, keys will remain the same but the values will be replaced with the new value.\n"
   ]
  },
  {
   "attachments": {},
   "cell_type": "markdown",
   "metadata": {},
   "source": [
    "### **Creating a dictionary**\n",
    "* Empty dictionary: \n",
    "    * d = {}\n",
    "    * dictionary = dict()\n",
    "* With pre-defined key-value pairs:\n",
    "    * d = {key1:value1, key2:value2, key3:value3}\n",
    "    * dictionary = dict(key1=value1, key2=value2, key3=value3)\n",
    "    * dictionary = dict([(key1, value1), (key2, value2), (key3, value3)])"
   ]
  },
  {
   "cell_type": "code",
   "execution_count": 4,
   "metadata": {},
   "outputs": [
    {
     "name": "stdout",
     "output_type": "stream",
     "text": [
      "<class 'dict'>\n",
      "<class 'dict'>\n"
     ]
    }
   ],
   "source": [
    "# empty dictionary\n",
    "d = {}\n",
    "print(type(d))\n",
    "\n",
    "d2 = dict()\n",
    "print(type(d2))"
   ]
  },
  {
   "cell_type": "code",
   "execution_count": 5,
   "metadata": {},
   "outputs": [
    {
     "name": "stdout",
     "output_type": "stream",
     "text": [
      "{'apple': 100, 'orange': 150, 'banana': 200}\n"
     ]
    }
   ],
   "source": [
    "# With pre-defined values\n",
    "fruit_price = {'apple': 100, 'orange': 150, 'banana': 200}\n",
    "print(fruit_price)"
   ]
  },
  {
   "cell_type": "code",
   "execution_count": 6,
   "metadata": {},
   "outputs": [
    {
     "name": "stdout",
     "output_type": "stream",
     "text": [
      "{'mobile': 20000, 'laptop': 50000, 'TV': 100000}\n"
     ]
    }
   ],
   "source": [
    "gadget_price = dict([('mobile',20000),('laptop',50000),('TV',100000)]) # Using list\n",
    "print(gadget_price)"
   ]
  },
  {
   "cell_type": "code",
   "execution_count": 10,
   "metadata": {},
   "outputs": [
    {
     "name": "stdout",
     "output_type": "stream",
     "text": [
      "{'name1': 'Raj', 'name2': 'Ravi', 'name3': 'Ramesh'}\n"
     ]
    }
   ],
   "source": [
    "# dictionary = dict(key1=value1, key2=value2, key3=value3)\n",
    "stud_name = dict(name1='Raj', name2='Ravi', name3='Ramesh')\n",
    "print(stud_name)"
   ]
  },
  {
   "attachments": {},
   "cell_type": "markdown",
   "metadata": {},
   "source": [
    "### **Accessing elements**\n",
    "* dict[key] : Returns the value of the key."
   ]
  },
  {
   "cell_type": "code",
   "execution_count": 12,
   "metadata": {},
   "outputs": [
    {
     "name": "stdout",
     "output_type": "stream",
     "text": [
      "Raj Ravi Ramesh\n"
     ]
    }
   ],
   "source": [
    "stud_name = dict(name1='Raj', name2='Ravi', name3='Ramesh')\n",
    "student_1 = stud_name['name1']\n",
    "student_2 = stud_name['name2']\n",
    "student_3 = stud_name['name3']\n",
    "print(student_1, student_2, student_3)"
   ]
  },
  {
   "cell_type": "code",
   "execution_count": 18,
   "metadata": {},
   "outputs": [
    {
     "name": "stdout",
     "output_type": "stream",
     "text": [
      "Aarav\n",
      "{'name': 'Aryan', 'age': 11, 'class': 6}\n",
      "12\n"
     ]
    }
   ],
   "source": [
    "stud_data = {1:{'name': 'Aarav', 'age': 10, 'class': 5}, \n",
    "             2:{'name': 'Aryan', 'age': 11, 'class': 6}, \n",
    "             3:{'name': 'Aaradhya', 'age': 12, 'class': 7},\n",
    "             4:{'name': 'Aarohi', 'age': 13, 'class': 8},\n",
    "             5:{'name': 'Aarush', 'age': 14, 'class': 9}}\n",
    "# Accessing the data\n",
    "# Name of first student\n",
    "print(stud_data[1]['name'])\n",
    "\n",
    "# Data of second student\n",
    "print(stud_data[2])\n",
    "\n",
    "# Age of third student\n",
    "print(stud_data[3]['age'])"
   ]
  },
  {
   "attachments": {},
   "cell_type": "markdown",
   "metadata": {},
   "source": [
    "### **Important functions and methods of dictionary**\n",
    "* dict(): used to create a dictionary.\n",
    "* len(): returns the length of the dictionary.\n",
    "* clear(): removes all the elements from the dictionary.\n",
    "* get(keys): returns the value associated with the given key.\n",
    "* get(keys, default_value): returns the value associated with the given key, if key is not present, returns the default value.\n",
    "* pop(key): is used to remove key-value pair from the dictionary & returns the value associated with the key.\n",
    "* popitem(): removes the last inserted key-value pair from the dictionary & returns the key-value pair.\n",
    "* keys(): returns the list of keys in the dictionary.\n",
    "* values(): returns the list of values in the dictionary.\n",
    "* items(): returns the list of key-value pairs in the dictionary.\n",
    "* update(): updates the dictionary with the key-value pairs from the other dictionary object or from the key-value pairs.\n",
    "* setdefault(key, default_value): returns the value associated with the key, if key is not present, inserts the key with the default value & returns the default value.\n"
   ]
  },
  {
   "cell_type": "code",
   "execution_count": 1,
   "metadata": {},
   "outputs": [
    {
     "name": "stdout",
     "output_type": "stream",
     "text": [
      "3\n"
     ]
    }
   ],
   "source": [
    "# len()\n",
    "stud_name = dict(name1='Raj', name2='Ravi', name3='Ramesh')\n",
    "length = len(stud_name)\n",
    "print(length)"
   ]
  },
  {
   "cell_type": "code",
   "execution_count": 4,
   "metadata": {},
   "outputs": [
    {
     "name": "stdout",
     "output_type": "stream",
     "text": [
      "{}\n"
     ]
    }
   ],
   "source": [
    "# clear\n",
    "stud_name = dict(name1='Raj', name2='Ravi', name3='Ramesh')\n",
    "stud_name.clear()\n",
    "print(stud_name)"
   ]
  },
  {
   "cell_type": "code",
   "execution_count": 6,
   "metadata": {},
   "outputs": [
    {
     "name": "stdout",
     "output_type": "stream",
     "text": [
      "Ravi\n"
     ]
    }
   ],
   "source": [
    "# get(key)\n",
    "stud_name = dict(name1='Raj', name2='Ravi', name3='Ramesh')\n",
    "student_2 = stud_name.get('name2')\n",
    "print(student_2)"
   ]
  },
  {
   "cell_type": "code",
   "execution_count": 10,
   "metadata": {},
   "outputs": [
    {
     "name": "stdout",
     "output_type": "stream",
     "text": [
      "Ramesh\n",
      "Not Found\n"
     ]
    }
   ],
   "source": [
    "# get(key,default_value)\n",
    "stud_name = dict(name1='Raj', name2='Ravi', name3='Ramesh')\n",
    "\n",
    "student_3 = stud_name.get('name3','Rao') # As key is present, it returns original value not the default.\n",
    "print(student_3)\n",
    "\n",
    "student_4 = stud_name.get('name4','Not Found') # It returns value but does not add it to the dictionary\n",
    "print(student_4)"
   ]
  },
  {
   "cell_type": "code",
   "execution_count": 12,
   "metadata": {},
   "outputs": [
    {
     "name": "stdout",
     "output_type": "stream",
     "text": [
      "Raj\n",
      "{'name2': 'Ravi', 'name3': 'Ramesh'}\n"
     ]
    }
   ],
   "source": [
    "# pop(key)\n",
    "stud_name = dict(name1='Raj', name2='Ravi', name3='Ramesh')\n",
    "student1 = stud_name.pop('name1')\n",
    "print(student1)\n",
    "print(stud_name)"
   ]
  },
  {
   "cell_type": "code",
   "execution_count": 13,
   "metadata": {},
   "outputs": [
    {
     "data": {
      "text/plain": [
       "('name3', 'Ramesh')"
      ]
     },
     "execution_count": 13,
     "metadata": {},
     "output_type": "execute_result"
    }
   ],
   "source": [
    "# popitem()\n",
    "stud_name = dict(name1='Raj', name2='Ravi', name3='Ramesh')\n",
    "stud_name.popitem()"
   ]
  },
  {
   "cell_type": "code",
   "execution_count": 14,
   "metadata": {},
   "outputs": [
    {
     "name": "stdout",
     "output_type": "stream",
     "text": [
      "dict_keys(['name1', 'name2', 'name3'])\n"
     ]
    }
   ],
   "source": [
    "# keys()\n",
    "stud_name = dict(name1='Raj', name2='Ravi', name3='Ramesh')\n",
    "print(stud_name.keys())"
   ]
  },
  {
   "cell_type": "code",
   "execution_count": 15,
   "metadata": {},
   "outputs": [
    {
     "name": "stdout",
     "output_type": "stream",
     "text": [
      "dict_values(['Raj', 'Ravi', 'Ramesh'])\n"
     ]
    }
   ],
   "source": [
    "# values()\n",
    "stud_name = dict(name1='Raj', name2='Ravi', name3='Ramesh')\n",
    "print(stud_name.values())"
   ]
  },
  {
   "cell_type": "code",
   "execution_count": 16,
   "metadata": {},
   "outputs": [
    {
     "name": "stdout",
     "output_type": "stream",
     "text": [
      "dict_items([('name1', 'Raj'), ('name2', 'Ravi'), ('name3', 'Ramesh')])\n"
     ]
    }
   ],
   "source": [
    "# items()\n",
    "stud_name = dict(name1='Raj', name2='Ravi', name3='Ramesh')\n",
    "print(stud_name.items())"
   ]
  },
  {
   "cell_type": "code",
   "execution_count": 18,
   "metadata": {},
   "outputs": [
    {
     "name": "stdout",
     "output_type": "stream",
     "text": [
      "{'name1': 'Raj', 'name2': 'Ravi', 'name3': 'Ramesh', 'name4': 'Ramesh', 'name5': 'Rao'}\n"
     ]
    }
   ],
   "source": [
    "# update()\n",
    "stud_name = dict(name1='Raj', name2='Ravi', name3='Ramesh')\n",
    "stud_data = {'name4':'Ramesh', 'name5':'Rao'}\n",
    "stud_name.update(stud_data)\n",
    "print(stud_name)"
   ]
  },
  {
   "cell_type": "code",
   "execution_count": 19,
   "metadata": {},
   "outputs": [
    {
     "name": "stdout",
     "output_type": "stream",
     "text": [
      "{'name1': 'Raj', 'name2': 'Ravi', 'name3': 'Ramesh', 'name4': 'Ramesh'}\n"
     ]
    }
   ],
   "source": [
    "# setdefault(key, default_value) This updates the dictionary if key is present else adds the key and value to the dictionary\n",
    "stud_name = dict(name1='Raj', name2='Ravi', name3='Ramesh')\n",
    "student_4 = stud_name.setdefault('name4','Ramesh')\n",
    "print(stud_name)"
   ]
  },
  {
   "attachments": {},
   "cell_type": "markdown",
   "metadata": {},
   "source": [
    "### **Adding or Updating one item to dictionary**\n",
    "* dict[key] = value\n",
    "* Note:- dictionary is the best way to store record at runtime."
   ]
  },
  {
   "cell_type": "code",
   "execution_count": 21,
   "metadata": {},
   "outputs": [
    {
     "name": "stdout",
     "output_type": "stream",
     "text": [
      "{'name1': 'Raj', 'name2': 'Ravi', 'name3': 'Rao', 'name4': 'Ramesh'}\n"
     ]
    }
   ],
   "source": [
    "# dict[key] = value\n",
    "stud_name = dict(name1='Raj', name2='Ravi', name3='Ramesh')\n",
    "stud_name['name4'] = 'Ramesh'\n",
    "stud_name['name3'] = 'Rao'\n",
    "print(stud_name)"
   ]
  },
  {
   "attachments": {},
   "cell_type": "markdown",
   "metadata": {},
   "source": [
    "### **Dictionary comprehension**\n",
    "* {key:value for (key, value) in iterable}"
   ]
  },
  {
   "cell_type": "code",
   "execution_count": 22,
   "metadata": {},
   "outputs": [
    {
     "name": "stdout",
     "output_type": "stream",
     "text": [
      "{1: 1, 2: 4, 3: 9, 4: 16, 5: 25, 6: 36, 7: 49, 8: 64, 9: 81, 10: 100}\n"
     ]
    }
   ],
   "source": [
    "# dictionary comprehension\n",
    "d1 = {x:x**2 for x in range(1,11)}\n",
    "print(d1)"
   ]
  },
  {
   "cell_type": "code",
   "execution_count": 23,
   "metadata": {},
   "outputs": [],
   "source": [
    "d2 = {i:i+2 for i in range(1,11) if i%2 == 0}"
   ]
  },
  {
   "cell_type": "code",
   "execution_count": 24,
   "metadata": {},
   "outputs": [
    {
     "data": {
      "text/plain": [
       "{2: 4, 4: 6, 6: 8, 8: 10, 10: 12}"
      ]
     },
     "execution_count": 24,
     "metadata": {},
     "output_type": "execute_result"
    }
   ],
   "source": [
    "d2"
   ]
  },
  {
   "cell_type": "code",
   "execution_count": 10,
   "metadata": {},
   "outputs": [
    {
     "data": {
      "text/plain": [
       "{'a': 1, 'b': 2, 'c': 3}"
      ]
     },
     "execution_count": 10,
     "metadata": {},
     "output_type": "execute_result"
    }
   ],
   "source": [
    "# Write a Python program to create a dictionary from two lists, where one list contains keys and the other contains values.\n",
    "# keys = ['a', 'b', 'c']\n",
    "# values = [1, 2, 3]\n",
    "# Output: {'a': 1, 'b': 2, 'c': 3}\n",
    "\n",
    "keys = ['a', 'b', 'c']\n",
    "values = [1, 2, 3]\n",
    "\n",
    "char_dict = dict(zip(keys,values))\n",
    "\n",
    "char_dict"
   ]
  },
  {
   "cell_type": "code",
   "execution_count": 34,
   "metadata": {},
   "outputs": [
    {
     "name": "stdout",
     "output_type": "stream",
     "text": [
      "Maximum value is 20 and minimum value is 5\n"
     ]
    }
   ],
   "source": [
    "# Write a Python program to get the maximum and minimum value in a dictionary.\n",
    "# d = {'a': 10, 'b': 5, 'c': 20}\n",
    "# Output: Maximum value is 20 and minimum value is 5\n",
    "\n",
    "d = {'a': 10, 'b': 5, 'c': 20}\n",
    "\n",
    "maximum_val = max(d.values())\n",
    "minimum_val = min(d.values())\n",
    "\n",
    "print(f\"Maximum value is {maximum_val} and minimum value is {minimum_val}\")"
   ]
  },
  {
   "cell_type": "code",
   "execution_count": 44,
   "metadata": {},
   "outputs": [
    {
     "name": "stdout",
     "output_type": "stream",
     "text": [
      "{'apple': 2, 'banana': 3, 'orange': 4, 'pear': 1}\n",
      "{'pear': 1, 'apple': 2, 'banana': 3, 'orange': 4}\n"
     ]
    }
   ],
   "source": [
    "# Write a Python program to sort a dictionary by key or value.\n",
    "# d = {'banana': 3, 'apple': 2, 'pear': 1, 'orange': 4}\n",
    "# Output 1: {'apple': 2, 'banana': 3, 'orange': 4, 'pear': 1}  # Sorting by key\n",
    "# Output 2: {'pear': 1, 'apple': 2, 'banana': 3, 'orange': 4}  # Sorting by value\n",
    "\n",
    "d = {'banana': 3, 'apple': 2, 'pear': 1, 'orange': 4}\n",
    "print(dict(sorted(d.items())))\n",
    "print(dict(sorted(d.items(), key=lambda x:x[1])))"
   ]
  },
  {
   "cell_type": "code",
   "execution_count": 46,
   "metadata": {},
   "outputs": [
    {
     "name": "stdout",
     "output_type": "stream",
     "text": [
      "{'a': 1, 'b': 2, 'c': 3, 'd': 4}\n"
     ]
    }
   ],
   "source": [
    "# Write a Python program to concatenate two dictionaries.\n",
    "# d1 = {'a': 1, 'b': 2}\n",
    "# d2 = {'c': 3, 'd': 4}\n",
    "# Output: {'a': 1, 'b': 2, 'c': 3, 'd': 4}\n",
    "\n",
    "d1 = {'a': 1, 'b': 2}\n",
    "d2 = {'c': 3, 'd': 4}\n",
    "\n",
    "d1.update(d2)\n",
    "print(d1)"
   ]
  },
  {
   "cell_type": "code",
   "execution_count": 48,
   "metadata": {},
   "outputs": [
    {
     "name": "stdout",
     "output_type": "stream",
     "text": [
      "True\n",
      "True\n",
      "False\n"
     ]
    }
   ],
   "source": [
    "# Write a Python program to check if two dictionaries are equal or not.\n",
    "# d1 = {'a': 1, 'b': 2}\n",
    "# d2 = {'a': 1, 'b': 2}\n",
    "# Output: True\n",
    "\n",
    "# d1 = {'a': 1, 'b': 2}\n",
    "# d2 = {'b': 2, 'a': 1}\n",
    "# Output: True\n",
    "\n",
    "# d1 = {'a': 1, 'b': 2}\n",
    "# d2 = {'a': 1, 'b': 3}\n",
    "# Output: False\n",
    "\n",
    "d1 = {'a': 1, 'b': 2}\n",
    "d2 = {'a': 1, 'b': 2}\n",
    "\n",
    "print(d1 == d2)\n",
    "\n",
    "d1 = {'a': 1, 'b': 2}\n",
    "d2 = {'b': 2, 'a': 1}\n",
    "\n",
    "print(d1 == d2)\n",
    "\n",
    "d1 = {'a': 1, 'b': 2}\n",
    "d2 = {'a': 1, 'b': 3}\n",
    "\n",
    "print(d1 == d2)\n"
   ]
  }
 ],
 "metadata": {
  "kernelspec": {
   "display_name": "base",
   "language": "python",
   "name": "python3"
  },
  "language_info": {
   "codemirror_mode": {
    "name": "ipython",
    "version": 3
   },
   "file_extension": ".py",
   "mimetype": "text/x-python",
   "name": "python",
   "nbconvert_exporter": "python",
   "pygments_lexer": "ipython3",
   "version": "3.9.13"
  },
  "orig_nbformat": 4
 },
 "nbformat": 4,
 "nbformat_minor": 2
}
