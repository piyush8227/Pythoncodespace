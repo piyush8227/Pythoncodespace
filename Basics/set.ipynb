{
 "cells": [
  {
   "attachments": {},
   "cell_type": "markdown",
   "metadata": {},
   "source": [
    "## **Set data structure:**\n",
    "* Set is heterogeneous collection of unique elements.\n",
    "* Duplicates are not allowed.\n",
    "* Indexing and slicing is not possible.\n",
    "* Insertion order is not preserved.\n",
    "* {} Are used to represent set."
   ]
  },
  {
   "attachments": {},
   "cell_type": "markdown",
   "metadata": {},
   "source": [
    "### **Set definition**"
   ]
  },
  {
   "cell_type": "code",
   "execution_count": 6,
   "metadata": {},
   "outputs": [
    {
     "name": "stdout",
     "output_type": "stream",
     "text": [
      "<class 'set'>\n"
     ]
    }
   ],
   "source": [
    "# Empty set\n",
    "set_a = set()\n",
    "print(type(set_a))"
   ]
  },
  {
   "cell_type": "code",
   "execution_count": 3,
   "metadata": {},
   "outputs": [
    {
     "name": "stdout",
     "output_type": "stream",
     "text": [
      "<class 'set'>\n"
     ]
    }
   ],
   "source": [
    "# Set with predefined values\n",
    "set_b = {1.2,1,2,3,4,5}\n",
    "print(type(set_b))"
   ]
  },
  {
   "cell_type": "code",
   "execution_count": 7,
   "metadata": {},
   "outputs": [
    {
     "name": "stdout",
     "output_type": "stream",
     "text": [
      "{1, 2, 3, 4}\n"
     ]
    }
   ],
   "source": [
    "set_c = set((1,2,3,4))\n",
    "print(set_c)"
   ]
  },
  {
   "attachments": {},
   "cell_type": "markdown",
   "metadata": {},
   "source": [
    "#### **Important functions & methods of set**\n",
    "* add(): It is used to add elements to the set. It takes only one argument.\n",
    "* update(): It is used to add elements to the set. It takes iterable as an argument. It is used to add multiple elements to the set.\n",
    "* pop(): It is used to remove and return an random element from the set. If the set is empty, it raises KeyError.\n",
    "* remove(element): It is used to remove given element from the set. If the element is not present, it raises KeyError.\n",
    "* discard(element): It is used to remove given element from the set. If the element is not present, it does not raise any error.\n",
    "* clear(): It is used to remove all elements from the set."
   ]
  },
  {
   "cell_type": "code",
   "execution_count": 9,
   "metadata": {},
   "outputs": [
    {
     "name": "stdout",
     "output_type": "stream",
     "text": [
      "{1, 2}\n"
     ]
    }
   ],
   "source": [
    "# add(): will add an element to the set object.\n",
    "set = {1}\n",
    "set.add(2)\n",
    "print(set)"
   ]
  },
  {
   "cell_type": "code",
   "execution_count": 10,
   "metadata": {},
   "outputs": [
    {
     "name": "stdout",
     "output_type": "stream",
     "text": [
      "{1, 2, 3, 4, 33, 44, 55, 22, 23}\n"
     ]
    }
   ],
   "source": [
    "# update(a,b,c)\n",
    "set = {1,23,44,55}\n",
    "set.update([1,2,3,4])\n",
    "set.update({22,33,4})\n",
    "print(set)"
   ]
  },
  {
   "cell_type": "code",
   "execution_count": 11,
   "metadata": {},
   "outputs": [
    {
     "data": {
      "text/plain": [
       "{2, 3, 4, 22, 23, 33, 44, 55}"
      ]
     },
     "execution_count": 11,
     "metadata": {},
     "output_type": "execute_result"
    }
   ],
   "source": [
    "# pop()\n",
    "set.pop()\n",
    "set"
   ]
  },
  {
   "cell_type": "code",
   "execution_count": 12,
   "metadata": {},
   "outputs": [
    {
     "data": {
      "text/plain": [
       "{2, 3, 4, 23, 33, 44, 55}"
      ]
     },
     "execution_count": 12,
     "metadata": {},
     "output_type": "execute_result"
    }
   ],
   "source": [
    "set.remove(22)\n",
    "set"
   ]
  },
  {
   "cell_type": "code",
   "execution_count": 14,
   "metadata": {},
   "outputs": [
    {
     "data": {
      "text/plain": [
       "{2, 3, 4, 23, 33, 44, 55}"
      ]
     },
     "execution_count": 14,
     "metadata": {},
     "output_type": "execute_result"
    }
   ],
   "source": [
    "set.discard(22) # Here even if element 22 is not present it does not raise KeyError.\n",
    "set"
   ]
  },
  {
   "cell_type": "code",
   "execution_count": 16,
   "metadata": {},
   "outputs": [
    {
     "data": {
      "text/plain": [
       "set()"
      ]
     },
     "execution_count": 16,
     "metadata": {},
     "output_type": "execute_result"
    }
   ],
   "source": [
    "set.clear() # Even if all elements are removed, empty set object is present.\n",
    "set"
   ]
  },
  {
   "attachments": {},
   "cell_type": "markdown",
   "metadata": {},
   "source": [
    "### **Mathematical Operations on set:-**\n",
    "* union(): It is used to return the union of two sets. Eg. a.union(b) will return all the elements present in a and b.\n",
    "* intersection(): It is used to return the intersection of two sets. Eg. a.intersection(b) will return all the common elements present in both a and b.\n",
    "* difference(): It is used to return the difference of two sets. Eg. a.difference(b) will return all the elements present in a but not in b.\n",
    "* symmetric_difference(): It is used to return the symmetric difference of two sets. Eg. a.symmetric_difference(b) will return all the elements present in a or b but not in both."
   ]
  },
  {
   "cell_type": "code",
   "execution_count": 9,
   "metadata": {},
   "outputs": [
    {
     "data": {
      "text/plain": [
       "{1, 2, 3, 4, 5, 6}"
      ]
     },
     "execution_count": 9,
     "metadata": {},
     "output_type": "execute_result"
    }
   ],
   "source": [
    "# union()\n",
    "set_a = {1,2,3,4}\n",
    "set_b = {3,4,5,6}\n",
    "set_a.union(set_b)"
   ]
  },
  {
   "cell_type": "code",
   "execution_count": 8,
   "metadata": {},
   "outputs": [
    {
     "data": {
      "text/plain": [
       "{4, 5}"
      ]
     },
     "execution_count": 8,
     "metadata": {},
     "output_type": "execute_result"
    }
   ],
   "source": [
    "# intersection()\n",
    "set_a = {1,2,3,4,5}\n",
    "set_b = {4,5,6,7,8}\n",
    "set_a.intersection(set_b)"
   ]
  },
  {
   "cell_type": "code",
   "execution_count": 7,
   "metadata": {},
   "outputs": [
    {
     "data": {
      "text/plain": [
       "{1, 3, 5}"
      ]
     },
     "execution_count": 7,
     "metadata": {},
     "output_type": "execute_result"
    }
   ],
   "source": [
    "# difference()\n",
    "set_1 = {1,2,3,4,5}\n",
    "set_2 = {2,4,6,8}\n",
    "set_1.difference(set_2)"
   ]
  },
  {
   "cell_type": "code",
   "execution_count": 2,
   "metadata": {},
   "outputs": [
    {
     "data": {
      "text/plain": [
       "{1, 2, 3, 6, 7, 8}"
      ]
     },
     "execution_count": 2,
     "metadata": {},
     "output_type": "execute_result"
    }
   ],
   "source": [
    "# symmetric_difference()\n",
    "set_a = {1,2,3,4,5}\n",
    "set_b = {4,5,6,7,8}\n",
    "set_a.symmetric_difference(set_b) # Returns all non common elements from both sets."
   ]
  },
  {
   "attachments": {},
   "cell_type": "markdown",
   "metadata": {},
   "source": [
    "#### **Set comprehension:**\n",
    "* Set comprehension is used to create a set from an iterable.\n",
    "* Syntax: {expression for item in iterable} or {expression for item in iterable if condition}"
   ]
  },
  {
   "cell_type": "code",
   "execution_count": 10,
   "metadata": {},
   "outputs": [
    {
     "name": "stdout",
     "output_type": "stream",
     "text": [
      "{0, 1, 2, 3, 4, 5, 6, 7, 8, 9}\n"
     ]
    }
   ],
   "source": [
    "# set comprehension\n",
    "set_a = {x for x in range(10)}\n",
    "print(set_a)"
   ]
  },
  {
   "cell_type": "code",
   "execution_count": 1,
   "metadata": {},
   "outputs": [
    {
     "name": "stdout",
     "output_type": "stream",
     "text": [
      "{1, 2, 3, 4, 5}\n"
     ]
    }
   ],
   "source": [
    "# Write a Python program to create a set.\n",
    "# Expected output: {1, 2, 3, 4, 5}\n",
    "\n",
    "# creating a set\n",
    "nums_set = {1, 2, 3, 4, 5}\n",
    "\n",
    "# printing the set\n",
    "print(nums_set)"
   ]
  },
  {
   "cell_type": "code",
   "execution_count": 7,
   "metadata": {},
   "outputs": [
    {
     "name": "stdout",
     "output_type": "stream",
     "text": [
      "{1, 2, 3, 4, 5, 6, 7}\n"
     ]
    }
   ],
   "source": [
    "# Write a Python program to add member(s) in a set.\n",
    "# Expected output: {1, 2, 3, 4, 5, 6, 7}\n",
    "\n",
    "# Creating an empty set\n",
    "nums_set = set()\n",
    "\n",
    "# Adding members in the set\n",
    "nums_set.update([1,2,3,4,5,6,7])\n",
    "print(nums_set)"
   ]
  },
  {
   "cell_type": "code",
   "execution_count": 15,
   "metadata": {},
   "outputs": [
    {
     "name": "stdout",
     "output_type": "stream",
     "text": [
      "{2, 4, 6}\n",
      "{2, 4, 6}\n"
     ]
    }
   ],
   "source": [
    "# Write a Python program to remove item(s) from a set.\n",
    "# Expected output: {2, 4, 6}\n",
    "\n",
    "# Create a set\n",
    "nums_set = {1, 2, 3, 4, 5, 6, 7}\n",
    "\n",
    "# Removing items from the set\n",
    "nums_set.discard(1)\n",
    "nums_set.discard(3)\n",
    "nums_set.discard(5)\n",
    "nums_set.discard(7)\n",
    "\n",
    "# Printing the set\n",
    "print(nums_set)\n",
    "\n",
    "# Create a set\n",
    "nums_set_2 = {1, 2, 3, 4, 5, 6, 7}\n",
    "\n",
    "# Alternate approach is using difference_update()\n",
    "nums_set_2.difference_update({1,3,5,7})\n",
    "print(nums_set_2)"
   ]
  },
  {
   "cell_type": "code",
   "execution_count": 16,
   "metadata": {},
   "outputs": [
    {
     "name": "stdout",
     "output_type": "stream",
     "text": [
      "{1, 3, 4, 5, 6}\n"
     ]
    }
   ],
   "source": [
    "# Write a Python program to remove an item from a set if it is present in the set.\n",
    "# Expected output: {1, 3, 4, 5, 6}\n",
    "\n",
    "# creating a set \n",
    "nums_set = {1, 2, 3, 4, 5, 6}\n",
    "\n",
    "# Removing item from a set\n",
    "nums_set.remove(2) # This will raise error if element is not present in \n",
    "# Alternate way\n",
    "nums_set.discard(2) # This will prevent raising error if the element is not present in set.\n",
    "print(nums_set)\n"
   ]
  },
  {
   "cell_type": "code",
   "execution_count": 19,
   "metadata": {},
   "outputs": [
    {
     "name": "stdout",
     "output_type": "stream",
     "text": [
      "{2, 4}\n"
     ]
    }
   ],
   "source": [
    "# Write a Python program to find the intersection of two sets.\n",
    "# Expected output: {2, 4}\n",
    "\n",
    "# Creating two sets\n",
    "set_1 = {1,2,3,4,5}\n",
    "set_2 = {2,4,6,8,10}\n",
    "\n",
    "# Finding the intersectipns of two sets and printing it.\n",
    "intersection_set = set_1.intersection(set_2)\n",
    "print(intersection_set)"
   ]
  },
  {
   "cell_type": "code",
   "execution_count": 21,
   "metadata": {},
   "outputs": [
    {
     "name": "stdout",
     "output_type": "stream",
     "text": [
      "{1, 2, 3, 4, 5, 6, 7}\n"
     ]
    }
   ],
   "source": [
    "# Write a Python program to find the union of two sets.\n",
    "# Expected output: {1, 2, 3, 4, 5, 6, 7}\n",
    "\n",
    "# Creating two sets\n",
    "set1 = {1,2,3,4,5}\n",
    "set2 = {6,7}\n",
    "\n",
    "# Finding union of the above sets and printing it.\n",
    "union_set = set1.union(set2)\n",
    "print(union_set)"
   ]
  },
  {
   "cell_type": "code",
   "execution_count": 26,
   "metadata": {},
   "outputs": [
    {
     "name": "stdout",
     "output_type": "stream",
     "text": [
      "{1, 3, 5}\n"
     ]
    }
   ],
   "source": [
    "# Write a Python program to find the difference between two sets.\n",
    "# Expected output: {1, 3, 5}\n",
    "\n",
    "# Creating two sets\n",
    "set_1 = {1,2,3,4,5}\n",
    "set_2 = {2,4,6,8}\n",
    "\n",
    "# finding the difference between two sets and printing it.\n",
    "difference_set = set_1.difference(set_2)\n",
    "print(difference_set)"
   ]
  },
  {
   "cell_type": "code",
   "execution_count": 29,
   "metadata": {},
   "outputs": [
    {
     "name": "stdout",
     "output_type": "stream",
     "text": [
      "True\n"
     ]
    }
   ],
   "source": [
    "# Write a Python program to check if a set is a subset of another set.\n",
    "# Expected output: True\n",
    "\n",
    "# Creating two sets\n",
    "set1 = {1,2,3,4,5}\n",
    "set2 = {1,2,3}\n",
    "\n",
    "# checking if a set is a subset of another set\n",
    "print(set2.issubset(set1))"
   ]
  },
  {
   "cell_type": "code",
   "execution_count": 32,
   "metadata": {},
   "outputs": [
    {
     "name": "stdout",
     "output_type": "stream",
     "text": [
      "5\n"
     ]
    }
   ],
   "source": [
    "# Write a Python program to find the length of a set.\n",
    "# Expected output: 5\n",
    "\n",
    "# Creating a set\n",
    "set_a = {1,2,3,4,5}\n",
    "\n",
    "# Finding length of set\n",
    "length = len(set_a)\n",
    "print(length)"
   ]
  },
  {
   "cell_type": "code",
   "execution_count": 33,
   "metadata": {},
   "outputs": [
    {
     "name": "stdout",
     "output_type": "stream",
     "text": [
      "set()\n"
     ]
    }
   ],
   "source": [
    "# Write a Python program to remove all items from a set.\n",
    "# Expected output: set()\n",
    "\n",
    "# Creating a set\n",
    "set_a = {1,2,3,4,5}\n",
    "\n",
    "# Removing all elements from a set\n",
    "set_a.clear()\n",
    "print(set_a)"
   ]
  }
 ],
 "metadata": {
  "kernelspec": {
   "display_name": "base",
   "language": "python",
   "name": "python3"
  },
  "language_info": {
   "codemirror_mode": {
    "name": "ipython",
    "version": 3
   },
   "file_extension": ".py",
   "mimetype": "text/x-python",
   "name": "python",
   "nbconvert_exporter": "python",
   "pygments_lexer": "ipython3",
   "version": "3.9.13"
  },
  "orig_nbformat": 4
 },
 "nbformat": 4,
 "nbformat_minor": 2
}
