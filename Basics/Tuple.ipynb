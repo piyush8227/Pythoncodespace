{
 "cells": [
  {
   "attachments": {},
   "cell_type": "markdown",
   "metadata": {},
   "source": [
    "## **Tuple:**\n",
    "* Tuple is heterogeneous collection of elements.\n",
    "* Insertion order is preserved.\n",
    "* Duplicates are allowed in tuple.\n",
    "* Slicing and indexing is allowed.\n",
    "* We can use () to define tuple object, but it is optional."
   ]
  },
  {
   "attachments": {},
   "cell_type": "markdown",
   "metadata": {},
   "source": [
    "### **Tuple Creation:**\n"
   ]
  },
  {
   "cell_type": "code",
   "execution_count": 2,
   "metadata": {},
   "outputs": [],
   "source": [
    "# Empty tuple\n",
    "tup = ()"
   ]
  },
  {
   "cell_type": "code",
   "execution_count": 5,
   "metadata": {},
   "outputs": [
    {
     "name": "stdout",
     "output_type": "stream",
     "text": [
      "<class 'tuple'>\n"
     ]
    }
   ],
   "source": [
    "# Tuple with single element\n",
    "tup = (1,)\n",
    "print(type(tup))"
   ]
  },
  {
   "cell_type": "code",
   "execution_count": 7,
   "metadata": {},
   "outputs": [
    {
     "name": "stdout",
     "output_type": "stream",
     "text": [
      "<class 'tuple'>\n"
     ]
    }
   ],
   "source": [
    "# Tuple with predefined values\n",
    "tup = 2,34,4,5,6,\n",
    "print(type(tup))"
   ]
  },
  {
   "cell_type": "code",
   "execution_count": 13,
   "metadata": {},
   "outputs": [
    {
     "name": "stdout",
     "output_type": "stream",
     "text": [
      "<class 'tuple'>\n",
      "<class 'tuple'>\n",
      "<class 'tuple'>\n"
     ]
    }
   ],
   "source": [
    "# Using tuple() function \n",
    "lst = [1,2,3,4,5] # list\n",
    "tup = tuple(lst)\n",
    "print(type(tup))\n",
    "\n",
    "set = {1,2,3,4} # set\n",
    "tup2 = tuple(set)\n",
    "print(type(tup2))\n",
    "\n",
    "set = {0:1,1:2,2:3,3:4} # dict, it considers key's value\n",
    "tup3 = tuple(set)\n",
    "print(type(tup3))"
   ]
  },
  {
   "attachments": {},
   "cell_type": "markdown",
   "metadata": {},
   "source": [
    "### **Important functions/methods of tuple**"
   ]
  },
  {
   "attachments": {},
   "cell_type": "markdown",
   "metadata": {},
   "source": [
    "* len() - returns total number of elements in tuple."
   ]
  },
  {
   "cell_type": "code",
   "execution_count": 14,
   "metadata": {},
   "outputs": [
    {
     "name": "stdout",
     "output_type": "stream",
     "text": [
      "8\n"
     ]
    }
   ],
   "source": [
    "tup = (1,2,3,4,5,6,7,8)\n",
    "print(len(tup))"
   ]
  },
  {
   "attachments": {},
   "cell_type": "markdown",
   "metadata": {},
   "source": [
    "* count(element): returns total number of occurrences of given element in tuple."
   ]
  },
  {
   "cell_type": "code",
   "execution_count": 15,
   "metadata": {},
   "outputs": [
    {
     "name": "stdout",
     "output_type": "stream",
     "text": [
      "3\n"
     ]
    }
   ],
   "source": [
    "tup = (1,2,1,2,1,2,3,3,4,5,6,7)\n",
    "print(tup.count(1))"
   ]
  },
  {
   "attachments": {},
   "cell_type": "markdown",
   "metadata": {},
   "source": [
    "* index(element): returns index of first occurrence of given element in tuple."
   ]
  },
  {
   "cell_type": "code",
   "execution_count": 17,
   "metadata": {},
   "outputs": [
    {
     "name": "stdout",
     "output_type": "stream",
     "text": [
      "6\n"
     ]
    }
   ],
   "source": [
    "tup = (1,2,1,2,1,2,3,3,4,5,6,7)\n",
    "print(tup.index(3))"
   ]
  },
  {
   "attachments": {},
   "cell_type": "markdown",
   "metadata": {},
   "source": [
    "* sorted(): returns sorted tuple.\n",
    "* Note: While sorting tuple, capital case letters are comes first then small case letters. "
   ]
  },
  {
   "cell_type": "code",
   "execution_count": 18,
   "metadata": {},
   "outputs": [
    {
     "data": {
      "text/plain": [
       "[1, 2, 2, 3, 5, 6, 7, 8, 9, 10, 20, 111]"
      ]
     },
     "execution_count": 18,
     "metadata": {},
     "output_type": "execute_result"
    }
   ],
   "source": [
    "tup = (111,20,10,2,1,2,9,3,8,5,6,7)\n",
    "sorted(tup)"
   ]
  },
  {
   "attachments": {},
   "cell_type": "markdown",
   "metadata": {},
   "source": [
    "* sum(): returns sum of all elements in tuple."
   ]
  },
  {
   "cell_type": "code",
   "execution_count": 19,
   "metadata": {},
   "outputs": [
    {
     "data": {
      "text/plain": [
       "184"
      ]
     },
     "execution_count": 19,
     "metadata": {},
     "output_type": "execute_result"
    }
   ],
   "source": [
    "tup = (111,20,10,2,1,2,9,3,8,5,6,7)\n",
    "sum(tup)"
   ]
  },
  {
   "attachments": {},
   "cell_type": "markdown",
   "metadata": {},
   "source": [
    "* max(): returns maximum element in tuple.\n",
    "* min(): returns minimum element in tuple."
   ]
  },
  {
   "cell_type": "code",
   "execution_count": 20,
   "metadata": {},
   "outputs": [
    {
     "name": "stdout",
     "output_type": "stream",
     "text": [
      "111\n",
      "1\n"
     ]
    }
   ],
   "source": [
    "tup = (111,20,10,2,1,2,9,3,8,5,6,7)\n",
    "print(max(tup))\n",
    "print(min(tup))"
   ]
  },
  {
   "attachments": {},
   "cell_type": "markdown",
   "metadata": {},
   "source": [
    "* packing: process of creating an object containing multiple values.\n",
    "* eg: t = 10, 20, 30, 40, 50"
   ]
  },
  {
   "cell_type": "code",
   "execution_count": 23,
   "metadata": {},
   "outputs": [
    {
     "name": "stdout",
     "output_type": "stream",
     "text": [
      "<class 'tuple'>\n"
     ]
    }
   ],
   "source": [
    "t = 1,2,3,4,5 # packing\n",
    "print(type(t))"
   ]
  },
  {
   "attachments": {},
   "cell_type": "markdown",
   "metadata": {},
   "source": [
    "* unpacking: process of extracting multiple values from an object.\n",
    "* eg: a,b,c = 10,20,30 # unpacking"
   ]
  },
  {
   "cell_type": "code",
   "execution_count": 22,
   "metadata": {},
   "outputs": [],
   "source": [
    "a,b,c,d,e = 1,2,3,4,5 #unpacking"
   ]
  },
  {
   "cell_type": "code",
   "execution_count": 8,
   "metadata": {},
   "outputs": [
    {
     "name": "stdout",
     "output_type": "stream",
     "text": [
      "('apple', 'banana')\n",
      "('apple', 'banana')\n",
      "('apple', 'banana')\n"
     ]
    }
   ],
   "source": [
    "# Create a tuple containing the following elements: 'apple', 'banana', 'cherry', and 'orange'.#\n",
    "# Extract the first two elements and concatenate them into a new tuple.\n",
    "# Expected output: ('apple', 'banana')\n",
    "\n",
    "# creating a tuple containing the following elements: 'apple', 'banana', 'cherry', and 'orange'\n",
    "fruits = ('apple', 'banana', 'cherry', 'orange')\n",
    "# Using slicing to store first 2 values\n",
    "new_fruits = fruits[0:2]\n",
    "# printing the new tuple\n",
    "print(new_fruits)\n",
    "\n",
    "# Alternate way\n",
    "new_fruits = tuple(fruits[0:2])\n",
    "print(new_fruits)\n",
    "\n",
    "# or using unpacking\n",
    "first, second, *_ = fruits # here *_ is used to aasign remaining elements to _ . It is way to discard unused elements\n",
    "\n",
    "new_fruits = (first,second)\n",
    "\n",
    "print(new_fruits)"
   ]
  },
  {
   "cell_type": "code",
   "execution_count": 11,
   "metadata": {},
   "outputs": [
    {
     "name": "stdout",
     "output_type": "stream",
     "text": [
      "Female\n"
     ]
    }
   ],
   "source": [
    "'''\n",
    "Create a tuple of three nested tuples containing the following data:\n",
    "('John', 'Smith', 'Male', 25)\n",
    "('Sarah', 'Jones', 'Female', 32)\n",
    "('David', 'Brown', 'Male', 45)\n",
    "\n",
    "Access the third element of the second tuple (i.e., 'Female').\n",
    "\n",
    "Expected output: 'Female'\n",
    "'''\n",
    "# Create a tuple of three nested tuples\n",
    "personal_info = (('John', 'Smith', 'Male', 25),('Sarah', 'Jones', 'Female', 32),('David', 'Brown', 'Male', 45))\n",
    "\n",
    "# Accesing the third element of the second tuple\n",
    "gender = personal_info[1][2]\n",
    "\n",
    "# Printing output\n",
    "print(gender)"
   ]
  },
  {
   "cell_type": "code",
   "execution_count": 10,
   "metadata": {},
   "outputs": [
    {
     "name": "stdout",
     "output_type": "stream",
     "text": [
      "(1, 2, 3, 4, 5, 6, 7)\n"
     ]
    }
   ],
   "source": [
    "# Create a tuple containing the following elements: 1, 2, 3, 4, 5. \n",
    "# Convert it to a list and append the elements 6 and 7 to the list. \n",
    "# Convert the list back to a tuple and print the result.\n",
    "# Expected output: (1, 2, 3, 4, 5, 6, 7)\n",
    "\n",
    "# Creating tuple using tuple() constructor\n",
    "nums = (1,2,3,4,5)\n",
    "\n",
    "# Converting tuple to list.\n",
    "num_lst = list(nums)\n",
    "\n",
    "# appending the element 6,7 to list.\n",
    "num_lst += [6,7]\n",
    "\n",
    "# converting list back to tuple & Printing output\n",
    "new_tuple = tuple(num_lst)\n",
    "print(new_tuple)"
   ]
  },
  {
   "cell_type": "code",
   "execution_count": 13,
   "metadata": {},
   "outputs": [
    {
     "name": "stdout",
     "output_type": "stream",
     "text": [
      "('apple', 'banana', 'cherry', 1, 2, 3)\n"
     ]
    }
   ],
   "source": [
    "# Create two tuples containing the following data:\n",
    "# ('apple', 'banana', 'cherry')\n",
    "# (1, 2, 3)\n",
    "# Create a new tuple by concatenating the two tuples together.\n",
    "# Expected output: ('apple', 'banana', 'cherry', 1, 2, 3)\n",
    "\n",
    "# Creating two tuples\n",
    "fruits_tuple = ('apple', 'banana', 'cherry')\n",
    "nums_tuple = (1, 2, 3)\n",
    "\n",
    "# Concatenating two tuples into new tuple and printing it.\n",
    "new_tuple = fruits_tuple + nums_tuple\n",
    "print(new_tuple)\n",
    "\n",
    "# Purpose of the code is to creates a new tuple from 2 tuples by concatenating them."
   ]
  },
  {
   "cell_type": "code",
   "execution_count": 7,
   "metadata": {},
   "outputs": [
    {
     "name": "stdout",
     "output_type": "stream",
     "text": [
      "(1, 2, 3, 4, 5, 6)\n"
     ]
    }
   ],
   "source": [
    "# Create a tuple containing the following elements: 4, 5, 6, 1, 2, 3. \n",
    "# Sort the tuple and print the result.\n",
    "# Expected output: (1, 2, 3, 4, 5, 6)\n",
    "\n",
    "# Creating the tuple\n",
    "unsorted_tuple = (4, 5, 6, 1, 2, 3)\n",
    "\n",
    "# Sorting the tuple & printing it.\n",
    "sorted_num_tuple = tuple(sorted(unsorted_tuple))\n",
    "print(sorted_num_tuple)"
   ]
  },
  {
   "cell_type": "code",
   "execution_count": 11,
   "metadata": {},
   "outputs": [
    {
     "name": "stdout",
     "output_type": "stream",
     "text": [
      "first_name: John\n",
      "last_name: Doe\n",
      "gender: Male\n",
      "age: 25\n"
     ]
    }
   ],
   "source": [
    "# Create a tuple containing the following elements: 'John', 'Doe', 'Male', 25. Unpack the tuple and assign each element to a separate variable: first_name, last_name, gender, and age. Then, print each variable.\n",
    "# Expected output:\n",
    "# first_name: John\n",
    "# last_name: Doe\n",
    "# gender: Male\n",
    "# age: 25\n",
    "\n",
    "# Creating a tuple\n",
    "personal_info = ('John', 'Doe', 'Male', 25)\n",
    "\n",
    "# Unpacking & printing the output\n",
    "first_name, last_name, gender, age = personal_info\n",
    "print(f\"first_name: {first_name}\\nlast_name: {last_name}\\ngender: {gender}\\nage: {age}\")"
   ]
  },
  {
   "cell_type": "code",
   "execution_count": 13,
   "metadata": {},
   "outputs": [
    {
     "name": "stdout",
     "output_type": "stream",
     "text": [
      "2\n"
     ]
    }
   ],
   "source": [
    "# Create a tuple containing the following elements: 'apple', 'banana', 'cherry', 'apple', 'banana', 'cherry'. \n",
    "# Count the number of occurrences of 'apple' in the tuple.\n",
    "# Expected output: 2\n",
    "\n",
    "# Creating a tuple\n",
    "fruit_tuple = ('apple', 'banana', 'cherry', 'apple', 'banana', 'cherry')\n",
    "\n",
    "# Counting occurences of 'apple' in the tuple & printing it\n",
    "count = fruit_tuple.count('apple')\n",
    "print(count)"
   ]
  }
 ],
 "metadata": {
  "kernelspec": {
   "display_name": "base",
   "language": "python",
   "name": "python3"
  },
  "language_info": {
   "codemirror_mode": {
    "name": "ipython",
    "version": 3
   },
   "file_extension": ".py",
   "mimetype": "text/x-python",
   "name": "python",
   "nbconvert_exporter": "python",
   "pygments_lexer": "ipython3",
   "version": "3.9.13"
  },
  "orig_nbformat": 4
 },
 "nbformat": 4,
 "nbformat_minor": 2
}
