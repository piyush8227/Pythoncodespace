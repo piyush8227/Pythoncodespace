{
 "cells": [
  {
   "attachments": {},
   "cell_type": "markdown",
   "metadata": {},
   "source": [
    "## Object reusability & Immutability\n",
    "\n",
    "#### Object reusability: \n",
    "##### In Python, when we create an object, it is stored in memory and can be reused again without recreating it. This concept is called \"object reusability\".\n",
    "##### The main use case of object reusability is to optimize memory usage and improve performance by reusing existing objects instead of creating new ones.\n",
    "\n",
    "##### Some use cases of object reusability in Python are:\n",
    "\n",
    "###### Caching: Caching is a technique used to store the results of expensive computations so that they can be reused in subsequent executions. By caching results, we can avoid redundant computations and improve the performance of our programs.\n",
    "\n",
    "###### Flyweight pattern: The flyweight pattern is a design pattern that aims to minimize memory usage by sharing as much data as possible between similar objects. By reusing objects, we can reduce the memory footprint of our program and improve its performance.\n",
    "\n",
    "###### Object pooling: Object pooling is a technique used to manage a pool of reusable objects that can be used by multiple threads or processes. By reusing objects, we can reduce the overhead of object creation and destruction and improve the scalability of our program.\n",
    "\n",
    "###### Overall, object reusability is a powerful technique for optimizing memory usage and improving performance in Python programs.\n",
    "\n",
    "##### All fundamental objects are immutable but not all of them are reusable.\n",
    "##### 1) Bool type\n",
    "##### 2) int [] -5 to 256 integers are reusable\n",
    "##### 3) All string objects are reusable [By default string including digits(0-9) and alphabets(a-z, A-Z) are reusable.]"
   ]
  },
  {
   "cell_type": "code",
   "execution_count": 16,
   "metadata": {},
   "outputs": [
    {
     "name": "stdout",
     "output_type": "stream",
     "text": [
      "2204798707760 2204798707760\n"
     ]
    }
   ],
   "source": [
    "a = 245\n",
    "b = 245\n",
    "print(id(a), id(b))\n",
    "# Here we can see that the id of a and b are same as they are pointing to same object."
   ]
  },
  {
   "cell_type": "code",
   "execution_count": 17,
   "metadata": {},
   "outputs": [
    {
     "name": "stdout",
     "output_type": "stream",
     "text": [
      "True\n",
      "False\n",
      "True\n",
      "False\n"
     ]
    }
   ],
   "source": [
    "# int [] range between -5 to 256 integers are reusable.\n",
    "a = -5\n",
    "b = -5\n",
    "print(a is b)\n",
    "\n",
    "c = -6\n",
    "d = -6\n",
    "print(c is d)\n",
    "\n",
    "s = 256\n",
    "t = 256\n",
    "print(s is t)\n",
    "\n",
    "x = 257\n",
    "y = 257\n",
    "print(x is y)"
   ]
  },
  {
   "cell_type": "code",
   "execution_count": 18,
   "metadata": {},
   "outputs": [
    {
     "name": "stdout",
     "output_type": "stream",
     "text": [
      "False\n"
     ]
    }
   ],
   "source": [
    "str_a = \"Hi guys\"\n",
    "str_b = \"Hi guys\"\n",
    "print(str_a is str_b)"
   ]
  },
  {
   "attachments": {},
   "cell_type": "markdown",
   "metadata": {},
   "source": [
    "#### All string objects are reusable [By default string including digits(0-9) and alphabets(a-z, A-Z) are reusable.]"
   ]
  },
  {
   "cell_type": "code",
   "execution_count": 19,
   "metadata": {},
   "outputs": [
    {
     "name": "stdout",
     "output_type": "stream",
     "text": [
      "True\n"
     ]
    }
   ],
   "source": [
    "# In order to use string as reusable object we have intern() function in sys module. \n",
    "# Which will allow string to be reusable.\n",
    "import sys\n",
    "str_a = sys.intern(\"Hi guys\")\n",
    "str_b = sys.intern(\"Hi guys\")\n",
    "print(str_a is str_b)"
   ]
  },
  {
   "cell_type": "code",
   "execution_count": 20,
   "metadata": {},
   "outputs": [
    {
     "data": {
      "text/plain": [
       "True"
      ]
     },
     "execution_count": 20,
     "metadata": {},
     "output_type": "execute_result"
    }
   ],
   "source": [
    "str_a = \"120aA\" # Here we used no space so its reusable.\n",
    "str_b = \"120aA\"\n",
    "str_a is str_b"
   ]
  },
  {
   "cell_type": "code",
   "execution_count": 21,
   "metadata": {},
   "outputs": [
    {
     "data": {
      "text/plain": [
       "False"
      ]
     },
     "execution_count": 21,
     "metadata": {},
     "output_type": "execute_result"
    }
   ],
   "source": [
    "str_a = \"12 0aA\" # Here we used space so its not reusable.\n",
    "str_b = \"12 0aA\"\n",
    "str_a is str_b"
   ]
  },
  {
   "cell_type": "code",
   "execution_count": 24,
   "metadata": {},
   "outputs": [
    {
     "name": "stdout",
     "output_type": "stream",
     "text": [
      "False\n",
      "True\n"
     ]
    }
   ],
   "source": [
    "# Lets try to use special characters in string.\n",
    "\n",
    "str_a = \"12 0aA@#$%^&*()_+\"\n",
    "str_b = \"12 0aA@#$%^&*()_+\"\n",
    "print(str_a is str_b)\n",
    "\n",
    "import sys\n",
    "str_a = sys.intern(\"12 0aA@#$%^&*()_+\")\n",
    "str_b = sys.intern(\"12 0aA@#$%^&*()_+\")\n",
    "print(str_a is str_b)"
   ]
  },
  {
   "attachments": {},
   "cell_type": "markdown",
   "metadata": {},
   "source": [
    "### Typecasting(): Converting one type to another.\n",
    "##### Types:-\n",
    "##### 1. Implicit typecasting: Done by the interpreter or compiler.\n",
    "##### 2. Explicit typecasting: Done by the programmer."
   ]
  },
  {
   "cell_type": "code",
   "execution_count": 32,
   "metadata": {},
   "outputs": [
    {
     "name": "stdout",
     "output_type": "stream",
     "text": [
      "10\n",
      "786\n",
      "1\n",
      "0\n"
     ]
    }
   ],
   "source": [
    "# Integer typecasting\n",
    "print(int(10.5))\n",
    "print(int('786'))\n",
    "# print(int(2+3j)) # Here we will get error as we can't typecast complex number to integer.\n",
    "print(int(True)) # Here True will be typecasted to 1.\n",
    "print(int(False)) # Here False will be typecasted to 0.\n",
    "# print(int('786.5')) # Here we will get error as we can't typecast string to integer."
   ]
  },
  {
   "cell_type": "code",
   "execution_count": 1,
   "metadata": {},
   "outputs": [
    {
     "name": "stdout",
     "output_type": "stream",
     "text": [
      "10.0\n",
      "786.0\n",
      "1.0\n",
      "256.56\n"
     ]
    }
   ],
   "source": [
    "# Float typecasting\n",
    "print(float(10))\n",
    "print(float('786'))\n",
    "# print(float(4+3j)) # Here we will get error as we can't typecast complex number to float.\n",
    "print(float(True)) # Here True will be typecasted to 1.0.\n",
    "print(float('256.56'))"
   ]
  },
  {
   "cell_type": "code",
   "execution_count": 8,
   "metadata": {},
   "outputs": [
    {
     "name": "stdout",
     "output_type": "stream",
     "text": [
      "(10+0j)\n",
      "(786+0j)\n",
      "(4+3j)\n",
      "(1+0j)\n",
      "(256.56+0j)\n",
      "(10+20j)\n"
     ]
    }
   ],
   "source": [
    "# Complex typecasting: Converts any number to complex number.\n",
    "print(complex(10))\n",
    "print(complex('786'))\n",
    "print(complex(4+3j))\n",
    "print(complex(True)) # Here True will be typecasted to 1+0j.\n",
    "print(complex('256.56'))\n",
    "print(complex(10, 20)) # Here 10 is real part and 20 is imaginary part."
   ]
  },
  {
   "cell_type": "code",
   "execution_count": 5,
   "metadata": {},
   "outputs": [
    {
     "name": "stdout",
     "output_type": "stream",
     "text": [
      "10\n",
      "10.5\n",
      "(4+3j)\n",
      "True\n",
      "[1, 2, 3, 4, 5]\n",
      "(1, 2, 3, 4, 5)\n",
      "{1, 2, 3, 4, 5}\n"
     ]
    }
   ],
   "source": [
    "# String typecasting: Converts anything to string. It never raises error.\n",
    "print(str(10))\n",
    "print(str(10.5))\n",
    "print(str(4+3j))\n",
    "print(str(True))\n",
    "print(str([1,2,3,4,5])) # Here we will get list as string.\n",
    "print(str((1,2,3,4,5))) # Here we will get tuple as string.\n",
    "print(str({1,2,3,4,5})) # Here we will get set as string."
   ]
  },
  {
   "cell_type": "code",
   "execution_count": 12,
   "metadata": {},
   "outputs": [
    {
     "name": "stdout",
     "output_type": "stream",
     "text": [
      "True\n",
      "True\n",
      "False\n",
      "True\n",
      "True\n"
     ]
    }
   ],
   "source": [
    "# Boolean typecasting: Converts anything to boolean. It never raises error. Any integer other than 0 is True and 0 is False.\n",
    "print(bool(10))\n",
    "print(bool(1)) # Here 1 will be typecasted to True.\n",
    "print(bool(0)) # Here 0 will be typecasted to False.\n",
    "print(bool(234645460.234))\n",
    "print(bool(-564423.35))"
   ]
  },
  {
   "cell_type": "code",
   "execution_count": 18,
   "metadata": {},
   "outputs": [
    {
     "data": {
      "text/plain": [
       "False"
      ]
     },
     "execution_count": 18,
     "metadata": {},
     "output_type": "execute_result"
    }
   ],
   "source": [
    "# After 323 zeros it will be False.\n",
    "# \"0\"*323 for taking 323 zeros.\n",
    "bool(0.000000000000000000000000000000000000000000000000000000000000000000000000000000000000000000000000000000000000000000000000000000000000000000000000000000000000000000000000000000000000000000000000000000000000000000000000000000000000000000000000000000000000000000000000000000000000000000000000000000000000000000000000000000000001)"
   ]
  },
  {
   "cell_type": "code",
   "execution_count": 20,
   "metadata": {},
   "outputs": [
    {
     "data": {
      "text/plain": [
       "False"
      ]
     },
     "execution_count": 20,
     "metadata": {},
     "output_type": "execute_result"
    }
   ],
   "source": [
    "# If both real and imaginary part is 0 or 0.0 then it will be False.\n",
    "bool(0.0 + 0.000j) # Here we will get False as 0.0 is real part and 0.000j is imaginary part."
   ]
  },
  {
   "cell_type": "code",
   "execution_count": 23,
   "metadata": {},
   "outputs": [
    {
     "data": {
      "text/plain": [
       "False"
      ]
     },
     "execution_count": 23,
     "metadata": {},
     "output_type": "execute_result"
    }
   ],
   "source": [
    "bool('') # Here we will get False as we don't have any character in string.\n",
    "bool(' ') # Here we will get True as we have space in string.\n",
    "bool(\"\") # Here we will get False as we don't have any character in string.\n",
    "bool('''''') # Here we will get False as we don't have any character in string."
   ]
  },
  {
   "attachments": {},
   "cell_type": "markdown",
   "metadata": {},
   "source": [
    "### **Input Statement:**\n",
    "##### 1. input() function: It always returns string data.\n",
    "* In python 2 we have 2 input functions, input() & raw_input().\n",
    "* In python 3 we have only one input() function.\n",
    "\n",
    "1. input(): This function takes input from the user as a string, and it is evaluated as a Python expression. It is important to note that this function can be unsafe, especially if used with untrusted user input, as it can execute arbitrary code. Therefore, it is recommended to use raw_input() instead.\n",
    "\n",
    "2. raw_input(): This function takes input from the user as a string, and it does not evaluate it as a Python expression. It is safe to use, as it does not execute arbitrary code.\n",
    "\n",
    "3. sys.stdin.readline(): This function reads input from the standard input stream (stdin) as a string, and it can be used to take input from the user or from a file. It is more efficient than raw_input() for large inputs."
   ]
  },
  {
   "cell_type": "code",
   "execution_count": 5,
   "metadata": {},
   "outputs": [
    {
     "name": "stdout",
     "output_type": "stream",
     "text": [
      "DFE\n",
      "<class 'str'>\n"
     ]
    }
   ],
   "source": [
    "char = input(\"Enter a character: \")\n",
    "print(char)\n",
    "print(type(char))"
   ]
  },
  {
   "cell_type": "code",
   "execution_count": 4,
   "metadata": {},
   "outputs": [
    {
     "name": "stdout",
     "output_type": "stream",
     "text": [
      "458\n",
      "<class 'str'>\n"
     ]
    }
   ],
   "source": [
    "num = input(\"Enter a number: \")\n",
    "print(num)\n",
    "print(type(num))"
   ]
  },
  {
   "attachments": {},
   "cell_type": "markdown",
   "metadata": {},
   "source": [
    "#### **Output functions:** print() is an output function which is used to print data on the screen."
   ]
  },
  {
   "attachments": {},
   "cell_type": "markdown",
   "metadata": {},
   "source": [
    "##### **Types of print() function**"
   ]
  },
  {
   "cell_type": "code",
   "execution_count": 8,
   "metadata": {},
   "outputs": [
    {
     "name": "stdout",
     "output_type": "stream",
     "text": [
      "Hello World\n",
      "\n",
      "Hello World\n"
     ]
    }
   ],
   "source": [
    "\n",
    "# 1. print(): This print() function is used to print empty line.\n",
    "print(\"Hello World\")\n",
    "print() # This will print empty line.\n",
    "print(\"Hello World\")"
   ]
  },
  {
   "cell_type": "code",
   "execution_count": 10,
   "metadata": {},
   "outputs": [
    {
     "name": "stdout",
     "output_type": "stream",
     "text": [
      "a\n",
      "10\n",
      "10.5\n",
      "Hi there\n"
     ]
    }
   ],
   "source": [
    "# 2. print() with single argument: This print() function is used to print any string, number, list, tuple, set, dictionary, etc.\n",
    "print(\"a\") # Here we can see that we are printing string.\n",
    "print(10) # Here we can see that we are printing integer number.\n",
    "print(10.5) # Here we can see that we are printing float number.\n",
    "a = \"Hi there\"\n",
    "print(a) # Here we can see that we are printing variable a."
   ]
  },
  {
   "cell_type": "code",
   "execution_count": 13,
   "metadata": {},
   "outputs": [
    {
     "name": "stdout",
     "output_type": "stream",
     "text": [
      "12345 ISJHDSGJ\n",
      "2 3 4 5 6 7 JH\n",
      "Apple Ball Cat\n"
     ]
    }
   ],
   "source": [
    "# 3. print() with multiple arguments: This print() function is used to print multiple arguments.\n",
    "print(12345, 'ISJHDSGJ')\n",
    "print(2,3,4,5,6,7,\"JH\")\n",
    "\n",
    "a = \"Apple\"\n",
    "b = \"Ball\"\n",
    "c = \"Cat\"\n",
    "print(a,b,c)"
   ]
  },
  {
   "cell_type": "code",
   "execution_count": 15,
   "metadata": {},
   "outputs": [
    {
     "name": "stdout",
     "output_type": "stream",
     "text": [
      "Hi, Hello, How are you\n",
      "HiHelloHow are you\n"
     ]
    }
   ],
   "source": [
    "# 4. print() with sep argument: This print() function is used to print multiple arguments with a separator.\n",
    "print(\"Hi\", \"Hello\", \"How are you\", sep=\", \")\n",
    "print(\"Hi\", \"Hello\", \"How are you\", sep=\"\")"
   ]
  },
  {
   "cell_type": "code",
   "execution_count": 18,
   "metadata": {},
   "outputs": [
    {
     "name": "stdout",
     "output_type": "stream",
     "text": [
      "Hello\n",
      "Hi\n",
      "How are you\n",
      "\n",
      "hello hi\n"
     ]
    }
   ],
   "source": [
    "# 5. print() with end argument: This print() function is used to print multiple arguments with a end.\n",
    "print(\"Hello\"); print(\"Hi\"); print(\"How are you\") # By default end is new line.\n",
    "print()\n",
    "print(\"hello\", end=\" \"); print(\"hi\") # Here we are using end as space."
   ]
  },
  {
   "cell_type": "code",
   "execution_count": 31,
   "metadata": {},
   "outputs": [
    {
     "name": "stdout",
     "output_type": "stream",
     "text": [
      "Hello HR I am an Software Engineer with 10 years of experience.\n",
      "A for Apple, B for Ball\n"
     ]
    }
   ],
   "source": [
    "# 6. print() with format method: This print() function is used to print multiple arguments with a format specifier.\n",
    "print(\"Hello {} I am an {} with {} years of experience.\".format(\"HR\", \"Software Engineer\", 10))\n",
    "print(\"A for {a}, B for {b}\".format(a = \"Apple\", b = \"Ball\"))\n"
   ]
  },
  {
   "cell_type": "code",
   "execution_count": 37,
   "metadata": {},
   "outputs": [
    {
     "name": "stdout",
     "output_type": "stream",
     "text": [
      "Hello Ram I am an HR with 10 years of experience.\n",
      "Sum of 23 and 45 is 68\n",
      "Difference between 23 and 45 is -22\n",
      "Product of 23 and 45 is 1035\n"
     ]
    }
   ],
   "source": [
    "# print() with f-string: This print() function is used to print multiple arguments with a format specifier.\n",
    "a = \"HR\"\n",
    "b = 10\n",
    "c = \"Ram\"\n",
    "print(f\"Hello {c} I am an {a} with {b} years of experience.\") # Here we are using f-string.\n",
    "\n",
    "num1 = 23\n",
    "num2 = 45\n",
    "print(f\"Sum of {num1} and {num2} is {num1+num2}\")\n",
    "print(f\"Difference between {num1} and {num2} is {num1 - num2}\")\n",
    "print(f\"Product of {num1} and {num2} is {num1 * num2}\")"
   ]
  }
 ],
 "metadata": {
  "kernelspec": {
   "display_name": "base",
   "language": "python",
   "name": "python3"
  },
  "language_info": {
   "codemirror_mode": {
    "name": "ipython",
    "version": 3
   },
   "file_extension": ".py",
   "mimetype": "text/x-python",
   "name": "python",
   "nbconvert_exporter": "python",
   "pygments_lexer": "ipython3",
   "version": "3.9.13"
  },
  "orig_nbformat": 4,
  "vscode": {
   "interpreter": {
    "hash": "6cb2a783fba10e4988f74b94bf4b8ec0c47b621437b0dc0599ccabf2d2cf6b2d"
   }
  }
 },
 "nbformat": 4,
 "nbformat_minor": 2
}
