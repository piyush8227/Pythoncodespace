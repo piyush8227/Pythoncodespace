{
 "cells": [
  {
   "attachments": {},
   "cell_type": "markdown",
   "metadata": {},
   "source": [
    "## **List Data structure**\n",
    "* Is collection of heterogenous elements.\n",
    "* Indexing and slicing are applicable.\n",
    "* Insertion order is preserved.\n",
    "* Duplicates are allowed.\n",
    "* [ ] are used to create a list."
   ]
  },
  {
   "attachments": {},
   "cell_type": "markdown",
   "metadata": {},
   "source": [
    "### **1. Creating a list object:**\n",
    "* 1. Empty list object:\n",
    "    * l1 = []\n",
    "    * l2 = list()\n",
    "#\n",
    "* 2. List object with predefined values:\n",
    "    * l = [1,2,3,4,5,6,7]\n",
    "#\n",
    "* 3. list(): is used to convert any iterable object into list().\n",
    "#\n",
    "* 4. split(): is used to define list from string.\n",
    "#\n",
    "* 5. Accessing elements of list():\n",
    "    * Indexing\n",
    "    * Slicing"
   ]
  },
  {
   "cell_type": "code",
   "execution_count": 104,
   "metadata": {},
   "outputs": [
    {
     "name": "stdout",
     "output_type": "stream",
     "text": [
      "[] []\n"
     ]
    }
   ],
   "source": [
    "lst = [] # defining empty list \n",
    "lst2 = list() # defining empty list with list() function.\n",
    "print(lst, lst2)"
   ]
  },
  {
   "cell_type": "code",
   "execution_count": 105,
   "metadata": {},
   "outputs": [
    {
     "name": "stdout",
     "output_type": "stream",
     "text": [
      "[22, 33, 44, 55, 66]\n",
      "[22, 33, 44, 5, 6]\n"
     ]
    }
   ],
   "source": [
    "lst = [22,33,44,55,66] # List with predefined values\n",
    "print(lst)\n",
    "\n",
    "lst2 = list((22,33,44,5,6)) # List with predefined values using list() function.\n",
    "print(lst2)"
   ]
  },
  {
   "cell_type": "code",
   "execution_count": 106,
   "metadata": {},
   "outputs": [
    {
     "name": "stdout",
     "output_type": "stream",
     "text": [
      "['Piyush', 'More']\n"
     ]
    }
   ],
   "source": [
    "str = ('Piyush More') # split() converts any string object into list.\n",
    "str = str.split()\n",
    "print(str)"
   ]
  },
  {
   "cell_type": "code",
   "execution_count": 107,
   "metadata": {},
   "outputs": [
    {
     "name": "stdout",
     "output_type": "stream",
     "text": [
      "22\n",
      "[22, 33, 44]\n"
     ]
    }
   ],
   "source": [
    "# Accessing list object.\n",
    "print(lst[0]) # lst = [22, 33, 44, 55, 66]\n",
    "print(lst2[0:3]) # lst2 = [22, 33, 44, 5, 6]"
   ]
  },
  {
   "attachments": {},
   "cell_type": "markdown",
   "metadata": {},
   "source": [
    "### **2. Important functions / methods**\n",
    "* len(): returns total number of elements in list.\n",
    "* count(): returns total number of occurences of given element.\n",
    "* index(): returns index of first occurence of given element."
   ]
  },
  {
   "cell_type": "code",
   "execution_count": 108,
   "metadata": {},
   "outputs": [
    {
     "name": "stdout",
     "output_type": "stream",
     "text": [
      "Length of list:  11\n",
      "Count of 8 in lst:  3\n",
      "Index of first occurence of 8:  7\n"
     ]
    }
   ],
   "source": [
    "lst = [1,2,3,4,5,6,7,8,8,8,9]\n",
    "print(\"Length of list: \", len(lst)) # length of list. \n",
    "print(\"Count of 8 in lst: \", lst.count(8)) # count of 8 in lst.\n",
    "print(\"Index of first occurence of 8: \", lst.index(8)) # returns index of first occurence of 8."
   ]
  },
  {
   "attachments": {},
   "cell_type": "markdown",
   "metadata": {},
   "source": [
    "### **3. Manupulating list elements**\n",
    "* append(): adds element at the end of list.\n",
    "* insert(): adds element at given index.   \n",
    "* extend(): adds elements of given list at the end of another list.\n",
    "* remove(): removes first occurence of given element.\n",
    "* pop(): removes last element from list and returns it.\n",
    "* pop(index): removes element at given index and returns it.\n",
    "* clear(): removes all elements from list but keeps the structure."
   ]
  },
  {
   "cell_type": "code",
   "execution_count": 109,
   "metadata": {},
   "outputs": [
    {
     "data": {
      "text/plain": [
       "[22, 33, 44, 5, 53, 78, 2]"
      ]
     },
     "execution_count": 109,
     "metadata": {},
     "output_type": "execute_result"
    }
   ],
   "source": [
    "lst = [22,33,44,5,53,78]\n",
    "lst.append(2) # It takes only element at a time & adds it at the end.\n",
    "lst"
   ]
  },
  {
   "cell_type": "code",
   "execution_count": 110,
   "metadata": {},
   "outputs": [
    {
     "name": "stdout",
     "output_type": "stream",
     "text": [
      "[22, 33, 3, 44, 5, 53, 78, 2]\n"
     ]
    }
   ],
   "source": [
    "lst.insert(2,3) # insert(index, element)\n",
    "print(lst)"
   ]
  },
  {
   "cell_type": "code",
   "execution_count": 111,
   "metadata": {},
   "outputs": [
    {
     "name": "stdout",
     "output_type": "stream",
     "text": [
      "[22, 33, 3, 44, 5, 53, 78, 2, 'a', 'b', 'c', 'd', 'e']\n"
     ]
    }
   ],
   "source": [
    "lst2 = ['a','b','c','d','e']\n",
    "lst.extend(lst2) # Adds lst2 elements at the end of lst.\n",
    "print(lst)"
   ]
  },
  {
   "cell_type": "code",
   "execution_count": 112,
   "metadata": {},
   "outputs": [
    {
     "name": "stdout",
     "output_type": "stream",
     "text": [
      "Before removing : [2, 32, 435, 232, 12, 34, 12, 43, 34, 34, 90]\n",
      "After removing : [2, 32, 435, 232, 12, 12, 43, 34, 34, 90]\n"
     ]
    }
   ],
   "source": [
    "lst3 = [2,32,435,232,12,34,12,43,34,34,90]\n",
    "print(\"Before removing :\", lst3)\n",
    "lst3.remove(34)\n",
    "print(\"After removing :\", lst3)\n"
   ]
  },
  {
   "cell_type": "code",
   "execution_count": 113,
   "metadata": {},
   "outputs": [
    {
     "name": "stdout",
     "output_type": "stream",
     "text": [
      "Before popping : [2, 32, 435, 232, 12, 12, 43, 34, 34, 90]\n",
      "After popping : [2, 32, 435, 232, 12, 12, 43, 34, 34]\n"
     ]
    }
   ],
   "source": [
    "print(\"Before popping :\", lst3)\n",
    "lst3.pop()\n",
    "print(\"After popping :\", lst3) # Last element is popped out."
   ]
  },
  {
   "cell_type": "code",
   "execution_count": 114,
   "metadata": {},
   "outputs": [
    {
     "name": "stdout",
     "output_type": "stream",
     "text": [
      "Before popping : [2, 32, 435, 232, 12, 12, 43, 34, 34]\n",
      "After popping : [2, 32, 232, 12, 12, 43, 34, 34]\n"
     ]
    }
   ],
   "source": [
    "print(\"Before popping :\", lst3)\n",
    "lst3.pop(2)\n",
    "print(\"After popping :\", lst3) # Element at 2nd index is popped out."
   ]
  },
  {
   "cell_type": "code",
   "execution_count": 115,
   "metadata": {},
   "outputs": [
    {
     "data": {
      "text/plain": [
       "[]"
      ]
     },
     "execution_count": 115,
     "metadata": {},
     "output_type": "execute_result"
    }
   ],
   "source": [
    "# clear() method.\n",
    "lst.clear()\n",
    "lst"
   ]
  },
  {
   "attachments": {},
   "cell_type": "markdown",
   "metadata": {},
   "source": [
    "### **4. Ordering elements:-**\n",
    "* sort(): sorts elements in ascending order.\n",
    "    * For alphabets: A-Z, a-z, 0-9, special characters.\n",
    "    * sort(reverse=True): sorts elements in descending order.\n",
    "* reverse(): reverses the order of elements."
   ]
  },
  {
   "cell_type": "code",
   "execution_count": 116,
   "metadata": {},
   "outputs": [
    {
     "name": "stdout",
     "output_type": "stream",
     "text": [
      "Before sorting : [2, 32, 232, 12, 12, 43, 34, 34]\n",
      "After sorting : [2, 12, 12, 32, 34, 34, 43, 232]\n",
      "\n",
      "Before sorting : ['a', 'b', 'c', 'A', 'Z', 'd', 'e']\n",
      "After sorting with reverse : ['A', 'Z', 'a', 'b', 'c', 'd', 'e']\n"
     ]
    }
   ],
   "source": [
    "print(\"Before sorting :\", lst3)\n",
    "lst3.sort()\n",
    "print(\"After sorting :\", lst3)\n",
    "\n",
    "print()\n",
    "\n",
    "lst2 = ['a', 'b', 'c', 'A', 'Z', 'd', 'e']\n",
    "print(\"Before sorting :\", lst2)\n",
    "lst2.sort()\n",
    "print(\"After sorting with reverse :\", lst2)"
   ]
  },
  {
   "cell_type": "code",
   "execution_count": 117,
   "metadata": {},
   "outputs": [
    {
     "name": "stdout",
     "output_type": "stream",
     "text": [
      "Before sorting : [2, 12, 12, 32, 34, 34, 43, 232]\n",
      "After sorting with reverse : [232, 43, 34, 34, 32, 12, 12, 2]\n",
      "\n",
      "Before sorting : ['a', 'b', 'c', 'A', 'Z', 'd', 'e']\n",
      "After sorting with reverse : ['e', 'd', 'c', 'b', 'a', 'Z', 'A']\n"
     ]
    }
   ],
   "source": [
    "print(\"Before sorting :\", lst3)\n",
    "lst3.sort(reverse=True)\n",
    "print(\"After sorting with reverse :\", lst3)\n",
    "\n",
    "print()\n",
    "\n",
    "lst2 = ['a', 'b', 'c', 'A', 'Z', 'd', 'e']\n",
    "print(\"Before sorting :\", lst2)\n",
    "lst2.sort(reverse=True)\n",
    "print(\"After sorting with reverse :\", lst2)"
   ]
  },
  {
   "cell_type": "code",
   "execution_count": 32,
   "metadata": {},
   "outputs": [
    {
     "name": "stdout",
     "output_type": "stream",
     "text": [
      "Before reversing list:  ['a', 'b', 'c', 'A', 'Z', 'd', 'e']\n",
      "After reversing list:  ['e', 'd', 'Z', 'A', 'c', 'b', 'a']\n"
     ]
    }
   ],
   "source": [
    "lst2 = ['a', 'b', 'c', 'A', 'Z', 'd', 'e']\n",
    "print(\"Before reversing list: \", lst2)\n",
    "lst2.reverse()\n",
    "print(\"After reversing list: \", lst2)"
   ]
  },
  {
   "attachments": {},
   "cell_type": "markdown",
   "metadata": {},
   "source": [
    "### **5. Aliasing and cloning or deep copy of list**\n",
    "* Aliasing: is a process of creating a new name for existing object.\n",
    "* Cloning: is a process of creating a new object with same elements as existing object."
   ]
  },
  {
   "cell_type": "code",
   "execution_count": 119,
   "metadata": {},
   "outputs": [
    {
     "name": "stdout",
     "output_type": "stream",
     "text": [
      "Before changing lst2:  [1, 2, 3, 4, 5, 6, 7, 8, 9]\n",
      "After changing lst2:  [100, 2, 3, 4, 5, 6, 7, 8, 9]\n",
      "After changing lst2:  [100, 2, 3, 4, 5, 6, 7, 8, 9]\n"
     ]
    }
   ],
   "source": [
    "# Aliasing\n",
    "lst = [1,2,3,4,5,6,7,8,9]\n",
    "lst2 = lst\n",
    "print(\"Before changing lst2: \", lst2)\n",
    "lst2[0] = 100\n",
    "print(\"After changing lst2: \", lst2)\n",
    "print(\"After changing lst2: \", lst)"
   ]
  },
  {
   "cell_type": "code",
   "execution_count": 121,
   "metadata": {},
   "outputs": [
    {
     "name": "stdout",
     "output_type": "stream",
     "text": [
      "[1, 2, 3, 4, 5, 6, 7, 8, 9]\n"
     ]
    }
   ],
   "source": [
    "# Cloning\n",
    "lst = [1,2,3,4,5,6,7,8,9]\n",
    "lst2 = lst.copy()\n",
    "print(lst2)"
   ]
  },
  {
   "attachments": {},
   "cell_type": "markdown",
   "metadata": {},
   "source": [
    "### **6. List comparsion:** Comparing two lists."
   ]
  },
  {
   "cell_type": "code",
   "execution_count": 123,
   "metadata": {},
   "outputs": [
    {
     "name": "stdout",
     "output_type": "stream",
     "text": [
      "True\n"
     ]
    }
   ],
   "source": [
    "# List comparsion\n",
    "lst = [1,2,3,4,5,6,7,8,9]\n",
    "lst2 = [1,2,3,4,5,6,7,8,9]\n",
    "print(lst == lst2)"
   ]
  },
  {
   "attachments": {},
   "cell_type": "markdown",
   "metadata": {},
   "source": [
    "### **7. List membership:** Checking whether an element is present in list or not."
   ]
  },
  {
   "cell_type": "code",
   "execution_count": 124,
   "metadata": {},
   "outputs": [
    {
     "name": "stdout",
     "output_type": "stream",
     "text": [
      "True\n"
     ]
    }
   ],
   "source": [
    "# List membership\n",
    "lst = [1,2,3,4,5,6,7,8,9]\n",
    "print(1 in lst)"
   ]
  },
  {
   "attachments": {},
   "cell_type": "markdown",
   "metadata": {},
   "source": [
    "### **8. List comprehension:** Creating a list from another list."
   ]
  },
  {
   "cell_type": "code",
   "execution_count": 126,
   "metadata": {},
   "outputs": [
    {
     "name": "stdout",
     "output_type": "stream",
     "text": [
      "[1, 3, 5, 7, 9]\n"
     ]
    }
   ],
   "source": [
    "# List comprehension\n",
    "lst = [i for i in range(1,11,2)]\n",
    "print(lst)"
   ]
  },
  {
   "attachments": {},
   "cell_type": "markdown",
   "metadata": {},
   "source": [
    "### **9. Nested list: List of lists.**"
   ]
  },
  {
   "cell_type": "code",
   "execution_count": 128,
   "metadata": {},
   "outputs": [
    {
     "name": "stdout",
     "output_type": "stream",
     "text": [
      "7\n"
     ]
    }
   ],
   "source": [
    "# Nested list\n",
    "lst = [[1,2,3],[4,5,6],[7,8,9]]\n",
    "print(lst[2][0])"
   ]
  },
  {
   "cell_type": "code",
   "execution_count": 7,
   "metadata": {},
   "outputs": [
    {
     "name": "stdout",
     "output_type": "stream",
     "text": [
      "['a', [1, 2, 2, [23, 45, 67]]]\n"
     ]
    }
   ],
   "source": [
    "# Write a Python program to create a nested list.\n",
    "lst = ['a']\n",
    "nst_list = [1,2,2, [23,45,67]]\n",
    "lst.append(nst_list)\n",
    "print(lst)"
   ]
  },
  {
   "cell_type": "code",
   "execution_count": 8,
   "metadata": {},
   "outputs": [
    {
     "name": "stdout",
     "output_type": "stream",
     "text": [
      "[0, 2, 4, 6, 8, 10, 12, 14, 16, 18]\n"
     ]
    }
   ],
   "source": [
    "# Write a Python program to create a list of even numbers using list comprehension.\n",
    "lst = [i for i in range(20) if i%2 == 0]\n",
    "print(lst)"
   ]
  },
  {
   "cell_type": "code",
   "execution_count": 15,
   "metadata": {},
   "outputs": [
    {
     "name": "stdout",
     "output_type": "stream",
     "text": [
      "[1, 2, 3, 4, 5, 6, 7, 8, 9]\n"
     ]
    }
   ],
   "source": [
    "# Write a Python program to remove duplicate elements from a list.\n",
    "lst = [1,2,3,4,5,6,7,8,9,1,2,3,4,5,6,7,8,9]\n",
    "new_list = []\n",
    "\n",
    "for element in lst:\n",
    "    if element not in new_list:\n",
    "        new_list.append(element)\n",
    "print(new_list)"
   ]
  },
  {
   "cell_type": "code",
   "execution_count": 21,
   "metadata": {},
   "outputs": [
    {
     "name": "stdout",
     "output_type": "stream",
     "text": [
      "['z', 'a', 'Z', 'B', 'A']\n",
      "[1213, 309, 22, 4, 4, 3, 1]\n"
     ]
    }
   ],
   "source": [
    "# Write a Python program to sort a list in descending order.\n",
    "lst = ['a','A','B','Z','z']\n",
    "print(sorted(lst,reverse=True))\n",
    "\n",
    "lst2 = [1,22,3,309,4,1213,4]\n",
    "print(sorted(lst2,reverse=True))"
   ]
  },
  {
   "cell_type": "code",
   "execution_count": 33,
   "metadata": {},
   "outputs": [
    {
     "name": "stdout",
     "output_type": "stream",
     "text": [
      "['z', 'Z', 'B', 'A', 'a']\n",
      "['z', 'Z', 'B', 'A', 'a']\n"
     ]
    }
   ],
   "source": [
    "# Write a Python program to reverse a list.\n",
    "lst = ['a','A','B','Z','z']\n",
    "print(lst[::-1])\n",
    "lst.reverse()\n",
    "print(lst)"
   ]
  },
  {
   "cell_type": "code",
   "execution_count": 40,
   "metadata": {},
   "outputs": [
    {
     "name": "stdout",
     "output_type": "stream",
     "text": [
      "90\n"
     ]
    }
   ],
   "source": [
    "# Write a Python program to find the second largest number in a list.\n",
    "lst = [33,55,6785,89,90,6]\n",
    "\n",
    "def sd_largest_ele(lst):\n",
    "    lst.sort(reverse=True)\n",
    "    snd_larg = lst[1]\n",
    "    print(snd_larg)\n",
    "\n",
    "sd_largest_ele(lst)\n"
   ]
  },
  {
   "cell_type": "code",
   "execution_count": 42,
   "metadata": {},
   "outputs": [
    {
     "name": "stdout",
     "output_type": "stream",
     "text": [
      "No both the given lista are different\n"
     ]
    }
   ],
   "source": [
    "# Write a Python program to check if two lists are equal.\n",
    "def list_equality(lst1,lst2):\n",
    "    if lst1 == lst2:\n",
    "        print(\"Yes both the given lista are equal\")\n",
    "    else:\n",
    "       print(\"No both the given lista are different\")\n",
    "a = [1,2,3,4,5]\n",
    "b = [1,2,3,4,6]\n",
    "list_equality(a,b)"
   ]
  },
  {
   "cell_type": "code",
   "execution_count": 46,
   "metadata": {},
   "outputs": [
    {
     "name": "stdout",
     "output_type": "stream",
     "text": [
      "[0, 1, 2, 3, 4, 5, 6, 7, 8, 9]\n",
      "[0, 2, 4, 6, 8]\n"
     ]
    }
   ],
   "source": [
    "# Write a Python program to remove all the odd numbers from a list.\n",
    "lst = [i for i in range(10)]\n",
    "new_list = []\n",
    "\n",
    "def remove_odd(lst):\n",
    "    for num in lst:\n",
    "        if num % 2 == 0:\n",
    "            new_list.append(num)\n",
    "    print(new_list)\n",
    "remove_odd(lst)"
   ]
  },
  {
   "cell_type": "code",
   "execution_count": 51,
   "metadata": {},
   "outputs": [
    {
     "name": "stdout",
     "output_type": "stream",
     "text": [
      "Sum of elements of list: 45\n"
     ]
    }
   ],
   "source": [
    "# Write a Python program to find the sum of all the elements in a list.\n",
    "lst = [i for i in range(10)]\n",
    "\n",
    "sum = 0\n",
    "\n",
    "for num in lst:\n",
    "    sum = sum + num\n",
    "print(\"Sum of elements of list:\",sum)\n"
   ]
  },
  {
   "cell_type": "code",
   "execution_count": 53,
   "metadata": {},
   "outputs": [
    {
     "name": "stdout",
     "output_type": "stream",
     "text": [
      "[0, 2, 4, 6, 8]\n",
      "[0, 2, 4, 6, 8]\n"
     ]
    }
   ],
   "source": [
    "# Write a Python program to copy a list (both shallow and deep copy).\n",
    "lst = [i for i in range(10) if i % 2 == 0]\n",
    "lst2 = lst.copy()\n",
    "print(lst2)"
   ]
  }
 ],
 "metadata": {
  "kernelspec": {
   "display_name": "base",
   "language": "python",
   "name": "python3"
  },
  "language_info": {
   "codemirror_mode": {
    "name": "ipython",
    "version": 3
   },
   "file_extension": ".py",
   "mimetype": "text/x-python",
   "name": "python",
   "nbconvert_exporter": "python",
   "pygments_lexer": "ipython3",
   "version": "3.9.13"
  },
  "orig_nbformat": 4,
  "vscode": {
   "interpreter": {
    "hash": "6cb2a783fba10e4988f74b94bf4b8ec0c47b621437b0dc0599ccabf2d2cf6b2d"
   }
  }
 },
 "nbformat": 4,
 "nbformat_minor": 2
}
