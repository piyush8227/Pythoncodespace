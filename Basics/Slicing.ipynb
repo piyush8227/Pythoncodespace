{
 "cells": [
  {
   "attachments": {},
   "cell_type": "markdown",
   "metadata": {},
   "source": [
    "## **Indexing & Slicing**"
   ]
  },
  {
   "attachments": {},
   "cell_type": "markdown",
   "metadata": {},
   "source": [
    "1. What is indexing?\n",
    "* Indexing is a process of accessing elements.\n",
    "\n",
    "2. Types of Index:\n",
    "    1. Positive Index: It is being used to access elements from left to right. Postive index starts from 0 & ends at n-1.\n",
    "    2. Negative Index: It is being used to access elements from right to left. Negative index starts from -1 & ends at -n.\n",
    "* Note: Indexing is applicable only on sequences. "
   ]
  },
  {
   "cell_type": "code",
   "execution_count": 1,
   "metadata": {},
   "outputs": [
    {
     "data": {
      "text/plain": [
       "[4, 6, 8]"
      ]
     },
     "execution_count": 1,
     "metadata": {},
     "output_type": "execute_result"
    }
   ],
   "source": [
    "lst_a = [2,3,4,5,6,7,8,9]\n",
    "lst_a[2::2]"
   ]
  },
  {
   "cell_type": "code",
   "execution_count": 5,
   "metadata": {},
   "outputs": [
    {
     "name": "stdout",
     "output_type": "stream",
     "text": [
      "Piyush your name in reverse looks like:  hsuyiP\n"
     ]
    }
   ],
   "source": [
    "# Write a program to reverse any name\n",
    "name = input(\"Enter your name: \")\n",
    "reverse = name[::-1]\n",
    "print(f\"{name} your name in reverse looks like: \", reverse)"
   ]
  },
  {
   "attachments": {},
   "cell_type": "markdown",
   "metadata": {},
   "source": [
    "1. What is slicing ?\n",
    "* When a piece of object is separated from a whole object it is called slicing.\n",
    "\n",
    "#### **Slicing operator:** It returns sub sequence. \n",
    "#### **Types of slicing operator:**\n",
    "1. seq[Begin : End]\n",
    "* Rules: Both begin and end are optional. Step is counted as +1 default. End = end - 1. It will move from left to right. End should not be zero(0).\n",
    "2. seq[Begin : End : Step]\n",
    "* Rules: \n",
    "    1. +ve step value: It will move from left to right. End = end - 1, End should not be 0. End_index values should always be choosen from right side of begin index value.\n",
    "    2. -ve step value: It will move from right to left. End = end + 1, End should not be -1. End_index values should always be choosen from left side of begin index value."
   ]
  },
  {
   "cell_type": "code",
   "execution_count": 7,
   "metadata": {},
   "outputs": [
    {
     "data": {
      "text/plain": [
       "'p'"
      ]
     },
     "execution_count": 7,
     "metadata": {},
     "output_type": "execute_result"
    }
   ],
   "source": [
    "# -6 -5 -4 -3 -2 -1\n",
    "#  p  y  t  h  o  n\n",
    "#  0  1  2  3  4  5\n",
    "s = 'python'\n",
    "s[-5:4] # 'ytho'\n",
    "s[:-1]  # 'pytho'\n",
    "s[1:2]  # 'y'\n",
    "s[:]    # 'python'\n",
    "s[:3]   # 'pyt'\n",
    "s[-4:]  # 'thon'\n",
    "s[-6:0] # empty string\n",
    "s[-600000000000: -1] # 'pytho' it checks the length of the string and then slices\n",
    "s[1:3:100]  # 'y' it checks the length of the string and then slices\n",
    "s[::1000]   # 'p' it checks the length of the string and then slices"
   ]
  },
  {
   "cell_type": "code",
   "execution_count": 4,
   "metadata": {},
   "outputs": [
    {
     "data": {
      "text/plain": [
       "'y'"
      ]
     },
     "execution_count": 4,
     "metadata": {},
     "output_type": "execute_result"
    }
   ],
   "source": [
    "s = 'python'\n",
    "s[::3] # 'ph'\n",
    "s[1:3:1000] # 'y'"
   ]
  },
  {
   "cell_type": "code",
   "execution_count": 8,
   "metadata": {},
   "outputs": [
    {
     "data": {
      "text/plain": [
       "'ny'"
      ]
     },
     "execution_count": 8,
     "metadata": {},
     "output_type": "execute_result"
    }
   ],
   "source": [
    "s[10:-1:-2] # empty string because -1 is in end and -2 is in step\n",
    "s[:-6:-4] # 'ny'"
   ]
  },
  {
   "cell_type": "code",
   "execution_count": 7,
   "metadata": {},
   "outputs": [
    {
     "name": "stdout",
     "output_type": "stream",
     "text": [
      "The string is a palindrome\n"
     ]
    }
   ],
   "source": [
    "# Write a program for checking if a string is a palindrome or not\n",
    "str = input(\"Enter a string: \")\n",
    "rev = str[::-1]\n",
    "if str == rev:\n",
    "    print(\"The string is a palindrome\")\n",
    "else:\n",
    "    print(\"The string is not a palindrome\")"
   ]
  },
  {
   "cell_type": "code",
   "execution_count": 12,
   "metadata": {},
   "outputs": [
    {
     "name": "stdout",
     "output_type": "stream",
     "text": [
      "The first half of the string is:  Photosy\n",
      "The second half of the string is:  nthesis\n"
     ]
    }
   ],
   "source": [
    "# Write a Python program to print the first half and the second half of a string. If the length of the string is odd, include the middle character in the first half.\n",
    "str = input(\"Enter a string:\")\n",
    "length = len(str)\n",
    "if length % 2 == 0:\n",
    "    print(\"The first half of the string is: \", str[:length//2])\n",
    "    print(\"The second half of the string is: \", str[length//2:])"
   ]
  },
  {
   "cell_type": "code",
   "execution_count": 15,
   "metadata": {},
   "outputs": [
    {
     "name": "stdout",
     "output_type": "stream",
     "text": [
      "The reversed string is:  problem word reversed is These\n"
     ]
    }
   ],
   "source": [
    "# Write a program to reverse the words of a given string\n",
    "str = input(\"Enter a string: \")\n",
    "words = str.split()\n",
    "rev = words[::-1]\n",
    "print(\"The reversed string is: \", \" \".join(rev))"
   ]
  },
  {
   "cell_type": "code",
   "execution_count": 21,
   "metadata": {},
   "outputs": [
    {
     "name": "stdout",
     "output_type": "stream",
     "text": [
      "['Raj', 'Rahul', 'Rohit']\n"
     ]
    }
   ],
   "source": [
    "# Write a Python program to remove the first and last elements of a given list using slicing.\n",
    "lst = [\"Piyush\", \"Raj\", \"Rahul\", \"Rohit\", \"Rajesh\"]\n",
    "new_lst = lst[1:len(lst)-1]\n",
    "print(new_lst)"
   ]
  },
  {
   "cell_type": "code",
   "execution_count": 23,
   "metadata": {},
   "outputs": [
    {
     "name": "stdout",
     "output_type": "stream",
     "text": [
      "['Piyush', 'Raj', 'Rahul', 'Rohit', 'Rajesh', 'Rakesh']\n"
     ]
    }
   ],
   "source": [
    "# Write a Python program to print the first n elements of a list using slicing.\n",
    "lst = [\"Piyush\", \"Raj\", \"Rahul\", \"Rohit\", \"Rajesh\", \"Rakesh\", \"Ravi\", \"Rahul\", \"Ganesha\", \"Ganesh\", \"Gaurav\", \"Gauri\",\"Kiran\"]\n",
    "n = int(input(\"Enter the number of elements you want to print: \")) # 6\n",
    "print(lst[:n])"
   ]
  },
  {
   "cell_type": "code",
   "execution_count": 24,
   "metadata": {},
   "outputs": [
    {
     "name": "stdout",
     "output_type": "stream",
     "text": [
      "The number of occurrences of Ra in Piyush Raj Rahul Rohit Rajesh Rakesh Ravi Rahul Ganesha Ganesh Gaurav Gauri Kiran is:  6\n"
     ]
    }
   ],
   "source": [
    "# Write a Python program to count the number of occurrences of a substring in a string using slicing.\n",
    "count = 0  # counter\n",
    "substr = input(\"Enter the substring: \") # Example: 'Raj'\n",
    "str = input(\"Enter the string: \") # Example: 'Piyush Raj Rahul Rohit Rajesh Rakesh Ravi Rahul Ganesha Ganesh Gaurav Gauri Kiran'\n",
    "for i in range(len(str)):\n",
    "    if str[i:i+len(substr)] == substr:\n",
    "        count +=1\n",
    "print(f\"The number of occurrences of {substr} in {str} is: \", count)"
   ]
  }
 ],
 "metadata": {
  "kernelspec": {
   "display_name": "base",
   "language": "python",
   "name": "python3"
  },
  "language_info": {
   "codemirror_mode": {
    "name": "ipython",
    "version": 3
   },
   "file_extension": ".py",
   "mimetype": "text/x-python",
   "name": "python",
   "nbconvert_exporter": "python",
   "pygments_lexer": "ipython3",
   "version": "3.9.13"
  },
  "orig_nbformat": 4,
  "vscode": {
   "interpreter": {
    "hash": "6cb2a783fba10e4988f74b94bf4b8ec0c47b621437b0dc0599ccabf2d2cf6b2d"
   }
  }
 },
 "nbformat": 4,
 "nbformat_minor": 2
}
