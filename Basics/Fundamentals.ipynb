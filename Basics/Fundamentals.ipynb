{
 "cells": [
  {
   "attachments": {},
   "cell_type": "markdown",
   "metadata": {},
   "source": [
    "## Introduction to Python"
   ]
  },
  {
   "attachments": {},
   "cell_type": "markdown",
   "metadata": {
    "tags": []
   },
   "source": [
    "### Q1. What is computer science\n",
    "#### Ans: When any real life problem is solved using computer is called as computer science."
   ]
  },
  {
   "attachments": {},
   "cell_type": "markdown",
   "metadata": {},
   "source": [
    "### Q2. What does a good programming needs?\n",
    "#### Ans: A good programming requires the ability to see big picture while paying attention to minute details."
   ]
  },
  {
   "attachments": {},
   "cell_type": "markdown",
   "metadata": {},
   "source": [
    "### Q3. What is syntax?\n",
    "#### Ans: A set of rules that define a what sequence of characters or symbols constitute a well-formed string."
   ]
  },
  {
   "attachments": {},
   "cell_type": "markdown",
   "metadata": {},
   "source": [
    "### Q4. What are semantics?\n",
    "#### Ans: Semantics deals with which well-formed string has a meaning and what that meaning is."
   ]
  },
  {
   "attachments": {},
   "cell_type": "markdown",
   "metadata": {},
   "source": [
    "### Q5. What is Token?\n",
    "#### Ans: Token is a single or smallest element of programming language also known as lexical unit."
   ]
  },
  {
   "attachments": {},
   "cell_type": "markdown",
   "metadata": {},
   "source": [
    "### Q6. What are Keywords?\n",
    "#### Ans: Keywords are the reserved words having a special meaning. \n",
    "#### Eg. ['False', 'None','True', '__peg_parser__', 'and', 'as', 'assert', 'async', 'await', 'break', 'class',\n",
    "#### 'continue', 'def', 'del', 'elif', 'else', 'except','finally', 'for', 'from', 'global', 'if', 'import',\n",
    "#### 'in', 'is', 'return', 'try', 'while', 'with', 'yield']"
   ]
  },
  {
   "cell_type": "code",
   "execution_count": 7,
   "metadata": {},
   "outputs": [],
   "source": [
    "import keyword\n",
    "keyword.kwlist"
   ]
  },
  {
   "attachments": {},
   "cell_type": "markdown",
   "metadata": {},
   "source": [
    "### Q7. What are Literals?\n",
    "#### Ans: Literals are constants that doesn't change their values over the time of execution.\n",
    "#### Types of Literals\n",
    "#### 1. Boolean Literals: TRUE, FALSE\n",
    "#### 2. Numeric Literals: int, float, complex\n",
    "#### 3. Special Literals: None\n",
    "#### 4. String Literals: Anything that is written inside ' ' is a string literal.\n",
    "#### 5. Literals collection: List, Tuples, Sets, Dict."
   ]
  },
  {
   "attachments": {},
   "cell_type": "markdown",
   "metadata": {},
   "source": [
    "### Q8. What are Punctuators?\n",
    "#### Ans: Parentheses: (), Brackets: [], Braces: {}, Period: . , Comma: \",\", Colon: :, Semicolon: ;, Backslash: \\, Plus sign: +\n",
    "#### Minus sign: -, Asterisk: *, Forward slash: /, Percent sign: %, Caret: ^, Ampersand: &, Pipe: |, Tilde: ~, Less than: <, Greater than: >\n",
    "#### Equals: =, Exclamation point: !, Question mark: ?, At sign: @ ."
   ]
  },
  {
   "attachments": {},
   "cell_type": "markdown",
   "metadata": {},
   "source": [
    "### Q9. What is Datatype?\n",
    "#### Ans: It is a classification that identifies which type of value a data has."
   ]
  },
  {
   "attachments": {},
   "cell_type": "markdown",
   "metadata": {},
   "source": [
    "### Q8. What are different built-in datatypes?\n",
    "#### Ans: 1. Boolean Datatype: TRUE, FALSE\n",
    "#### 2. Numeric Datatype: Int, float, complex numbers\n",
    "#### 3. Sequences Datatype: Str, List, tuple, dict, sets, bytes, bytearray\n",
    "#### 4. Sets Datatype: Sets, Frozenset\n",
    "#### 5. Mappings: Dictionary"
   ]
  },
  {
   "cell_type": "code",
   "execution_count": 9,
   "metadata": {},
   "outputs": [
    {
     "name": "stdout",
     "output_type": "stream",
     "text": [
      "<class 'bool'>\n"
     ]
    }
   ],
   "source": [
    "## Boolean Data Type\n",
    "boolean = True\n",
    "print(type(boolean))"
   ]
  },
  {
   "attachments": {},
   "cell_type": "markdown",
   "metadata": {},
   "source": [
    "##### Numeric data types"
   ]
  },
  {
   "cell_type": "code",
   "execution_count": 11,
   "metadata": {},
   "outputs": [
    {
     "name": "stdout",
     "output_type": "stream",
     "text": [
      "<class 'int'>\n",
      "<class 'float'>\n",
      "<class 'complex'>\n"
     ]
    }
   ],
   "source": [
    "# Numeric data types\n",
    "# int\n",
    "int = 1\n",
    "print(type(int))\n",
    "\n",
    "# float\n",
    "float = 1.0\n",
    "print(type(float))\n",
    "\n",
    "# complex\n",
    "complex = 1 + 2j\n",
    "print(type(complex))"
   ]
  },
  {
   "attachments": {},
   "cell_type": "markdown",
   "metadata": {},
   "source": [
    "##### Sequence data types"
   ]
  },
  {
   "cell_type": "code",
   "execution_count": 19,
   "metadata": {},
   "outputs": [
    {
     "name": "stdout",
     "output_type": "stream",
     "text": [
      "<class 'list'>\n",
      "<class 'tuple'>\n",
      "<class 'str'>\n",
      "<class 'set'>\n",
      "<class 'dict'>\n",
      "<class 'bytes'>\n",
      "<class 'bytearray'>\n"
     ]
    }
   ],
   "source": [
    "# Sequence data types\n",
    "# list\n",
    "lst = [25,50,75,100]\n",
    "print(type(lst))\n",
    "\n",
    "# Tuple\n",
    "tup = (23,45,67,89)\n",
    "print(type(tup))\n",
    "\n",
    "# String\n",
    "str = \"Hello World\"\n",
    "print(type(str))\n",
    "\n",
    "# Set\n",
    "sets = {1,2,34,34564,54646}\n",
    "print(type(sets))\n",
    "\n",
    "# Dictionary\n",
    "dict = {'a':'apple','b':'ball'}\n",
    "print(type(dict))\n",
    "\n",
    "# Bytes\n",
    "byt = b'A'\n",
    "print(type(byt))\n",
    "\n",
    "# Byte Array\n",
    "bytarr = bytearray(255)\n",
    "print(type(bytarr))"
   ]
  },
  {
   "attachments": {},
   "cell_type": "markdown",
   "metadata": {},
   "source": [
    "##### Sets datatypes"
   ]
  },
  {
   "cell_type": "code",
   "execution_count": 14,
   "metadata": {},
   "outputs": [
    {
     "name": "stdout",
     "output_type": "stream",
     "text": [
      "<class 'set'>\n",
      "<class 'frozenset'>\n"
     ]
    }
   ],
   "source": [
    "#sets data type\n",
    "sets = {1,2,34,34564,54646}\n",
    "print(type(sets))\n",
    "\n",
    "# frozen set\n",
    "frozen_set = frozenset({2,3,4,5,6,7,8,9,0})\n",
    "print(type(frozen_set))"
   ]
  },
  {
   "attachments": {},
   "cell_type": "markdown",
   "metadata": {},
   "source": [
    "##### Mappings Datatype"
   ]
  },
  {
   "cell_type": "code",
   "execution_count": 20,
   "metadata": {},
   "outputs": [
    {
     "name": "stdout",
     "output_type": "stream",
     "text": [
      "<class 'dict'>\n"
     ]
    }
   ],
   "source": [
    "# Dictionary\n",
    "dict = {'a':'apple','b':'ball'}\n",
    "print(type(dict))"
   ]
  },
  {
   "attachments": {},
   "cell_type": "markdown",
   "metadata": {},
   "source": [
    "### Q8. What are Operators?\n",
    "#### Ans: Operators are the symbols that carryout computation.\n",
    "#### 1. Arithmetic operators: +, -, *, **, /, //, %"
   ]
  },
  {
   "cell_type": "code",
   "execution_count": 27,
   "metadata": {},
   "outputs": [
    {
     "name": "stdout",
     "output_type": "stream",
     "text": [
      "Addition\n",
      "Hello World\n",
      "121\n",
      "122.0\n"
     ]
    }
   ],
   "source": [
    "# Arithmetic Operators\n",
    "print(\"Addition\")\n",
    "print(\"Hello\" + \" \" + \"World\")\n",
    "print(55+66)\n",
    "print(55.5+66.5)"
   ]
  },
  {
   "cell_type": "code",
   "execution_count": 29,
   "metadata": {},
   "outputs": [
    {
     "name": "stdout",
     "output_type": "stream",
     "text": [
      "Subtration\n",
      "11\n",
      "225.0\n"
     ]
    }
   ],
   "source": [
    "print(\"Subtration\")\n",
    "print(55-44)\n",
    "print(225.5-0.5)"
   ]
  },
  {
   "cell_type": "code",
   "execution_count": 31,
   "metadata": {},
   "outputs": [
    {
     "name": "stdout",
     "output_type": "stream",
     "text": [
      "Division\n",
      "5.0\n",
      "3.12\n",
      "Floor Division\n",
      "6\n"
     ]
    }
   ],
   "source": [
    "print(\"Division\")\n",
    "print(55/11)\n",
    "print(78/25)\n",
    "\n",
    "print(\"Floor Division\")\n",
    "print(45//7)\n"
   ]
  },
  {
   "cell_type": "code",
   "execution_count": 34,
   "metadata": {},
   "outputs": [
    {
     "name": "stdout",
     "output_type": "stream",
     "text": [
      "Multiplication\n",
      "330\n",
      "Power function : **\n",
      "125\n"
     ]
    }
   ],
   "source": [
    "print(\"Multiplication\")\n",
    "\n",
    "print(55*6)\n",
    "\n",
    "print(\"Power function : **\")\n",
    "print(5**3)"
   ]
  },
  {
   "cell_type": "code",
   "execution_count": 35,
   "metadata": {},
   "outputs": [
    {
     "name": "stdout",
     "output_type": "stream",
     "text": [
      "Modulo\n",
      "5\n"
     ]
    }
   ],
   "source": [
    "print(\"Modulo\")\n",
    "print(85%8)"
   ]
  }
 ],
 "metadata": {
  "kernelspec": {
   "display_name": "base",
   "language": "python",
   "name": "python3"
  },
  "language_info": {
   "codemirror_mode": {
    "name": "ipython",
    "version": 3
   },
   "file_extension": ".py",
   "mimetype": "text/x-python",
   "name": "python",
   "nbconvert_exporter": "python",
   "pygments_lexer": "ipython3",
   "version": "3.9.13"
  },
  "orig_nbformat": 4,
  "vscode": {
   "interpreter": {
    "hash": "6cb2a783fba10e4988f74b94bf4b8ec0c47b621437b0dc0599ccabf2d2cf6b2d"
   }
  }
 },
 "nbformat": 4,
 "nbformat_minor": 2
}
