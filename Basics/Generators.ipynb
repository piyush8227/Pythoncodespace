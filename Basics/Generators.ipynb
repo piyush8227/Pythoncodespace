{
 "cells": [
  {
   "attachments": {},
   "cell_type": "markdown",
   "metadata": {},
   "source": [
    "## **Generators:**\n",
    "* Generator is a function, responsible to generate a sequence of values.\n",
    "* Generator is just like an ordinary function, except it uses yeild instead of return.\n",
    "\n",
    "### **Advantages:**\n",
    "* Generators are easy to use and implement.\n",
    "* Improve memory utilization and performance.\n",
    "* Best suitable for reading bulk data.\n",
    "* Generators work great for web scrapping and crawling."
   ]
  },
  {
   "cell_type": "code",
   "execution_count": 25,
   "metadata": {},
   "outputs": [
    {
     "name": "stdout",
     "output_type": "stream",
     "text": [
      "0\n",
      "1\n",
      "2\n",
      "3\n",
      "4\n",
      "5\n"
     ]
    }
   ],
   "source": [
    "# Generators\n",
    "def gen123():\n",
    "    for i in range(10):\n",
    "        yield i\n",
    "values = gen123()\n",
    "\n",
    "print(next(values))\n",
    "print(next(values))\n",
    "print(next(values))\n",
    "print(next(values))\n",
    "print(next(values))\n",
    "print(next(values))"
   ]
  },
  {
   "cell_type": "code",
   "execution_count": 31,
   "metadata": {},
   "outputs": [
    {
     "name": "stdout",
     "output_type": "stream",
     "text": [
      "0 1 4 9 16 25 36 49 64 81 "
     ]
    }
   ],
   "source": [
    "def square(n):\n",
    "    for i in range(n):\n",
    "        yield i**2\n",
    "values = square(10)\n",
    "\n",
    "for value in values:\n",
    "    print(value, end=' ')"
   ]
  },
  {
   "cell_type": "code",
   "execution_count": 33,
   "metadata": {},
   "outputs": [
    {
     "name": "stdout",
     "output_type": "stream",
     "text": [
      "0\n",
      "1\n",
      "2\n",
      "3\n",
      "4\n"
     ]
    }
   ],
   "source": [
    "def func_gen():\n",
    "    i = 0\n",
    "    while i < 5:\n",
    "        yield i\n",
    "        i += 1\n",
    "\n",
    "values = func_gen()\n",
    "\n",
    "for i in values:\n",
    "    print(i)"
   ]
  },
  {
   "cell_type": "code",
   "execution_count": 6,
   "metadata": {},
   "outputs": [
    {
     "name": "stdout",
     "output_type": "stream",
     "text": [
      "0 1 2 3 4 5 6 7 8 9 "
     ]
    }
   ],
   "source": [
    "def generator_func():\n",
    "    i = 0\n",
    "    while i < 10:\n",
    "        yield i\n",
    "        i += 1\n",
    "    \n",
    "values = generator_func()\n",
    "\n",
    "for i in values: # We are demanding the values or elements stored in this function and assigning them to i\n",
    "    print(i, end=' ')"
   ]
  }
 ],
 "metadata": {
  "kernelspec": {
   "display_name": "base",
   "language": "python",
   "name": "python3"
  },
  "language_info": {
   "codemirror_mode": {
    "name": "ipython",
    "version": 3
   },
   "file_extension": ".py",
   "mimetype": "text/x-python",
   "name": "python",
   "nbconvert_exporter": "python",
   "pygments_lexer": "ipython3",
   "version": "3.9.13"
  },
  "orig_nbformat": 4
 },
 "nbformat": 4,
 "nbformat_minor": 2
}
