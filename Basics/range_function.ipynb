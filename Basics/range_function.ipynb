{
 "cells": [
  {
   "attachments": {},
   "cell_type": "markdown",
   "metadata": {},
   "source": [
    "#### Range is function which generates range of integers.\n",
    "#### Type of range functions:\n",
    "#### 1. range(end): This will generate integers from 0 to (end-1), step is + 1. End should not be 0 or less than 0 or else it will return nothing.\n",
    "#### 2. range(begin, end): This will generate integers from Begin to (end-1), step is +1.\n",
    "#### 3. range(begin, end, step): \n",
    "#### Rules: \n",
    "#### a) If step is +ve we are moving from left to right. End should not be smaller or equal to begin. End = End - 1.\n",
    "#### b) If step is -ve we are moving frm right to left. End = End + 1, End should always be > than begin."
   ]
  },
  {
   "cell_type": "code",
   "execution_count": 11,
   "metadata": {},
   "outputs": [
    {
     "name": "stdout",
     "output_type": "stream",
     "text": [
      "0 1 2 3 4 5 6 7 8 9 10 "
     ]
    }
   ],
   "source": [
    "# Type 1 range(end)\n",
    "for i in range(11):\n",
    "    print(i, end = \" \")"
   ]
  },
  {
   "cell_type": "code",
   "execution_count": 13,
   "metadata": {},
   "outputs": [
    {
     "name": "stdout",
     "output_type": "stream",
     "text": [
      "2 3 4 5 6 7 8 9 10 "
     ]
    }
   ],
   "source": [
    "# Type 2 range(begin, end)\n",
    "for i in range(2,11):\n",
    "    print(i, end =\" \")"
   ]
  },
  {
   "cell_type": "code",
   "execution_count": 14,
   "metadata": {},
   "outputs": [
    {
     "name": "stdout",
     "output_type": "stream",
     "text": [
      "2 4 6 8 10 12 14 16 18 20 "
     ]
    }
   ],
   "source": [
    "# Type 3)a) range(begin, end, +ve step)\n",
    "for i in range(2,21,2):\n",
    "    print(i, end = ' ')"
   ]
  },
  {
   "cell_type": "code",
   "execution_count": 19,
   "metadata": {},
   "outputs": [
    {
     "name": "stdout",
     "output_type": "stream",
     "text": [
      "20 19 18 17 16 15 14 13 12 11 10 9 8 7 6 5 4 3 2 1 "
     ]
    }
   ],
   "source": [
    "# Type 3)b) range(begin, end=end+1, -ve step)\n",
    "for i in range(20, 0, -1):\n",
    "    print(i, end=' ')"
   ]
  },
  {
   "cell_type": "code",
   "execution_count": 22,
   "metadata": {},
   "outputs": [
    {
     "name": "stdout",
     "output_type": "stream",
     "text": [
      "22 15 8 1 "
     ]
    }
   ],
   "source": [
    "for i in range(22, 0, -7):\n",
    "    print(i, end=' ')"
   ]
  }
 ],
 "metadata": {
  "kernelspec": {
   "display_name": "base",
   "language": "python",
   "name": "python3"
  },
  "language_info": {
   "codemirror_mode": {
    "name": "ipython",
    "version": 3
   },
   "file_extension": ".py",
   "mimetype": "text/x-python",
   "name": "python",
   "nbconvert_exporter": "python",
   "pygments_lexer": "ipython3",
   "version": "3.9.13"
  },
  "orig_nbformat": 4,
  "vscode": {
   "interpreter": {
    "hash": "6cb2a783fba10e4988f74b94bf4b8ec0c47b621437b0dc0599ccabf2d2cf6b2d"
   }
  }
 },
 "nbformat": 4,
 "nbformat_minor": 2
}
