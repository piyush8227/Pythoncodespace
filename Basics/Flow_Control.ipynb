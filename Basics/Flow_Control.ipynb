{
 "cells": [
  {
   "attachments": {},
   "cell_type": "markdown",
   "metadata": {},
   "source": [
    "### **Flow Control / Control Flow**\n",
    "* If we have multiple statements, which statement will be executed first at runtime is decided by the flow control."
   ]
  },
  {
   "attachments": {},
   "cell_type": "markdown",
   "metadata": {},
   "source": [
    "1. Conditional statements: if, if-else, if-elif-else"
   ]
  },
  {
   "cell_type": "code",
   "execution_count": 1,
   "metadata": {},
   "outputs": [
    {
     "name": "stdout",
     "output_type": "stream",
     "text": [
      "Teenager\n",
      "It is between 0-9 single digit number.\n"
     ]
    }
   ],
   "source": [
    "# 1. if statements: These statements are mostly used in decision making,\n",
    "# where statements are executed only when conditions are true, else returns nothing.\n",
    "age = 19\n",
    "if age < 20:\n",
    "    print(\"Teenager\")\n",
    "\n",
    "# 2. if-else statements: These statements are used for making decisions like if condition is true or false.\n",
    "num = 9\n",
    "if  num < 10:\n",
    "    print(\"It is between 0-9 single digit number.\")\n",
    "else:\n",
    "    print(\"It is two digit or multiple digit number.\")"
   ]
  },
  {
   "cell_type": "code",
   "execution_count": 2,
   "metadata": {},
   "outputs": [
    {
     "name": "stdout",
     "output_type": "stream",
     "text": [
      "Adult\n"
     ]
    }
   ],
   "source": [
    "# 3. if-elif statements: These statements are used for making decisions like if condition is true or false. \n",
    "# elif is used when we have multiple conditions to check.\n",
    "\n",
    "age = int(input(\"Enter your age: \"))\n",
    "if age > 0 and age < 20:\n",
    "    print(\"Teenager\")\n",
    "elif age >= 20 and age < 40:\n",
    "    print(\"Adult\")\n",
    "elif age >= 40 and age < 60:\n",
    "    print(\"Mid age\")\n",
    "elif age >= 60:\n",
    "    print(\"Old age\")"
   ]
  },
  {
   "cell_type": "code",
   "execution_count": 3,
   "metadata": {},
   "outputs": [
    {
     "name": "stdout",
     "output_type": "stream",
     "text": [
      "Grade: B\n"
     ]
    }
   ],
   "source": [
    "# 4. if-elif-else statements: \n",
    "# Marks grading system.\n",
    "\n",
    "marks = int(input(\"Enter your marks: \"))\n",
    "\n",
    "if marks <= 100:\n",
    "    if marks > 0 and marks <= 35:\n",
    "        print(\"Grade: D\")\n",
    "    elif marks > 35 and marks < 55:\n",
    "        print(\"Grade: C\")\n",
    "    elif marks >= 55 and marks <= 85:\n",
    "        print(\"Grade: B\")\n",
    "    else: \n",
    "        print(\"Grade: A\")\n",
    "else:\n",
    "    print(\"Marks are out of range.\")"
   ]
  },
  {
   "cell_type": "code",
   "execution_count": 4,
   "metadata": {},
   "outputs": [
    {
     "name": "stdout",
     "output_type": "stream",
     "text": [
      "2025 is not a leap year\n"
     ]
    }
   ],
   "source": [
    "# 5. Nesting of if statements:\n",
    "# Leap year program\n",
    "\n",
    "year = int(input(\"Enter a year: \"))\n",
    "\n",
    "if year % 4 == 0:\n",
    "    if year % 100 == 0:\n",
    "        if year % 400 == 0:\n",
    "            print(f\"{year} is a leap year\")\n",
    "        else:\n",
    "            print(f\"{year} is not a leap year\")\n",
    "    else:\n",
    "        print(f\"{year} is a leap year\")\n",
    "else:\n",
    "    print(f\"{year} is not a leap year\")"
   ]
  },
  {
   "attachments": {},
   "cell_type": "markdown",
   "metadata": {},
   "source": [
    "2. Iterative statements: Repeating the same task again and again.\n",
    "\n",
    "* General types of loops are:\n",
    "\n",
    "    * Entry controlled loops: Condition is checked at beginning of the loop. Eg. for loop and while loop.\n",
    "    * Exit controlled loops: Condition is checked at the end of the loop. Eg. do-while loop. But python doesn't have do-while loop.\n",
    "\n",
    "#\n",
    "\n",
    "* There are 3 important parts of the loops:\n",
    "\n",
    "    * Initialization\n",
    "    * Condition\n",
    "    * Increment/Decrement"
   ]
  },
  {
   "attachments": {},
   "cell_type": "markdown",
   "metadata": {},
   "source": [
    "* While loop:\n",
    "\n",
    "    * If moving from left to right, Initialization any number, Condition will contain < (less than sign), <= (Less than or equals to sign),  Update will contain ++ (increment by 1).\n",
    "    * If moving from right to left, Initialization any number, Condition will contain > (greater than sign), >= (greater than or equals to sign), Update will contain -- (decrement by 1)."
   ]
  },
  {
   "cell_type": "code",
   "execution_count": 5,
   "metadata": {},
   "outputs": [
    {
     "name": "stdout",
     "output_type": "stream",
     "text": [
      "0 1 2 3 4 5 6 7 8 9 10 11 12 13 14 15 16 17 18 19 "
     ]
    }
   ],
   "source": [
    "# While loop\n",
    "i = 0 # Initialization\n",
    "while i < 20: # Condition\n",
    "    print(i, end = \" \") # Body\n",
    "    i += 1 # Update(increment or decrement)\n"
   ]
  },
  {
   "cell_type": "code",
   "execution_count": 6,
   "metadata": {},
   "outputs": [
    {
     "name": "stdout",
     "output_type": "stream",
     "text": [
      "P i y u s h   M o r e "
     ]
    }
   ],
   "source": [
    "# For loops\n",
    "\n",
    "for i in \"Piyush More\":\n",
    "    print(i, end=\" \")"
   ]
  },
  {
   "cell_type": "code",
   "execution_count": 7,
   "metadata": {},
   "outputs": [
    {
     "name": "stdout",
     "output_type": "stream",
     "text": [
      "0 2 4 6 8 10 12 14 16 18 20 "
     ]
    }
   ],
   "source": [
    "#  Even numbers between 0 to 20\n",
    "for i in range(0, 21, 2):\n",
    "    print(i, end=\" \")"
   ]
  },
  {
   "attachments": {},
   "cell_type": "markdown",
   "metadata": {},
   "source": [
    "2. Transfer statements: \n",
    "    * break: break is used to terminate the loop.\n",
    "        * Note: break is used to terminate the inner most loop where it is present.\n",
    "        * Whenever we are searching for an element in a list, we can use break to terminate the loop as soon as we find the element.\n",
    "    * continue: it skips the current iteration and goes to the next iteration.\n",
    "    * pass: is used to define an empty block. It is used as a placeholder."
   ]
  },
  {
   "cell_type": "code",
   "execution_count": 8,
   "metadata": {},
   "outputs": [
    {
     "name": "stdout",
     "output_type": "stream",
     "text": [
      "0 1 2 3 4 5 6 7 8 9 "
     ]
    }
   ],
   "source": [
    "# Break statement\n",
    "for i in range(0, 21):\n",
    "    if  i == 10:\n",
    "        break\n",
    "    print(i, end=\" \")"
   ]
  },
  {
   "cell_type": "code",
   "execution_count": 9,
   "metadata": {},
   "outputs": [
    {
     "name": "stdout",
     "output_type": "stream",
     "text": [
      "0 1 2 3 4 "
     ]
    }
   ],
   "source": [
    "for i in range(10):\n",
    "    if  i >= 5:\n",
    "        break\n",
    "    print(i, end=\" \")"
   ]
  },
  {
   "cell_type": "code",
   "execution_count": 10,
   "metadata": {},
   "outputs": [
    {
     "name": "stdout",
     "output_type": "stream",
     "text": [
      "0 1 2 3 4 5 "
     ]
    }
   ],
   "source": [
    "for i in range(10):\n",
    "    print(i, end=\" \")\n",
    "    if  i >= 5:\n",
    "        break"
   ]
  },
  {
   "cell_type": "code",
   "execution_count": 11,
   "metadata": {},
   "outputs": [
    {
     "name": "stdout",
     "output_type": "stream",
     "text": [
      "0 1 2 3 4 5 6 7 9 "
     ]
    }
   ],
   "source": [
    "# Continue statement:\n",
    "\n",
    "for i in range(10):\n",
    "    if i == 8: # Here continue skips the current iteration and goes to next iteration\n",
    "        continue\n",
    "    print(i, end=\" \")"
   ]
  },
  {
   "cell_type": "code",
   "execution_count": 15,
   "metadata": {},
   "outputs": [
    {
     "name": "stdout",
     "output_type": "stream",
     "text": [
      "Given number is not prime\n"
     ]
    }
   ],
   "source": [
    "# Prime number program in traditional way\n",
    "n = 18\n",
    "\n",
    "i = 2\n",
    "flag = True\n",
    "\n",
    "while i <= n//2:\n",
    "    if n % i == 0:\n",
    "        print(\"Given number is not prime\")\n",
    "        flag = False\n",
    "        break\n",
    "    i += 1\n",
    "\n",
    "if flag == True:\n",
    "    print(\"Given number is prime\")"
   ]
  },
  {
   "cell_type": "code",
   "execution_count": 16,
   "metadata": {},
   "outputs": [
    {
     "name": "stdout",
     "output_type": "stream",
     "text": [
      "Given number is prime\n"
     ]
    }
   ],
   "source": [
    "# Prime number program in pythonic way\n",
    "n = 17\n",
    "\n",
    "i = 2\n",
    "\n",
    "while i <= n//2:\n",
    "    if n % i == 0:\n",
    "        print(\"Given number is not prime\")\n",
    "        break\n",
    "    i += 1\n",
    "else:\n",
    "    print(\"Given number is prime\")"
   ]
  },
  {
   "cell_type": "code",
   "execution_count": 19,
   "metadata": {},
   "outputs": [
    {
     "name": "stdout",
     "output_type": "stream",
     "text": [
      "Else case\n"
     ]
    }
   ],
   "source": [
    "# pass statement\n",
    "if False: pass\n",
    "\n",
    "else:\n",
    "    print('Else case')"
   ]
  },
  {
   "attachments": {},
   "cell_type": "markdown",
   "metadata": {},
   "source": [
    "3. Else block with loops:\n",
    "    * Else block is executed only when the loop is executed completely without any break statement.\n",
    "    * Else block is not executed when the loop is terminated by break statement.\n",
    "    * Else block is executed when the loop does not execute at all."
   ]
  },
  {
   "cell_type": "code",
   "execution_count": 14,
   "metadata": {},
   "outputs": [
    {
     "name": "stdout",
     "output_type": "stream",
     "text": [
      "0 1 2 3 4 5 "
     ]
    }
   ],
   "source": [
    "# Else block in loops\n",
    "\n",
    "for i in range(10):\n",
    "    print(i, end=\" \")\n",
    "    if i == 5:\n",
    "        break\n",
    "else:\n",
    "    print(\"Loop completed.\")"
   ]
  }
 ],
 "metadata": {
  "kernelspec": {
   "display_name": "base",
   "language": "python",
   "name": "python3"
  },
  "language_info": {
   "codemirror_mode": {
    "name": "ipython",
    "version": 3
   },
   "file_extension": ".py",
   "mimetype": "text/x-python",
   "name": "python",
   "nbconvert_exporter": "python",
   "pygments_lexer": "ipython3",
   "version": "3.9.13"
  },
  "orig_nbformat": 4,
  "vscode": {
   "interpreter": {
    "hash": "6cb2a783fba10e4988f74b94bf4b8ec0c47b621437b0dc0599ccabf2d2cf6b2d"
   }
  }
 },
 "nbformat": 4,
 "nbformat_minor": 2
}
