{
 "cells": [
  {
   "attachments": {},
   "cell_type": "markdown",
   "metadata": {},
   "source": [
    "### **Strings in python**\n",
    "* Anything inside quotes is a string in python. Python treats single quotes the same as double quotes. Creating strings is as simple as assigning a value to a variable.\n",
    "* Strings are immutable\n",
    "* Strings are ordered\n",
    "* Strings are iterable\n",
    "* Strings are hashable\n",
    "* Strings are comparable\n",
    "* Strings are sliceable\n",
    "* Strings are indexable\n",
    "* Strings are concatenatable\n",
    "* Strings are repeatable"
   ]
  },
  {
   "attachments": {},
   "cell_type": "markdown",
   "metadata": {},
   "source": [
    "* Different ways to define a string:\n",
    "    * Single line string\n",
    "        * Using single quotes: 'Hello World'\n",
    "        * Using double quotes: \"Hello World\"\n",
    "    * Multi line string\n",
    "        * Using triple single quotes: '''Hello World'''\n",
    "        * Using triple double quotes: \"\"\"Hello World\"\"\""
   ]
  },
  {
   "cell_type": "code",
   "execution_count": 1,
   "metadata": {},
   "outputs": [
    {
     "name": "stdout",
     "output_type": "stream",
     "text": [
      "Piyush\n"
     ]
    }
   ],
   "source": [
    "# Using single quotes\n",
    "name = 'Piyush'\n",
    "print(name)"
   ]
  },
  {
   "cell_type": "code",
   "execution_count": 2,
   "metadata": {},
   "outputs": [
    {
     "name": "stdout",
     "output_type": "stream",
     "text": [
      "Maheshwar's\n",
      "piyush\n",
      "This is 'python' course\n"
     ]
    }
   ],
   "source": [
    "# Using double quotes\n",
    "name = \"Maheshwar's\"\n",
    "print(name)\n",
    "\n",
    "name2 = \"piyush\"\n",
    "print(name2)\n",
    "\n",
    "name3 = \"This is 'python' course\"\n",
    "print(name3)"
   ]
  },
  {
   "cell_type": "code",
   "execution_count": 3,
   "metadata": {},
   "outputs": [
    {
     "name": "stdout",
     "output_type": "stream",
     "text": [
      "Initial\n",
      "This is python first line\n",
      "second line\n",
      "third line\n",
      "end\n",
      "This is 'Python' programming practice set from \"Youtube\".\n"
     ]
    }
   ],
   "source": [
    "# Using triple single quotes\n",
    "s = '''Initial\n",
    "This is python first line\n",
    "second line\n",
    "third line\n",
    "end'''\n",
    "print(s)\n",
    "\n",
    "str = '''This is 'Python' programming practice set from \"Youtube\".'''\n",
    "print(str)"
   ]
  },
  {
   "cell_type": "code",
   "execution_count": 4,
   "metadata": {},
   "outputs": [
    {
     "name": "stdout",
     "output_type": "stream",
     "text": [
      "Initial\n",
      "This is python first line\n",
      "second line\n",
      "third line\n",
      "end\n"
     ]
    }
   ],
   "source": [
    "# Using triple double quotes\n",
    "s = \"\"\"Initial\n",
    "This is python first line\n",
    "second line\n",
    "third line\n",
    "end\"\"\"\n",
    "print(s)"
   ]
  },
  {
   "cell_type": "code",
   "execution_count": 5,
   "metadata": {},
   "outputs": [
    {
     "data": {
      "text/plain": [
       "'\\nThis is also helpful for documentation of code.\\n'"
      ]
     },
     "execution_count": 5,
     "metadata": {},
     "output_type": "execute_result"
    }
   ],
   "source": [
    "# One more usage of multiline quotes is for documenting code\n",
    "'''\n",
    "This is also helpful for documentation of code.\n",
    "'''"
   ]
  },
  {
   "attachments": {},
   "cell_type": "markdown",
   "metadata": {},
   "source": [
    "* ### Traversing a string / Accessing characters in a string\n",
    "    * Strings are ordered and iterable. So we can access characters in a string using index.\n",
    "    * Using Index\n",
    "        * Index starts from 0\n",
    "        * Index can be negative\n",
    "        * Index can be used to access characters from the end of the string\n",
    "    * Using Slicing\n",
    "        * Slicing is used to access a range of characters in a string\n",
    "        * Slicing can be done using index\n",
    "        * Slicing can be done using negative index\n",
    "        * Slicing can be done using range"
   ]
  },
  {
   "cell_type": "code",
   "execution_count": 6,
   "metadata": {},
   "outputs": [
    {
     "name": "stdout",
     "output_type": "stream",
     "text": [
      "T h i s   i s   ' P y t h o n '   p r o g r a m m i n g   p r a c t i c e   s e t   f r o m   \" Y o u t u b e \" . "
     ]
    }
   ],
   "source": [
    "# Indexing\n",
    "str = '''This is 'Python' programming practice set from \"Youtube\".'''\n",
    "i = 0\n",
    "\n",
    "while i < len(str):\n",
    "    print(str[i], end=\" \")\n",
    "    i += 1"
   ]
  },
  {
   "cell_type": "code",
   "execution_count": 7,
   "metadata": {},
   "outputs": [
    {
     "name": "stdout",
     "output_type": "stream",
     "text": [
      ". \" e b u t u o Y \"   m o r f   t e s   e c i t c a r p   g n i m m a r g o r p   ' n o h t y P '   s i   s i h T "
     ]
    }
   ],
   "source": [
    "# Indexing for reverse order.\n",
    "str = '''This is 'Python' programming practice set from \"Youtube\".'''\n",
    "i = 0\n",
    "\n",
    "while i < len(str):\n",
    "    print(str[-(i + 1)], end=\" \")\n",
    "    i += 1"
   ]
  },
  {
   "cell_type": "code",
   "execution_count": 8,
   "metadata": {},
   "outputs": [
    {
     "name": "stdout",
     "output_type": "stream",
     "text": [
      "This is 'Python\n"
     ]
    }
   ],
   "source": [
    "# Slicing\n",
    "str = '''This is 'Python' programming practice set from \"Youtube\".'''\n",
    "print(str[0:15])"
   ]
  },
  {
   "cell_type": "code",
   "execution_count": 9,
   "metadata": {},
   "outputs": [
    {
     "name": "stdout",
     "output_type": "stream",
     "text": [
      ".\"ebutuoY\" morf tes ecitcarp gnimmargorp 'nohtyP' si sihT"
     ]
    }
   ],
   "source": [
    "i = len(str) - 1    \n",
    "while i >= 0:\n",
    "    print(str[i], end=\"\")\n",
    "    i -= 1\n"
   ]
  },
  {
   "cell_type": "code",
   "execution_count": 10,
   "metadata": {},
   "outputs": [
    {
     "name": "stdout",
     "output_type": "stream",
     "text": [
      "False\n",
      "True\n"
     ]
    }
   ],
   "source": [
    "s1 = 'ABCDE'\n",
    "s2 = 'abcde'\n",
    "\n",
    "print( s1 == s2 )\n",
    "print(s1.lower() == s2)"
   ]
  },
  {
   "cell_type": "code",
   "execution_count": 11,
   "metadata": {},
   "outputs": [
    {
     "name": "stdout",
     "output_type": "stream",
     "text": [
      "0: \u0000 1: \u0001 2: \u0002 3: \u0003 4: \u0004 5: \u0005 6: \u0006 7: \u0007 8: 9: \t 10: \n",
      " 14: \u000e 15: \u000f 16: \u0010 17: \u0011 18: \u0012 19: \u0013 20: \u0014 21: \u0015 22: \u0016 23: \u0017 24: \u0018 25: \u0019 26: \u001a 27: \u001b 28: \u001c 29: \u001d 30: \u001e 31: \u001f 32:   33: ! 34: \" 35: # 36: $ 37: % 38: & 39: ' 40: ( 41: ) 42: * 43: + 44: , 45: - 46: . 47: / 48: 0 49: 1 50: 2 51: 3 52: 4 53: 5 54: 6 55: 7 56: 8 57: 9 58: : 59: ; 60: < 61: = 62: > 63: ? 64: @ 65: A 66: B 67: C 68: D 69: E 70: F 71: G 72: H 73: I 74: J 75: K 76: L 77: M 78: N 79: O 80: P 81: Q 82: R 83: S 84: T 85: U 86: V 87: W 88: X 89: Y 90: Z 91: [ 92: \\ 93: ] 94: ^ 95: _ 96: ` 97: a 98: b 99: c 100: d 101: e 102: f 103: g 104: h 105: i 106: j 107: k 108: l 109: m 110: n 111: o 112: p 113: q 114: r 115: s 116: t 117: u 118: v 119: w 120: x 121: y 122: z 123: { 124: | 125: } 126: ~ 127:  128:  129:  130:  131:  132:  133:  134:  135:  136:  137:  138:  139:  140:  141:  142:  143:  144:  145:  146:  147:  148:  149:  150:  151:  152:  153:  154:  155:  156:  157:  158:  159:  160:   161: ¡ 162: ¢ 163: £ 164: ¤ 165: ¥ 166: ¦ 167: § 168: ¨ 169: © 170: ª 171: « 172: ¬ 173: ­ 174: ® 175: ¯ 176: ° 177: ± 178: ² 179: ³ 180: ´ 181: µ 182: ¶ 183: · 184: ¸ 185: ¹ 186: º 187: » 188: ¼ 189: ½ 190: ¾ 191: ¿ 192: À 193: Á 194: Â 195: Ã 196: Ä 197: Å 198: Æ 199: Ç 200: È 201: É 202: Ê 203: Ë 204: Ì 205: Í 206: Î 207: Ï 208: Ð 209: Ñ 210: Ò 211: Ó 212: Ô 213: Õ 214: Ö 215: × 216: Ø 217: Ù 218: Ú 219: Û 220: Ü 221: Ý 222: Þ 223: ß 224: à 225: á 226: â 227: ã 228: ä 229: å 230: æ 231: ç 232: è 233: é 234: ê 235: ë 236: ì 237: í 238: î 239: ï 240: ð 241: ñ 242: ò 243: ó 244: ô 245: õ 246: ö 247: ÷ 248: ø 249: ù 250: ú 251: û 252: ü 253: ý 254: þ 255: ÿ 256: Ā "
     ]
    }
   ],
   "source": [
    "# To print characters using ascii values. Note: Last ASCII value is 256, chr() is used to print characters from ascii values.\n",
    "\n",
    "for i in range(257):\n",
    "    print(f\"{i}: {chr(i)}\", end=\" \")"
   ]
  },
  {
   "cell_type": "code",
   "execution_count": 12,
   "metadata": {},
   "outputs": [
    {
     "name": "stdout",
     "output_type": "stream",
     "text": [
      "97\n"
     ]
    }
   ],
   "source": [
    "# To check ascii value of a character, ord() function is used.\n",
    "print(ord('a'))"
   ]
  },
  {
   "attachments": {},
   "cell_type": "markdown",
   "metadata": {},
   "source": [
    "### **Important functions and methods of string**\n",
    "*  len():  it returns total number of characters in a given string.\n",
    "* Searching for a substring:\n",
    "    * find(substring): it will return the begin index of the first  occurence of substring, if found, else it will return -1\n",
    "        * find(substring,begin,end)\n",
    "    * index(substring): Exactly same as find but it will raise an exception if substring is not found.\n",
    "        * index(substring,begin,end)\n",
    "    * rfind(): it will return the begin index of the first occurence of substring from right to left, if found, else it will return -1\n",
    "        * rfind(substring,begin,end)\n",
    "    * rindex(): Exactly same as rfind but it will raise an exception if substring is not found.\n",
    "        * rindex(substring,begin,end)\n"
   ]
  },
  {
   "cell_type": "code",
   "execution_count": 13,
   "metadata": {},
   "outputs": [
    {
     "name": "stdout",
     "output_type": "stream",
     "text": [
      "6\n"
     ]
    }
   ],
   "source": [
    "# len(): it returns total number of characters in a given string.\n",
    "str = 'Abcdef'\n",
    "print(len(str))"
   ]
  },
  {
   "cell_type": "code",
   "execution_count": 14,
   "metadata": {},
   "outputs": [
    {
     "name": "stdout",
     "output_type": "stream",
     "text": [
      "17\n",
      "-1\n"
     ]
    }
   ],
   "source": [
    "s = '''This is 'Python' programming practice set from \"Youtube\".'''\n",
    "print(s.find('programming')) # Starting index of substring\n",
    "print(s.find('that')) # returns -1 if substring not found."
   ]
  },
  {
   "cell_type": "code",
   "execution_count": 15,
   "metadata": {},
   "outputs": [
    {
     "name": "stdout",
     "output_type": "stream",
     "text": [
      "17\n"
     ]
    },
    {
     "ename": "ValueError",
     "evalue": "substring not found",
     "output_type": "error",
     "traceback": [
      "\u001b[1;31m---------------------------------------------------------------------------\u001b[0m",
      "\u001b[1;31mValueError\u001b[0m                                Traceback (most recent call last)",
      "\u001b[1;32m~\\AppData\\Local\\Temp\\ipykernel_2856\\626302392.py\u001b[0m in \u001b[0;36m<module>\u001b[1;34m\u001b[0m\n\u001b[0;32m      1\u001b[0m \u001b[0ms\u001b[0m \u001b[1;33m=\u001b[0m \u001b[1;34m'''This is 'Python' programming practice set from \"Youtube\".'''\u001b[0m\u001b[1;33m\u001b[0m\u001b[1;33m\u001b[0m\u001b[0m\n\u001b[0;32m      2\u001b[0m \u001b[0mprint\u001b[0m\u001b[1;33m(\u001b[0m\u001b[0ms\u001b[0m\u001b[1;33m.\u001b[0m\u001b[0mindex\u001b[0m\u001b[1;33m(\u001b[0m\u001b[1;34m'programming'\u001b[0m\u001b[1;33m)\u001b[0m\u001b[1;33m)\u001b[0m \u001b[1;31m# Starting index of substring\u001b[0m\u001b[1;33m\u001b[0m\u001b[1;33m\u001b[0m\u001b[0m\n\u001b[1;32m----> 3\u001b[1;33m \u001b[0mprint\u001b[0m\u001b[1;33m(\u001b[0m\u001b[0ms\u001b[0m\u001b[1;33m.\u001b[0m\u001b[0mindex\u001b[0m\u001b[1;33m(\u001b[0m\u001b[1;34m'that'\u001b[0m\u001b[1;33m)\u001b[0m\u001b[1;33m)\u001b[0m \u001b[1;31m# If ot found it raises error\u001b[0m\u001b[1;33m\u001b[0m\u001b[1;33m\u001b[0m\u001b[0m\n\u001b[0m",
      "\u001b[1;31mValueError\u001b[0m: substring not found"
     ]
    }
   ],
   "source": [
    "s = '''This is 'Python' programming practice set from \"Youtube\".'''\n",
    "print(s.index('programming')) # Starting index of substring\n",
    "print(s.index('that')) # If ot found it raises error"
   ]
  },
  {
   "cell_type": "code",
   "execution_count": null,
   "metadata": {},
   "outputs": [
    {
     "name": "stdout",
     "output_type": "stream",
     "text": [
      "-1\n"
     ]
    }
   ],
   "source": [
    "s = '''This is 'Python' programming practice set from \"Youtube\".'''\n",
    "print(s.find('yt', 0, 5))"
   ]
  },
  {
   "cell_type": "code",
   "execution_count": 17,
   "metadata": {},
   "outputs": [
    {
     "name": "stdout",
     "output_type": "stream",
     "text": [
      "49\n"
     ]
    }
   ],
   "source": [
    "# rfind()\n",
    "s = '''This is python programming practice set from \"Youtube\".'''\n",
    "print(s.rfind('tube')) # returns first index from right side."
   ]
  },
  {
   "cell_type": "code",
   "execution_count": 18,
   "metadata": {},
   "outputs": [
    {
     "name": "stdout",
     "output_type": "stream",
     "text": [
      "49\n"
     ]
    }
   ],
   "source": [
    "# rindex()\n",
    "s = '''This is python programming practice set from \"Youtube\".'''\n",
    "print(s.rindex('tube')) # returns first index from right side."
   ]
  },
  {
   "attachments": {},
   "cell_type": "markdown",
   "metadata": {},
   "source": [
    "### **Removing character or spaces from string.**\n",
    "* strip(): It will remove characters from both left and right side of the string.\n",
    "    * strip(characters)\n",
    "* lstrip(): It will remove characters from left side of the string.\n",
    "    * lstrip(characters)\n",
    "* rstrip(): It will remove characters from right side of the string.\n",
    "    * rstrip(characters)\n"
   ]
  },
  {
   "cell_type": "code",
   "execution_count": 20,
   "metadata": {},
   "outputs": [
    {
     "name": "stdout",
     "output_type": "stream",
     "text": [
      "#  Python\n",
      "Python\n"
     ]
    }
   ],
   "source": [
    "m = '   #  Python   '\n",
    "print(m.strip()) # Removes spaces from left and right sides.\n",
    "print(m.strip('# ')) # Removes spaces and # from left and right sides."
   ]
  },
  {
   "cell_type": "code",
   "execution_count": 23,
   "metadata": {},
   "outputs": [
    {
     "name": "stdout",
     "output_type": "stream",
     "text": [
      "#  Python   \n",
      "  Python   \n"
     ]
    }
   ],
   "source": [
    "m = '#  Python   '\n",
    "print(m.lstrip()) # Removes spaces from left side.\n",
    "print(m.lstrip('#')) # Removes spaces from right side."
   ]
  },
  {
   "cell_type": "code",
   "execution_count": 24,
   "metadata": {},
   "outputs": [
    {
     "name": "stdout",
     "output_type": "stream",
     "text": [
      "   #  Python\n",
      "   #  Python   \n"
     ]
    }
   ],
   "source": [
    "m = '   #  Python   '\n",
    "print(m.rstrip()) # Removes spaces from right side.\n",
    "print(m.rstrip('#')) # Removes spaces from right side."
   ]
  },
  {
   "attachments": {},
   "cell_type": "markdown",
   "metadata": {},
   "source": [
    "### **Counting Substring**\n",
    "* count(substring): It will return the total number of occurences of substring in the string.\n",
    "* count(substring,begin,end)"
   ]
  },
  {
   "cell_type": "code",
   "execution_count": 25,
   "metadata": {},
   "outputs": [
    {
     "name": "stdout",
     "output_type": "stream",
     "text": [
      "3\n"
     ]
    }
   ],
   "source": [
    "s = '''This is python programming practice set from \"Youtube\".'''\n",
    "print(s.count('p'))"
   ]
  },
  {
   "attachments": {},
   "cell_type": "markdown",
   "metadata": {},
   "source": [
    "### **Replacing Substring**\n",
    "* replace(old,new): It will replace all occurences of old substring with new substring.\n",
    "* replace(old,new,count): It will replace only first count occurences of old substring with new substring."
   ]
  },
  {
   "attachments": {},
   "cell_type": "markdown",
   "metadata": {},
   "source": [
    "* Note: replace() method will not modify the original string. It will return a new string."
   ]
  },
  {
   "cell_type": "code",
   "execution_count": 27,
   "metadata": {},
   "outputs": [
    {
     "name": "stdout",
     "output_type": "stream",
     "text": [
      "This is Python Programming Practice set from \"Youtube\".\n",
      "This is Python Programming practice set from \"Youtube\".\n"
     ]
    }
   ],
   "source": [
    "s = '''This is python programming practice set from \"Youtube\".'''\n",
    "\n",
    "print(s.replace('p', 'P')) # Replaces all p with P\n",
    "\n",
    "print(s.replace('p','P',2)) # Replaces first 2 p with P"
   ]
  },
  {
   "attachments": {},
   "cell_type": "markdown",
   "metadata": {},
   "source": [
    "### **Splitting a string**\n",
    "* split(): It will split the string into a list of substrings using space as a separator by default."
   ]
  },
  {
   "cell_type": "code",
   "execution_count": 28,
   "metadata": {},
   "outputs": [
    {
     "name": "stdout",
     "output_type": "stream",
     "text": [
      "['This', 'is', 'python', 'programming', 'practice', 'set', 'from', '\"Youtube\".']\n"
     ]
    }
   ],
   "source": [
    "s = '''This is python programming practice set from \"Youtube\".'''\n",
    "print(s.split())"
   ]
  },
  {
   "cell_type": "code",
   "execution_count": 29,
   "metadata": {},
   "outputs": [
    {
     "name": "stdout",
     "output_type": "stream",
     "text": [
      "['1', '2', '3', '4', '5', '6', '7', '8', '9']\n"
     ]
    }
   ],
   "source": [
    "num = '1,2,3,4,5,6,7,8,9'\n",
    "print(num.split(','))"
   ]
  },
  {
   "cell_type": "code",
   "execution_count": 42,
   "metadata": {},
   "outputs": [
    {
     "name": "stdout",
     "output_type": "stream",
     "text": [
      "8\n",
      "8\n",
      "8\n"
     ]
    }
   ],
   "source": [
    "# Write a program to count number of words in a string.\n",
    "s = 'This is python programming practice set from Youtube.'\n",
    "print(s.count(' ') + 1) # Method 1\n",
    "s = s.split()\n",
    "print(len(s)) # Method 2\n",
    "\n",
    "count = 0\n",
    "for word in s:\n",
    "    count += 1\n",
    "print(count) # Method 3"
   ]
  },
  {
   "attachments": {},
   "cell_type": "markdown",
   "metadata": {},
   "source": [
    "### **Joining string**\n",
    "* join(): is used to join the elements of list/tuple into a string using the string as a separator.\n",
    "* It always expects a string internally."
   ]
  },
  {
   "cell_type": "code",
   "execution_count": 5,
   "metadata": {},
   "outputs": [
    {
     "name": "stdout",
     "output_type": "stream",
     "text": [
      "12/12/1990\n"
     ]
    }
   ],
   "source": [
    "# join() function\n",
    "dob = ['12', '12', '1990'] # list\n",
    "print('/'.join(dob))"
   ]
  },
  {
   "cell_type": "code",
   "execution_count": 6,
   "metadata": {},
   "outputs": [
    {
     "name": "stdout",
     "output_type": "stream",
     "text": [
      "12-06-2010\n"
     ]
    }
   ],
   "source": [
    "dob = '12 06 2010' # string\n",
    "dob = dob.split() # list\n",
    "print('-'.join(dob))"
   ]
  },
  {
   "cell_type": "code",
   "execution_count": 8,
   "metadata": {},
   "outputs": [
    {
     "name": "stdout",
     "output_type": "stream",
     "text": [
      "12-11-2015\n"
     ]
    }
   ],
   "source": [
    "tup = ('12','11','2015') # tuple\n",
    "print('-'.join(tup))"
   ]
  },
  {
   "cell_type": "code",
   "execution_count": 12,
   "metadata": {},
   "outputs": [
    {
     "name": "stdout",
     "output_type": "stream",
     "text": [
      "2016/01/12\n"
     ]
    }
   ],
   "source": [
    "set = {'12','01','2016'} # set\n",
    "print('/'.join(set))"
   ]
  },
  {
   "attachments": {},
   "cell_type": "markdown",
   "metadata": {},
   "source": [
    "### **Converting case of string**\n",
    "* lower(): It will convert all characters of the string into lower case.\n",
    "* upper(): It will convert all characters of the string into upper case.\n",
    "* title(): It will convert the first character of each word into upper case.\n",
    "* capitalize(): It will convert the first character of the string into upper case.\n",
    "* swapcase(): It will convert all lower case characters into upper case and vice versa."
   ]
  },
  {
   "cell_type": "code",
   "execution_count": 14,
   "metadata": {},
   "outputs": [
    {
     "name": "stdout",
     "output_type": "stream",
     "text": [
      "python\n",
      "python programming\n"
     ]
    }
   ],
   "source": [
    "# lower()\n",
    "a = 'PYTHON'\n",
    "print(a.lower())\n",
    "\n",
    "b = 'PyThOn PrOgRaMmInG'\n",
    "print(b.lower())"
   ]
  },
  {
   "cell_type": "code",
   "execution_count": 16,
   "metadata": {},
   "outputs": [
    {
     "name": "stdout",
     "output_type": "stream",
     "text": [
      "MGMCET\n",
      "PYTHON PROGRAMMING\n",
      "AMBULANCE\n"
     ]
    }
   ],
   "source": [
    "# upper()\n",
    "a = \"mgmcet\"\n",
    "print(a.upper())\n",
    "\n",
    "b = 'PyThOn PrOgRaMmInG'\n",
    "print(b.upper())\n",
    "\n",
    "c = 'ambulance'\n",
    "print(c.upper())"
   ]
  },
  {
   "cell_type": "code",
   "execution_count": 20,
   "metadata": {},
   "outputs": [
    {
     "name": "stdout",
     "output_type": "stream",
     "text": [
      "The Dark Knight Rises.\n",
      "Indian Police Service.\n"
     ]
    }
   ],
   "source": [
    "# title()\n",
    "movie = 'the dark knight rises.'\n",
    "print(movie.title())\n",
    "\n",
    "designation = 'indian police service.'\n",
    "print(designation.title())"
   ]
  },
  {
   "cell_type": "code",
   "execution_count": 21,
   "metadata": {},
   "outputs": [
    {
     "name": "stdout",
     "output_type": "stream",
     "text": [
      "Piyush\n"
     ]
    }
   ],
   "source": [
    "# capitalize()\n",
    "name = 'piyush'\n",
    "print(name.capitalize())"
   ]
  },
  {
   "cell_type": "code",
   "execution_count": 22,
   "metadata": {},
   "outputs": [
    {
     "name": "stdout",
     "output_type": "stream",
     "text": [
      "upper LOWER\n"
     ]
    }
   ],
   "source": [
    "# swapcase()\n",
    "swap = 'UPPER lower'\n",
    "print(swap.swapcase())"
   ]
  },
  {
   "attachments": {},
   "cell_type": "markdown",
   "metadata": {},
   "source": [
    "### **Checking type of character**\n",
    "* isalnum(): returns True if all characters in the string are alphanumeric (either alphabets or numbers). If not, it returns False.\n",
    "* isaplha(): returns True if all characters in the string are alphabets. If not, it returns false.\n",
    "* isdigit(): returns True if all characters in the string are digits. If not, it returns false.\n",
    "* islower(): returns True if all characters in the string are lower case. If not, it returns false.\n",
    "* isupper(): returns True if all characters in the string are upper case. If not, it returns false.\n",
    "* istitle(): returns True if the string follows the rules of a title. If not, it returns false.\n",
    "* isspace(): returns True if all characters in the string are whitespaces. If not, it returns false."
   ]
  },
  {
   "cell_type": "code",
   "execution_count": 28,
   "metadata": {},
   "outputs": [
    {
     "name": "stdout",
     "output_type": "stream",
     "text": [
      "True\n",
      "True\n"
     ]
    }
   ],
   "source": [
    "# isalnum\n",
    "str = 'abcdefg544hij'\n",
    "print(str.isalnum())\n",
    "\n",
    "str2 = '1a2b3c4d'\n",
    "print(str2.isalnum())"
   ]
  },
  {
   "cell_type": "code",
   "execution_count": 30,
   "metadata": {},
   "outputs": [
    {
     "name": "stdout",
     "output_type": "stream",
     "text": [
      "False\n",
      "True\n"
     ]
    }
   ],
   "source": [
    "# isalpha()\n",
    "str = '475846avbcdsjd'\n",
    "print(str.isalpha())\n",
    "\n",
    "str2 = 'avsdjsfnds'\n",
    "print(str2.isalpha())"
   ]
  },
  {
   "cell_type": "code",
   "execution_count": 32,
   "metadata": {},
   "outputs": [
    {
     "name": "stdout",
     "output_type": "stream",
     "text": [
      "True\n",
      "False\n"
     ]
    }
   ],
   "source": [
    "# isdigit()\n",
    "digit = '7878878'\n",
    "print(digit.isdigit())\n",
    "\n",
    "str = 'a4s4d5d58e40'\n",
    "print(str.isdigit())"
   ]
  },
  {
   "cell_type": "code",
   "execution_count": 41,
   "metadata": {},
   "outputs": [
    {
     "name": "stdout",
     "output_type": "stream",
     "text": [
      "lower letters is lower case? True\n",
      "UPPER LETTERS is lower case? False\n",
      "The Dark Knight Rises is lower case? False\n",
      "\n",
      "lower letters is upper case? False\n",
      "UPPER LETTERS is upper case? True\n",
      "The Dark Knight Rises is upper case? False\n",
      "\n",
      "lower letters is title case ? False\n",
      "UPPER LETTERS is title case ? False\n",
      "The Dark Knight Rises is title case ? True\n"
     ]
    }
   ],
   "source": [
    "str = 'lower letters'\n",
    "str2 = 'UPPER LETTERS'\n",
    "str3 = 'The Dark Knight Rises'\n",
    "# islower()\n",
    "print(f\"{str} is lower case?\",str.islower())\n",
    "print(f\"{str2} is lower case?\",str2.islower())\n",
    "print(f\"{str3} is lower case?\",str3.islower())\n",
    "print()\n",
    "# isupper()\n",
    "print(f\"{str} is upper case?\",str.isupper())\n",
    "print(f\"{str2} is upper case?\",str2.isupper())\n",
    "print(f\"{str3} is upper case?\",str3.isupper())\n",
    "print()\n",
    "# istitle()\n",
    "print(f\"{str} is title case ?\",str.istitle())\n",
    "print(f\"{str2} is title case ?\",str2.istitle())\n",
    "print(f\"{str3} is title case ?\",str3.istitle())"
   ]
  },
  {
   "cell_type": "code",
   "execution_count": 43,
   "metadata": {},
   "outputs": [
    {
     "name": "stdout",
     "output_type": "stream",
     "text": [
      "False\n"
     ]
    }
   ],
   "source": [
    "email = 'abc23@gmail.com'\n",
    "print(email.isalnum())"
   ]
  }
 ],
 "metadata": {
  "kernelspec": {
   "display_name": "base",
   "language": "python",
   "name": "python3"
  },
  "language_info": {
   "codemirror_mode": {
    "name": "ipython",
    "version": 3
   },
   "file_extension": ".py",
   "mimetype": "text/x-python",
   "name": "python",
   "nbconvert_exporter": "python",
   "pygments_lexer": "ipython3",
   "version": "3.9.13"
  },
  "orig_nbformat": 4
 },
 "nbformat": 4,
 "nbformat_minor": 2
}
