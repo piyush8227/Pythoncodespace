{
 "cells": [
  {
   "attachments": {},
   "cell_type": "markdown",
   "metadata": {},
   "source": [
    "### **Strings in python**\n",
    "* Anything inside quotes is a string in python. Python treats single quotes the same as double quotes. Creating strings is as simple as assigning a value to a variable.\n",
    "* Strings are immutable\n",
    "* Strings are ordered\n",
    "* Strings are iterable\n",
    "* Strings are hashable\n",
    "* Strings are comparable\n",
    "* Strings are sliceable\n",
    "* Strings are indexable\n",
    "* Strings are concatenatable\n",
    "* Strings are repeatable"
   ]
  },
  {
   "attachments": {},
   "cell_type": "markdown",
   "metadata": {},
   "source": [
    "* Different ways to define a string:\n",
    "    * Single line string\n",
    "        * Using single quotes: 'Hello World'\n",
    "        * Using double quotes: \"Hello World\"\n",
    "    * Multi line string\n",
    "        * Using triple single quotes: '''Hello World'''\n",
    "        * Using triple double quotes: \"\"\"Hello World\"\"\""
   ]
  },
  {
   "cell_type": "code",
   "execution_count": 33,
   "metadata": {},
   "outputs": [
    {
     "name": "stdout",
     "output_type": "stream",
     "text": [
      "Piyush\n"
     ]
    }
   ],
   "source": [
    "# Using single quotes\n",
    "name = 'Piyush'\n",
    "print(name)"
   ]
  },
  {
   "cell_type": "code",
   "execution_count": 34,
   "metadata": {},
   "outputs": [
    {
     "name": "stdout",
     "output_type": "stream",
     "text": [
      "Maheshwar's\n",
      "piyush\n",
      "This is 'python' course\n"
     ]
    }
   ],
   "source": [
    "# Using double quotes\n",
    "name = \"Maheshwar's\"\n",
    "print(name)\n",
    "\n",
    "name2 = \"piyush\"\n",
    "print(name2)\n",
    "\n",
    "name3 = \"This is 'python' course\"\n",
    "print(name3)"
   ]
  },
  {
   "cell_type": "code",
   "execution_count": 35,
   "metadata": {},
   "outputs": [
    {
     "name": "stdout",
     "output_type": "stream",
     "text": [
      "Initial\n",
      "This is python first line\n",
      "second line\n",
      "third line\n",
      "end\n",
      "This is 'Python' programming practice set from \"Youtube\".\n"
     ]
    }
   ],
   "source": [
    "# Using triple single quotes\n",
    "s = '''Initial\n",
    "This is python first line\n",
    "second line\n",
    "third line\n",
    "end'''\n",
    "print(s)\n",
    "\n",
    "str = '''This is 'Python' programming practice set from \"Youtube\".'''\n",
    "print(str)"
   ]
  },
  {
   "cell_type": "code",
   "execution_count": 36,
   "metadata": {},
   "outputs": [
    {
     "name": "stdout",
     "output_type": "stream",
     "text": [
      "Initial\n",
      "This is python first line\n",
      "second line\n",
      "third line\n",
      "end\n"
     ]
    }
   ],
   "source": [
    "# Using triple double quotes\n",
    "s = \"\"\"Initial\n",
    "This is python first line\n",
    "second line\n",
    "third line\n",
    "end\"\"\"\n",
    "print(s)"
   ]
  },
  {
   "cell_type": "code",
   "execution_count": 37,
   "metadata": {},
   "outputs": [
    {
     "data": {
      "text/plain": [
       "'\\nThis is also helpful for documentation of code.\\n'"
      ]
     },
     "execution_count": 37,
     "metadata": {},
     "output_type": "execute_result"
    }
   ],
   "source": [
    "# One more usage of multiline quotes is for documenting code\n",
    "'''\n",
    "This is also helpful for documentation of code.\n",
    "'''"
   ]
  },
  {
   "attachments": {},
   "cell_type": "markdown",
   "metadata": {},
   "source": [
    "* ### Traversing a string / Accessing characters in a string\n",
    "    * Strings are ordered and iterable. So we can access characters in a string using index.\n",
    "    * Using Index\n",
    "        * Index starts from 0\n",
    "        * Index can be negative\n",
    "        * Index can be used to access characters from the end of the string\n",
    "    * Using Slicing\n",
    "        * Slicing is used to access a range of characters in a string\n",
    "        * Slicing can be done using index\n",
    "        * Slicing can be done using negative index\n",
    "        * Slicing can be done using range"
   ]
  },
  {
   "cell_type": "code",
   "execution_count": 38,
   "metadata": {},
   "outputs": [
    {
     "name": "stdout",
     "output_type": "stream",
     "text": [
      "T h i s   i s   ' P y t h o n '   p r o g r a m m i n g   p r a c t i c e   s e t   f r o m   \" Y o u t u b e \" . "
     ]
    }
   ],
   "source": [
    "# Indexing\n",
    "str = '''This is 'Python' programming practice set from \"Youtube\".'''\n",
    "i = 0\n",
    "\n",
    "while i < len(str):\n",
    "    print(str[i], end=\" \")\n",
    "    i += 1"
   ]
  },
  {
   "cell_type": "code",
   "execution_count": 39,
   "metadata": {},
   "outputs": [
    {
     "name": "stdout",
     "output_type": "stream",
     "text": [
      "This is 'Python\n"
     ]
    }
   ],
   "source": [
    "# Slicing\n",
    "str = '''This is 'Python' programming practice set from \"Youtube\".'''\n",
    "print(str[0:15])"
   ]
  }
 ],
 "metadata": {
  "kernelspec": {
   "display_name": "base",
   "language": "python",
   "name": "python3"
  },
  "language_info": {
   "codemirror_mode": {
    "name": "ipython",
    "version": 3
   },
   "file_extension": ".py",
   "mimetype": "text/x-python",
   "name": "python",
   "nbconvert_exporter": "python",
   "pygments_lexer": "ipython3",
   "version": "3.9.13"
  },
  "orig_nbformat": 4
 },
 "nbformat": 4,
 "nbformat_minor": 2
}
