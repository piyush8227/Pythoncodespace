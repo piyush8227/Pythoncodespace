{
 "cells": [
  {
   "attachments": {},
   "cell_type": "markdown",
   "metadata": {},
   "source": [
    "## **Decorators:**\n",
    "* Decorator is a function which takes a function as function argument and extends its functionality.\n",
    "* Main advantage of decorator is to extend the functionality of a function without changing the function definition."
   ]
  },
  {
   "cell_type": "code",
   "execution_count": 1,
   "metadata": {},
   "outputs": [
    {
     "name": "stdout",
     "output_type": "stream",
     "text": [
      "Valid voter\n",
      "Not a valid voter\n"
     ]
    }
   ],
   "source": [
    "# Defining Decorators\n",
    "def outer(func):\n",
    "    def inner(age):\n",
    "        if age > 18:\n",
    "            print(\"Valid voter\")\n",
    "        else:\n",
    "            func(age)\n",
    "    return inner\n",
    "@outer\n",
    "\n",
    "def voter(age):\n",
    "    print(\"Not a valid voter\")\n",
    "\n",
    "voter(23)\n",
    "voter(10)"
   ]
  },
  {
   "attachments": {},
   "cell_type": "markdown",
   "metadata": {},
   "source": [
    "## **Modules:**\n",
    "* Module in python is a normal program with .py extension.\n",
    "* Module is collection of functions, variables, classes and objects."
   ]
  },
  {
   "cell_type": "code",
   "execution_count": 5,
   "metadata": {},
   "outputs": [
    {
     "name": "stdout",
     "output_type": "stream",
     "text": [
      "4.0\n"
     ]
    }
   ],
   "source": [
    "# We created a module file mathematics.py and wrote some functions\n",
    "# here we imported sqrt function for performing squareroot operation.\n",
    "from mathematics import sqrt as s\n",
    "print(s(16))\n"
   ]
  },
  {
   "cell_type": "code",
   "execution_count": 17,
   "metadata": {},
   "outputs": [
    {
     "name": "stdout",
     "output_type": "stream",
     "text": [
      "4.0\n",
      "25\n"
     ]
    }
   ],
   "source": [
    "import mathematics as maths\n",
    "\n",
    "print(maths.sqrt(16))\n",
    "print(maths.square(5))"
   ]
  }
 ],
 "metadata": {
  "kernelspec": {
   "display_name": "base",
   "language": "python",
   "name": "python3"
  },
  "language_info": {
   "codemirror_mode": {
    "name": "ipython",
    "version": 3
   },
   "file_extension": ".py",
   "mimetype": "text/x-python",
   "name": "python",
   "nbconvert_exporter": "python",
   "pygments_lexer": "ipython3",
   "version": "3.9.13"
  },
  "orig_nbformat": 4
 },
 "nbformat": 4,
 "nbformat_minor": 2
}
