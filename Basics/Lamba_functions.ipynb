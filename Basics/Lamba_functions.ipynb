{
 "cells": [
  {
   "attachments": {},
   "cell_type": "markdown",
   "metadata": {},
   "source": [
    "### **Lamba Functions in python**"
   ]
  },
  {
   "attachments": {},
   "cell_type": "markdown",
   "metadata": {},
   "source": [
    "#### **Sorting the data**"
   ]
  },
  {
   "cell_type": "code",
   "execution_count": 2,
   "metadata": {},
   "outputs": [
    {
     "name": "stdout",
     "output_type": "stream",
     "text": [
      "[99, 89, 78, 67, 56, 45, 34, 23, 12]\n"
     ]
    }
   ],
   "source": [
    "num_list = [12,23,34,45,56,67,78,89,99]\n",
    "\n",
    "# For sorting the list in desc order using lamba function\n",
    "num_list.sort(key = lambda a: a, reverse = True)\n",
    "print(num_list)\n"
   ]
  },
  {
   "cell_type": "code",
   "execution_count": 3,
   "metadata": {},
   "outputs": [
    {
     "name": "stdout",
     "output_type": "stream",
     "text": [
      "[{'name': 'Jasmine', 'age': 21}, {'name': 'John', 'age': 23}, {'name': 'Peter', 'age': 19}]\n"
     ]
    }
   ],
   "source": [
    "lst_dict = [{'name': 'John', 'age': 23}, {'name': 'Peter', 'age': 19}, {'name': 'Jasmine', 'age': 21}]\n",
    "\n",
    "# For sorting the list of dictionaries based on names using lamba function.\n",
    "lst_dict = sorted(lst_dict, key = lambda x: x['name'])\n",
    "print(lst_dict)"
   ]
  },
  {
   "cell_type": "code",
   "execution_count": 4,
   "metadata": {},
   "outputs": [
    {
     "name": "stdout",
     "output_type": "stream",
     "text": [
      "[{'name': 'Peter', 'age': 19}, {'name': 'Jasmine', 'age': 21}, {'name': 'John', 'age': 23}]\n"
     ]
    }
   ],
   "source": [
    "lst_dict = [{'name': 'John', 'age': 23}, {'name': 'Peter', 'age': 19}, {'name': 'Jasmine', 'age': 21}]\n",
    "# For sorting the list of dictionaries based on age using lamba function.\n",
    "\n",
    "lst_dict = sorted(lst_dict, key = lambda x: x['age'])\n",
    "print(lst_dict)"
   ]
  },
  {
   "cell_type": "code",
   "execution_count": 10,
   "metadata": {},
   "outputs": [],
   "source": [
    "nested_dict = {1: {'name': 'John', 'age': 23}, 2: {'name': 'John', 'age': 23}, 3: {'name': 'Peter', 'age': 19}}\n",
    "# For sorting the nested dictionary based on age using lambda function.\n",
    "# Expected output = {3: {'name': 'Peter', 'age': 19}, 1: {'name': 'John', 'age': 23}, 2: {'name': 'John', 'age': 23}}\n",
    "sorted_dict = dict(sorted(nested_dict.items(), key = lambda x: x[1]['age']))"
   ]
  },
  {
   "cell_type": "code",
   "execution_count": 11,
   "metadata": {},
   "outputs": [
    {
     "data": {
      "text/plain": [
       "{3: {'name': 'Peter', 'age': 19},\n",
       " 1: {'name': 'John', 'age': 23},\n",
       " 2: {'name': 'John', 'age': 23}}"
      ]
     },
     "execution_count": 11,
     "metadata": {},
     "output_type": "execute_result"
    }
   ],
   "source": [
    "sorted_dict"
   ]
  },
  {
   "cell_type": "code",
   "execution_count": 12,
   "metadata": {},
   "outputs": [
    {
     "name": "stdout",
     "output_type": "stream",
     "text": [
      "[1, 3, 5, 7, 9]\n"
     ]
    }
   ],
   "source": [
    "num_list = [1,2,3,4,5,6,7,8,9,10]\n",
    "\n",
    "# For filtering the list of odd numbers using lambda function.\n",
    "# Expected output = [1, 3, 5, 7, 9]\n",
    "filtered_list = list(filter(lambda x: x%2 != 0, num_list))\n",
    "print(filtered_list)"
   ]
  },
  {
   "cell_type": "code",
   "execution_count": 13,
   "metadata": {},
   "outputs": [
    {
     "name": "stdout",
     "output_type": "stream",
     "text": [
      "[2, 4, 6, 8, 10]\n"
     ]
    }
   ],
   "source": [
    "num_list = [1,2,3,4,5,6,7,8,9,10]\n",
    "\n",
    "# For filtering the list of even numbers using lambda function.\n",
    "filtered_list = list(filter(lambda x: x % 2 == 0, num_list))\n",
    "print(filtered_list)"
   ]
  },
  {
   "cell_type": "code",
   "execution_count": 16,
   "metadata": {},
   "outputs": [
    {
     "name": "stdout",
     "output_type": "stream",
     "text": [
      "[3, 6, 9, 12, 15, 18, 21, 24, 27, 30, 33, 36, 39, 42, 45, 48]\n"
     ]
    }
   ],
   "source": [
    "num_list = [i for i in range(1,51)]\n",
    "\n",
    "# For filtering the list of numbers divisible by 3 & 5 using lambda function.\n",
    "\n",
    "filtered_list = list(filter(lambda x: x%3 == 0 & x%5 == 0, num_list))\n",
    "print(filtered_list)"
   ]
  },
  {
   "cell_type": "code",
   "execution_count": 17,
   "metadata": {},
   "outputs": [
    {
     "name": "stdout",
     "output_type": "stream",
     "text": [
      "[2, 4, 6, 8, 10]\n"
     ]
    }
   ],
   "source": [
    "numbers = [1, 2, 3, 4, 5]\n",
    "doubled_numbers = list(map(lambda x: x * 2, numbers))\n",
    "print(doubled_numbers)"
   ]
  }
 ],
 "metadata": {
  "kernelspec": {
   "display_name": "base",
   "language": "python",
   "name": "python3"
  },
  "language_info": {
   "codemirror_mode": {
    "name": "ipython",
    "version": 3
   },
   "file_extension": ".py",
   "mimetype": "text/x-python",
   "name": "python",
   "nbconvert_exporter": "python",
   "pygments_lexer": "ipython3",
   "version": "3.9.13"
  },
  "orig_nbformat": 4
 },
 "nbformat": 4,
 "nbformat_minor": 2
}
