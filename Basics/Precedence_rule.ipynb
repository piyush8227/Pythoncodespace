{
 "cells": [
  {
   "attachments": {},
   "cell_type": "markdown",
   "metadata": {},
   "source": [
    "#### Precedence Rule"
   ]
  },
  {
   "attachments": {},
   "cell_type": "markdown",
   "metadata": {},
   "source": [
    "#### 1. () parenthesis\n",
    "#### 2. ** exponrntial\n",
    "#### 3. ~ bitwise not, - unary minus\n",
    "#### 4. *, /, %, //\n",
    "#### 5. +, -\n",
    "#### 6. <<, >> left shift, right shift\n",
    "#### 7. & bitwise and\n",
    "#### 8. ^ bitwise XOR\n",
    "#### 9. | bitwise OR\n",
    "#### 10. <, >, >=, <=, ==, !=\n",
    "#### 11. =, +=, -=, /=, //=, *=, **=, %=, &=, |=, ^=, >>=, <<=\n",
    "#### 12. is, is not\n",
    "#### 13. in, not in\n",
    "#### 14. not\n",
    "#### 15. and\n",
    "#### 16. or"
   ]
  }
 ],
 "metadata": {
  "kernelspec": {
   "display_name": "Python 3",
   "language": "python",
   "name": "python3"
  },
  "language_info": {
   "name": "python",
   "version": "3.11.1"
  },
  "orig_nbformat": 4,
  "vscode": {
   "interpreter": {
    "hash": "68e1ed55bd78edfe2dd608978cfaf63c2983400058f245be27ecafd32b9ac089"
   }
  }
 },
 "nbformat": 4,
 "nbformat_minor": 2
}
